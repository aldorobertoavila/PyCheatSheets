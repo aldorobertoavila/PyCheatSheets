{
 "cells": [
  {
   "cell_type": "code",
   "execution_count": 2,
   "metadata": {},
   "outputs": [],
   "source": [
    "with open(\"file.csv\",\"a+\") as f:\n",
    "    for num in range(10000000):\n",
    "        f.write(f'{num}\\n')"
   ]
  }
 ],
 "metadata": {
  "kernelspec": {
   "display_name": "Python 3.10.4 64-bit",
   "language": "python",
   "name": "python3"
  },
  "language_info": {
   "codemirror_mode": {
    "name": "ipython",
    "version": 3
   },
   "file_extension": ".py",
   "mimetype": "text/x-python",
   "name": "python",
   "nbconvert_exporter": "python",
   "pygments_lexer": "ipython3",
   "version": "3.10.4"
  },
  "orig_nbformat": 4,
  "vscode": {
   "interpreter": {
    "hash": "db9271230518dd4d2be1392038f1c442bdbb2abf56e90a13b3826ea9c8c5b6c5"
   }
  }
 },
 "nbformat": 4,
 "nbformat_minor": 2
}
