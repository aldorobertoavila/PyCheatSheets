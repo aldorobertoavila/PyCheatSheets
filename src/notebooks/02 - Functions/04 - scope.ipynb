{
 "cells": [
  {
   "cell_type": "markdown",
   "metadata": {},
   "source": [
    "# Scope\n",
    "\n",
    "Defined as the reachable region in code where a namespace is available."
   ]
  },
  {
   "cell_type": "markdown",
   "metadata": {},
   "source": [
    "## Types of namespaces\n",
    "\n",
    "There are three scopes in Python:\n",
    "  - Built-in\n",
    "  - Global\n",
    "  - Local"
   ]
  },
  {
   "cell_type": "markdown",
   "metadata": {},
   "source": [
    "### Built-in\n",
    "\n",
    "Built-in functions are part of this scope, they can be accessed from any module. e.g <code>print</code>"
   ]
  },
  {
   "cell_type": "code",
   "execution_count": null,
   "metadata": {},
   "outputs": [],
   "source": [
    "numbers: list[int] = [0, 1, 2, 3, 4]\n",
    "\n",
    "print(f'{numbers = }')\n"
   ]
  },
  {
   "cell_type": "markdown",
   "metadata": {},
   "source": [
    "### Global\n",
    "\n",
    "Represents the scope of a <code>.py</code> file or any module, namespaces defined globally can be accessed from anywhere inside a module. e.g imports, classes and functions."
   ]
  },
  {
   "cell_type": "code",
   "execution_count": null,
   "metadata": {},
   "outputs": [],
   "source": [
    "# math is global\n",
    "import math\n",
    "\n",
    "# hello is global\n",
    "\n",
    "\n",
    "def hello():\n",
    "    print('Hello World!')\n",
    "\n",
    "\n",
    "print(f'{math.pi = }')\n",
    "print(f'{hello() = }')\n"
   ]
  },
  {
   "cell_type": "markdown",
   "metadata": {},
   "source": [
    "### Local\n",
    "\n",
    "Represents the scope inside an enclosure, namespaces can be accessed inside, but not outside. e.g function, statement, class."
   ]
  },
  {
   "cell_type": "code",
   "execution_count": null,
   "metadata": {},
   "outputs": [],
   "source": [
    "def fib(n: int):\n",
    "    # a, b, n are local to fib\n",
    "    a, b = 0, 1\n",
    "    for i in range(n):\n",
    "        # i is local to for\n",
    "        yield a\n",
    "        a, b = b, a + b\n",
    "\n",
    "\n",
    "for num in fib(10):\n",
    "    # num is local to for\n",
    "    print(num)\n"
   ]
  },
  {
   "cell_type": "markdown",
   "metadata": {},
   "source": [
    "## Using Globals\n",
    "\n",
    "Global variables are read-only inside a function local context. To reassign a value in global variable <font color='#bb9af7'>global</font> keyword is required, otherwise reassign won't happen."
   ]
  },
  {
   "cell_type": "markdown",
   "metadata": {},
   "source": [
    "It won't work without calling the <font color='#bb9af7'>global</font> keyword before reassign."
   ]
  },
  {
   "cell_type": "code",
   "execution_count": null,
   "metadata": {},
   "outputs": [],
   "source": [
    "numbers = [0, 1, 2, 3, 4, 5, 6, 7, 8, 9]\n",
    "\n",
    "\n",
    "def reassign():\n",
    "    # reassign to numbers, won't do\n",
    "    numbers = [n * n for n in range(10)]\n",
    "\n",
    "\n",
    "print(f'Before: {numbers}')\n",
    "reassign()\n",
    "print(f'After: {numbers}')\n"
   ]
  },
  {
   "cell_type": "markdown",
   "metadata": {},
   "source": [
    "Calling <font color='#bb9af7'>global</font> keyword before will allow reassign into that global variable. "
   ]
  },
  {
   "cell_type": "code",
   "execution_count": null,
   "metadata": {},
   "outputs": [],
   "source": [
    "numbers = [0, 1, 2, 3, 4, 5, 6, 7, 8, 9]\n",
    "\n",
    "\n",
    "def reassign():\n",
    "    global numbers\n",
    "    # reassign to numbers, will do\n",
    "    numbers = [n * n for n in range(10)]\n",
    "\n",
    "\n",
    "print(f'Before: {numbers}')\n",
    "reassign()\n",
    "print(f'After: {numbers}')\n"
   ]
  },
  {
   "cell_type": "markdown",
   "metadata": {},
   "source": [
    "## Using Non-Local\n",
    "\n",
    "As global variables, local variables inside a nested function are read-only. To reassign a value in global variable <font color='#bb9af7'>nonlocal</font> is required, otherwise reassign won't happen."
   ]
  },
  {
   "cell_type": "markdown",
   "metadata": {},
   "source": [
    "It won't work without calling the <font color='#bb9af7'>nonlocal</font> keyword before reassign."
   ]
  },
  {
   "cell_type": "code",
   "execution_count": null,
   "metadata": {},
   "outputs": [],
   "source": [
    "def foo():\n",
    "    numbers = [0, 1, 2, 3, 4, 5, 6, 7, 8, 9]\n",
    "\n",
    "    def bar():\n",
    "        numbers = [n * n for n in range(10)]\n",
    "    bar()\n",
    "    print(f'{numbers = }')\n",
    "\n",
    "\n",
    "foo()\n"
   ]
  },
  {
   "cell_type": "markdown",
   "metadata": {},
   "source": [
    "Calling <font color='#bb9af7'>nonlocal</font> keyword before will allow reassign into that local variable. "
   ]
  },
  {
   "cell_type": "code",
   "execution_count": null,
   "metadata": {},
   "outputs": [],
   "source": [
    "def foo():\n",
    "    numbers = [0, 1, 2, 3, 4, 5, 6, 7, 8, 9]\n",
    "\n",
    "    def bar():\n",
    "        nonlocal numbers\n",
    "        numbers = [n * n for n in range(10)]\n",
    "    bar()\n",
    "    print(f'{numbers = }')\n",
    "\n",
    "\n",
    "foo()\n"
   ]
  }
 ],
 "metadata": {
  "interpreter": {
   "hash": "8bfdcd2cc888dbc98ffcff3cf621025027ffe71c6f18c0bca769d24baae26b7f"
  },
  "kernelspec": {
   "display_name": "Python 3.10.4 64-bit",
   "language": "python",
   "name": "python3"
  },
  "language_info": {
   "codemirror_mode": {
    "name": "ipython",
    "version": 3
   },
   "file_extension": ".py",
   "mimetype": "text/x-python",
   "name": "python",
   "nbconvert_exporter": "python",
   "pygments_lexer": "ipython3",
   "version": "3.10.4"
  },
  "orig_nbformat": 4
 },
 "nbformat": 4,
 "nbformat_minor": 2
}
