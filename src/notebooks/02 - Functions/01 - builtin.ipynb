{
 "cells": [
  {
   "cell_type": "markdown",
   "metadata": {},
   "source": [
    "# Built-in Functions\n",
    "\n",
    "According to the <a href='https://docs.python.org/3/library/functions.html'>documentation</a>, <q>The Python interpreter has a number of functions and types built into it that are always available.</q>"
   ]
  },
  {
   "cell_type": "markdown",
   "metadata": {},
   "source": [
    "## Casting"
   ]
  },
  {
   "cell_type": "markdown",
   "metadata": {},
   "source": [
    "### Int\n",
    "\n",
    "Creates an integer from a number or string."
   ]
  },
  {
   "cell_type": "code",
   "execution_count": null,
   "metadata": {},
   "outputs": [],
   "source": [
    "a: int = int(2.345)\n",
    "b: int = int('124')\n",
    "\n",
    "# a = 2\n",
    "print(f'{a = }')\n",
    "# b = 124\n",
    "print(f'{b = }')\n"
   ]
  },
  {
   "cell_type": "markdown",
   "metadata": {},
   "source": [
    "### Float\n",
    "\n",
    "Creates a floating point number from a number or string."
   ]
  },
  {
   "cell_type": "code",
   "execution_count": null,
   "metadata": {},
   "outputs": [],
   "source": [
    "a: int = float(9372)\n",
    "b: int = float('12.25')\n",
    "\n",
    "# a = 9372.0\n",
    "print(f'{a = }')\n",
    "# b = 12.25\n",
    "print(f'{b = }')\n"
   ]
  },
  {
   "cell_type": "markdown",
   "metadata": {},
   "source": [
    "### Complex\n",
    "\n",
    "Creates a complex number."
   ]
  },
  {
   "cell_type": "code",
   "execution_count": null,
   "metadata": {},
   "outputs": [],
   "source": [
    "a: int = complex(42, 35)\n",
    "b: int = complex(13.5, 9.3)\n",
    "\n",
    "# a = (42+35j)\n",
    "print(f'{a = }')\n",
    "# b = (13.5+9.3j)\n",
    "print(f'{b = }')\n"
   ]
  },
  {
   "cell_type": "markdown",
   "metadata": {},
   "source": [
    "### Str\n",
    "\n",
    "Creates a String from an object."
   ]
  },
  {
   "cell_type": "code",
   "execution_count": null,
   "metadata": {},
   "outputs": [],
   "source": [
    "a: str = str(True)\n",
    "b: str = str(200)\n",
    "c: str = str(12.25)\n",
    "\n",
    "# a = 'True'\n",
    "print(f'{a = }')\n",
    "# b = '200'\n",
    "print(f'{b = }')\n",
    "# c = '12.25'\n",
    "print(f'{c = }')\n"
   ]
  },
  {
   "cell_type": "markdown",
   "metadata": {},
   "source": [
    "### Tuple\n",
    "\n",
    "Creates a Tuple from an object."
   ]
  },
  {
   "cell_type": "code",
   "execution_count": null,
   "metadata": {},
   "outputs": [],
   "source": [
    "a: tuple[int] = tuple([0, 1, 2, 3, 4])\n",
    "b: tuple[str] = tuple({'a', 'b', 'c'})\n",
    "c: tuple[str] = tuple({'d': 1, 'e': 1, 'f': 1})\n",
    "d: tuple[str] = tuple('ghi')\n",
    "\n",
    "# a = (0, 1, 2, 3, 4)\n",
    "print(f'{a = }')\n",
    "# b = ('a', 'c', 'b')\n",
    "print(f'{b = }')\n",
    "# c = ('d', 'e', 'f')\n",
    "print(f'{c = }')\n",
    "# d = ('g', 'h', 'i')\n",
    "print(f'{d = }')\n"
   ]
  },
  {
   "cell_type": "markdown",
   "metadata": {},
   "source": [
    "### List\n",
    "\n",
    "Creates a List from an object."
   ]
  },
  {
   "cell_type": "code",
   "execution_count": null,
   "metadata": {},
   "outputs": [],
   "source": [
    "a: list[int] = list((0, 1, 2, 3, 4))\n",
    "b: list[str] = list({'a', 'b', 'c'})\n",
    "c: list[str] = list({'d': 1, 'e': 1, 'f': 1})\n",
    "d: list[str] = list('ghi')\n",
    "\n",
    "# a = [0, 1, 2, 3, 4]\n",
    "print(f'{a = }')\n",
    "# b = ('a', 'c', 'b')\n",
    "print(f'{b = }')\n",
    "# c = ('d', 'e', 'f')\n",
    "print(f'{c = }')\n",
    "# d = ('g', 'h', 'i')\n",
    "print(f'{d = }')\n"
   ]
  },
  {
   "cell_type": "markdown",
   "metadata": {},
   "source": [
    "### Dict\n",
    "\n",
    "Creates a Dictionary."
   ]
  },
  {
   "cell_type": "code",
   "execution_count": null,
   "metadata": {},
   "outputs": [],
   "source": [
    "dictionary: dict[str, int] = dict()\n",
    "\n",
    "# dictionary = {}\n",
    "print(f'{dictionary = }')\n",
    "\n",
    "dictionary['a'] = 0\n",
    "dictionary['b'] = 1\n",
    "dictionary['c'] = 2\n",
    "\n",
    "# dictionary = {'a': 0, 'b': 1, 'c': 2}\n",
    "print(f'{dictionary = }')\n"
   ]
  },
  {
   "cell_type": "markdown",
   "metadata": {},
   "source": [
    "### Set\n",
    "\n",
    "Creates a Set."
   ]
  },
  {
   "cell_type": "code",
   "execution_count": null,
   "metadata": {},
   "outputs": [],
   "source": [
    "a: set[int] = set((0, 1, 2, 3, 4))\n",
    "b: set[str] = set({'a', 'b', 'c'})\n",
    "c: set[str] = set({'d': 1, 'e': 1, 'f': 1})\n",
    "d: set[str] = set('ghi')\n",
    "\n",
    "# a = [0, 1, 2, 3, 4]\n",
    "print(f'{a = }')\n",
    "# b = {'b', 'c', 'a'}\n",
    "print(f'{b = }')\n",
    "# c = {'e', 'd', 'f'}\n",
    "print(f'{c = }')\n",
    "# d = {'i', 'g', 'h'}\n",
    "print(f'{d = }')\n"
   ]
  },
  {
   "cell_type": "markdown",
   "metadata": {},
   "source": [
    "### Frozenset\n",
    "\n",
    "Creates a Frozenset."
   ]
  },
  {
   "cell_type": "code",
   "execution_count": null,
   "metadata": {},
   "outputs": [],
   "source": [
    "a: frozenset[int] = frozenset((0, 1, 2, 3, 4))\n",
    "b: frozenset[str] = frozenset({'a', 'b', 'c'})\n",
    "c: frozenset[str] = frozenset({'d': 1, 'e': 1, 'f': 1})\n",
    "d: frozenset[str] = frozenset('ghi')\n",
    "\n",
    "# a = frozenset({0, 1, 2, 3, 4})\n",
    "print(f'{a = }')\n",
    "# b = frozenset({'b', 'c', 'a'})\n",
    "print(f'{b = }')\n",
    "# c = frozenset({'e', 'd', 'f'})\n",
    "print(f'{c = }')\n",
    "# d = frozenset({'i', 'g', 'h'})\n",
    "print(f'{d = }')\n"
   ]
  },
  {
   "cell_type": "markdown",
   "metadata": {},
   "source": [
    "### Iter"
   ]
  },
  {
   "cell_type": "markdown",
   "metadata": {},
   "source": [
    "## Checking"
   ]
  },
  {
   "cell_type": "markdown",
   "metadata": {},
   "source": [
    "### Callable\n",
    "\n",
    "Checks if the object is Callable, which is an object with a <code>\\_\\_call\\_\\_</code> method. "
   ]
  },
  {
   "cell_type": "code",
   "execution_count": null,
   "metadata": {},
   "outputs": [],
   "source": [
    "def hello():\n",
    "    print('Hello!')\n",
    "\n",
    "\n",
    "# callable(hello) = True\n",
    "print(f'{callable(hello) = }')\n",
    "# callable('Hello') = False\n",
    "print(f\"{callable('Hello') = }\")\n"
   ]
  },
  {
   "cell_type": "markdown",
   "metadata": {},
   "source": [
    "### Instance\n",
    "\n",
    "Check if the object is of the specified type or inherits from it."
   ]
  },
  {
   "cell_type": "code",
   "execution_count": null,
   "metadata": {},
   "outputs": [],
   "source": [
    "class Vehicle:\n",
    "    pass\n",
    "\n",
    "\n",
    "class Car(Vehicle):\n",
    "    pass\n",
    "\n",
    "\n",
    "class Train(Vehicle):\n",
    "    pass\n",
    "\n",
    "\n",
    "car = Car()\n",
    "train = Train()\n",
    "\n",
    "# isinstance(car, Car) = True\n",
    "print(f'{isinstance(car, Car) = }')\n",
    "# isinstance(car, Train) = False\n",
    "print(f'{isinstance(car, Train) = }')\n",
    "# isinstance(car, Vehicle) = True\n",
    "print(f'{isinstance(car, Vehicle) = }')\n"
   ]
  },
  {
   "cell_type": "markdown",
   "metadata": {},
   "source": [
    "### Subclass\n",
    "\n",
    "Checks if a class is subclass of another class."
   ]
  },
  {
   "cell_type": "code",
   "execution_count": null,
   "metadata": {},
   "outputs": [],
   "source": [
    "# issubclass(Car, Vehicle) = True\n",
    "print(f'{issubclass(Car, Vehicle) = }')\n",
    "# issubclass(Train, Vehicle) = True\n",
    "print(f'{issubclass(Train, Vehicle) = }')\n"
   ]
  },
  {
   "cell_type": "markdown",
   "metadata": {},
   "source": [
    "### Type\n",
    "\n",
    "Returns the type of the object."
   ]
  },
  {
   "cell_type": "code",
   "execution_count": null,
   "metadata": {},
   "outputs": [],
   "source": [
    "# <class '__main__.Car'>\n",
    "print(f'{type(car)}')\n",
    "# type(car) == Car = True\n",
    "print(f'{type(car) == Car = }')\n",
    "# type(car) == Train = False\n",
    "print(f'{type(car) == Train = }')\n",
    "# type(car) == Vehicle = False\n",
    "print(f'{type(car) == Vehicle = }')\n"
   ]
  },
  {
   "cell_type": "markdown",
   "metadata": {},
   "source": [
    "## Collections"
   ]
  },
  {
   "cell_type": "markdown",
   "metadata": {},
   "source": [
    "### All\n",
    "\n",
    "Returns True if all items in an iterable object are True."
   ]
  },
  {
   "cell_type": "code",
   "execution_count": null,
   "metadata": {},
   "outputs": [],
   "source": [
    "iterable: list[int] = [1, 1, 1, 1, 1]\n",
    "\n",
    "# all(iterable) = True\n",
    "print(f'{all(iterable) = }')\n"
   ]
  },
  {
   "cell_type": "markdown",
   "metadata": {},
   "source": [
    "### Any\n",
    "\n",
    "Returns True if any item in an iterable object is True."
   ]
  },
  {
   "cell_type": "code",
   "execution_count": null,
   "metadata": {},
   "outputs": [],
   "source": [
    "iterable: list[int] = [0, 0, 0, 1, 0]\n",
    "\n",
    "# any(iterable) = True\n",
    "print(f'{any(iterable) = }')\n"
   ]
  },
  {
   "cell_type": "markdown",
   "metadata": {},
   "source": [
    "### Len\n",
    "\n",
    "Returns the length of an object."
   ]
  },
  {
   "cell_type": "code",
   "execution_count": null,
   "metadata": {},
   "outputs": [],
   "source": [
    "iterable: list[int] = [0, 1, 2, 3, 4]\n",
    "\n",
    "# len(iterable) = 5\n",
    "print(f'{len(iterable) = }')\n"
   ]
  },
  {
   "cell_type": "markdown",
   "metadata": {},
   "source": [
    "### Sum\n",
    "\n",
    "Returns the sum of the items of an iterator."
   ]
  },
  {
   "cell_type": "code",
   "execution_count": null,
   "metadata": {},
   "outputs": [],
   "source": [
    "iterable: list[int] = [0, 1, 2, 3, 4]\n",
    "\n",
    "# sum(iterable) = 10\n",
    "print(f'{sum(iterable) = }')\n"
   ]
  },
  {
   "cell_type": "markdown",
   "metadata": {},
   "source": [
    "### Max\n",
    "\n",
    "Returns the largest item in an iterable."
   ]
  },
  {
   "cell_type": "code",
   "execution_count": null,
   "metadata": {},
   "outputs": [],
   "source": [
    "iterable: list[int] = [0, 1, 2, 3, 4]\n",
    "\n",
    "# max(iterable) = 4\n",
    "print(f'{max(iterable) = }')\n"
   ]
  },
  {
   "cell_type": "markdown",
   "metadata": {},
   "source": [
    "### Min\n",
    "\n",
    "Returns the smallest item in an iterable."
   ]
  },
  {
   "cell_type": "code",
   "execution_count": null,
   "metadata": {},
   "outputs": [],
   "source": [
    "iterable: list[int] = [0, 1, 2, 3, 4]\n",
    "\n",
    "# min(iterable) = 0\n",
    "print(f'{min(iterable) = }')\n"
   ]
  },
  {
   "cell_type": "markdown",
   "metadata": {},
   "source": [
    "### Map\n",
    "\n",
    "Returns an iterator with the specified function applied to each item."
   ]
  },
  {
   "cell_type": "code",
   "execution_count": null,
   "metadata": {},
   "outputs": [],
   "source": [
    "iterable: list[int] = [0, 1, 2, 3, 4]\n",
    "\n",
    "\n",
    "def func(x: int) -> int:\n",
    "    return x * 2\n",
    "\n",
    "\n",
    "mapped = map(func, iterable)\n",
    "# mapped = <map object at ...>\n",
    "print(f'{mapped = }')\n",
    "# list(mapped) = [0, 2, 4, 6, 8]\n",
    "print(f'{list(mapped) = }')\n"
   ]
  },
  {
   "cell_type": "markdown",
   "metadata": {},
   "source": [
    "### Filter\n",
    "\n",
    "Returns an iterator with filtered items from an original iterator."
   ]
  },
  {
   "cell_type": "code",
   "execution_count": null,
   "metadata": {},
   "outputs": [],
   "source": [
    "iterable: list[int] = [0, 1, 2, 3, 4]\n",
    "\n",
    "\n",
    "def func(x: int) -> int:\n",
    "    return x > 0 and x % 2 == 0\n",
    "\n",
    "\n",
    "filtered = filter(func, iterable)\n",
    "# filtered = <filter object at ...>\n",
    "print(f'{filtered = }')\n",
    "# list(filtered) = [2, 4]\n",
    "print(f'{list(filtered) = }')\n"
   ]
  },
  {
   "cell_type": "markdown",
   "metadata": {},
   "source": [
    "### Range\n",
    "\n",
    "Returns a sequence of numbers."
   ]
  },
  {
   "cell_type": "code",
   "execution_count": null,
   "metadata": {},
   "outputs": [],
   "source": [
    "ranged: range = range(0, 10)\n",
    "\n",
    "# ranged = range(0, 10)\n",
    "print(f'{ranged = }')\n",
    "# list(ranged) = [0, 1, 2, 3, 4, 5, 6, 7, 8, 9]\n",
    "print(f'{list(ranged) = }')\n"
   ]
  },
  {
   "cell_type": "markdown",
   "metadata": {},
   "source": [
    "### Sorted\n",
    "\n",
    "Returns a sorted list."
   ]
  },
  {
   "cell_type": "code",
   "execution_count": null,
   "metadata": {},
   "outputs": [],
   "source": [
    "iterable: list[int] = [8, 3, 4, 2, 8, 9]\n",
    "\n",
    "# iterable = [8, 3, 4, 2, 8, 9]\n",
    "print(f'{iterable = }')\n",
    "iterable.sort()\n",
    "#  iterable = [2, 3, 4, 8, 8, 9]\n",
    "print(f'{iterable = }')\n"
   ]
  },
  {
   "cell_type": "markdown",
   "metadata": {},
   "source": [
    "### Reversed\n",
    "\n",
    "Returns a reversed iterator."
   ]
  },
  {
   "cell_type": "code",
   "execution_count": null,
   "metadata": {},
   "outputs": [],
   "source": [
    "iterable: list[int] = [0, 1, 2, 3, 4]\n",
    "\n",
    "# iterable = [0, 1, 2, 3, 4]\n",
    "print(f'{iterable = }')\n",
    "iterable.reverse()\n",
    "#  iterable = [4, 3, 2, 1, 0]\n",
    "print(f'{iterable = }')\n"
   ]
  },
  {
   "cell_type": "markdown",
   "metadata": {},
   "source": [
    "### Enumerate\n",
    "\n",
    "Creates an enumerate object."
   ]
  },
  {
   "cell_type": "code",
   "execution_count": null,
   "metadata": {},
   "outputs": [],
   "source": [
    "iterable: list[int] = ['a', 'b', 'c', 'd', 'e']\n",
    "enumerated: enumerate = enumerate(iterable)\n",
    "\n",
    "# i=0 val='a'\n",
    "# i=1 val='b'\n",
    "# i=2 val='c'\n",
    "# i=3 val='d'\n",
    "# i=4 val='e'\n",
    "for i, val in enumerated:\n",
    "    print(f'{i=} {val=}')\n",
    "\n",
    "# enumerated = <enumerate object at ...>\n",
    "print(f'{enumerated = }')\n",
    "# list(enumerated) = [(0, 'a'), (1, 'b'), (2, 'c'), (3, 'd'), (4, 'e')]\n",
    "print(f'{list(enumerated) = }')\n"
   ]
  },
  {
   "cell_type": "markdown",
   "metadata": {},
   "source": [
    "### Zip\n",
    "\n",
    "Returns an iterator, from two or more iterators"
   ]
  },
  {
   "cell_type": "code",
   "execution_count": null,
   "metadata": {},
   "outputs": [],
   "source": [
    "lessons = ['Math', 'History', 'Gym']\n",
    "teachers = ['Sophia', 'Elizabeth', 'Mark']\n",
    "\n",
    "# Sophia teaches Math.\n",
    "# Elizabeth teaches History.\n",
    "# Mark teaches Gym.\n",
    "for lesson, teacher in zip(lessons, teachers):\n",
    "    print(f'{teacher} teaches {lesson}.')\n"
   ]
  },
  {
   "cell_type": "markdown",
   "metadata": {},
   "source": [
    "## Numbers"
   ]
  },
  {
   "cell_type": "markdown",
   "metadata": {},
   "source": [
    "### Abs\n",
    "\n",
    "Returns absolute value of a number. For <code>complex</code>, it returns the magnitude."
   ]
  },
  {
   "cell_type": "code",
   "execution_count": null,
   "metadata": {},
   "outputs": [],
   "source": [
    "a: complex = complex(-3, -4)\n",
    "b: float = -4.2\n",
    "c: int = -95\n",
    "\n",
    "# abs(a) = 5.0\n",
    "print(f'{abs(a) = }')\n",
    "# abs(b) = 4.2\n",
    "print(f'{abs(b) = }')\n",
    "# abs(c) = 95\n",
    "print(f'{abs(c) = }')\n"
   ]
  },
  {
   "cell_type": "markdown",
   "metadata": {},
   "source": [
    "### Round\n",
    "\n",
    "Returns a rounded number to specified decimals."
   ]
  },
  {
   "cell_type": "code",
   "execution_count": null,
   "metadata": {},
   "outputs": [],
   "source": [
    "a: float = 1.231\n",
    "b: float = 21.96\n",
    "c: float = 6.5632\n",
    "\n",
    "# round(a) = 1\n",
    "print(f'{round(a) = }')\n",
    "# round(b) = 22\n",
    "print(f'{round(b) = }')\n",
    "# round(c, ndigits=2) = 6.56\n",
    "print(f'{round(c, ndigits=2) = }')\n"
   ]
  },
  {
   "cell_type": "markdown",
   "metadata": {},
   "source": [
    "## Objects"
   ]
  },
  {
   "cell_type": "markdown",
   "metadata": {},
   "source": [
    "### Id\n",
    "\n",
    "Returns identity (unique integer that identifies a memory address) of an object."
   ]
  },
  {
   "cell_type": "code",
   "execution_count": null,
   "metadata": {},
   "outputs": [],
   "source": [
    "a: int = 1200\n",
    "\n",
    "# id(a) = ...\n",
    "print(f'{id(a) = }')\n"
   ]
  },
  {
   "cell_type": "markdown",
   "metadata": {},
   "source": [
    "### Hash\n",
    "\n",
    "Returns hash (unique integer that identifies a particular value) of an object."
   ]
  },
  {
   "cell_type": "code",
   "execution_count": null,
   "metadata": {},
   "outputs": [],
   "source": [
    "text: str = 'Hello world!'\n",
    "\n",
    "# hash(text) = 3370362161346632339\n",
    "print(f'{hash(text) = }')\n"
   ]
  },
  {
   "cell_type": "markdown",
   "metadata": {},
   "source": [
    "### Byte Array\n",
    "\n",
    "Creates a <code>bytearray</code> object. A mutable sequence of bytes."
   ]
  },
  {
   "cell_type": "code",
   "execution_count": null,
   "metadata": {},
   "outputs": [],
   "source": [
    "array_utf8 = bytearray('Hello world!', 'utf-8')\n",
    "array_utf16 = bytearray('Hello world!', 'utf-16')\n",
    "\n",
    "# array_utf8 = bytearray(b'Hello world!')\n",
    "print(f'{array_utf8 = }')\n",
    "# array_utf16 = bytearray(b'\\xff\\xfeH\\x00e\\x00l\\x00l\\x00o\\x00 \\x00w\\x00o\\x00r\\x00l\\x00d\\x00!\\x00')\n",
    "print(f'{array_utf16 = }')\n",
    "# array_utf8[0] = 72\n",
    "print(f'{array_utf8[0] = }')\n",
    "# list(array_utf8) = [72, 101, 108, 108, 111, 32, 119, 111, 114, 108, 100, 33]\n",
    "print(f'{list(array_utf8) = }')\n"
   ]
  },
  {
   "cell_type": "markdown",
   "metadata": {},
   "source": [
    "### Memory View\n",
    "\n",
    "Creates a <code>memoryview</code> object. Allows to directly read and write to an object without copying it."
   ]
  },
  {
   "cell_type": "code",
   "execution_count": null,
   "metadata": {},
   "outputs": [],
   "source": [
    "array = bytearray('Hello', 'utf-8')\n",
    "arrayview: memoryview = memoryview(array)\n",
    "stringview: memoryview = memoryview(b'Hi')\n",
    "\n",
    "# arrayview = <memory at ...>\n",
    "print(f'{arrayview = }')\n",
    "# arrayview[0] = 72\n",
    "print(f'{arrayview[0] = }')\n",
    "# arrayview.tolist() = [72, 101, 108, 108, 111]\n",
    "print(f'{arrayview.tolist() = }')\n",
    "# stringview.tolist() = [72, 105]\n",
    "print(f'{stringview.tolist() = }')\n"
   ]
  },
  {
   "cell_type": "markdown",
   "metadata": {},
   "source": [
    "## Strings"
   ]
  },
  {
   "cell_type": "markdown",
   "metadata": {},
   "source": [
    "### Ord\n",
    "\n",
    "Converts a specified character to an unicode-integer."
   ]
  },
  {
   "cell_type": "code",
   "execution_count": null,
   "metadata": {},
   "outputs": [],
   "source": [
    "# ord('H') = 72\n",
    "print(f\"{ord('H') = }\")\n"
   ]
  },
  {
   "cell_type": "markdown",
   "metadata": {},
   "source": [
    "### Chr\n",
    "\n",
    "Converts an unicode-integer to a character."
   ]
  },
  {
   "cell_type": "code",
   "execution_count": null,
   "metadata": {},
   "outputs": [],
   "source": [
    "# chr(72) = 'H'\n",
    "print(f\"{chr(72) = }\")\n"
   ]
  },
  {
   "cell_type": "markdown",
   "metadata": {},
   "source": [
    "### Bin\n",
    "\n",
    "Return the binary representation of an integer."
   ]
  },
  {
   "cell_type": "code",
   "execution_count": null,
   "metadata": {},
   "outputs": [],
   "source": [
    "# bin(912) = '0b1110010000'\n",
    "print(f'{bin(912) = }')\n"
   ]
  },
  {
   "cell_type": "markdown",
   "metadata": {},
   "source": [
    "### Oct\n",
    "\n",
    "Return the octal representation of an integer."
   ]
  },
  {
   "cell_type": "code",
   "execution_count": null,
   "metadata": {},
   "outputs": [],
   "source": [
    "# oct(342) = '0o526'\n",
    "print(f'{oct(342) = }')\n"
   ]
  },
  {
   "cell_type": "markdown",
   "metadata": {},
   "source": [
    "### Hex\n",
    "\n",
    "Return the hexadecimal representation of an integer."
   ]
  },
  {
   "cell_type": "code",
   "execution_count": null,
   "metadata": {},
   "outputs": [],
   "source": [
    "# hex(532) = '0x214'\n",
    "print(f'{hex(532) = }')\n"
   ]
  },
  {
   "cell_type": "markdown",
   "metadata": {},
   "source": [
    "### Bytes\n",
    "\n",
    "Creates an immutable array of bytes."
   ]
  },
  {
   "cell_type": "code",
   "execution_count": null,
   "metadata": {},
   "outputs": [],
   "source": [
    "array: list[int] = [0, 1, 2, 3, 4]\n",
    "string: str = 'Hello world!'\n",
    "\n",
    "# bytes(array) = b'\\x00\\x01\\x02\\x03\\x04'\n",
    "print(f'{bytes(array) = }')\n",
    "# bytes(string, 'utf-8') = b'Hello world!'\n",
    "print(f\"{bytes(string, 'utf-8') = }\")\n"
   ]
  }
 ],
 "metadata": {
  "interpreter": {
   "hash": "8bfdcd2cc888dbc98ffcff3cf621025027ffe71c6f18c0bca769d24baae26b7f"
  },
  "kernelspec": {
   "display_name": "Python 3.10.4 64-bit",
   "language": "python",
   "name": "python3"
  },
  "language_info": {
   "codemirror_mode": {
    "name": "ipython",
    "version": 3
   },
   "file_extension": ".py",
   "mimetype": "text/x-python",
   "name": "python",
   "nbconvert_exporter": "python",
   "pygments_lexer": "ipython3",
   "version": "3.10.4"
  },
  "orig_nbformat": 4
 },
 "nbformat": 4,
 "nbformat_minor": 2
}
