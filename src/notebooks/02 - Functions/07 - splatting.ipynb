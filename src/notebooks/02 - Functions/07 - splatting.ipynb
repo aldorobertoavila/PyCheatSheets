{
 "cells": [
  {
   "cell_type": "markdown",
   "metadata": {},
   "source": [
    "# Destructuring & splat Operator\n",
    "\n",
    "In Python, collections of values can be packed into a single variable or unpacked into multiple variables without mutating the original collection. It can be done using splatting or destructuring, depending on application."
   ]
  },
  {
   "cell_type": "markdown",
   "metadata": {},
   "source": [
    "## Destructuring\n",
    "\n",
    "An assign syntax to separate positional arguments into multiple variables. e.g lists, tuples. Strings cannot be destructured."
   ]
  },
  {
   "cell_type": "code",
   "execution_count": null,
   "metadata": {},
   "outputs": [],
   "source": [
    "letters: list[str] = [ 'a', 'b', 'c' ]\n",
    "\n",
    "# a = letters[0]\n",
    "# b = letters[1]\n",
    "# c = letters[2]\n",
    "a, b, c = letters # list/tuple destructuring\n",
    "\n",
    "# letters = ['a', 'b', 'c']\n",
    "print(f'{letters = }')\n",
    "# a = 'a', b = 'b', c = 'c'\n",
    "print(f'{a = }, {b = }, {c = }')"
   ]
  },
  {
   "cell_type": "markdown",
   "metadata": {},
   "source": [
    "According to <a href='https://stackoverflow.com/questions/54785148/destructuring-dicts-and-objects-in-python'>Stack Overflow</a>, dictionaries & objects can be unpacked using <code>itemgetter</code>."
   ]
  },
  {
   "cell_type": "code",
   "execution_count": null,
   "metadata": {},
   "outputs": [],
   "source": [
    "from operator import itemgetter\n",
    "\n",
    "currentUser = {\n",
    "  \"uuid\": 24,\n",
    "  \"name\": \"John Doe\",\n",
    "  \"website\": \"http://mywebsite.com\",\n",
    "  \"description\": \"I am an actor\",\n",
    "  \"email\": \"example@example.com\",\n",
    "  \"gender\": \"M\",\n",
    "  \"phone_number\": \"+12345678\",\n",
    "  \"username\": \"johndoe\",\n",
    "  \"birth_date\": \"1991-02-23\"\n",
    "}\n",
    "\n",
    "# uuid = currentUser['uuid']\n",
    "# email = currentUser['email']\n",
    "# gender = currentUser['gender']\n",
    "# username = currentUser['username']\n",
    "uuid, email, gender, username = itemgetter('uuid', 'email', 'gender', 'username')(currentUser)\n",
    "\n",
    "# callable(itemgetter) = True\n",
    "print(f'{callable(itemgetter) = }')\n",
    "# uuid = 24, email = 'example@example.com', gender = 'M', username = 'johndoe'\n",
    "print(f'{uuid = }, {email = }, {gender = }, {username = }')"
   ]
  },
  {
   "cell_type": "markdown",
   "metadata": {},
   "source": [
    "## Splatting\n",
    "\n",
    "Informally called splat or splatting in Python due to other languages influence. Refers to <code>*</code> and <code>**</code> operators."
   ]
  },
  {
   "cell_type": "markdown",
   "metadata": {},
   "source": [
    "### Unpacking\n",
    "\n",
    "Similar concept as destructuring, but the values from multiple collections must be unpacked into other structures e.g lists, dictionaries, functions. Strings cannot be unpacked."
   ]
  },
  {
   "cell_type": "code",
   "execution_count": null,
   "metadata": {},
   "outputs": [],
   "source": [
    "old_list = [1, 2, 3]\n",
    "\n",
    "no_splat = [old_list, 4, 5]\n",
    "# new_list = old_list + [4, 5]\n",
    "splat = [*old_list, 4, 5]\n",
    "\n",
    "# old_list = [1, 2, 3]\n",
    "print(f'{old_list = }')\n",
    "# no_splat = [[1, 2, 3], 4, 5]\n",
    "print(f'{no_splat = }')\n",
    "# splat = [1, 2, 3, 4, 5]\n",
    "print(f'{splat = }')"
   ]
  },
  {
   "cell_type": "markdown",
   "metadata": {},
   "source": [
    "Pairs from multiple dictionaries can be unpacked into a new dictionary using <code>**</code> operator."
   ]
  },
  {
   "cell_type": "code",
   "execution_count": null,
   "metadata": {},
   "outputs": [],
   "source": [
    "old_dict = {'hello': 'world', 'foo': 'bar'}\n",
    "\n",
    "# old_dict['foo'] = 'baz'\n",
    "# old_dict['baz'] = 'bar'\n",
    "new_dict = {**old_dict, 'foo': 'baz', 'baz': 'bar'}\n",
    "\n",
    "# old_dict = {'hello': 'world', 'foo': 'bar'}\n",
    "print(f'{old_dict = }')\n",
    "# new_dict = {'hello': 'world', 'foo': 'baz', 'baz': 'bar'}\n",
    "print(f'{new_dict = }')"
   ]
  },
  {
   "cell_type": "markdown",
   "metadata": {},
   "source": [
    "Elements from a list/tuple can be unpacked as function parameters using <code>*</code> operator."
   ]
  },
  {
   "cell_type": "code",
   "execution_count": null,
   "metadata": {},
   "outputs": [],
   "source": [
    "# range(start, stop[, step]) \n",
    "args = (10, 20, 2)\n",
    "ranged = range(*args)\n",
    "\n",
    "# list(ranged) = [10, 12, 14, 16, 18]\n",
    "print(f'{list(ranged) = }')"
   ]
  },
  {
   "cell_type": "markdown",
   "metadata": {},
   "source": [
    "### Packing\n",
    "\n",
    "Packs multiple values from a collection into a single variable using <code>*</code> operator e.g lists, tuples, strings"
   ]
  },
  {
   "cell_type": "markdown",
   "metadata": {},
   "source": [
    "Often used to pack values when destructuring any collection. We can store the value at the beginning and pack the rest."
   ]
  },
  {
   "cell_type": "code",
   "execution_count": null,
   "metadata": {},
   "outputs": [],
   "source": [
    "head, *tail = range(5)\n",
    "\n",
    "# head = 0\n",
    "print(f'{head = }')\n",
    "# tail = [1, 2, 3, 4]\n",
    "print(f'{tail = }')"
   ]
  },
  {
   "cell_type": "markdown",
   "metadata": {},
   "source": [
    "Same example head/tail, but using <code>split</code> to separate a full name."
   ]
  },
  {
   "cell_type": "code",
   "execution_count": null,
   "metadata": {},
   "outputs": [],
   "source": [
    "full_name = \"Martin Luther King Jr.\"\n",
    "first_name, *rest_name = full_name.split()\n",
    "\n",
    "# first_name = 'Martin'\n",
    "print(f'{first_name = }')\n",
    "# rest_name = ['Luther', 'King', 'Jr.']\n",
    "print(f'{rest_name = }')"
   ]
  },
  {
   "cell_type": "markdown",
   "metadata": {},
   "source": [
    "Same for packing the first values and store the last one."
   ]
  },
  {
   "cell_type": "code",
   "execution_count": null,
   "metadata": {},
   "outputs": [],
   "source": [
    "*head, tail = 'cat'\n",
    "\n",
    "# head = ['c', 'a']\n",
    "print(f'{head = }')\n",
    "# tail = 't'\n",
    "print(f'{tail = }')"
   ]
  },
  {
   "cell_type": "markdown",
   "metadata": {},
   "source": [
    "Both first and last elements can be stored in separated variables and the middle are packed."
   ]
  },
  {
   "cell_type": "code",
   "execution_count": null,
   "metadata": {},
   "outputs": [],
   "source": [
    "head, *middle, tail = (0, 1, 2, 3, 4)\n",
    "\n",
    "# head = 0\n",
    "print(f'{head = }')\n",
    "# middle = [1, 2, 3]\n",
    "print(f'{middle = }')\n",
    "# tail = 4\n",
    "print(f'{tail = }')"
   ]
  },
  {
   "cell_type": "markdown",
   "metadata": {},
   "source": [
    "Packing/Unpacking can be used to pass parameters into a function."
   ]
  },
  {
   "cell_type": "code",
   "execution_count": null,
   "metadata": {},
   "outputs": [],
   "source": [
    "def inverse_sqrt(*numbers):\n",
    "    return [ n**-1/2 for n in numbers if n > 0 ]\n",
    "\n",
    "numbers = inverse_sqrt(*range(10))\n",
    "formatted = [ '%.4f' % n for n in numbers ]\n",
    "\n",
    "# formatted = ['0.5000', '0.2500', '0.1667', '0.1250', '0.1000', '0.0833', '0.0714', '0.0625', '0.0556']\n",
    "print(f'{formatted = }')"
   ]
  }
 ],
 "metadata": {
  "interpreter": {
   "hash": "8bfdcd2cc888dbc98ffcff3cf621025027ffe71c6f18c0bca769d24baae26b7f"
  },
  "kernelspec": {
   "display_name": "Python 3.10.4 64-bit",
   "language": "python",
   "name": "python3"
  },
  "language_info": {
   "codemirror_mode": {
    "name": "ipython",
    "version": 3
   },
   "file_extension": ".py",
   "mimetype": "text/x-python",
   "name": "python",
   "nbconvert_exporter": "python",
   "pygments_lexer": "ipython3",
   "version": "3.10.4"
  },
  "orig_nbformat": 4
 },
 "nbformat": 4,
 "nbformat_minor": 2
}
