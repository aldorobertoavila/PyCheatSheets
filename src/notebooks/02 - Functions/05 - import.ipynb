{
 "cells": [
  {
   "cell_type": "markdown",
   "metadata": {},
   "source": [
    "# Importing\n",
    "\n",
    "According to <a href='https://realpython.com/python-import/'>Geir Arne Hjelle</a>, <q>In Python, you use the import keyword to make code in one module available in another. Imports in Python are important for structuring your code effectively. Using imports properly will make you more productive, allowing you to reuse code while keeping your projects maintainable.</q>"
   ]
  },
  {
   "cell_type": "markdown",
   "metadata": {},
   "source": [
    "## Modules\n",
    "\n",
    "According to the <a href='https://docs.python.org/3/glossary.html'>Python Documentation</a>, a module is defined as: <q>An object that serves as an organizational unit of Python code. Modules have a namespace containing arbitrary Python objects. Modules are loaded into Python by the process of <i>importing</i>.</q>"
   ]
  },
  {
   "cell_type": "markdown",
   "metadata": {},
   "source": [
    "### Files & Namespaces\n",
    "\n",
    "Modules act as <i>namespaces</i> that wraps up the attributes of the module. They are usually aliased with <font color='#bb9af7'>as</font> keyword to shorten the namespaces e.g <code>pandas</code> to <code>pd</code>. "
   ]
  },
  {
   "cell_type": "markdown",
   "metadata": {},
   "source": [
    "In practice, a module usually corresponds to a <code>.py</code> file."
   ]
  },
  {
   "cell_type": "code",
   "execution_count": null,
   "metadata": {},
   "outputs": [],
   "source": [
    "import examples.carsale as sales\n",
    "\n",
    "# Hello, costumer! Are you interested in Audi cars?\n",
    "sales.ask(sales.Brand.AUDI)\n"
   ]
  },
  {
   "cell_type": "markdown",
   "metadata": {},
   "source": [
    "Some modules may have a lot of attributes or submodules, importing only the necessary with <font color='#bb9af7'>from</font> <i>namespace</i> <font color='#bb9af7'>import</font> syntax, improves readability and performance."
   ]
  },
  {
   "cell_type": "code",
   "execution_count": null,
   "metadata": {},
   "outputs": [],
   "source": [
    "from examples.carsale import Brand as bd, ask\n",
    "\n",
    "# Hello, costumer! Are you interested in Audi cars?\n",
    "ask(bd.AUDI)\n"
   ]
  },
  {
   "cell_type": "markdown",
   "metadata": {},
   "source": [
    "### PEP8\n",
    "\n",
    "According to <a href='https://peps.python.org/pep-0008/#imports'>PEP 8</a>, has a couple of recommendations about importing modules into our code:"
   ]
  },
  {
   "cell_type": "markdown",
   "metadata": {},
   "source": [
    "  - Imports should usually be on separate lines.\n",
    "  - Imports are always put at the top of the file.\n",
    "  - Absolute imports are recommended.\n",
    "  - Wildcard imports (<font color='#bb9af7'>from</font> \\<module\\> <font color='#bb9af7'>import</font> *) should be avoided\n",
    "  - Imports should be grouped in the following order:\n",
    "    - Standard library imports.\n",
    "    - Related third party imports.\n",
    "    - Local application/library specific imports.\n",
    "  - You should put a blank line between each group of imports."
   ]
  },
  {
   "cell_type": "markdown",
   "metadata": {},
   "source": [
    "## Packages\n",
    "\n",
    "According to the <a href='https://docs.python.org/3/glossary.html'>Python Documentation</a>, a package is defined as: <q>A Python module which can contain submodules or recursively, subpackages. Technically, a package is a Python module with an <code>\\_\\_path\\_\\_</code> attribute.</q>\n",
    "\n",
    "Also, a regular package is defined as: <q>A traditional package, such as a directory containing an <code>\\_\\_init\\_\\_.py</code> file.</q>"
   ]
  },
  {
   "cell_type": "markdown",
   "metadata": {},
   "source": [
    "### Directories\n",
    "\n",
    "According to <a href='https://realpython.com/python-import/'>Geir Arne Hjelle</a>, <q>In practice, a package typically corresponds to a file directory containing Python files and other directories. To create a Python package yourself, you create a directory and a file named <code>\\_\\_init\\_\\_.py</code> inside it. The <code>\\_\\_init\\_\\_.py</code> file contains the contents of the package when it’s treated as a module. It can be left empty.</q>"
   ]
  },
  {
   "cell_type": "code",
   "execution_count": null,
   "metadata": {},
   "outputs": [],
   "source": [
    "# from package.subpackage.file import class\n",
    "from examples.countries.spain import Demog as spain\n",
    "from examples.countries.usa import Demog as usa\n",
    "\n",
    "print(f'Spain Population: {spain.POPULATION}')\n",
    "print(f'USA Population: {usa.POPULATION}')\n"
   ]
  }
 ],
 "metadata": {
  "interpreter": {
   "hash": "8bfdcd2cc888dbc98ffcff3cf621025027ffe71c6f18c0bca769d24baae26b7f"
  },
  "kernelspec": {
   "display_name": "Python 3.10.4 64-bit",
   "language": "python",
   "name": "python3"
  },
  "language_info": {
   "codemirror_mode": {
    "name": "ipython",
    "version": 3
   },
   "file_extension": ".py",
   "mimetype": "text/x-python",
   "name": "python",
   "nbconvert_exporter": "python",
   "pygments_lexer": "ipython3",
   "version": "3.10.4"
  },
  "orig_nbformat": 4
 },
 "nbformat": 4,
 "nbformat_minor": 2
}
