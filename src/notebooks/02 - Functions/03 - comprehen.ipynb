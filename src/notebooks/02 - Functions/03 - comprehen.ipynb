{
 "cells": [
  {
   "cell_type": "markdown",
   "metadata": {},
   "source": [
    "# Comprehension\n",
    "\n",
    "A compact & dynamic way to process all or part of the elements in an <i>iterable</i> to create a list, set or dictionary. More information can be found <a href='https://realpython.com/list-comprehension-python/'>here</a>."
   ]
  },
  {
   "cell_type": "markdown",
   "metadata": {},
   "source": [
    "## Usage\n",
    "\n",
    "It can be use to create powerful functionality within one line of code. Some of it's benefits in small & medium datasets are:\n",
    "  - Can replace <code>filter()</code> with conditional logic\n",
    "  - Can replace loops and <code>map()</code> calls.\n",
    "  - Faster than <code>map()</code> and generators."
   ]
  },
  {
   "cell_type": "markdown",
   "metadata": {},
   "source": [
    "### Replacing looping & mapping\n",
    "\n",
    "As loops & <code>map()</code>, comprehension can create lists but using a shorter syntax and outperforming them."
   ]
  },
  {
   "cell_type": "code",
   "execution_count": null,
   "metadata": {},
   "outputs": [],
   "source": [
    "def comprehension():\n",
    "    squares = [n * n for n in range(1000000)]\n",
    "    del squares\n",
    "\n",
    "\n",
    "def looping():\n",
    "    squares: list[int] = []\n",
    "    for n in range(1000000):\n",
    "        squares.append(n * n)\n",
    "    del squares\n",
    "\n",
    "\n",
    "def mapping():\n",
    "    squares = list(map(lambda n: n * n, range(1000000)))\n",
    "    del squares\n",
    "\n",
    "\n",
    "%timeit comprehension()\n",
    "%timeit looping()\n",
    "%timeit mapping()\n"
   ]
  },
  {
   "cell_type": "markdown",
   "metadata": {},
   "source": [
    "### Replacing filtering\n",
    "\n",
    "As loops & <code>filter()</code>, comprehension can create filtered lists."
   ]
  },
  {
   "cell_type": "code",
   "execution_count": null,
   "metadata": {},
   "outputs": [],
   "source": [
    "def comprehension():\n",
    "    squares = [n for n in range(1000000) if n % 2 == 0]\n",
    "    del squares\n",
    "\n",
    "\n",
    "def looping():\n",
    "    squares: list[int] = []\n",
    "    for n in range(1000000):\n",
    "        if n % 2 == 0:\n",
    "            squares.append(n)\n",
    "    del squares\n",
    "\n",
    "\n",
    "def filtering():\n",
    "    squares = list(filter(lambda n: n % 2 == 0, range(1000000)))\n",
    "    del squares\n",
    "\n",
    "\n",
    "%timeit comprehension()\n",
    "%timeit looping()\n",
    "%timeit filtering()\n"
   ]
  },
  {
   "cell_type": "markdown",
   "metadata": {},
   "source": [
    "### Replacing both\n",
    "\n",
    "As loops & <code>map(filter())</code>, comprehension can create a filtered list & then map it."
   ]
  },
  {
   "cell_type": "code",
   "execution_count": null,
   "metadata": {},
   "outputs": [],
   "source": [
    "def comprehension():\n",
    "    # n * n is 3x faster than n**2\n",
    "    squares = [n * n for n in range(1000000) if n % 2 == 0]\n",
    "    del squares\n",
    "\n",
    "\n",
    "def looping():\n",
    "    squares: list[int] = []\n",
    "    for n in range(1000000):\n",
    "        if n % 2 == 0:\n",
    "            squares.append(n * n)\n",
    "    del squares\n",
    "\n",
    "\n",
    "def filtering():\n",
    "    squares = list(\n",
    "        map(lambda n: n * n, filter(lambda n: n % 2 == 0, range(1000000))))\n",
    "    del squares\n",
    "\n",
    "\n",
    "%timeit comprehension()\n",
    "%timeit looping()\n",
    "%timeit filtering()\n"
   ]
  },
  {
   "cell_type": "markdown",
   "metadata": {},
   "source": [
    "## Memory Usage\n",
    "\n",
    "Even though comprehension is faster and compact than other methods, all data generated is stored into memory. It's an issue when processing large datasets. Yield generators are preferred to read/write from files or create infinite streams of data."
   ]
  },
  {
   "cell_type": "code",
   "execution_count": null,
   "metadata": {},
   "outputs": [],
   "source": [
    "import sys\n",
    "\n",
    "\n",
    "def getsizeof(size):\n",
    "    # converts bytes to MB\n",
    "    return size / float(1024**2)\n",
    "\n",
    "\n",
    "def comprehension() -> list[int]:\n",
    "    return [n * n for n in range(1000000)]\n",
    "\n",
    "\n",
    "def generator():\n",
    "    for n in range(1000000):\n",
    "        yield n * n\n",
    "\n",
    "\n",
    "a = comprehension()\n",
    "size = sys.getsizeof(a)\n",
    "print(f'Sizeof comprehension: {size:,} bytes or {getsizeof(size):.2f}MB')\n",
    "del a\n",
    "\n",
    "b = generator()\n",
    "size = sys.getsizeof(b)\n",
    "print(f'Sizeof generator: {size} bytes')\n",
    "del b\n"
   ]
  }
 ],
 "metadata": {
  "interpreter": {
   "hash": "b49ac474cbb8e2eab12ddcec3ca625a513e12da6cc6284c839d3b1b7a7f65dd0"
  },
  "kernelspec": {
   "display_name": "Python 3.10.4 64-bit",
   "language": "python",
   "name": "python3"
  },
  "language_info": {
   "codemirror_mode": {
    "name": "ipython",
    "version": 3
   },
   "file_extension": ".py",
   "mimetype": "text/x-python",
   "name": "python",
   "nbconvert_exporter": "python",
   "pygments_lexer": "ipython3",
   "version": "3.10.4"
  },
  "orig_nbformat": 4
 },
 "nbformat": 4,
 "nbformat_minor": 2
}
