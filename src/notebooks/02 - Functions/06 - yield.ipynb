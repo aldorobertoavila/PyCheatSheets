{
 "cells": [
  {
   "cell_type": "markdown",
   "metadata": {},
   "source": [
    "# Yield Generator\n",
    "\n",
    "According to the <a href='https://docs.python.org/3/glossary.html'>Python Documentation</a>, a generator is a <q>function which returns a generator iterator.  It looks like a normal function except that it contains yield expressions for producing a series of values usable in a for-loop or that can be retrieved one at a time with the next() function.</q>"
   ]
  },
  {
   "cell_type": "markdown",
   "metadata": {},
   "source": [
    "## Behavior\n",
    "\n",
    "<q>Each yield temporarily suspends processing, remembering the location execution state (including local variables and pending try-statements). When the generator iterator resumes, it picks up where it left off (in contrast to functions which start fresh on every invocation).</q>"
   ]
  },
  {
   "cell_type": "code",
   "execution_count": null,
   "metadata": {},
   "outputs": [],
   "source": [
    "def generator(n: int):\n",
    "    for num in range(n):\n",
    "        yield num**2\n",
    "\n",
    "\n",
    "for num in generator(10):\n",
    "    # 0 1 4 9 16 25 36 49 64 81\n",
    "    print(f'{num}', end=' ')\n"
   ]
  },
  {
   "cell_type": "markdown",
   "metadata": {},
   "source": [
    "As <code>return</code> statements in a regular function, generators can have multiple <code>yield</code> statements."
   ]
  },
  {
   "cell_type": "code",
   "execution_count": null,
   "metadata": {},
   "outputs": [],
   "source": [
    "def generator(n: int):\n",
    "    for num in range(n):\n",
    "        if num % 2 == 0:\n",
    "            yield num**2\n",
    "        else:\n",
    "            yield num**3\n",
    "\n",
    "\n",
    "for num in generator(10):\n",
    "    # 0 1 4 27 16 125 36 343 64 729\n",
    "    print(f'{num}', end=' ')\n"
   ]
  },
  {
   "cell_type": "markdown",
   "metadata": {},
   "source": [
    "## Performance\n",
    "\n",
    "According to <a href='https://realpython.com/introduction-to-python-generators/'>Kyle Stratis</a>, we can understand that generators are frequently use to read/write large chunks of data one at the time. They are excellent to optimize memory, but slower than list comprehension.\n"
   ]
  },
  {
   "cell_type": "markdown",
   "metadata": {},
   "source": [
    "### Memory Usage\n",
    "\n",
    "Using <code>psutil.Process</code> we can measure the current memory in bytes, dividing by <code>1024**2</code> will convert it to MB."
   ]
  },
  {
   "cell_type": "code",
   "execution_count": null,
   "metadata": {},
   "outputs": [],
   "source": [
    "from os import getpid\n",
    "from psutil import Process\n",
    "import sys\n",
    "\n",
    "\n",
    "def memory_usage():\n",
    "    process = Process(getpid())\n",
    "    return process.memory_info()[0] / float(1024 ** 2)\n"
   ]
  },
  {
   "cell_type": "markdown",
   "metadata": {},
   "source": [
    "Sequences e.g list & tuples will always load up the memory, even though a single value is used at the same moment in a <code>for</code> loop."
   ]
  },
  {
   "cell_type": "code",
   "execution_count": null,
   "metadata": {},
   "outputs": [],
   "source": [
    "def sequence(n: int) -> list[int]:\n",
    "    return [i**2 for i in range(0, n)]\n",
    "\n",
    "\n",
    "print(f'Memory Usage (Before): {memory_usage():.2f}Mb')\n",
    "# WARNING: generates almost 4GB into memory, may raise MemoryError\n",
    "# numbers = sequence(100000000)\n",
    "numbers = sequence(100000000)\n",
    "print(f'Sizeof: {sys.getsizeof(numbers) / float(1024 ** 2):.2f}Mb')\n",
    "print(f'Memory Usage (After): {memory_usage():.2f}Mb')\n",
    "\n",
    "# large-chunks of data must be deleted from memory\n",
    "del numbers\n"
   ]
  },
  {
   "cell_type": "markdown",
   "metadata": {},
   "source": [
    "Generators will yield a single value at the same moment in a <code>for</code> loop, or unless <code>next</code> is called."
   ]
  },
  {
   "cell_type": "code",
   "execution_count": null,
   "metadata": {},
   "outputs": [],
   "source": [
    "def generator(n: int):\n",
    "    for i in range(n):\n",
    "        yield i**2\n",
    "\n",
    "\n",
    "print(f'Memory (Before): {memory_usage():.2f}Mb')\n",
    "# WARNING: safe to execute\n",
    "numbers = generator(100000000)\n",
    "print(f'Sizeof: {sys.getsizeof(numbers):,} bytes')\n",
    "print(f'Memory (After): {memory_usage():.2f}Mb')\n"
   ]
  },
  {
   "cell_type": "markdown",
   "metadata": {},
   "source": [
    "### Speed\n",
    "\n",
    "Even though generators are optimal for memory usage, for small chunks of data or less intensive operations, list comprehension tends to perform faster when it has enough memory available."
   ]
  },
  {
   "cell_type": "code",
   "execution_count": null,
   "metadata": {},
   "outputs": [],
   "source": [
    "import cProfile\n",
    "\n",
    "# Each value is multiplied by two\n",
    "cProfile.run('sum([i * 2 for i in range(10000000)])')\n",
    "cProfile.run('sum((i * 2 for i in range(10000000)))')\n",
    "\n",
    "# Each value is squared\n",
    "cProfile.run('sum([i ** 2 for i in range(10000000)])')\n",
    "cProfile.run('sum((i ** 2 for i in range(10000000)))')\n"
   ]
  },
  {
   "cell_type": "markdown",
   "metadata": {},
   "source": [
    "## Examples"
   ]
  },
  {
   "cell_type": "markdown",
   "metadata": {},
   "source": [
    "### Fibonacci\n",
    "\n",
    "It's a very expensive computation when working with large chunks of data, requires memorization to speed up the calculations and a lot of memory to store it. Generators can solve both problems because a single value is called at the same time, less computations to perform and less memory usage, but it's way slower than list comprehension. "
   ]
  },
  {
   "cell_type": "markdown",
   "metadata": {},
   "source": [
    "#### Memory Usage Test\n",
    "\n",
    "In my case, the generator version uses 40x less memory than the list comprehension version."
   ]
  },
  {
   "cell_type": "code",
   "execution_count": null,
   "metadata": {},
   "outputs": [],
   "source": [
    "def fib(n: int):\n",
    "    a, b = 0, 1\n",
    "    for _ in range(n):\n",
    "        yield a\n",
    "        a, b = b, a + b\n",
    "\n",
    "\n",
    "print(f'Memory Usage (Before): {memory_usage():.2f}Mb')\n",
    "numbers = fib(300000)\n",
    "print(f'Sizeof: {sys.getsizeof(numbers):,} bytes')\n",
    "print(f'Memory Usage (After): {memory_usage():.2f}Mb')\n"
   ]
  },
  {
   "cell_type": "code",
   "execution_count": null,
   "metadata": {},
   "outputs": [],
   "source": [
    "from functools import lru_cache\n",
    "\n",
    "# bound limit to cache growth\n",
    "\n",
    "\n",
    "@lru_cache(maxsize=5)\n",
    "def fib(n):\n",
    "    if n in {0, 1}:\n",
    "        return n\n",
    "    return fib(n - 1) + fib(n - 2)\n",
    "\n",
    "\n",
    "print(f'Memory Usage (Before): {memory_usage():.2f}Mb')\n",
    "# WARNING: generates almost 4GB into memory, may raise MemoryError\n",
    "numbers = [fib(n) for n in range(0, 300000)]\n",
    "print(f'Sizeof: {sys.getsizeof(numbers):,} bytes')\n",
    "print(f'Memory Usage (After): {memory_usage():.2f}Mb')\n",
    "\n",
    "# large-chunks of data must be deleted from memory\n",
    "del numbers\n"
   ]
  },
  {
   "cell_type": "markdown",
   "metadata": {},
   "source": [
    "#### Speed Test\n",
    "\n",
    "In my case, the generator version is 5x slower than the list comprehension version."
   ]
  },
  {
   "cell_type": "code",
   "execution_count": null,
   "metadata": {},
   "outputs": [],
   "source": [
    "import cProfile\n",
    "\n",
    "cProfile.run('sum([fib(i) for i in range(100000)])')\n",
    "cProfile.run('sum((fib(i) for i in range(100000)))')\n"
   ]
  },
  {
   "cell_type": "markdown",
   "metadata": {},
   "source": [
    "### Reading large files\n",
    "\n",
    "Massive quantities of data from files can only be read by generators, other approaches lead to storing a lot of data in memory. But it's slower than reading directly into memory, developers must consider the file size, available memory and performance."
   ]
  },
  {
   "cell_type": "code",
   "execution_count": null,
   "metadata": {},
   "outputs": [],
   "source": [
    "import dotenv\n",
    "import os\n",
    "\n",
    "# load environment variables\n",
    "dotenv.load_dotenv()\n",
    "folder = os.getenv('TEMP_FOLDER')\n",
    "filename = os.path.join(folder, 'huge.csv')\n",
    "\n",
    "# creates a row generator\n",
    "\n",
    "\n",
    "def read_huge_file(path):\n",
    "    for row in open(path, \"r+\"):\n",
    "        yield row\n",
    "\n",
    "\n",
    "# counts the number of rows in the file\n",
    "generator = read_huge_file(filename)\n",
    "count: int = 0\n",
    "\n",
    "print(f'Memory Usage (Before): {memory_usage():.2f}Mb')\n",
    "for row in generator:\n",
    "    num = int(row)\n",
    "    count += 1\n",
    "print(f'Sizeof: {sys.getsizeof(generator):,} bytes')\n",
    "print(f'Row {count = }')\n",
    "print(f'Memory Usage (After): {memory_usage():.2f}Mb')\n"
   ]
  },
  {
   "cell_type": "markdown",
   "metadata": {},
   "source": [
    "Using <code>pandas.read_csv</code> it's a faster option, but data is stored into memory when loading the file."
   ]
  },
  {
   "cell_type": "code",
   "execution_count": null,
   "metadata": {},
   "outputs": [],
   "source": [
    "import pandas as pd\n",
    "import dotenv\n",
    "import os\n",
    "\n",
    "dotenv.load_dotenv()\n",
    "folder = os.getenv('TEMP_FOLDER')\n",
    "filename = os.path.join(folder, 'huge.csv')\n",
    "\n",
    "print(f'Memory Usage (Before): {memory_usage():.2f}Mb')\n",
    "df = pd.read_csv(filename)\n",
    "count: int = len(df.index)\n",
    "print(f'Sizeof: {sys.getsizeof(df):,} bytes')\n",
    "print(f'Row {count = }')\n",
    "print(f'Memory Usage (After): {memory_usage():.2f}Mb')\n",
    "\n",
    "# large-chunks of data must be deleted from memory\n",
    "del df\n"
   ]
  }
 ],
 "metadata": {
  "interpreter": {
   "hash": "8bfdcd2cc888dbc98ffcff3cf621025027ffe71c6f18c0bca769d24baae26b7f"
  },
  "kernelspec": {
   "display_name": "Python 3.10.4 64-bit",
   "language": "python",
   "name": "python3"
  },
  "language_info": {
   "codemirror_mode": {
    "name": "ipython",
    "version": 3
   },
   "file_extension": ".py",
   "mimetype": "text/x-python",
   "name": "python",
   "nbconvert_exporter": "python",
   "pygments_lexer": "ipython3",
   "version": "3.10.4"
  },
  "orig_nbformat": 4
 },
 "nbformat": 4,
 "nbformat_minor": 2
}
