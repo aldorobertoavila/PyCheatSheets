{
 "cells": [
  {
   "cell_type": "markdown",
   "metadata": {},
   "source": [
    "# Lambda\n",
    "\n",
    "\n",
    "According to <a href='https://realpython.com/python-lambda/'>Andre Burgaud</a>,<q>Taken literally, an anonymous function is a function without a name. In Python, an anonymous function is created with the <font color='#bb9af7'>lambda</font> keyword. More loosely, it may or not be assigned a name.</q>\n",
    "\n",
    "Lambda functions have some special use cases, but here some characteristics:\n",
    "  - Single use (unless store into a variable)\n",
    "  - Single expression\n",
    "  - No recursion\n",
    "  - No statements e.g return, pass, assert\n",
    "  - Decorators (poor readability)"
   ]
  },
  {
   "cell_type": "markdown",
   "metadata": {},
   "source": [
    "## Syntax\n",
    "\n",
    "Lambda functions bring syntactic sugar to short functions, even though list comprehension and normal functions can do the same tasks."
   ]
  },
  {
   "cell_type": "code",
   "execution_count": null,
   "metadata": {},
   "outputs": [],
   "source": [
    "def a(x, y): return x + y\n",
    "def d(x, y=1): return x / y\n",
    "\n",
    "\n",
    "def add(x, y):\n",
    "    return x + y\n",
    "\n",
    "\n",
    "def divide(x, y=1):\n",
    "    return x / y\n",
    "\n",
    "\n",
    "# add(2, 4) = 6\n",
    "print(f'{add(2, 4) = }')\n",
    "# divide(12, 2) = 6.0\n",
    "print(f'{divide(12, 2) = }')\n",
    "\n",
    "# a(2, 4) = 6\n",
    "print(f'{a(2, 4) = }')\n",
    "# d(12, 2) = 6.0\n",
    "print(f'{d(12, 2) = }')\n"
   ]
  },
  {
   "cell_type": "markdown",
   "metadata": {},
   "source": [
    "## Appropriate Uses of Lambda\n",
    "\n",
    "According to <a href='https://realpython.com/python-lambda/'>Andre Burgaud</a>, <q>Lambdas in Python tend to be the subject of controversies. Some of the arguments against lambdas in Python are:</q>\n",
    "  - Issues with readability\n",
    "  - The imposition of a functional way of thinking\n",
    "  - Heavy syntax with the lambda keyword"
   ]
  },
  {
   "cell_type": "markdown",
   "metadata": {},
   "source": [
    "### Filter\n",
    "\n",
    "Filtering an iterable with built-in <code>filter</code>."
   ]
  },
  {
   "cell_type": "code",
   "execution_count": null,
   "metadata": {},
   "outputs": [],
   "source": [
    "numbers: list[int] = [0, 1, 2, 3, 4]\n",
    "\n",
    "filtered = filter(lambda num: num > 0 and num % 2 == 0, numbers)\n",
    "\n",
    "# list(filtered) = [2, 4]\n",
    "print(f'{list(filtered) = }')\n"
   ]
  },
  {
   "cell_type": "markdown",
   "metadata": {},
   "source": [
    "### Map\n",
    "\n",
    "Mapping an iterable with built-in <code>map</code>."
   ]
  },
  {
   "cell_type": "code",
   "execution_count": null,
   "metadata": {},
   "outputs": [],
   "source": [
    "numbers: list[int] = [0, 1, 2, 3, 4]\n",
    "\n",
    "mapped = map(lambda num: num**2, numbers)\n",
    "\n",
    "# list(mapped) = [0, 1, 4, 9, 16]\n",
    "print(f'{list(mapped) = }')\n"
   ]
  },
  {
   "cell_type": "markdown",
   "metadata": {},
   "source": [
    "### Reduce\n",
    "\n",
    "Reducing an iterable with <code>functools.reduce</code>"
   ]
  },
  {
   "cell_type": "code",
   "execution_count": null,
   "metadata": {},
   "outputs": [],
   "source": [
    "from functools import reduce\n",
    "\n",
    "numbers: list[int] = [0, 1, 2, 3, 4]\n",
    "\n",
    "reduced = reduce(lambda acc, x: acc + x**2, numbers)\n",
    "# reduced = 30\n",
    "print(f'{reduced = }')\n"
   ]
  },
  {
   "cell_type": "markdown",
   "metadata": {},
   "source": [
    "### GUI\n",
    "\n",
    "Executing functionality when clicking a button."
   ]
  },
  {
   "cell_type": "code",
   "execution_count": null,
   "metadata": {},
   "outputs": [],
   "source": [
    "import tkinter as tk\n",
    "\n",
    "window = tk.Tk()\n",
    "window.resizable(0, 0)\n",
    "window.grid_columnconfigure(0, weight=1)\n",
    "window.title(\"Lambda\")\n",
    "window.geometry(\"300x50\")\n",
    "label = tk.Label(window, text=\"Hello World!\")\n",
    "label.grid(column=0, row=0)\n",
    "button = tk.Button(window, text=\"Reverse\",\n",
    "                   command=lambda: label.configure(\n",
    "                       text=label.cget(\"text\")[::-1]),\n",
    "                   )\n",
    "button.grid(column=0, row=1)\n",
    "window.mainloop()\n"
   ]
  },
  {
   "cell_type": "markdown",
   "metadata": {},
   "source": [
    "## Lambda vs Def\n",
    "\n",
    "As listed before, there are appropriate use cases and limitations for lambda. Time & resource expensive computations can't use lambda e.g Fibonacci Sequence"
   ]
  },
  {
   "cell_type": "markdown",
   "metadata": {},
   "source": [
    "### Fibonacci Sequence"
   ]
  },
  {
   "cell_type": "markdown",
   "metadata": {},
   "source": [
    "According to <a href='https://realpython.com/fibonacci-sequence-python/'>Mandy Wong</a>, <q>Leonardo Fibonacci was an Italian mathematician who was able to quickly produce an answer to this question asked by Emperor Frederick II of Swabia. [...] The pattern begins after the first two numbers, 0 and 1, where each number in the sequence is always the sum of the two numbers before it. Indian mathematicians had known about this sequence since the sixth century, and Fibonacci leveraged it to calculate the growth of rabbit populations.</q>\n",
    "\n",
    "<img src=\"../../assets/img/Fibonacci.png\" width=\"220\" height=\"70\">\n",
    "\n"
   ]
  },
  {
   "cell_type": "markdown",
   "metadata": {},
   "source": [
    "<q>The Fibonacci function calls itself several times with the same input. Instead of a new call every time, you can store the results of previous calls in something like a memory cache. You can use a Python list to store the results of previous computations. This technique is called memoization.</q>\n",
    "\n",
    "<img src=\"../../assets/img/Fibonacci Memo.png\" width=\"400\" height=\"150\">"
   ]
  },
  {
   "cell_type": "markdown",
   "metadata": {},
   "source": [
    "Fibonacci sequence requires recursive code and dictionary lookup (more than one expression), both impossible for a lambda function. For further improvements, use <code>@cache</code> for automatic memorization."
   ]
  },
  {
   "cell_type": "code",
   "execution_count": null,
   "metadata": {},
   "outputs": [],
   "source": [
    "from functools import cache\n",
    "\n",
    "\n",
    "@cache\n",
    "def fib(n):\n",
    "    if n in {0, 1}:\n",
    "        return n\n",
    "    return fib(n - 1) + fib(n - 2)\n",
    "\n",
    "\n",
    "[fib(n) for n in range(0, 1000)]\n"
   ]
  },
  {
   "cell_type": "markdown",
   "metadata": {},
   "source": [
    "## PEP8\n",
    "\n",
    "According to <a href='https://peps.python.org/pep-0008/#programming-recommendations'>PEP 8</a>, <q>Always use a def statement instead of an assignment statement that binds a lambda expression directly to an identifier.</q>"
   ]
  }
 ],
 "metadata": {
  "interpreter": {
   "hash": "8bfdcd2cc888dbc98ffcff3cf621025027ffe71c6f18c0bca769d24baae26b7f"
  },
  "kernelspec": {
   "display_name": "Python 3.10.4 64-bit",
   "language": "python",
   "name": "python3"
  },
  "language_info": {
   "codemirror_mode": {
    "name": "ipython",
    "version": 3
   },
   "file_extension": ".py",
   "mimetype": "text/x-python",
   "name": "python",
   "nbconvert_exporter": "python",
   "pygments_lexer": "ipython3",
   "version": "3.10.4"
  },
  "orig_nbformat": 4
 },
 "nbformat": 4,
 "nbformat_minor": 2
}
