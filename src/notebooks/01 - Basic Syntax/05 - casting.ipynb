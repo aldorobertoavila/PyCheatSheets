{
 "cells": [
  {
   "cell_type": "markdown",
   "metadata": {},
   "source": [
    "# Casting\n",
    "\n",
    "It's a method to change the data type of a variable into a different data type to perform a specific operation.\n",
    "\n",
    "Casting can be: <strong>implicit</strong> or <strong>explicit</strong>. Implicit casting is an automatic conversion to other types.\n",
    "\n",
    "\n",
    "- <strong>Implicit casting</strong> is commonly seen in:\n",
    "  - <code>print()</code> built-in function, converts any to <code>str</code>.\n",
    "  - Arithmetic operations: <code>int</code>, <code>float</code> & <code>complex</code>."
   ]
  },
  {
   "cell_type": "code",
   "execution_count": null,
   "metadata": {},
   "outputs": [],
   "source": [
    "a: int = 10\n",
    "b: float = 0.2\n",
    "\n",
    "c: float = a * b\n",
    "\n",
    "print(a, b, c)"
   ]
  },
  {
   "cell_type": "markdown",
   "metadata": {},
   "source": [
    "Integers are casted to Floating-point numbers when operating with decimals. But to cast decimals to integers, an <i>explicit casting</i> must be called. \n",
    "\n",
    "Also, we can see <i>implicit casting in template strings</i>, in this case, numeric values are converted to strings."
   ]
  },
  {
   "cell_type": "code",
   "execution_count": null,
   "metadata": {},
   "outputs": [],
   "source": [
    "import math\n",
    "\n",
    "a: float = 0.5\n",
    "b: int = 5\n",
    "\n",
    "c: float = a * b\n",
    "\n",
    "cast: int = int(c)\n",
    "rounding: int = round(c)\n",
    "ceil: int = math.ceil(c)\n",
    "floor: int = math.floor(c)\n",
    "\n",
    "print(f'{c=}, {cast=}, {rounding=}, {ceil=}, {floor=}')"
   ]
  },
  {
   "cell_type": "markdown",
   "metadata": {},
   "source": [
    "Rounding Floating-point numbers may help to reduce Representation error. See <a href='https://docs.python.org/3/tutorial/floatingpoint.html'>IEEE-754</a>."
   ]
  },
  {
   "cell_type": "code",
   "execution_count": null,
   "metadata": {},
   "outputs": [],
   "source": [
    "a: float = 6.4\n",
    "b: int = 23\n",
    "\n",
    "# In Base 10, should be 147.2\n",
    "c: float = a * b\n",
    "\n",
    "# Rounds after two decimals\n",
    "d: int = round(c, ndigits=2)\n",
    "\n",
    "print(c, d)"
   ]
  },
  {
   "cell_type": "markdown",
   "metadata": {},
   "source": [
    "Other data types can be converted <strong>explicitly</strong> into string with <code>str()</code>."
   ]
  },
  {
   "cell_type": "code",
   "execution_count": null,
   "metadata": {},
   "outputs": [],
   "source": [
    "a: list[int] = [ 0, 1, 2, 3, 4]\n",
    "\n",
    "# Implicit print cast\n",
    "print('a=', a, sep='')\n",
    "\n",
    "# Explicit str cast\n",
    "print('a=' + str(a))\n",
    "\n",
    "# Implicit template string cast\n",
    "print(f'{a=}')"
   ]
  },
  {
   "cell_type": "markdown",
   "metadata": {},
   "source": [
    "When reading a text file or user <code>input()</code>, each line is considered a string. To convert strings into numbers, <code>int()</code> or <code>float()</code> must be called.\n",
    "\n",
    "Note: <code>complex()</code> <i>isn't a string to number casting function</i>, it can only receive integers or decimal numbers (real & imaginary parts)."
   ]
  },
  {
   "cell_type": "code",
   "execution_count": null,
   "metadata": {},
   "outputs": [],
   "source": [
    "user: str = input('Input a number: ')\n",
    "\n",
    "# Can be uninitialized\n",
    "integer: int\n",
    "floating: float\n",
    "cmplx: complex\n",
    "\n",
    "try:\n",
    "    integer = int(user)\n",
    "    floating = float(user)\n",
    "    cmplx = complex(integer, 0)\n",
    "except TypeError as e:\n",
    "    # complex() went wrong\n",
    "    print(e)\n",
    "except ValueError as e:\n",
    "    # user isn't a number\n",
    "    print(e)\n",
    "\n",
    "print(integer, floating, cmplx)"
   ]
  },
  {
   "cell_type": "markdown",
   "metadata": {},
   "source": [
    "A list can be converted into a tuple & a set <strong>explicitly</strong>."
   ]
  },
  {
   "cell_type": "code",
   "execution_count": null,
   "metadata": {},
   "outputs": [],
   "source": [
    "numbers: list[int] = [ 0, 1, 2, 3, 4 ]\n",
    "\n",
    "ordered: tuple[int] = tuple(numbers)\n",
    "unordered: tuple[int] = set(numbers)\n",
    "\n",
    "print(ordered)\n",
    "print(unordered)"
   ]
  },
  {
   "cell_type": "markdown",
   "metadata": {},
   "source": [
    "<code>range()</code> & <code>map()</code> can be cast <strong>explicitly</strong> into a list."
   ]
  },
  {
   "cell_type": "code",
   "execution_count": null,
   "metadata": {},
   "outputs": [],
   "source": [
    "ints: list[int] = list(range(0, 10))\n",
    "\n",
    "print(ints)\n",
    "\n",
    "floats: list[float] = [ 0.2, 0.4, 0.6, 0.8 ]\n",
    "rounding: list[int] = list(map(round, floats)) \n",
    "\n",
    "print(rounding)"
   ]
  },
  {
   "cell_type": "markdown",
   "metadata": {},
   "source": [
    "## Non-conventional Casting\n",
    "\n",
    "There are other types that cannot be casted with a single function, instead they require an entire algorithm to cast them. \n",
    "\n",
    "One common <strong>non-conventional casting</strong> is string to list, commonly used when reading files. Also, <code>list()</code> is an <strong>explicit cast</strong> to convert from a <code>map</code> object."
   ]
  },
  {
   "cell_type": "code",
   "execution_count": null,
   "metadata": {},
   "outputs": [],
   "source": [
    "line: str = \"0.0, 1.0, 2.0, 3.0, 4.0\"\n",
    "\n",
    "words: list[str] = line.split(', ')\n",
    "print(f'{words=}')\n",
    "\n",
    "floats: list[float] = list(map(float, words))\n",
    "print(f'{floats=}')"
   ]
  },
  {
   "cell_type": "markdown",
   "metadata": {},
   "source": [
    "According to <a href='https://stackoverflow.com/questions/493819/why-is-it-string-joinlist-instead-of-list-joinstring'>Stack Overflow</a>, <code>str.join()</code> can be used to create a single string from a list of strings."
   ]
  },
  {
   "cell_type": "code",
   "execution_count": null,
   "metadata": {},
   "outputs": [],
   "source": [
    "string: str = ' '.join(['Welcome', 'to', 'stack', 'overflow'])\n",
    "\n",
    "print(string)"
   ]
  },
  {
   "cell_type": "markdown",
   "metadata": {},
   "source": [
    "According to <a href='https://stackoverflow.com/questions/209840/how-do-i-convert-two-lists-into-a-dictionary'>Stack Overflow</a>, <code>dict()</code> & <code>zip()</code> can be used to create a dictionary from two lists, the first for keys and the second for values."
   ]
  },
  {
   "cell_type": "code",
   "execution_count": null,
   "metadata": {},
   "outputs": [],
   "source": [
    "keys: list[str] = [ 'a', 'b', 'c' ]\n",
    "values: list[int] = [ 1, 2, 3 ]\n",
    "\n",
    "dictionary = dict(zip(keys, values))\n",
    "print(dictionary)"
   ]
  }
 ],
 "metadata": {
  "interpreter": {
   "hash": "8bfdcd2cc888dbc98ffcff3cf621025027ffe71c6f18c0bca769d24baae26b7f"
  },
  "kernelspec": {
   "display_name": "Python 3.10.4 64-bit",
   "language": "python",
   "name": "python3"
  },
  "language_info": {
   "codemirror_mode": {
    "name": "ipython",
    "version": 3
   },
   "file_extension": ".py",
   "mimetype": "text/x-python",
   "name": "python",
   "nbconvert_exporter": "python",
   "pygments_lexer": "ipython3",
   "version": "3.10.4"
  },
  "orig_nbformat": 4
 },
 "nbformat": 4,
 "nbformat_minor": 2
}
