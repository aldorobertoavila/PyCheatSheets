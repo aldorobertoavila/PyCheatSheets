{
 "cells": [
  {
   "cell_type": "markdown",
   "metadata": {},
   "source": [
    "# Casting\n",
    "\n",
    "It's a method to change the data type of a variable into a different data type to perform a specific operation.\n",
    "\n",
    "Casting can be: <strong>implicit</strong> or <strong>explicit</strong>. Implicit casting is an automatic conversion to other types.\n",
    "\n",
    "\n",
    "- <strong>Implicit casting</strong> is commonly seen in:\n",
    "  - <code>print()</code> built-in function, converts any to <code>str</code>.\n",
    "  - Arithmetic operations: <code>int</code>, <code>float</code> & <code>complex</code>."
   ]
  },
  {
   "cell_type": "code",
   "execution_count": null,
   "metadata": {},
   "outputs": [],
   "source": [
    "a: int = 10\n",
    "b: float = 0.2\n",
    "c: float = a * b\n",
    "\n",
    "# a=10 b=0.2 c=2.0\n",
    "print(f'{a=} {b=} {c=}')\n"
   ]
  },
  {
   "cell_type": "markdown",
   "metadata": {},
   "source": [
    "Integers are casted to Floating-point numbers when operating with decimals. But to cast decimals to integers, an <i>explicit casting</i> must be called. \n",
    "\n",
    "Also, we can see <i>implicit casting in template strings</i>, in this case, numeric values are converted to strings."
   ]
  },
  {
   "cell_type": "code",
   "execution_count": null,
   "metadata": {},
   "outputs": [],
   "source": [
    "import math\n",
    "\n",
    "a: float = 0.5\n",
    "b: int = 5\n",
    "\n",
    "c: float = a * b\n",
    "\n",
    "cast: int = int(c)\n",
    "rounding: int = round(c)\n",
    "ceil: int = math.ceil(c)\n",
    "floor: int = math.floor(c)\n",
    "\n",
    "# c=2.5, cast=2, rounding=2, ceil=3, floor=2\n",
    "print(f'{c=}, {cast=}, {rounding=}, {ceil=}, {floor=}')\n"
   ]
  },
  {
   "cell_type": "markdown",
   "metadata": {},
   "source": [
    "Rounding Floating-point numbers may help to reduce Representation error. See <a href='https://docs.python.org/3/tutorial/floatingpoint.html'>IEEE-754</a>."
   ]
  },
  {
   "cell_type": "code",
   "execution_count": null,
   "metadata": {},
   "outputs": [],
   "source": [
    "a: float = 6.4\n",
    "b: int = 23\n",
    "\n",
    "# In Base 10, should be 147.2\n",
    "c: float = a * b\n",
    "\n",
    "# Rounds after two decimals\n",
    "d: int = round(c, ndigits=2)\n",
    "\n",
    "# c=147.20000000000002 d=147.2\n",
    "print(f'{c=} {d=}')\n"
   ]
  },
  {
   "cell_type": "markdown",
   "metadata": {},
   "source": [
    "Other data types can be converted <strong>explicitly</strong> into string with <code>str()</code>."
   ]
  },
  {
   "cell_type": "code",
   "execution_count": null,
   "metadata": {},
   "outputs": [],
   "source": [
    "a: list[int] = [0, 1, 2, 3, 4]\n",
    "\n",
    "# Implicit print cast\n",
    "# a=[0, 1, 2, 3, 4]\n",
    "print('a=', a, sep='')\n",
    "\n",
    "# Explicit str cast\n",
    "# a=[0, 1, 2, 3, 4]\n",
    "print('a=' + str(a))\n",
    "\n",
    "# Implicit template string cast\n",
    "# a=[0, 1, 2, 3, 4]\n",
    "print(f'{a=}')\n"
   ]
  },
  {
   "cell_type": "markdown",
   "metadata": {},
   "source": [
    "When reading a text file or user <code>input()</code>, each line is considered a string. To convert strings into numbers, <code>int()</code> or <code>float()</code> must be called.\n",
    "\n",
    "Note: <code>complex()</code> <i>isn't a string to number casting function</i>, it can only receive integers or decimal numbers (real & imaginary parts)."
   ]
  },
  {
   "cell_type": "code",
   "execution_count": null,
   "metadata": {},
   "outputs": [],
   "source": [
    "user: str = input('Input a number: ')\n",
    "\n",
    "floating: float = 0\n",
    "integer: int = 0\n",
    "cmplx: complex = 0\n",
    "\n",
    "try:\n",
    "    floating = float(user)\n",
    "    integer = int(floating)\n",
    "    cmplx = complex(integer, 0)\n",
    "except ValueError as e:\n",
    "    # could not convert string to float: '...'\n",
    "    # invalid literal for int() with base 10: '...'\n",
    "    print(e)\n",
    "\n",
    "# floating=... integer=... cmplx=...\n",
    "print(f'{floating=} {integer=} {cmplx=}')\n"
   ]
  },
  {
   "cell_type": "markdown",
   "metadata": {},
   "source": [
    "A list can be converted into a tuple & a set <strong>explicitly</strong>."
   ]
  },
  {
   "cell_type": "code",
   "execution_count": null,
   "metadata": {},
   "outputs": [],
   "source": [
    "numbers: list[int] = [0, 1, 2, 3, 4]\n",
    "\n",
    "ordered: tuple[int] = tuple(numbers)\n",
    "unordered: tuple[int] = set(numbers)\n",
    "\n",
    "# ordered=(0, 1, 2, 3, 4) unordered={0, 1, 2, 3, 4}\n",
    "print(f'{ordered=} {unordered=}')\n"
   ]
  },
  {
   "cell_type": "markdown",
   "metadata": {},
   "source": [
    "<code>string()</code>, <code>range()</code>, <code>set()</code>, <code>map()</code> can be cast <strong>explicitly</strong> into a list."
   ]
  },
  {
   "cell_type": "code",
   "execution_count": null,
   "metadata": {},
   "outputs": [],
   "source": [
    "my_string: str = 'Hello world!'\n",
    "my_char_list: list[str] = list(my_string)\n",
    "\n",
    "my_range: range = range(0, 10)\n",
    "my_ranged_list: list[int] = list(my_range)\n",
    "\n",
    "my_set: set = {'a', 'b', 'c', 'd', 'e', 'f', 'g', 'h', 'i', 'j'}\n",
    "my_list: list[int] = list(my_set)\n",
    "\n",
    "my_map: map = map(round, [0.0, 0.1, 0.2, 0.3, 0.4, 0.5, 0.6, 0.7, 0.8, 0.9])\n",
    "my_mapped_list: list[int] = list(my_map)\n",
    "\n",
    "# my_char_list=['H', 'e', 'l', 'l', 'o', ' ', 'w', 'o', 'r', 'l', 'd', '!']\n",
    "print(f'{my_char_list=}')\n",
    "# my_ranged_list=[0, 1, 2, 3, 4, 5, 6, 7, 8, 9]\n",
    "print(f'{my_ranged_list=}')\n",
    "# my_mapped_list=[0, 0, 0, 0, 0, 0, 1, 1, 1, 1]\n",
    "print(f'{my_mapped_list=}')\n"
   ]
  },
  {
   "cell_type": "markdown",
   "metadata": {},
   "source": [
    "## Transform\n",
    "\n",
    "There are other types that cannot be casted with a single function, instead they require an entire algorithm to transform them. \n",
    "\n",
    "One common <strong>transform</strong> is a formatted-string to list.\n",
    "- Commonly used when:\n",
    "  - String has a separator (e.g commas, spaces)\n",
    "  - Reading text files"
   ]
  },
  {
   "cell_type": "code",
   "execution_count": null,
   "metadata": {},
   "outputs": [],
   "source": [
    "line: str = \"0.0, 1.0, 2.0, 3.0, 4.0\"\n",
    "\n",
    "words: list[str] = line.split(', ')\n",
    "# words=['0.0', '1.0', '2.0', '3.0', '4.0']\n",
    "print(f'{words=}')\n",
    "\n",
    "floats: list[float] = list(map(float, words))\n",
    "# floats=[0.0, 1.0, 2.0, 3.0, 4.0]\n",
    "print(f'{floats=}')\n"
   ]
  },
  {
   "cell_type": "markdown",
   "metadata": {},
   "source": [
    "According to <a href='https://stackoverflow.com/questions/493819/why-is-it-string-joinlist-instead-of-list-joinstring'>Stack Overflow</a>, <code>str.join()</code> can be used to create a single string from a list of strings."
   ]
  },
  {
   "cell_type": "code",
   "execution_count": null,
   "metadata": {},
   "outputs": [],
   "source": [
    "string: str = ' '.join(['Welcome', 'to', 'stack', 'overflow'])\n",
    "\n",
    "# Welcome to stack overflow\n",
    "print(string)\n"
   ]
  },
  {
   "cell_type": "markdown",
   "metadata": {},
   "source": [
    "According to <a href='https://stackoverflow.com/questions/209840/how-do-i-convert-two-lists-into-a-dictionary'>Stack Overflow</a>, <code>dict()</code> & <code>zip()</code> can be used to create a dictionary from two lists, the first for keys and the second for values."
   ]
  },
  {
   "cell_type": "code",
   "execution_count": null,
   "metadata": {},
   "outputs": [],
   "source": [
    "keys: list[str] = ['a', 'b', 'c']\n",
    "values: list[int] = [1, 2, 3]\n",
    "\n",
    "dictionary = dict(zip(keys, values))\n",
    "\n",
    "# {'a': 1, 'b': 2, 'c': 3}\n",
    "print(dictionary)\n"
   ]
  }
 ],
 "metadata": {
  "interpreter": {
   "hash": "8bfdcd2cc888dbc98ffcff3cf621025027ffe71c6f18c0bca769d24baae26b7f"
  },
  "kernelspec": {
   "display_name": "Python 3.10.4 64-bit",
   "language": "python",
   "name": "python3"
  },
  "language_info": {
   "codemirror_mode": {
    "name": "ipython",
    "version": 3
   },
   "file_extension": ".py",
   "mimetype": "text/x-python",
   "name": "python",
   "nbconvert_exporter": "python",
   "pygments_lexer": "ipython3",
   "version": "3.10.4"
  },
  "orig_nbformat": 4
 },
 "nbformat": 4,
 "nbformat_minor": 2
}
