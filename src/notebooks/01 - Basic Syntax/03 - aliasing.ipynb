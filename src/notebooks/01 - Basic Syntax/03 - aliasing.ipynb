{
 "cells": [
  {
   "cell_type": "markdown",
   "metadata": {},
   "source": [
    "# Aliasing\n",
    "\n",
    "According to Dr. Charles R. Severance, <a href='https://www.amazon.com/Python-Everybody-Exploring-Data-ebook/dp/B01IA5VIFM'>Python for Everybody</a> author, <q>The association of a variable with an object is called a <i>reference</i>. [...] An object with more than one reference has more than one name, so we say that the object is <i>aliased</i>.\n",
    "If the aliased object is mutable, changes made with one alias affect the other.</q>"
   ]
  },
  {
   "cell_type": "code",
   "execution_count": null,
   "metadata": {},
   "outputs": [],
   "source": [
    "a: list[int] = [1, 2, 3]\n",
    "# b reference to a\n",
    "b: list[int] = a\n",
    "\n",
    "# b mutation affects a\n",
    "b[0] = 4\n",
    "b[1] = 5\n",
    "b[2] = 6\n",
    "\n",
    "# True\n",
    "print(a is b)\n",
    "# [4, 5, 6]\n",
    "print(a)\n",
    "# [4, 5, 6]\n",
    "print(b)\n"
   ]
  },
  {
   "cell_type": "markdown",
   "metadata": {},
   "source": [
    "<q>Although this behavior can be useful, it is error-prone. In general, it is safer to avoid aliasing when you are working with mutable objects.\n",
    "For immutable objects like strings, aliasing is not as much of a problem.</q>"
   ]
  },
  {
   "cell_type": "code",
   "execution_count": null,
   "metadata": {},
   "outputs": [],
   "source": [
    "a: str = 'banana'\n",
    "b: str = a\n",
    "\n",
    "# True\n",
    "print(a is b)\n",
    "\n",
    "# Strings are immutable, cannot mutate to 'Habana'\n",
    "try:\n",
    "    a[0] = 'H'\n",
    "    a[2] = 'b'\n",
    "except TypeError as e:\n",
    "    print(e)  # 'str' object does not support item assignment\n",
    "\n",
    "# banana\n",
    "print(a)\n",
    "# banana\n",
    "print(b)\n"
   ]
  },
  {
   "cell_type": "markdown",
   "metadata": {},
   "source": [
    "Immutable objects don't update references when assigning a new value. Aliasing immutable objects is safe to use."
   ]
  },
  {
   "cell_type": "code",
   "execution_count": null,
   "metadata": {},
   "outputs": [],
   "source": [
    "c: str = 'banana'\n",
    "d: str = c\n",
    "\n",
    "c: str = 'Habana'\n",
    "\n",
    "# False\n",
    "print(c is d)\n",
    "# Habana\n",
    "print(c)\n",
    "# banana\n",
    "print(d)\n"
   ]
  },
  {
   "cell_type": "markdown",
   "metadata": {},
   "source": [
    "Aliasing is considered a bad practice because it can cause mutability in unexpected places. To copy values from a collection of object, it's recommended to use <code>copy</code> module or using <code>list.copy()</code> or <code>dict.copy()</code>."
   ]
  }
 ],
 "metadata": {
  "interpreter": {
   "hash": "8bfdcd2cc888dbc98ffcff3cf621025027ffe71c6f18c0bca769d24baae26b7f"
  },
  "kernelspec": {
   "display_name": "Python 3.10.4 64-bit",
   "language": "python",
   "name": "python3"
  },
  "language_info": {
   "codemirror_mode": {
    "name": "ipython",
    "version": 3
   },
   "file_extension": ".py",
   "mimetype": "text/x-python",
   "name": "python",
   "nbconvert_exporter": "python",
   "pygments_lexer": "ipython3",
   "version": "3.10.4"
  },
  "orig_nbformat": 4
 },
 "nbformat": 4,
 "nbformat_minor": 2
}
