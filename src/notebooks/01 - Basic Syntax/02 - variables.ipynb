{
 "cells": [
  {
   "cell_type": "markdown",
   "metadata": {},
   "source": [
    "# Variables\n",
    "In mathematics, a variable is an objects that may change & represents a number, vector, matrix or function. e.g <strong>x, y, z</strong> \n",
    "\n",
    "Typically, variables are used as argument into a function e.g Linear Function."
   ]
  },
  {
   "cell_type": "code",
   "execution_count": null,
   "metadata": {},
   "outputs": [],
   "source": [
    "# f(x) = 7x\n",
    "def f(x):\n",
    "    return 7 * x\n",
    "\n",
    "x1 = 10\n",
    "y1 = f(x1)\n",
    "\n",
    "print(x1)\n",
    "print(y1)"
   ]
  },
  {
   "cell_type": "markdown",
   "metadata": {},
   "source": [
    "We can better understand it with a plot from <code>matplotlib.pyplot</code>"
   ]
  },
  {
   "cell_type": "code",
   "execution_count": null,
   "metadata": {},
   "outputs": [],
   "source": [
    "# py -m pip install matplotlib\n",
    "import matplotlib.pyplot as plt\n",
    "\n",
    "# Note: In math, uppercase letters are used to describe lists\n",
    "X = list(range(100))\n",
    "Y = [ f(x) for x in X ]\n",
    "\n",
    "plt.plot(X, Y)"
   ]
  },
  {
   "cell_type": "markdown",
   "metadata": {},
   "source": [
    "A variable can take any value & type supported by Python at any given time during execution."
   ]
  },
  {
   "cell_type": "code",
   "execution_count": null,
   "metadata": {},
   "outputs": [],
   "source": [
    "# Assign an Int\n",
    "x = 10\n",
    "print(x)\n",
    "\n",
    "# Assign another Int\n",
    "x = 20\n",
    "print(x)\n",
    "\n",
    "# Assign a String\n",
    "x = 'Hello World!'\n",
    "print(x)"
   ]
  },
  {
   "cell_type": "markdown",
   "metadata": {},
   "source": [
    "How we can get random values? We can use <code>random.randint</code> to int, and <code>random.random</code> to float."
   ]
  },
  {
   "cell_type": "code",
   "execution_count": null,
   "metadata": {},
   "outputs": [],
   "source": [
    "from random import randint, random\n",
    "\n",
    "my_random_int: int = randint(0, 100)\n",
    "my_random_float: float = random()\n",
    "\n",
    "\n",
    "print(my_random_int)\n",
    "print(my_random_float)"
   ]
  },
  {
   "cell_type": "markdown",
   "metadata": {},
   "source": [
    "Another way to get any value is thought user <code>input</code> built-in function."
   ]
  },
  {
   "cell_type": "code",
   "execution_count": null,
   "metadata": {},
   "outputs": [],
   "source": [
    "my_input = input('Enter any value: ')\n",
    "\n",
    "print(my_input)"
   ]
  },
  {
   "cell_type": "markdown",
   "metadata": {},
   "source": [
    "According to PEP 8, variables should: \"Use a lowercase single letter, word, or words. Separate words with underscores to improve readability.\""
   ]
  },
  {
   "cell_type": "code",
   "execution_count": null,
   "metadata": {},
   "outputs": [],
   "source": [
    "my_variable = input('Input anything: ')\n",
    "print(type(my_variable))\n",
    "print(my_variable)"
   ]
  }
 ],
 "metadata": {
  "interpreter": {
   "hash": "8bfdcd2cc888dbc98ffcff3cf621025027ffe71c6f18c0bca769d24baae26b7f"
  },
  "kernelspec": {
   "display_name": "Python 3.10.4 64-bit",
   "language": "python",
   "name": "python3"
  },
  "language_info": {
   "codemirror_mode": {
    "name": "ipython",
    "version": 3
   },
   "file_extension": ".py",
   "mimetype": "text/x-python",
   "name": "python",
   "nbconvert_exporter": "python",
   "pygments_lexer": "ipython3",
   "version": "3.10.4"
  },
  "orig_nbformat": 4
 },
 "nbformat": 4,
 "nbformat_minor": 2
}
