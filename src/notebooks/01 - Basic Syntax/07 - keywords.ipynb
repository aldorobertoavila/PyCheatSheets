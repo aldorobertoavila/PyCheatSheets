{
 "cells": [
  {
   "cell_type": "markdown",
   "metadata": {},
   "source": [
    "# Keywords\n",
    "\n",
    "According to Allen Downey, PhD in computer science & author of <a href='https://greenteapress.com/wp/think-python-2e/'>Think Python</a>, <q>A reserved word that is used by the compiler to parse a program; you cannot use keywords like <code>if</code>, <code>def</code>, and <code>while</code> as variable names. </q>\n",
    "\n",
    "According to <a href='https://www.w3schools.com/python/python_ref_keywords.asp'>W3Schools</a>: <q>Python has a set of keywords that are reserved words that cannot be used as variable names, function names, or any other identifiers:</q>\n",
    "\n",
    "| Keyword | Description |\n",
    "| ------- | ----------- |\n",
    "| <font style='font-size: 18px;' color='#bb9af7'>and</font>      | And logical operator |\n",
    "| <font style='font-size: 18px;' color='#bb9af7'>as</font>       | To create an alias |\n",
    "| <font style='font-size: 18px;' color='#bb9af7'>assert</font>   | For debugging      |\n",
    "| <font style='font-size: 18px;' color='#bb9af7'>break</font>\t | To break out of a loop |\n",
    "| <font style='font-size: 18px;' color='#bb9af7'>class</font>\t | To define a class |\n",
    "| <font style='font-size: 18px;' color='#bb9af7'>continue</font> | To continue to the next iteration of a loop |\n",
    "| <font style='font-size: 18px;' color='#bb9af7'>def</font>\t     | To define a function |\n",
    "| <font style='font-size: 18px;' color='#bb9af7'>del</font>\t     | To delete an object |\n",
    "| <font style='font-size: 18px;' color='#bb9af7'>elif</font>\t | Used in conditional statements, same as else if |\n",
    "| <font style='font-size: 18px;' color='#bb9af7'>else</font>\t | Used in conditional statements |\n",
    "| <font style='font-size: 18px;' color='#bb9af7'>except</font>   | Used with exceptions, what to do when an exception occurs |\n",
    "| <font style='font-size: 18px;' color='#bb9af7'>False</font>\t | Boolean value, result of comparison operations |\n",
    "| <font style='font-size: 18px;' color='#bb9af7'>finally</font>\t | Used with exceptions, a block of code that will be executed no matter if there is an exception or not |\n",
    "| <font style='font-size: 18px;' color='#bb9af7'>for</font>\t     | To create a for loop |\n",
    "| <font style='font-size: 18px;' color='#bb9af7'>from</font>\t | To import specific parts of a module |\n",
    "| <font style='font-size: 18px;' color='#bb9af7'>global</font>   | To declare a global variable |\n",
    "| <font style='font-size: 18px;' color='#bb9af7'>if</font>       | To make a conditional statement |\n",
    "| <font style='font-size: 18px;' color='#bb9af7'>import</font>\t | To import a module |\n",
    "| <font style='font-size: 18px;' color='#bb9af7'>in</font>       | To check if a value is present in a list, tuple, etc. |\n",
    "| <font style='font-size: 18px;' color='#bb9af7'>is</font>       | To test if two variables are equal |\n",
    "| <font style='font-size: 18px;' color='#bb9af7'>lambda</font>   | To create an anonymous function |\n",
    "| <font style='font-size: 18px;' color='#bb9af7'>None</font>     | Represents a null value |\n",
    "| <font style='font-size: 18px;' color='#bb9af7'>nonlocal</font> | To declare a non-local variable |\n",
    "| <font style='font-size: 18px;' color='#bb9af7'>not</font>      | Not logical operator |\n",
    "| <font style='font-size: 18px;' color='#bb9af7'>or</font>       | Or logical operator |\n",
    "| <font style='font-size: 18px;' color='#bb9af7'>pass</font>     | A null statement, a statement that will do nothing |\n",
    "| <font style='font-size: 18px;' color='#bb9af7'>raise</font>\t | To raise an exception |\n",
    "| <font style='font-size: 18px;' color='#bb9af7'>return</font>   | To exit a function and return a value |\n",
    "| <font style='font-size: 18px;' color='#bb9af7'>True</font>     | Boolean value, result of comparison operations |\n",
    "| <font style='font-size: 18px;' color='#bb9af7'>try</font>      | To make a try...except statement |\n",
    "| <font style='font-size: 18px;' color='#bb9af7'>while</font>    | To create a while loop |\n",
    "| <font style='font-size: 18px;' color='#bb9af7'>with</font>     | Used to simplify exception handling |\n",
    "| <font style='font-size: 18px;' color='#bb9af7'>yield</font>\t | To end a function, returns a generator |"
   ]
  }
 ],
 "metadata": {
  "interpreter": {
   "hash": "8bfdcd2cc888dbc98ffcff3cf621025027ffe71c6f18c0bca769d24baae26b7f"
  },
  "kernelspec": {
   "display_name": "Python 3.10.4 64-bit",
   "language": "python",
   "name": "python3"
  },
  "language_info": {
   "codemirror_mode": {
    "name": "ipython",
    "version": 3
   },
   "file_extension": ".py",
   "mimetype": "text/x-python",
   "name": "python",
   "nbconvert_exporter": "python",
   "pygments_lexer": "ipython3",
   "version": "3.10.4"
  },
  "orig_nbformat": 4
 },
 "nbformat": 4,
 "nbformat_minor": 2
}
