{
 "cells": [
  {
   "cell_type": "markdown",
   "metadata": {},
   "source": [
    "# Data Types\n",
    "\n",
    "It represents a kind of value that tell us what properties and operations can be performed. In Python, everything is an object, data types are built-in classes.  "
   ]
  },
  {
   "cell_type": "markdown",
   "metadata": {},
   "source": [
    "## Boolean\n",
    "\n",
    "They are especially useful with conditional control structures like <code>if</code> statements, because they can have only two values: <code>True</code> or <code>False</code>.\n",
    "\n",
    "Usually, booleans aren't stored in variables, instead they are consumed immediately upon creating with comparison operators. Also, booleans can be chained using <code>and</code>, <code>or</code> & <code>not</code> operators."
   ]
  },
  {
   "cell_type": "markdown",
   "metadata": {},
   "source": [
    "\n",
    "AND Truth Table\n",
    "| p\t| q | p ∨ q |\n",
    "| -\t| - | ----- |\n",
    "| True  | True  | True  |\n",
    "| True  | False | False |\n",
    "| False | True  | False |\n",
    "| False\t| False | False |"
   ]
  },
  {
   "cell_type": "code",
   "execution_count": null,
   "metadata": {},
   "outputs": [],
   "source": [
    "print(f'{False and False = }')\n",
    "print(f'{True and False = }')\n",
    "print(f'{False and True = }')\n",
    "print(f'{True and True = }', end='\\n\\n')"
   ]
  },
  {
   "cell_type": "markdown",
   "metadata": {},
   "source": [
    "OR Truth Table\n",
    "| p\t| q | p ^ q |\n",
    "| -\t| - | ----- |\n",
    "| True  | True  | True  |\n",
    "| True  | False | True  |\n",
    "| False | True  | True  |\n",
    "| False\t| False | False |"
   ]
  },
  {
   "cell_type": "code",
   "execution_count": null,
   "metadata": {},
   "outputs": [],
   "source": [
    "print(f'{False or False = }')\n",
    "print(f'{True or False = }')\n",
    "print(f'{False or True = }')\n",
    "print(f'{True or True = }', end='\\n\\n')"
   ]
  },
  {
   "cell_type": "markdown",
   "metadata": {},
   "source": [
    "NOT Truth Table\n",
    "| p\t| p ⊥ q |\n",
    "| -\t| ----- |\n",
    "| True  | False |\n",
    "| False | True  |"
   ]
  },
  {
   "cell_type": "code",
   "execution_count": null,
   "metadata": {},
   "outputs": [],
   "source": [
    "print(f'{not False = }')\n",
    "print(f'{not True = }')"
   ]
  },
  {
   "cell_type": "markdown",
   "metadata": {},
   "source": [
    "When evaluating a value that is not a boolean, we have some rules depending on the type:\n",
    "  - <code>None</code> is always <code>False</code>\n",
    "  - Numbers are always <code>True</code> unless for the number 0\n",
    "  - Lists, strings, tuples, sets, dictionaries are <code>False</code> only when empty"
   ]
  },
  {
   "cell_type": "code",
   "execution_count": null,
   "metadata": {},
   "outputs": [],
   "source": [
    "if not None:\n",
    "    print('None is always false unless negated.')\n",
    "\n",
    "if 20:\n",
    "    print(\"All numbers are True\")\n",
    "\n",
    "if not 0:\n",
    "    print(\"0 is always false unless negated.\")\n",
    "    \n",
    "if [ 'a', 'b', 'c' ]:\n",
    "    print(\"Only empty lists are False\")\n",
    "    \n",
    "if not [ ]:\n",
    "    print(\"An empty list is always false unless negated.\")"
   ]
  },
  {
   "cell_type": "markdown",
   "metadata": {},
   "source": [
    "## Numeric\n",
    "\n",
    "It represents numbers in different forms, and they perform arithmetic operations. They are <code>int</code>, <code>float</code>, <code>complex</code>."
   ]
  },
  {
   "cell_type": "code",
   "execution_count": null,
   "metadata": {},
   "outputs": [],
   "source": [
    "# Common int representation\n",
    "a: int = 100\n",
    "\n",
    "# Scientific notation\n",
    "b: float = 1.25e5\n",
    "c: float = 1e-3\n",
    "\n",
    "# Fast inverse square root\n",
    "d: float = a * 16**(-1/2)\n",
    "\n",
    "# Complex number\n",
    "e: complex = 2-3j\n",
    "f: complex = 2+3j\n",
    "\n",
    "# Int * Complex * Complex\n",
    "g: complex = a * e * f\n",
    "\n",
    "# Print can receive multiple arguments\n",
    "print(a, b, c, d)\n",
    "print(g, g.real, g.imag)"
   ]
  },
  {
   "cell_type": "markdown",
   "metadata": {},
   "source": [
    "### Number Representation\n",
    "There are different numeric bases, most of them used in computer science & digital electronics. <code>bin()</code> converts an <code>int</code> to a binary representation. The same can be said about <code>oct()</code> and <code>hex()</code>"
   ]
  },
  {
   "cell_type": "code",
   "execution_count": null,
   "metadata": {},
   "outputs": [],
   "source": [
    "a: int = 100\n",
    "b: str = '0b1010111'\n",
    "c: str = '0o2352370'\n",
    "d: str = '0xafe4821'\n",
    "\n",
    "# Decimal (base 10) to Binary (base 2)\n",
    "print(f'{bin(a) = }')\n",
    "# Decimal (base 10) to Octal (base 8)\n",
    "print(f'{oct(a) = }')\n",
    "# Decimal (base 10) to Hexadecimal (base 16)\n",
    "print(f'{hex(a) = }')\n",
    "\n",
    "# Binary (base 2) to Decimal (base 10)\n",
    "print(f\"{int(b, 2) = }\")\n",
    "# Octal (base 8) to Decimal (base 10)\n",
    "print(f\"{int(c, 8) = :,}\")\n",
    "# Hexadecimal (base 16) to Decimal (base 10)\n",
    "print(f\"{int(d, 16) = :,}\")"
   ]
  },
  {
   "cell_type": "markdown",
   "metadata": {},
   "source": [
    "## String\n",
    "\n",
    "According to Flavio Copes, software engineer & author of <a href='https://flaviocopes.com/page/python-handbook/'>The Python Handbook</a>, <q>A string in Python is a series of characters enclosed into quotes or double quotes. [...] A string can be multi-line when defined with a special syntax, enclosing the string in a set of 3 quotes.</q>"
   ]
  },
  {
   "cell_type": "code",
   "execution_count": null,
   "metadata": {},
   "outputs": [],
   "source": [
    "# Valid string\n",
    "simple: str = 'Simple Quotes'\n",
    "\n",
    "# Also a valid string\n",
    "double: str = \"Double Quotes\"\n",
    "\n",
    "simple_multi_line: str = '''I\n",
    "    Am\n",
    "    a\n",
    "    multi-line\n",
    "    string\n",
    "'''\n",
    "\n",
    "double_multi_line: str = '''I\n",
    "    Am\n",
    "    a\n",
    "    multi-line\n",
    "    string\n",
    "'''\n",
    "\n",
    "print(simple)\n",
    "print(double)\n",
    "print(simple_multi_line)\n",
    "print(double_multi_line)"
   ]
  },
  {
   "cell_type": "markdown",
   "metadata": {},
   "source": [
    "### Concatenation\n",
    "Means to add strings together. You can concatenate strings using the <code>+</code> operator, or <code>+=</code> to append to an existing string."
   ]
  },
  {
   "cell_type": "code",
   "execution_count": null,
   "metadata": {},
   "outputs": [],
   "source": [
    "phrase = \"Roger\" + \" is a good dog\"\n",
    "\n",
    "name = \"Roger\"\n",
    "name += \" is a good dog\"\n",
    "\n",
    "print(phrase) #Roger is a good dog\n",
    "print(name) #Roger is a good dog"
   ]
  },
  {
   "cell_type": "markdown",
   "metadata": {},
   "source": [
    "### Formatting\n",
    "It can be done with simple concatenation, but require a lot of operands & casting when working with multiple variables.\n",
    "\n",
    "Instead, we can use template strings. <code>f'{}'</code> is very powerful. Check the <a href='https://mkaz.blog/code/python-string-format-cookbook/'>Python String Format Cookbook</a>"
   ]
  },
  {
   "cell_type": "code",
   "execution_count": null,
   "metadata": {},
   "outputs": [],
   "source": [
    "import math\n",
    "\n",
    "numbers: list[int] = [ 10, 20, 30 ]\n",
    "letters: list[str] = [ 'a', 'b', 'c' ]\n",
    "\n",
    "# String concatenation\n",
    "# [X] Poor readability\n",
    "# [X] Repeating typing\n",
    "# [X] Explicit casting\n",
    "# [X] {} not supported\n",
    "print('numbers=' + str(numbers) + ' letters=' + str(letters) + ' math.pi=' + '{num:.2f}'.format(num = math.pi))\n",
    "\n",
    "# String format\n",
    "# [✓] Better readability\n",
    "# [X] Repeating typing\n",
    "# [✓] Implicit casting\n",
    "# [✓] {} supported\n",
    "print('numbers={} letters={} math.pi={num:.2f}'.format(numbers, letters, num = math.pi))\n",
    "\n",
    "# Template string\n",
    "# [✓] Optimal readability\n",
    "# [✓] Repeating typing\n",
    "# [✓] Implicit casting\n",
    "# [✓] {} supported\n",
    "print(f'{numbers=} {letters=} {math.pi=:.2f}')"
   ]
  },
  {
   "cell_type": "markdown",
   "metadata": {},
   "source": [
    "Some formatting styles:\n",
    "\n",
    "| Number     | Format                               | Output    | Description                                    |\n",
    "| ---------  | -----------------------------------  | ------    | ---------------------------------------------- |\n",
    "| 3.1415926\t | <font color='#bb9af7'>{:.2f}</font>  | 3.14      | Format float 2 decimal places                  |\n",
    "| 3.1415926\t | <font color='#bb9af7'>{:+.2f}</font> | +3.14     | Format float 2 decimal places with sign        |\n",
    "| 2.71828    | <font color='#bb9af7'>{:.0f}</font>  | 3         | Format float with no decimal places            |\n",
    "| 5          | <font color='#bb9af7'>{:0>2d}</font> | 05        | Pad number with zeros (left padding, width 2)  |\n",
    "| 5          | <font color='#bb9af7'>{:x<4d}</font> | 5xxx      | Pad number with x’s (right padding, width 4)   |\n",
    "| 1000000    | <font color='#bb9af7'>{:,}</font>    | 1,000,000 |  Number format with comma separator            |\n",
    "| 0.25       | <font color='#bb9af7'>{:.2%}</font>  | 25.00%    |  Format percentage                             |\n",
    "| 1000000000 | <font color='#bb9af7'>{:.2e}</font>  | 1.00e+09  | Exponent notation                              |\n",
    "| 13         | <font color='#bb9af7'>{:10d}</font>  | 13        | Right aligned (default, width 10)              |\n",
    "| 13         | <font color='#bb9af7'>{:<10d}</font> | 13        | Left aligned (width 10)                        |\n",
    "| 13         | <font color='#bb9af7'>{:^10d}</font> | 13        | Center aligned (width 10)                      |"
   ]
  },
  {
   "cell_type": "code",
   "execution_count": null,
   "metadata": {},
   "outputs": [],
   "source": [
    "import math\n",
    "\n",
    "print(f'{math.pi:.2f}')\n",
    "print(f'{math.pi:+.2f}')\n",
    "print(f'{math.e:.0f}')\n",
    "\n",
    "print(f'{5:0>2d}')\n",
    "print(f'{5:x<4d}')\n",
    "print(f'{1000000:,}')\n",
    "print(f'{0.25:.0%} {0.25:.2%}')\n",
    "print(f'{1000000000:.2e}')\n",
    "\n",
    "print(f'_{13:10d}_')\n",
    "print(f'_{13:<10d}_')\n",
    "print(f'_{13:^10d}_')"
   ]
  },
  {
   "cell_type": "markdown",
   "metadata": {},
   "source": [
    "### Indexing & Slicing\n",
    "All sequences allows you to access their items one at a time with the bracket operator. \n",
    "\n",
    "According to Allen Downey, PhD in computer science & author of <a href='https://greenteapress.com/wp/think-python-2e/'>Think Python</a> <q>The expression in brackets is called an <i>index</i>. The index indicates which character\n",
    "in the sequence you want. [...] But in Python, the <i>index</i> is an offset from the beginning of the string, and the offset of the first letter.</q>\n",
    "is zero.\n",
    "\n",
    "<img src=\"../../assets/img/String Indexes.png\">"
   ]
  },
  {
   "cell_type": "code",
   "execution_count": null,
   "metadata": {},
   "outputs": [],
   "source": [
    "word: str = 'banana'\n",
    "# get length of a sequence\n",
    "length: int = len(word)\n",
    "\n",
    "print(f\"'{word[0]}', '{word[1]}', '{word[2]}', '{word[3]}', '{word[4]}', '{word[5]}'\")\n",
    "print(f'Length: {length}')\n",
    "\n",
    "# using assert keyword, raises an AssertionError if false\n",
    "assert length == 6"
   ]
  },
  {
   "cell_type": "markdown",
   "metadata": {},
   "source": [
    "- Indexes must follow some rules to prevent exceptions. \n",
    "  - Don't use <code>float</code> or <code>complex</code>, only <code>int</code>, otherwise it will cause a <code>TypeError</code>.\n",
    "  - Don't use a integer grater than the string length, otherwise it will cause a <code>IndexError</code>.\n",
    "  - Negative integers (reverse order) are allowed as long as meets the second rule."
   ]
  },
  {
   "cell_type": "code",
   "execution_count": null,
   "metadata": {},
   "outputs": [],
   "source": [
    "# First rule\n",
    "try: \n",
    "    word[1.5]\n",
    "except TypeError as e:\n",
    "    print(e)\n",
    "\n",
    "# Second rule\n",
    "try:\n",
    "    word[20]\n",
    "except IndexError as e:\n",
    "    print(e)\n",
    "\n",
    "print(f'{word[-1]=}') # last char: 'a'\n",
    "print(f'{word[0]=}')  # first char: 'b'"
   ]
  },
  {
   "cell_type": "markdown",
   "metadata": {},
   "source": [
    "- <q>A segment of a string is called a <i>slice</i>. The operator <code>[n:m]</code> returns the part of the string from the “n-eth” character to the “m-eth” character, including the first but excluding the last. </q>\n",
    "\n",
    "  - <q>If you omit the first index (before the colon), the slice starts at the beginning of the string.</q>\n",
    "  - <q>If you omit the second index, the slice goes to the end of the string.</q>"
   ]
  },
  {
   "cell_type": "code",
   "execution_count": null,
   "metadata": {},
   "outputs": [],
   "source": [
    "# slicing a sequence\n",
    "print(f\"'{word[:2]}', '{word[2:4]}', '{word[4:]}'\")\n",
    "\n",
    "# first four letters\n",
    "print(f\"'{word[:3]}'\") # 'ban'\n",
    "\n",
    "# negative can be confusing\n",
    "print(f\"'{word[:-4]}'\") # 'ba'"
   ]
  },
  {
   "cell_type": "markdown",
   "metadata": {},
   "source": [
    "### Methods\n",
    "<q>A method is similar to a function—it takes arguments and returns a value—but the syntax\n",
    "is different. For example, the method <code>upper</code> takes a string and returns a new string with all\n",
    "uppercase letters. A method call is called an <i>invocation</i>; in this case, we would say that we are invoking\n",
    "upper on the word</q>"
   ]
  },
  {
   "cell_type": "code",
   "execution_count": null,
   "metadata": {},
   "outputs": [],
   "source": [
    "phrase: str = 'the cat quickly came to the couch and caught sight of the kite in the tree and kept quiet. '\n",
    "\n",
    "print(f'{phrase.upper()=}')\n",
    "print(f'{phrase.lower()=}')\n",
    "print(f'{phrase.capitalize()=}')\n",
    "print(f'{phrase.title()=}')\n",
    "print(f'{phrase.strip()=}')\n",
    "# be careful with simple & double quotes\n",
    "print(f\"{phrase.replace(' ', '_')=}\")\n",
    "\n",
    "print(f'{phrase.isalnum()=}') # spaces and punctuation aren't alpha-numeric\n",
    "print(f'{phrase.isnumeric()=}')\n",
    "\n",
    "print(f\"{phrase.startswith(' the')=}\")\n",
    "print(f\"{phrase.endswith('quiet. ')=}\")\n",
    "# only the first occurrence will be returned or -1 if not found\n",
    "print(f\"{phrase.find('k')=}\")\n",
    "print(f\"{phrase.find('cat')=}\")\n",
    "print(f\"{phrase.count('c')=}\")"
   ]
  },
  {
   "cell_type": "markdown",
   "metadata": {},
   "source": [
    "### Regular Expressions\n",
    "A sequence of characters to perform a search pattern. See <a href='https://www.w3schools.com/python/python_regex.asp'>W3Schools</a> & <a href='https://docs.python.org/3/library/re.html'>Python Official Documentation</a>."
   ]
  },
  {
   "cell_type": "code",
   "execution_count": null,
   "metadata": {},
   "outputs": [],
   "source": [
    "import re\n",
    "\n",
    "# returns a list with the start & end index of each occurrence of 'the'\n",
    "indexes: list[tuple[int, int]] = [ word.span() for word in re.finditer('the', phrase) ]\n",
    "\n",
    "print(f'{indexes=}')"
   ]
  },
  {
   "cell_type": "markdown",
   "metadata": {},
   "source": [
    "## Tuple\n",
    "\n",
    "An immutable and ordered collection of objects. Once a tuple is created, it can't be modified. Similar to lists, but using parentheses instead of square brackets."
   ]
  },
  {
   "cell_type": "code",
   "execution_count": null,
   "metadata": {},
   "outputs": [],
   "source": [
    "letters: tuple[int] = ( 'e', 'b', 'a', 'd', 'f', 'c' )\n",
    "\n",
    "# methods\n",
    "print(f\"{letters.count('a') = }\")\n",
    "print(f\"{letters.index('b') = }\")\n",
    "\n",
    "# indexing\n",
    "print(f\"{letters[0] = }\")\n",
    "print(f\"{letters[-1] = }\")\n",
    "\n",
    "# slicing\n",
    "print(f\"{letters[0:2] = }\")\n",
    "print(f\"{letters[1:3] = }\")\n",
    "\n",
    "print(f\"{len(letters) = }\")\n",
    "\n",
    "# sorted letters tuple\n",
    "print(f\"{tuple(sorted(letters)) = }\")\n",
    "\n",
    "# sorted letters tuple with 'g' & 'h'\n",
    "print(f\"{tuple(sorted(letters + ( 'g', 'h' ))) = }\")"
   ]
  },
  {
   "cell_type": "markdown",
   "metadata": {},
   "source": [
    "## Set"
   ]
  },
  {
   "cell_type": "markdown",
   "metadata": {},
   "source": [
    "An unordered & mutable collection of unique objects. They work like Venn diagrams, helpful to describe memberships in collections. There's also a immutable version, called <code>frozenset</code>."
   ]
  },
  {
   "cell_type": "code",
   "execution_count": null,
   "metadata": {},
   "outputs": [],
   "source": [
    "# mutable set\n",
    "teachers: set = { 'Charlotte', 'Sophia', 'Roger', 'Noah', 'Eddie', 'Mark', 'Mia'  }\n",
    "# immutable set\n",
    "engineers: frozenset = frozenset({ 'Eddie', 'Mark', 'Sophia', 'Mia', 'Alex', 'James' })\n",
    "\n",
    "print(f'{teachers = }')\n",
    "print(f'{engineers = }')"
   ]
  },
  {
   "cell_type": "markdown",
   "metadata": {},
   "source": [
    "### Venn Diagrams\n",
    "\n",
    "Sets can be visualized using Venn Diagrams with <code>matplotlib</code> & <code>matplotlib_venn</code>. Here some basic usage:"
   ]
  },
  {
   "cell_type": "code",
   "execution_count": null,
   "metadata": {},
   "outputs": [],
   "source": [
    "# py -m pip install matplotlib\n",
    "# py -m pip install matplotlib-venn\n",
    "from matplotlib import pyplot as plt\n",
    "from matplotlib_venn import venn2_circles, venn2_unweighted\n",
    "\n",
    "# both sets have to be the same type\n",
    "teachers: set = { 'Charlotte', 'Sophia', 'Roger', 'Noah', 'Eddie', 'Mark', 'Mia'  }\n",
    "engineers: set = set({ 'Eddie', 'Mark', 'Sophia', 'Mia', 'Alex', 'James' })\n",
    "\n",
    "plt_font: dict = {'family': 'Century Gothic', 'size': 40}\n",
    "venn_font: dict = {'family': 'Century Gothic', 'size': 20}\n",
    "\n",
    "plt.rc('font', **venn_font)\n",
    "plt.rcParams['text.color'] = '#7dcfff'\n",
    "plt.figure(figsize=(12, 12))\n",
    "venn = venn2_unweighted(subsets=[teachers, engineers], set_labels=('Teachers', 'Engineers'), set_colors=('#9ece6a', '#0db9d7'))\n",
    "venn.get_patch_by_id('A').set_alpha(0.5)\n",
    "venn.get_patch_by_id('B').set_alpha(0.5)\n",
    "\n",
    "venn2_circles(subsets=(1, 1, 1), linewidth=2.0, color='#7dcfff')\n",
    "plt.title(\"Professions\", fontdict=plt_font)\n",
    "plt.show()"
   ]
  },
  {
   "cell_type": "markdown",
   "metadata": {},
   "source": [
    "### Methods\n",
    "\n",
    "As other objects, sets can also perform some operations using their own methods. Global <code>len</code> function can be used to get the length of a set."
   ]
  },
  {
   "cell_type": "code",
   "execution_count": null,
   "metadata": {},
   "outputs": [],
   "source": [
    "teachers: set = { 'Charlotte', 'Sophia', 'Roger', 'Noah', 'Eddie', 'Mark', 'Mia'  }\n",
    "engineers: frozenset = frozenset({ 'Eddie', 'Mark', 'Sophia', 'Mia', 'Alex', 'James' })\n",
    "\n",
    "# len(teachers) = 7\n",
    "print(f'{len(teachers) = }')\n",
    "# len(engineers) = 6\n",
    "print(f'{len(engineers) = }')"
   ]
  },
  {
   "cell_type": "markdown",
   "metadata": {},
   "source": [
    "#### Add\n",
    "\n",
    "Appends an element, no effect if the element is already present. Not supported in <code>frozenset</code>."
   ]
  },
  {
   "cell_type": "code",
   "execution_count": null,
   "metadata": {},
   "outputs": [],
   "source": [
    "# add an element\n",
    "teachers.add('Olivia')\n",
    "\n",
    "try:\n",
    "    engineers.add('Sophia') # raise an AttributeError\n",
    "except AttributeError as e:\n",
    "    print(e) # 'frozenset' object has no attribute 'add'\n",
    "\n",
    "# teachers = {'Eddie', 'Mark', 'Noah', 'Roger', 'Sophia', 'Olivia', 'Mia'}\n",
    "print(f'{teachers = }')\n",
    "# engineers = frozenset({'Alex', 'Eddie', 'Mark', 'James', 'Mia', 'Sophia'})\n",
    "print(f'{engineers = }')"
   ]
  },
  {
   "cell_type": "markdown",
   "metadata": {},
   "source": [
    "#### Remove\n",
    "\n",
    "Removes an element, raises an error if the element is not present. Not supported in <code>frozenset</code>."
   ]
  },
  {
   "cell_type": "code",
   "execution_count": null,
   "metadata": {},
   "outputs": [],
   "source": [
    "# removes a specified element\n",
    "teachers.remove('Charlotte')\n",
    "\n",
    "try:\n",
    "    engineers.remove('Mark') # raise an AttributeError\n",
    "except AttributeError as e:\n",
    "    print(e) # 'frozenset' object has no attribute 'remove'\n",
    "\n",
    "# teachers = {'Eddie', 'Mark', 'Noah', 'Roger', 'Sophia', 'Mia'}\n",
    "print(f'{teachers = }')\n",
    "# engineers = frozenset({'Alex', 'Eddie', 'Mark', 'James', 'Mia', 'Sophia'})\n",
    "print(f'{engineers = }')"
   ]
  },
  {
   "cell_type": "markdown",
   "metadata": {},
   "source": [
    "#### Disjoint\n",
    "\n",
    "Check if two sets don't have common elements."
   ]
  },
  {
   "cell_type": "code",
   "execution_count": null,
   "metadata": {},
   "outputs": [],
   "source": [
    "# teachers.isdisjoint(engineers) = False\n",
    "print(f'{teachers.isdisjoint(engineers) = }')"
   ]
  },
  {
   "cell_type": "markdown",
   "metadata": {},
   "source": [
    "#### Pop\n",
    "\n",
    "Removes a random element."
   ]
  },
  {
   "cell_type": "code",
   "execution_count": null,
   "metadata": {},
   "outputs": [],
   "source": [
    "print(f'{teachers.pop() = }')\n",
    "print(f'{teachers = }')"
   ]
  },
  {
   "cell_type": "markdown",
   "metadata": {},
   "source": [
    "#### Intersection\n",
    "\n",
    "Get the common elements, use <code>&</code> for two or multiple sets and <code>intersection</code> allows a single <code>Iterable</code>."
   ]
  },
  {
   "cell_type": "code",
   "execution_count": null,
   "metadata": {},
   "outputs": [],
   "source": [
    "teachers: set = { 'Charlotte', 'Sophia', 'Roger', 'Noah', 'Eddie', 'Mark', 'Mia'  }\n",
    "engineers: set = { 'Eddie', 'Mark', 'Sophia', 'Mia', 'Alex', 'James' }\n",
    "\n",
    "# intersect = {'Mia', 'Mark', 'Eddie', 'Sophia'}\n",
    "print(f'{teachers & engineers = }')\n",
    "print(f'{teachers.intersection(engineers) = }')"
   ]
  },
  {
   "cell_type": "markdown",
   "metadata": {},
   "source": [
    "#### Union\n",
    "\n",
    "Merge elements into a single set, use <code>|</code> for two or multiple sets and <code>union</code> allows a single <code>Iterable</code>."
   ]
  },
  {
   "cell_type": "code",
   "execution_count": null,
   "metadata": {},
   "outputs": [],
   "source": [
    "# union = {'Sophia', 'Charlotte', 'Alex', 'Mark', 'Roger', 'Noah', 'Eddie', 'James', 'Mia'}\n",
    "print(f'{teachers | engineers = }')\n",
    "print(f'{teachers.union(engineers) = }')"
   ]
  },
  {
   "cell_type": "markdown",
   "metadata": {},
   "source": [
    "#### Difference\n",
    "\n",
    "Get the difference between sets, use <code>|</code> for two or multiple sets and <code>difference</code> allows a single <code>Iterable</code>."
   ]
  },
  {
   "cell_type": "code",
   "execution_count": null,
   "metadata": {},
   "outputs": [],
   "source": [
    "# difference = {'Noah', 'Roger', 'Charlotte'}\n",
    "print(f'{teachers - engineers = }')\n",
    "print(f'{teachers.difference(engineers) = }')"
   ]
  },
  {
   "cell_type": "markdown",
   "metadata": {},
   "source": [
    "#### Superset\n",
    "\n",
    "Check if set is a superset of another.  Use <code>></code> for two or multiple sets and <code>issuperset</code> allows a single <code>Iterable</code>."
   ]
  },
  {
   "cell_type": "code",
   "execution_count": null,
   "metadata": {},
   "outputs": [],
   "source": [
    "doctors: set = { 'Liam', 'David', 'Elizabeth', 'Thomas' }\n",
    "dermatologists: set = { 'Elizabeth', 'David' }\n",
    "\n",
    "# doctors > dermatologists = True\n",
    "print(f'{doctors > dermatologists = }')\n",
    "# doctors.issuperset(dermatologists) = True\n",
    "print(f'{doctors.issuperset(dermatologists) = }')"
   ]
  },
  {
   "cell_type": "markdown",
   "metadata": {},
   "source": [
    "#### Subset\n",
    "\n",
    "Check if set is a subset of another.  Use <code><</code> for two or multiple sets and <code>issubset</code> allows a single <code>Iterable</code>."
   ]
  },
  {
   "cell_type": "code",
   "execution_count": null,
   "metadata": {},
   "outputs": [],
   "source": [
    "# dermatologists < doctors = True\n",
    "print(f'{dermatologists < doctors = }')\n",
    "# dermatologists.issubset(doctors) = True\n",
    "print(f'{dermatologists.issubset(doctors) = }')"
   ]
  },
  {
   "cell_type": "markdown",
   "metadata": {},
   "source": [
    "## List"
   ]
  },
  {
   "cell_type": "markdown",
   "metadata": {},
   "source": [
    "Lists are an essential Python data structure. The allow you to group together multiple values and reference them all with a common name."
   ]
  },
  {
   "cell_type": "code",
   "execution_count": null,
   "metadata": {},
   "outputs": [],
   "source": [
    "dogs = [\"Roger\", \"Syd\"]\n",
    "# A list can hold values of different types:\n",
    "items = [\"Roger\", 1, \"Syd\", True]\n",
    "# You can check if an item is contained into a list with\n",
    "# the in operator:\n",
    "print(\"Roger\" in items) # True\n",
    "# A list can also be defined as empty:\n",
    "items = []"
   ]
  },
  {
   "cell_type": "markdown",
   "metadata": {},
   "source": [
    "### Methods\n",
    "\n",
    "Get the number of items contained in a list using the\n",
    "len() global function, the same we used to get the\n",
    "length of a string:\n",
    "len(items) #4\n",
    "You can add items to the list by using a list append()\n",
    "method:\n",
    "items.append(\"Test\")\n",
    "or the extend() method:\n",
    "items.extend([\"Test\"])\n",
    "You can also use the += operator:\n",
    "items += [\"Test\"]\n",
    "items is ['Roger', 1, 'Syd', True, 'Test']\n",
    "Tip: with extend() or += don't forget the square\n",
    "brackets. Don't do items += \"Test\" or\n",
    "items.extend(\"Test\") or Python will add 4\n",
    "individual characters to the list, resulting in\n",
    "['Roger', 1, 'Syd', True, 'T', 'e', 's', 't']\n",
    "Remove an item using the remove() method:\n",
    "items.remove(\"Test\")\n",
    "You can add multiple elements using\n",
    "items += [\"Test1\", \"Test2\"]\n",
    "#or\n",
    "items.extend([\"Test1\", \"Test2\"])\n",
    "These append the item to the end of the list.\n",
    "To add an item in the middle of a list, at a specific\n",
    "index, use the insert() method:\n",
    "items.insert(1, \"Test\") # add \"Test\" at index 1\n",
    "To add multiple items at a specific index, you need to\n",
    "use slices:\n",
    "items[1:1] = [\"Test1\", \"Test2\"]\n",
    "Sort a list using the sort() method:\n",
    "items.sort()\n",
    "Tip: sort() will only work if the list holds values that\n",
    "can be compared. Strings and integers for\n",
    "example can't be compared, and you'll get an\n",
    "error like TypeError: '<' not supported between\n",
    "instances of 'int' and 'str' if you try.\n",
    "The sort() methods orders uppercase letters first,\n",
    "then lowercased letters. To fix this, use:\n",
    "items.sort(key=str.lower)\n",
    "instead.\n",
    "Sorting modifies the original list content. To avoid that,\n",
    "you can copy the list content using\n",
    "itemscopy = items[:]\n",
    "or use the sorted() global function:\n",
    "print(sorted(items, key=str.lower))\n",
    "that will return a new list, sorted, instead of modifying\n",
    "the original list."
   ]
  },
  {
   "cell_type": "code",
   "execution_count": null,
   "metadata": {},
   "outputs": [],
   "source": [
    "items.append(\"Test\")\n",
    "items.extend([\"Test\"])\n",
    "\n",
    "items += [\"Test\"]\n",
    "items is ['Roger', 1, 'Syd', True, 'Test']"
   ]
  },
  {
   "cell_type": "markdown",
   "metadata": {},
   "source": [
    "### Indexing & Slicing\n",
    "\n",
    "You can reference the items in a list by their index,\n",
    "starting from zero:\n",
    "items[0] # \"Roger\"\n",
    "items[1] # 1\n",
    "items[3] # True\n",
    "Using the same notation you can change the value\n",
    "stored at a specific index:\n",
    "items[0] = \"Roger\"\n",
    "You can also use the index() method:\n",
    "items.index(0) # \"Roger\"\n",
    "items.index(1) # 1\n",
    "\n",
    "As with strings, using a negative index will start\n",
    "searching from the end:\n",
    "items[-1] # True\n",
    "You can also extract a part of a list, using slices:\n",
    "items[0:2] # [\"Roger\", 1]\n",
    "items[2:] # [\"Syd\", True]"
   ]
  },
  {
   "cell_type": "code",
   "execution_count": null,
   "metadata": {},
   "outputs": [],
   "source": [
    "items[0] # \"Roger\"\n",
    "items[1] # 1\n",
    "items[3] # True"
   ]
  },
  {
   "cell_type": "markdown",
   "metadata": {},
   "source": [
    "## Dictionary"
   ]
  },
  {
   "cell_type": "markdown",
   "metadata": {},
   "source": [
    "While lists allow you to create collections of values, dictionaries allow you to create collections of key / value pairs.\n",
    "Here is a dictionary example with one key/value pair:\n",
    "\n",
    "The key can be any immutable value like a string, a\n",
    "number or a tuple. The value can be anything you\n",
    "want.\n",
    "A dictionary can contain multiple key/value pairs:\n",
    "\n",
    "You can access individual key values using this\n",
    "notation:\n",
    "\n",
    "Using the same notation you can change the value\n",
    "stored at a specific index:\n",
    "\n",
    "You can add a new key/value pair to the dictionary in\n",
    "this way:\n",
    "dog['favorite food'] = 'Meat'"
   ]
  },
  {
   "cell_type": "code",
   "execution_count": null,
   "metadata": {},
   "outputs": [],
   "source": [
    "dog = { 'name': 'Roger' }\n",
    "dog = { 'name': 'Roger', 'age': 8 }\n",
    "dog['name'] # 'Roger'\n",
    "dog['age'] # 8\n",
    "dog['name'] = 'Syd'"
   ]
  },
  {
   "cell_type": "markdown",
   "metadata": {},
   "source": [
    "### Methods\n",
    "\n",
    "And another way is using the get() method, which\n",
    "has an option to add a default value:\n",
    "\n",
    "dog.get('name') # 'Roger'\n",
    "dog.get('test', 'default') # 'default'\n",
    "\n",
    "The pop() method retrieves the value of a key, and\n",
    "subsequently deletes the item from the dictionary:\n",
    "dog.pop('name') # 'Roger'\n",
    "The popitem() method retrieves and removes the\n",
    "last key/value pair inserted into the dictionary:\n",
    "dog.popitem()\n",
    "\n",
    "You can check if a key is contained into a dictionary\n",
    "with the in operator:\n",
    "'name' in dog # True\n",
    "Get a list with the keys in a dictionary using the\n",
    "keys() method, passing its result to the list()\n",
    "constructor:\n",
    "\n",
    "list(dog.keys()) # ['name', 'age']\n",
    "Get the values using the values() method, and the\n",
    "key/value pairs tuples using the items() method\n",
    "print(list(dog.values()))\n",
    " ['Roger', 8]\n",
    "print(list(dog.items()))\n",
    " [('name', 'Roger'), ('age', 8)]\n",
    "\n",
    "Get a dictionary length using the len() global\n",
    "function, the same we used to get the length of a\n",
    "string or the items in a list:\n",
    "len(dog) #2\n",
    "\n",
    "You can remove a key/value pair from a dictionary\n",
    "using the del statement:\n",
    "del dog['favorite food']\n",
    "To copy a dictionary, use the copy() method:\n",
    "dogCopy = dog.copy()"
   ]
  },
  {
   "cell_type": "markdown",
   "metadata": {},
   "source": [
    "## Function"
   ]
  },
  {
   "cell_type": "markdown",
   "metadata": {},
   "source": [
    "A function lets us create a set of instructions that we can run when needed. Functions are essential in Python and in many other programming languages to create meaningful programs, because they allow us to decompose a program into manageable parts, they promote readability and code reuse. Here is an example function called hello that prints\n",
    "\n",
    "\n",
    "This is the function definition. There is a name\n",
    "( hello ) and a body, the set of instructions, which is\n",
    "the part that follows the colon and it's indented one\n",
    "level on the right.\n",
    "To run this function, we must call it. This is the syntax\n",
    "to call the function:\n",
    "hello()\n",
    "We can execute this function once, or multiple times.\n",
    "The name of the function, hello , is very important. It\n",
    "should be descriptive, so anyone calling it can imagine\n",
    "what the function does.\n",
    "A function can accept one or more parameters:"
   ]
  },
  {
   "cell_type": "code",
   "execution_count": null,
   "metadata": {},
   "outputs": [],
   "source": [
    "def hello():\n",
    "    print('Hello!')"
   ]
  },
  {
   "cell_type": "markdown",
   "metadata": {},
   "source": [
    "### Parameters\n",
    "\n",
    "def hello(name):\n",
    " print('Hello ' + name + '!')\n",
    "In this case we call the function passing the argument\n",
    "hello('Roger')\n",
    "We call parameters the values accepted by the\n",
    "function inside the function definition, and\n",
    "arguments the values we pass to the function\n",
    "when we call it. It's common to get confused about\n",
    "this distinction.\n",
    "An argument can have a default value that's applied if\n",
    "the argument is not specified:\n",
    "def hello(name='my friend'):\n",
    " print('Hello ' + name + '!')\n",
    "hello()\n",
    "#Hello my friend!\n",
    "Here's how we can accept multiple parameters:\n",
    "In this case we call the function passing a set of\n",
    "arguments:\n",
    "hello('Roger', 8)\n",
    "\n",
    "Parameters are passed by reference. All types in\n",
    "Python are objects but some of them are immutable,\n",
    "including integers, booleans, floats, strings, and\n",
    "tuples. This means that if you pass them as\n",
    "parameters and you modify their value inside the\n",
    "function, the new value is not reflected outside of the\n",
    "function:\n",
    "def change(value):\n",
    " value = 2\n",
    "val = 1\n",
    "change(val)\n",
    "print(val) #1\n",
    "If you pass an object that's not immutable, and you\n",
    "change one of its properties, the change will be\n",
    "reflected outside.\n",
    "A function can return a value, using the return\n",
    "statement. For example in this case we return the\n",
    "name parameter name:\n",
    "def hello(name):\n",
    " print('Hello ' + name + '!')\n",
    " return name\n",
    "When the function meets the return statement, the\n",
    "function ends.\n",
    "We can omit the value:\n",
    "def hello(name):\n",
    " print('Hello ' + name + '!')\n",
    " return\n",
    "65\n",
    "We can have the return statement inside a conditional,\n",
    "which is a common way to end a function if a starting\n",
    "condition is not met:\n",
    "def hello(name):\n",
    " if not name:\n",
    " return\n",
    " print('Hello ' + name + '!')\n",
    "If we call the function passing a value that evaluates to\n",
    "False , like an empty string, the function is terminated\n",
    "before reaching the print() statement.\n",
    "You can return multiple values by using comma\n",
    "separated values:\n",
    "def hello(name):\n",
    " print('Hello ' + name + '!')\n",
    " return name, 'Roger', 8\n",
    "In this case calling hello('Syd') the return value is a\n",
    "tuple containing those 3 values: ('Syd', 'Roger', 8) ."
   ]
  },
  {
   "cell_type": "markdown",
   "metadata": {},
   "source": [
    "## Object"
   ]
  },
  {
   "cell_type": "markdown",
   "metadata": {},
   "source": [
    "Everything in Python is an object. Even values of basic primitive types (integer, string, float..) are objects. Lists are objects, tuples, dictionaries, everything."
   ]
  },
  {
   "cell_type": "markdown",
   "metadata": {},
   "source": [
    "Objects have attributes and methods that can be accessed using the dot syntax.\n",
    "For example, try defining a new variable of type int :\n",
    "age = 8\n",
    "age now has access to the properties and methods\n",
    "defined for all int objects.\n",
    "This includes, for example, access to the real and\n",
    "imaginary part of that number:\n",
    "A variable holding a list value has access to a different\n",
    "set of methods:"
   ]
  },
  {
   "cell_type": "code",
   "execution_count": null,
   "metadata": {},
   "outputs": [],
   "source": [
    "age = 8\n",
    "\n",
    "items = [1, 2]\n",
    "items.append(3)\n",
    "items.pop()"
   ]
  },
  {
   "cell_type": "markdown",
   "metadata": {},
   "source": [
    "\n",
    "The methods depend on the type of value.\n",
    "The id() global function provided by Python lets you\n",
    "inspect the location in memory for a particular object.\n",
    "id(age) # 140170065725376\n",
    "Your memory value will change, I am only\n",
    "showing it as an example\n",
    "If you assign a different value to the variable, its\n",
    "address will change, because the content of the\n",
    "variable has been replaced with another value stored\n",
    "in another location in memory:\n",
    "age = 8\n",
    "print(id(age)) # 140535918671808\n",
    "age = 9\n",
    "print(id(age)) # 140535918671840\n",
    "But if you modify the object using its methods, the\n",
    "address stays the same:\n",
    "items = [1, 2]\n",
    "print(id(items)) # 140093713593920\n",
    "items.append(3)\n",
    "print(items) # [1, 2, 3]\n",
    "print(id(items)) # 140093713593920"
   ]
  },
  {
   "cell_type": "code",
   "execution_count": null,
   "metadata": {},
   "outputs": [],
   "source": [
    "age = 8\n",
    "print(id(age)) # 140535918671808\n",
    "age = 9\n",
    "print(id(age)) # 140535918671840\n",
    "But if you modify the object using its methods, the\n",
    "address stays the same:\n",
    "items = [1, 2]\n",
    "print(id(items)) # 140093713593920\n",
    "items.append(3)\n",
    "print(items) # [1, 2, 3]\n",
    "print(id(items)) # 140093713593920"
   ]
  },
  {
   "cell_type": "markdown",
   "metadata": {},
   "source": [
    "The address only changes if you reassign a variable to\n",
    "another value.\n",
    "Some objects are mutable, some are immutable. This\n",
    "depends on the object itself. If the object provides\n",
    "methods to change its content, then it's mutable.\n",
    "Otherwise it's immutable. Most types defined by\n",
    "Python are immutable. For example an int is\n",
    "immutable. There are no methods to change its value.\n",
    "If you increment the value using\n",
    "age = 8\n",
    "age = age + 1\n",
    "#or\n",
    "age += 1\n",
    "and you check with id(age) you will find that age\n",
    "points to a different memory location. The original\n",
    "value has not mutated, we switched to another value"
   ]
  },
  {
   "cell_type": "code",
   "execution_count": null,
   "metadata": {},
   "outputs": [],
   "source": [
    "age = 8\n",
    "age = age + 1\n",
    "#or\n",
    "age += 1"
   ]
  }
 ],
 "metadata": {
  "interpreter": {
   "hash": "8bfdcd2cc888dbc98ffcff3cf621025027ffe71c6f18c0bca769d24baae26b7f"
  },
  "kernelspec": {
   "display_name": "Python 3.10.4 64-bit",
   "language": "python",
   "name": "python3"
  },
  "language_info": {
   "codemirror_mode": {
    "name": "ipython",
    "version": 3
   },
   "file_extension": ".py",
   "mimetype": "text/x-python",
   "name": "python",
   "nbconvert_exporter": "python",
   "pygments_lexer": "ipython3",
   "version": "3.10.4"
  },
  "orig_nbformat": 4
 },
 "nbformat": 4,
 "nbformat_minor": 2
}
