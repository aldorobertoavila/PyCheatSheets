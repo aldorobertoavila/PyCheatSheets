{
 "cells": [
  {
   "cell_type": "markdown",
   "metadata": {},
   "source": [
    "# Data Types\n",
    "\n",
    "It represents a kind of value that tell us what properties and operations can be performed. In Python, everything is an object, data types are built-in classes.  "
   ]
  },
  {
   "cell_type": "markdown",
   "metadata": {},
   "source": [
    "## Boolean\n",
    "\n",
    "They are especially useful with conditional control structures like <code>if</code> statements, because they can have only two values: <code>True</code> or <code>False</code>.\n",
    "\n",
    "Usually, booleans aren't stored in variables, instead they are consumed immediately upon creating with comparison operators. Also, booleans can be chained using <code>and</code>, <code>or</code> & <code>not</code> operators."
   ]
  },
  {
   "cell_type": "markdown",
   "metadata": {},
   "source": [
    "\n",
    "AND Truth Table\n",
    "| p\t| q | p ∨ q |\n",
    "| -\t| - | ----- |\n",
    "| True  | True  | True  |\n",
    "| True  | False | False |\n",
    "| False | True  | False |\n",
    "| False\t| False | False |"
   ]
  },
  {
   "cell_type": "code",
   "execution_count": null,
   "metadata": {},
   "outputs": [],
   "source": [
    "print(f'{False and False = }')\n",
    "print(f'{True and False = }')\n",
    "print(f'{False and True = }')\n",
    "print(f'{True and True = }', end='\\n\\n')"
   ]
  },
  {
   "cell_type": "markdown",
   "metadata": {},
   "source": [
    "OR Truth Table\n",
    "| p\t| q | p ^ q |\n",
    "| -\t| - | ----- |\n",
    "| True  | True  | True  |\n",
    "| True  | False | True  |\n",
    "| False | True  | True  |\n",
    "| False\t| False | False |"
   ]
  },
  {
   "cell_type": "code",
   "execution_count": null,
   "metadata": {},
   "outputs": [],
   "source": [
    "print(f'{False or False = }')\n",
    "print(f'{True or False = }')\n",
    "print(f'{False or True = }')\n",
    "print(f'{True or True = }', end='\\n\\n')"
   ]
  },
  {
   "cell_type": "markdown",
   "metadata": {},
   "source": [
    "NOT Truth Table\n",
    "| p\t| p ⊥ q |\n",
    "| -\t| ----- |\n",
    "| True  | False |\n",
    "| False | True  |"
   ]
  },
  {
   "cell_type": "code",
   "execution_count": null,
   "metadata": {},
   "outputs": [],
   "source": [
    "print(f'{not False = }')\n",
    "print(f'{not True = }')"
   ]
  },
  {
   "cell_type": "markdown",
   "metadata": {},
   "source": [
    "When evaluating a value that is not a boolean, we have some rules depending on the type:\n",
    "  - <code>None</code> is always <code>False</code>\n",
    "  - Numbers are always <code>True</code> unless for the number 0\n",
    "  - Lists, strings, tuples, sets, dictionaries are <code>False</code> only when empty"
   ]
  },
  {
   "cell_type": "code",
   "execution_count": null,
   "metadata": {},
   "outputs": [],
   "source": [
    "if not None:\n",
    "    print('None is always false unless negated.')\n",
    "\n",
    "if 20:\n",
    "    print(\"All numbers are True\")\n",
    "\n",
    "if not 0:\n",
    "    print(\"0 is always false unless negated.\")\n",
    "    \n",
    "if [ 'a', 'b', 'c' ]:\n",
    "    print(\"Only empty lists are False\")\n",
    "    \n",
    "if not [ ]:\n",
    "    print(\"An empty list is always false unless negated.\")"
   ]
  },
  {
   "cell_type": "markdown",
   "metadata": {},
   "source": [
    "## Numeric\n",
    "\n",
    "It represents numbers in different forms, and they perform arithmetic operations. They are <code>int</code>, <code>float</code>, <code>complex</code>."
   ]
  },
  {
   "cell_type": "code",
   "execution_count": null,
   "metadata": {},
   "outputs": [],
   "source": [
    "# Common int representation\n",
    "a: int = 100\n",
    "\n",
    "# Scientific notation\n",
    "b: float = 1.25e5\n",
    "c: float = 1e-3\n",
    "\n",
    "# Fast inverse square root\n",
    "d: float = a * 16**(-1/2)\n",
    "\n",
    "# Complex number\n",
    "e: complex = 2-3j\n",
    "f: complex = 2+3j\n",
    "\n",
    "# Int * Complex * Complex\n",
    "g: complex = a * e * f\n",
    "\n",
    "# Print can receive multiple arguments\n",
    "print(a, b, c, d)\n",
    "print(g, g.real, g.imag)"
   ]
  },
  {
   "cell_type": "markdown",
   "metadata": {},
   "source": [
    "### Number Representation\n",
    "There are different numeric bases, most of them used in computer science & digital electronics. <code>bin()</code> converts an <code>int</code> to a binary representation. The same can be said about <code>oct()</code> and <code>hex()</code>"
   ]
  },
  {
   "cell_type": "code",
   "execution_count": null,
   "metadata": {},
   "outputs": [],
   "source": [
    "a: int = 100\n",
    "b: str = '0b1010111'\n",
    "c: str = '0o2352370'\n",
    "d: str = '0xafe4821'\n",
    "\n",
    "# Decimal (base 10) to Binary (base 2)\n",
    "print(f'{bin(a) = }')\n",
    "# Decimal (base 10) to Octal (base 8)\n",
    "print(f'{oct(a) = }')\n",
    "# Decimal (base 10) to Hexadecimal (base 16)\n",
    "print(f'{hex(a) = }')\n",
    "\n",
    "# Binary (base 2) to Decimal (base 10)\n",
    "print(f\"{int(b, 2) = }\")\n",
    "# Octal (base 8) to Decimal (base 10)\n",
    "print(f\"{int(c, 8) = :,}\")\n",
    "# Hexadecimal (base 16) to Decimal (base 10)\n",
    "print(f\"{int(d, 16) = :,}\")"
   ]
  },
  {
   "cell_type": "markdown",
   "metadata": {},
   "source": [
    "## String\n",
    "\n",
    "According to Flavio Copes, software engineer & author of <a href='https://flaviocopes.com/page/python-handbook/'>The Python Handbook</a>, <q>A string in Python is a series of characters enclosed into quotes or double quotes. [...] A string can be multi-line when defined with a special syntax, enclosing the string in a set of 3 quotes.</q>"
   ]
  },
  {
   "cell_type": "code",
   "execution_count": null,
   "metadata": {},
   "outputs": [],
   "source": [
    "# Valid string\n",
    "simple: str = 'Simple Quotes'\n",
    "\n",
    "# Also a valid string\n",
    "double: str = \"Double Quotes\"\n",
    "\n",
    "simple_multi_line: str = '''I\n",
    "    Am\n",
    "    a\n",
    "    multi-line\n",
    "    string\n",
    "'''\n",
    "\n",
    "double_multi_line: str = '''I\n",
    "    Am\n",
    "    a\n",
    "    multi-line\n",
    "    string\n",
    "'''\n",
    "\n",
    "print(simple)\n",
    "print(double)\n",
    "print(simple_multi_line)\n",
    "print(double_multi_line)"
   ]
  },
  {
   "cell_type": "markdown",
   "metadata": {},
   "source": [
    "### Concatenation\n",
    "Means to add strings together. You can concatenate strings using the <code>+</code> operator, or <code>+=</code> to append to an existing string."
   ]
  },
  {
   "cell_type": "code",
   "execution_count": null,
   "metadata": {},
   "outputs": [],
   "source": [
    "phrase = \"Roger\" + \" is a good dog\"\n",
    "\n",
    "name = \"Roger\"\n",
    "name += \" is a good dog\"\n",
    "\n",
    "print(phrase) #Roger is a good dog\n",
    "print(name) #Roger is a good dog"
   ]
  },
  {
   "cell_type": "markdown",
   "metadata": {},
   "source": [
    "### Formatting\n",
    "It can be done with simple concatenation, but require a lot of operands & casting when working with multiple variables.\n",
    "\n",
    "Instead, we can use template strings. <code>f'{}'</code> is very powerful. Check the <a href='https://mkaz.blog/code/python-string-format-cookbook/'>Python String Format Cookbook</a>"
   ]
  },
  {
   "cell_type": "code",
   "execution_count": null,
   "metadata": {},
   "outputs": [],
   "source": [
    "import math\n",
    "\n",
    "numbers: list[int] = [ 10, 20, 30 ]\n",
    "letters: list[str] = [ 'a', 'b', 'c' ]\n",
    "\n",
    "# String concatenation\n",
    "# [X] Poor readability\n",
    "# [X] Repeating typing\n",
    "# [X] Explicit casting\n",
    "# [X] {} not supported\n",
    "print('numbers=' + str(numbers) + ' letters=' + str(letters) + ' math.pi=' + '{num:.2f}'.format(num = math.pi))\n",
    "\n",
    "# String format\n",
    "# [✓] Better readability\n",
    "# [X] Repeating typing\n",
    "# [✓] Implicit casting\n",
    "# [✓] {} supported\n",
    "print('numbers={} letters={} math.pi={num:.2f}'.format(numbers, letters, num = math.pi))\n",
    "\n",
    "# Template string\n",
    "# [✓] Optimal readability\n",
    "# [✓] Repeating typing\n",
    "# [✓] Implicit casting\n",
    "# [✓] {} supported\n",
    "print(f'{numbers=} {letters=} {math.pi=:.2f}')"
   ]
  },
  {
   "cell_type": "markdown",
   "metadata": {},
   "source": [
    "Some formatting styles:\n",
    "\n",
    "| Number     | Format                               | Output    | Description                                    |\n",
    "| ---------  | -----------------------------------  | ------    | ---------------------------------------------- |\n",
    "| 3.1415926\t | <font color='#bb9af7'>{:.2f}</font>  | 3.14      | Format float 2 decimal places                  |\n",
    "| 3.1415926\t | <font color='#bb9af7'>{:+.2f}</font> | +3.14     | Format float 2 decimal places with sign        |\n",
    "| 2.71828    | <font color='#bb9af7'>{:.0f}</font>  | 3         | Format float with no decimal places            |\n",
    "| 5          | <font color='#bb9af7'>{:0>2d}</font> | 05        | Pad number with zeros (left padding, width 2)  |\n",
    "| 5          | <font color='#bb9af7'>{:x<4d}</font> | 5xxx      | Pad number with x’s (right padding, width 4)   |\n",
    "| 1000000    | <font color='#bb9af7'>{:,}</font>    | 1,000,000 |  Number format with comma separator            |\n",
    "| 0.25       | <font color='#bb9af7'>{:.2%}</font>  | 25.00%    |  Format percentage                             |\n",
    "| 1000000000 | <font color='#bb9af7'>{:.2e}</font>  | 1.00e+09  | Exponent notation                              |\n",
    "| 13         | <font color='#bb9af7'>{:10d}</font>  | 13        | Right aligned (default, width 10)              |\n",
    "| 13         | <font color='#bb9af7'>{:<10d}</font> | 13        | Left aligned (width 10)                        |\n",
    "| 13         | <font color='#bb9af7'>{:^10d}</font> | 13        | Center aligned (width 10)                      |"
   ]
  },
  {
   "cell_type": "code",
   "execution_count": null,
   "metadata": {},
   "outputs": [],
   "source": [
    "import math\n",
    "\n",
    "print(f'{math.pi:.2f}')\n",
    "print(f'{math.pi:+.2f}')\n",
    "print(f'{math.e:.0f}')\n",
    "\n",
    "print(f'{5:0>2d}')\n",
    "print(f'{5:x<4d}')\n",
    "print(f'{1000000:,}')\n",
    "print(f'{0.25:.0%} {0.25:.2%}')\n",
    "print(f'{1000000000:.2e}')\n",
    "\n",
    "print(f'_{13:10d}_')\n",
    "print(f'_{13:<10d}_')\n",
    "print(f'_{13:^10d}_')"
   ]
  },
  {
   "cell_type": "markdown",
   "metadata": {},
   "source": [
    "### Indexing & Slicing\n",
    "All sequences allows you to access their items one at a time with the bracket operator. \n",
    "\n",
    "According to Allen Downey, PhD in computer science & author of <a href='https://greenteapress.com/wp/think-python-2e/'>Think Python</a> <q>The expression in brackets is called an <i>index</i>. The index indicates which character\n",
    "in the sequence you want. [...] But in Python, the <i>index</i> is an offset from the beginning of the string, and the offset of the first letter.</q>\n",
    "is zero.\n",
    "\n",
    "<img src=\"../../assets/img/String Indexes.png\">"
   ]
  },
  {
   "cell_type": "code",
   "execution_count": null,
   "metadata": {},
   "outputs": [],
   "source": [
    "word: str = 'banana'\n",
    "# get length of a sequence\n",
    "length: int = len(word)\n",
    "\n",
    "print(f\"'{word[0]}', '{word[1]}', '{word[2]}', '{word[3]}', '{word[4]}', '{word[5]}'\")\n",
    "print(f'Length: {length}')\n",
    "\n",
    "# using assert keyword, raises an AssertionError if false\n",
    "assert length == 6"
   ]
  },
  {
   "cell_type": "markdown",
   "metadata": {},
   "source": [
    "- Indexes must follow some rules to prevent exceptions. \n",
    "  - Don't use <code>float</code> or <code>complex</code>, only <code>int</code>, otherwise it will cause a <code>TypeError</code>.\n",
    "  - Don't use a integer grater than the string length, otherwise it will cause a <code>IndexError</code>.\n",
    "  - Negative integers (reverse order) are allowed as long as meets the second rule."
   ]
  },
  {
   "cell_type": "code",
   "execution_count": null,
   "metadata": {},
   "outputs": [],
   "source": [
    "# First rule\n",
    "try: \n",
    "    word[1.5]\n",
    "except TypeError as e:\n",
    "    print(e)\n",
    "\n",
    "# Second rule\n",
    "try:\n",
    "    word[20]\n",
    "except IndexError as e:\n",
    "    print(e)\n",
    "\n",
    "print(f'{word[-1]=}') # last char: 'a'\n",
    "print(f'{word[0]=}')  # first char: 'b'"
   ]
  },
  {
   "cell_type": "markdown",
   "metadata": {},
   "source": [
    "- <q>A segment of a string is called a <i>slice</i>. The operator <code>[n:m]</code> returns the part of the string from the “n-eth” character to the “m-eth” character, including the first but excluding the last. </q>\n",
    "\n",
    "  - <q>If you omit the first index (before the colon), the slice starts at the beginning of the string.</q>\n",
    "  - <q>If you omit the second index, the slice goes to the end of the string.</q>"
   ]
  },
  {
   "cell_type": "code",
   "execution_count": null,
   "metadata": {},
   "outputs": [],
   "source": [
    "# slicing a sequence\n",
    "print(f\"'{word[:2]}', '{word[2:4]}', '{word[4:]}'\")\n",
    "\n",
    "# first four letters\n",
    "print(f\"'{word[:3]}'\") # 'ban'\n",
    "\n",
    "# negative can be confusing\n",
    "print(f\"'{word[:-4]}'\") # 'ba'"
   ]
  },
  {
   "cell_type": "markdown",
   "metadata": {},
   "source": [
    "### Methods\n",
    "<q>A method is similar to a function—it takes arguments and returns a value—but the syntax\n",
    "is different. For example, the method <code>upper</code> takes a string and returns a new string with all\n",
    "uppercase letters. A method call is called an <i>invocation</i>; in this case, we would say that we are invoking\n",
    "upper on the word</q>"
   ]
  },
  {
   "cell_type": "code",
   "execution_count": null,
   "metadata": {},
   "outputs": [],
   "source": [
    "phrase: str = 'the cat quickly came to the couch and caught sight of the kite in the tree and kept quiet. '\n",
    "\n",
    "print(f'{phrase.upper()=}')\n",
    "print(f'{phrase.lower()=}')\n",
    "print(f'{phrase.capitalize()=}')\n",
    "print(f'{phrase.title()=}')\n",
    "print(f'{phrase.strip()=}')\n",
    "# be careful with simple & double quotes\n",
    "print(f\"{phrase.replace(' ', '_')=}\")\n",
    "\n",
    "print(f'{phrase.isalnum()=}') # spaces and punctuation aren't alpha-numeric\n",
    "print(f'{phrase.isnumeric()=}')\n",
    "\n",
    "print(f\"{phrase.startswith(' the')=}\")\n",
    "print(f\"{phrase.endswith('quiet. ')=}\")\n",
    "# only the first occurrence will be returned or -1 if not found\n",
    "print(f\"{phrase.find('k')=}\")\n",
    "print(f\"{phrase.find('cat')=}\")\n",
    "print(f\"{phrase.count('c')=}\")"
   ]
  },
  {
   "cell_type": "markdown",
   "metadata": {},
   "source": [
    "### Regular Expressions\n",
    "A sequence of characters to perform a search pattern. See <a href='https://www.w3schools.com/python/python_regex.asp'>W3Schools</a> & <a href='https://docs.python.org/3/library/re.html'>Python Official Documentation</a>."
   ]
  },
  {
   "cell_type": "code",
   "execution_count": null,
   "metadata": {},
   "outputs": [],
   "source": [
    "import re\n",
    "\n",
    "# returns a list with the start & end index of each occurrence of 'the'\n",
    "indexes: list[tuple[int, int]] = [ word.span() for word in re.finditer('the', phrase) ]\n",
    "\n",
    "print(f'{indexes=}')"
   ]
  },
  {
   "cell_type": "markdown",
   "metadata": {},
   "source": [
    "## Tuple\n",
    "\n",
    "An immutable and ordered collection of objects. Once a tuple is created, it can't be modified. Similar to lists, but using parentheses instead of square brackets."
   ]
  },
  {
   "cell_type": "code",
   "execution_count": null,
   "metadata": {},
   "outputs": [],
   "source": [
    "letters: tuple[int] = ( 'e', 'b', 'a', 'd', 'f', 'c' )\n",
    "\n",
    "# methods\n",
    "print(f\"{letters.count('a') = }\")\n",
    "print(f\"{letters.index('b') = }\")\n",
    "\n",
    "# indexing\n",
    "print(f\"{letters[0] = }\")\n",
    "print(f\"{letters[-1] = }\")\n",
    "\n",
    "# slicing\n",
    "print(f\"{letters[0:2] = }\")\n",
    "print(f\"{letters[1:3] = }\")\n",
    "\n",
    "print(f\"{len(letters) = }\")\n",
    "\n",
    "# sorted letters tuple\n",
    "print(f\"{tuple(sorted(letters)) = }\")\n",
    "\n",
    "# sorted letters tuple with 'g' & 'h'\n",
    "print(f\"{tuple(sorted(letters + ( 'g', 'h' ))) = }\")"
   ]
  },
  {
   "cell_type": "markdown",
   "metadata": {},
   "source": [
    "## Set\n",
    "\n",
    "An unordered & mutable collection of unique objects. They work like Venn diagrams, helpful to describe memberships in collections. There's also a immutable version, called <code>frozenset</code>."
   ]
  },
  {
   "cell_type": "code",
   "execution_count": null,
   "metadata": {},
   "outputs": [],
   "source": [
    "# mutable set\n",
    "teachers: set = { 'Charlotte', 'Sophia', 'Roger', 'Noah', 'Eddie', 'Mark', 'Mia'  }\n",
    "# immutable set\n",
    "engineers: frozenset = frozenset({ 'Eddie', 'Mark', 'Sophia', 'Mia', 'Alex', 'James' })\n",
    "\n",
    "print(f'{teachers = }')\n",
    "print(f'{engineers = }')"
   ]
  },
  {
   "cell_type": "markdown",
   "metadata": {},
   "source": [
    "### Venn Diagrams\n",
    "\n",
    "Sets can be visualized using Venn Diagrams with <code>matplotlib</code> & <code>matplotlib_venn</code>. The color palette is based on <a href='https://github.com/enkia/tokyo-night-vscode-theme/blob/master/themes/tokyo-night-color-theme.json'>Tokyo Night Theme</a>. Here some basic usage:"
   ]
  },
  {
   "cell_type": "code",
   "execution_count": null,
   "metadata": {},
   "outputs": [],
   "source": [
    "# py -m pip install matplotlib\n",
    "# py -m pip install matplotlib-venn\n",
    "from matplotlib import pyplot as plt\n",
    "from matplotlib_venn import venn2_circles, venn2_unweighted\n",
    "\n",
    "plt_font: dict = {'family': 'Century Gothic', 'size': 40}\n",
    "venn_font: dict = {'family': 'Century Gothic', 'size': 20}\n",
    "\n",
    "def get_teachers() -> set:\n",
    "    return { 'Charlotte', 'Sophia', 'Roger', 'Noah', 'Eddie', 'Mark', 'Mia' }\n",
    "\n",
    "def get_engineers() -> set:\n",
    "    return { 'Eddie', 'Mark', 'Sophia', 'Mia', 'Alex', 'James' }\n",
    "\n",
    "def show_venn(subsets, labels, colors):\n",
    "    plt.rc('font', **venn_font)\n",
    "    plt.rcParams['text.color'] = '#7dcfff'\n",
    "    plt.figure(figsize=(12, 12))\n",
    "    venn = venn2_unweighted(subsets=subsets, set_labels=labels, set_colors=(colors[0], colors[1]))\n",
    "    venn.get_patch_by_id('A').set_alpha(0.5)\n",
    "    venn.get_patch_by_id('A').set_color(colors[2])\n",
    "    venn.get_patch_by_id('B').set_alpha(0.5)\n",
    "    venn.get_patch_by_id('B').set_color(colors[3])\n",
    "\n",
    "    circles = venn2_circles(subsets=(1, 1, 1), linewidth=2.0, color='#7dcfff')\n",
    "    plt.title(\"Professions\", fontdict=plt_font)\n",
    "    plt.show()"
   ]
  },
  {
   "cell_type": "markdown",
   "metadata": {},
   "source": [
    "### Methods\n",
    "\n",
    "As other objects, sets can also perform some operations using their own methods. Built-in <code>len</code> function can be used to get the length of a set."
   ]
  },
  {
   "cell_type": "code",
   "execution_count": null,
   "metadata": {},
   "outputs": [],
   "source": [
    "teachers: set = get_teachers()\n",
    "engineers: frozenset = frozenset(get_engineers())\n",
    "\n",
    "# len(teachers) = 7\n",
    "print(f'{len(teachers) = }')\n",
    "# len(engineers) = 6\n",
    "print(f'{len(engineers) = }')"
   ]
  },
  {
   "cell_type": "markdown",
   "metadata": {},
   "source": [
    "#### Add\n",
    "\n",
    "Appends an element, no effect if the element is already present. Not supported in <code>frozenset</code>."
   ]
  },
  {
   "cell_type": "code",
   "execution_count": null,
   "metadata": {},
   "outputs": [],
   "source": [
    "teachers: set = get_teachers()\n",
    "engineers: frozenset = frozenset(get_engineers())\n",
    "\n",
    "# add an element\n",
    "teachers.add('Olivia')\n",
    "\n",
    "try:\n",
    "    engineers.add('Liam') # raise an AttributeError\n",
    "except AttributeError as e:\n",
    "    print(e) # 'frozenset' object has no attribute 'add'\n",
    "\n",
    "# teachers = {'Sophia', 'Roger', 'Charlotte', 'Noah', 'Mia', 'Olivia', 'Eddie', 'Mark'}\n",
    "print(f'{teachers = }')\n",
    "# engineers = frozenset({'Sophia', 'James', 'Mia', 'Alex', 'Eddie', 'Mark'})\n",
    "print(f'{engineers = }')"
   ]
  },
  {
   "cell_type": "markdown",
   "metadata": {},
   "source": [
    "#### Remove\n",
    "\n",
    "Removes an element, raises an error if the element is not present. Not supported in <code>frozenset</code>."
   ]
  },
  {
   "cell_type": "code",
   "execution_count": null,
   "metadata": {},
   "outputs": [],
   "source": [
    "teachers: set = get_teachers()\n",
    "engineers: frozenset = frozenset(get_engineers())\n",
    "\n",
    "# removes a specified element\n",
    "teachers.remove('Charlotte')\n",
    "\n",
    "try:\n",
    "    engineers.remove('Mark') # raise an AttributeError\n",
    "except AttributeError as e:\n",
    "    print(e) # 'frozenset' object has no attribute 'remove'\n",
    "\n",
    "# teachers = {'Sophia', 'Roger', 'Noah', 'Mia', 'Eddie', 'Mark'}\n",
    "print(f'{teachers = }')\n",
    "# engineers = frozenset({'Sophia', 'James', 'Mia', 'Alex', 'Eddie', 'Mark'})\n",
    "print(f'{engineers = }')"
   ]
  },
  {
   "cell_type": "markdown",
   "metadata": {},
   "source": [
    "#### Clear\n",
    "\n",
    "Removes all elements. Not supported in <code>frozenset</code>."
   ]
  },
  {
   "cell_type": "code",
   "execution_count": null,
   "metadata": {},
   "outputs": [],
   "source": [
    "teachers: set = get_teachers()\n",
    "engineers: frozenset = frozenset(get_engineers())\n",
    "\n",
    "teachers.clear()\n",
    "\n",
    "try:\n",
    "    engineers.clear() # raise an AttributeError\n",
    "except AttributeError as e:\n",
    "    print(e) # 'frozenset' object has no attribute 'clear'\n",
    "\n",
    "# teachers = set()\n",
    "print(f'{teachers = }')\n",
    "# engineers = frozenset({'Sophia', 'James', 'Mia', 'Alex', 'Eddie', 'Mark'})\n",
    "print(f'{engineers = }')"
   ]
  },
  {
   "cell_type": "markdown",
   "metadata": {},
   "source": [
    "#### Disjoint\n",
    "\n",
    "Check if two sets don't have common elements."
   ]
  },
  {
   "cell_type": "code",
   "execution_count": null,
   "metadata": {},
   "outputs": [],
   "source": [
    "teachers: set = get_teachers()\n",
    "engineers: frozenset = frozenset(get_engineers())\n",
    "\n",
    "# teachers.isdisjoint(engineers) = False\n",
    "print(f'{teachers.isdisjoint(engineers) = }')\n",
    "# not teachers.isdisjoint(engineers) = True\n",
    "print(f'{not teachers.isdisjoint(engineers) = }')"
   ]
  },
  {
   "cell_type": "markdown",
   "metadata": {},
   "source": [
    "#### Pop\n",
    "\n",
    "Removes a random element and returns it. Not supported in <code>frozenset</code>."
   ]
  },
  {
   "cell_type": "code",
   "execution_count": null,
   "metadata": {},
   "outputs": [],
   "source": [
    "teachers: set = get_teachers()\n",
    "engineers: frozenset = frozenset(get_engineers())\n",
    "\n",
    "print(f'{teachers.pop() = }')\n",
    "\n",
    "try:\n",
    "    print(f'{engineers.pop() = }') # raise an AttributeError\n",
    "except AttributeError as e:\n",
    "    print(e) # 'frozenset' object has no attribute 'pop'\n",
    "\n",
    "\n",
    "print(f'{teachers = }')\n",
    "print(f'{engineers = }')"
   ]
  },
  {
   "cell_type": "markdown",
   "metadata": {},
   "source": [
    "#### Intersection\n",
    "\n",
    "Get the common elements, use <code>&</code> for two or multiple sets and <code>intersection</code> allows a single <code>Iterable</code>."
   ]
  },
  {
   "cell_type": "code",
   "execution_count": null,
   "metadata": {},
   "outputs": [],
   "source": [
    "teachers: set = get_teachers()\n",
    "engineers: set = get_engineers()\n",
    "\n",
    "# intersect = {'Mia', 'Mark', 'Eddie', 'Sophia'}\n",
    "print(f'{teachers & engineers = }')\n",
    "print(f'{teachers.intersection(engineers) = }')\n",
    "\n",
    "# casting engineers frozenset to set\n",
    "show_venn(subsets=[teachers, engineers], labels=('Teachers', 'Engineers'), colors=('#9ece6a', '#0db9d7', '#1a1b26', '#1a1b26'))"
   ]
  },
  {
   "cell_type": "markdown",
   "metadata": {},
   "source": [
    "#### Union\n",
    "\n",
    "Merge elements into a single set, use <code>|</code> for two or multiple sets and <code>union</code> allows a single <code>Iterable</code>."
   ]
  },
  {
   "cell_type": "code",
   "execution_count": null,
   "metadata": {},
   "outputs": [],
   "source": [
    "teachers: set = get_teachers()\n",
    "engineers: set = get_engineers()\n",
    "\n",
    "# union = {'Sophia', 'Charlotte', 'Alex', 'Mark', 'Roger', 'Noah', 'Eddie', 'James', 'Mia'}\n",
    "print(f'{teachers | engineers = }')\n",
    "print(f'{teachers.union(engineers) = }')\n",
    "\n",
    "show_venn(subsets=[teachers, engineers], labels=('Teachers', 'Engineers'), colors=('#0db9d7', '#0db9d7', '#0db9d7', '#0db9d7'))"
   ]
  },
  {
   "cell_type": "markdown",
   "metadata": {},
   "source": [
    "#### Difference\n",
    "\n",
    "Get the difference between sets, use <code>-</code> for two or multiple sets and <code>difference</code> allows a single <code>Iterable</code>."
   ]
  },
  {
   "cell_type": "code",
   "execution_count": null,
   "metadata": {},
   "outputs": [],
   "source": [
    "teachers: set = get_teachers()\n",
    "engineers: set = get_engineers()\n",
    "\n",
    "# difference = {'Noah', 'Roger', 'Charlotte'}\n",
    "print(f'{teachers - engineers = }')\n",
    "print(f'{teachers.difference(engineers) = }')\n",
    "\n",
    "show_venn(subsets=[teachers, engineers], labels=('Teachers', 'Engineers'), colors=('#1a1b26', '#1a1b26', '#9ece6a', '#1a1b26'))"
   ]
  },
  {
   "cell_type": "markdown",
   "metadata": {},
   "source": [
    "#### Superset\n",
    "\n",
    "Check if set is a superset of another.  Use <code>></code> for two or multiple sets and <code>issuperset</code> allows a single <code>Iterable</code>."
   ]
  },
  {
   "cell_type": "code",
   "execution_count": null,
   "metadata": {},
   "outputs": [],
   "source": [
    "doctors: set = { 'Liam', 'David', 'Elizabeth', 'Thomas' }\n",
    "dermatologists: set = { 'Elizabeth', 'David' }\n",
    "\n",
    "# doctors > dermatologists = True\n",
    "print(f'{doctors > dermatologists = }')\n",
    "# doctors.issuperset(dermatologists) = True\n",
    "print(f'{doctors.issuperset(dermatologists) = }')\n",
    "\n",
    "show_venn(subsets=[doctors, dermatologists], labels=('Doctors', 'Dermatologists'), colors=('#9ece6a', '#1a1b26', '#9ece6a', '#1a1b26'))"
   ]
  },
  {
   "cell_type": "markdown",
   "metadata": {},
   "source": [
    "#### Subset\n",
    "\n",
    "Check if set is a subset of another.  Use <code><</code> for two or multiple sets and <code>issubset</code> allows a single <code>Iterable</code>."
   ]
  },
  {
   "cell_type": "code",
   "execution_count": null,
   "metadata": {},
   "outputs": [],
   "source": [
    "# dermatologists < doctors = True\n",
    "print(f'{dermatologists < doctors = }')\n",
    "# dermatologists.issubset(doctors) = True\n",
    "print(f'{dermatologists.issubset(doctors) = }')\n",
    "\n",
    "show_venn(subsets=[doctors, dermatologists], labels=('Doctors', 'Dermatologists'), colors=('#1a1b26', '#0db9d7', '#1a1b26', '#0db9d7'))\n",
    "## List"
   ]
  },
  {
   "cell_type": "markdown",
   "metadata": {},
   "source": [
    "## List\n",
    "\n",
    "An ordered & mutable collection of repeatable objects. Similar to tuples, but using square brackets to create them."
   ]
  },
  {
   "cell_type": "code",
   "execution_count": null,
   "metadata": {},
   "outputs": [],
   "source": [
    "def get_letters() -> list[str]:\n",
    "    return [ 'e', 'b', 'a', 'a', 'd', 'f', 'c' ]\n",
    "\n",
    "letters: list[int] = get_letters()\n",
    "\n",
    "# letters = ['e', 'b', 'a', 'd', 'f', 'c']\n",
    "print(f'{letters = }')"
   ]
  },
  {
   "cell_type": "markdown",
   "metadata": {},
   "source": [
    "### Methods\n",
    "\n",
    "As other objects, list can also perform some operations using their own methods. Built-in <code>len</code> function can be used to get the length of a list."
   ]
  },
  {
   "cell_type": "code",
   "execution_count": null,
   "metadata": {},
   "outputs": [],
   "source": [
    "letters: list[int] = get_letters()\n",
    "\n",
    "# len(letters) = 6\n",
    "print(f'{len(letters) = }')\n",
    "# sorted(letters) = ['a', 'b', 'c', 'd', 'e', 'f']\n",
    "print(f'{sorted(letters) = }')"
   ]
  },
  {
   "cell_type": "markdown",
   "metadata": {},
   "source": [
    "#### Append\n",
    "\n",
    "Appends an element to the end of the list."
   ]
  },
  {
   "cell_type": "code",
   "execution_count": null,
   "metadata": {},
   "outputs": [],
   "source": [
    "letters: list[int] = get_letters()\n",
    "\n",
    "letters.append('g')\n",
    "letters.append('h')\n",
    "letters.append('i')\n",
    "\n",
    "# letters = ['e', 'b', 'a', 'a', 'd', 'f', 'c', 'g', 'h', 'i']\n",
    "print(f'{letters = }')"
   ]
  },
  {
   "cell_type": "markdown",
   "metadata": {},
   "source": [
    "#### Extend\n",
    "\n",
    "Extends a list by appending elements from an iterable."
   ]
  },
  {
   "cell_type": "code",
   "execution_count": null,
   "metadata": {},
   "outputs": [],
   "source": [
    "letters: list[int] = get_letters()\n",
    "\n",
    "letters.extend(['g', 'h', 'i'])\n",
    "\n",
    "# letters = ['e', 'b', 'a', 'a', 'd', 'f', 'c', 'g', 'h', 'i']\n",
    "print(f'{letters = }')"
   ]
  },
  {
   "cell_type": "markdown",
   "metadata": {},
   "source": [
    "#### Insert\n",
    "\n",
    "Inserts an object before an specified index. It accepts negative and out of bounds indexes."
   ]
  },
  {
   "cell_type": "code",
   "execution_count": null,
   "metadata": {},
   "outputs": [],
   "source": [
    "letters: list[int] = get_letters()\n",
    "\n",
    "# inserted before index 4\n",
    "letters.insert(4, 'k')\n",
    "# inserted before penultimate index\n",
    "letters.insert(-1, 'z')\n",
    "# inserted before last index\n",
    "letters.insert(15, 'x')\n",
    "\n",
    "# letters = ['e', 'b', 'a', 'a', 'k', 'd', 'f', 'z', 'c', 'x']\n",
    "print(f'{letters = }')"
   ]
  },
  {
   "cell_type": "markdown",
   "metadata": {},
   "source": [
    "#### Index\n",
    "\n",
    "Gets the first index of value. Raises <code>ValueError</code> if the value is not present."
   ]
  },
  {
   "cell_type": "code",
   "execution_count": null,
   "metadata": {},
   "outputs": [],
   "source": [
    "letters: list[int] = get_letters()\n",
    "\n",
    "# letters.index('a') = 2\n",
    "print(f\"{letters.index('a') = }\")\n",
    "# letters.index('b') = 1\n",
    "print(f\"{letters.index('b') = }\")\n",
    "# letters.index('c') = 6\n",
    "print(f\"{letters.index('c') = }\")"
   ]
  },
  {
   "cell_type": "markdown",
   "metadata": {},
   "source": [
    "#### Clear\n",
    "\n",
    "Removes all elements."
   ]
  },
  {
   "cell_type": "code",
   "execution_count": null,
   "metadata": {},
   "outputs": [],
   "source": [
    "letters: list[int] = get_letters()\n",
    "\n",
    "letters.clear()\n",
    "\n",
    "# letters = []\n",
    "print(f'{letters = }')"
   ]
  },
  {
   "cell_type": "markdown",
   "metadata": {},
   "source": [
    "#### Sort\n",
    "\n",
    "Sorts in ascending order and returns nothing."
   ]
  },
  {
   "cell_type": "code",
   "execution_count": null,
   "metadata": {},
   "outputs": [],
   "source": [
    "def get_len(e):\n",
    "  return len(e)\n",
    "\n",
    "cars: list[int] = ['Ford', 'Mitsubishi', 'BMW', 'Volvo']\n",
    "\n",
    "cars.sort()\n",
    "# cars = ['BMW', 'Ford', 'Mitsubishi', 'VW']\n",
    "print(f'{cars = }')\n",
    "\n",
    "cars.sort(key=get_len)\n",
    "# cars = ['VW', 'BMW', 'Ford', 'Mitsubishi']\n",
    "print(f'{cars = }')\n",
    "\n",
    "cars.sort(reverse=True, key=get_len)\n",
    "# cars = ['Mitsubishi', 'Ford', 'BMW', 'VW']\n",
    "print(f'{cars = }')"
   ]
  },
  {
   "cell_type": "markdown",
   "metadata": {},
   "source": [
    "### Indexing & Slicing\n",
    "\n",
    "As other ordered collections, their elements can be accessed by index and extracted through slicing."
   ]
  },
  {
   "cell_type": "code",
   "execution_count": null,
   "metadata": {},
   "outputs": [],
   "source": [
    "letters: list[int] = get_letters()\n",
    "\n",
    "# letters=['e', 'b', 'a', 'a', 'd', 'f', 'c']\n",
    "print(f'{letters=}')\n",
    "# letters[0]='e'\n",
    "print(f'{letters[0]=}')\n",
    "# letters[1]='b'\n",
    "print(f'{letters[1]=}')\n",
    "# letters[2]='a'\n",
    "print(f'{letters[2]=}')\n",
    "\n",
    "# mutates values\n",
    "letters[3]='o'\n",
    "letters[4]='f'\n",
    "letters[5]='k'\n",
    "\n",
    "# letters[1:3]=['b', 'a']\n",
    "print(f'{letters[1:3]=}')\n",
    "# letters[3:6]=['o', 'f', 'k']\n",
    "print(f'{letters[3:6]=}')\n",
    "# letters[:5]=['e', 'b', 'a', 'o', 'f']\n",
    "print(f'{letters[:5]=}')"
   ]
  },
  {
   "cell_type": "markdown",
   "metadata": {},
   "source": [
    "## Dictionary\n",
    "\n",
    "And unordered & mutable collection of key/value pair of objects. Similar to sets, created using key brackets, but semicolons to separate keys from values. Values can be accessed individually by their key, this is called <i>lookup</i>."
   ]
  },
  {
   "cell_type": "code",
   "execution_count": null,
   "metadata": {},
   "outputs": [],
   "source": [
    "# dictionary for a car model\n",
    "car = { 'manufacturer': 'Chevrolet', 'year': 2022 }\n",
    "\n",
    "# list of car model dictionaries\n",
    "cars = [\n",
    "  { 'manufacturer': 'Ford', 'year': 2005 },\n",
    "  { 'manufacturer': 'Mitsubishi', 'year': 2000 },\n",
    "  { 'manufacturer': 'BMW', 'year': 2019 },\n",
    "  { 'manufacturer': 'Volvo', 'year': 2011 }\n",
    "]\n",
    "\n",
    "# car['manufacturer']='Chevrolet'\n",
    "print(f\"{car['manufacturer']=}\")\n",
    "# cars[0]['year']=2005\n",
    "print(f\"{cars[0]['year']=}\")"
   ]
  },
  {
   "cell_type": "markdown",
   "metadata": {},
   "source": [
    "### Methods\n",
    "\n",
    "As other objects, dictionaries can also perform some operations using their own methods. \n",
    "  - Built-in <code>len</code> function can be used to get the length of a dictionaries.\n",
    "  - <code>del</code> keyword can delete a specified key."
   ]
  },
  {
   "cell_type": "code",
   "execution_count": null,
   "metadata": {},
   "outputs": [],
   "source": [
    "other = { 'manufacturer': 'Audi', 'year': 2015 }\n",
    "\n",
    "# deletes a key\n",
    "del other['manufacturer']\n",
    "\n",
    "# len(other)=1\n",
    "print(f\"{len(other)=}\")\n",
    "# other={'year': 2015}\n",
    "print(f\"{other=}\")"
   ]
  },
  {
   "cell_type": "markdown",
   "metadata": {},
   "source": [
    "#### Get\n",
    "\n",
    "Gets a value from a key, has an option to return a default value if not present."
   ]
  },
  {
   "cell_type": "code",
   "execution_count": null,
   "metadata": {},
   "outputs": [],
   "source": [
    "# car.get('manufacturer')='Chevrolet'\n",
    "print(f\"{car.get('manufacturer')=}\")\n",
    "# car.get('color', 'red')='red'\n",
    "print(f\"{car.get('color', 'red')=}\")"
   ]
  },
  {
   "cell_type": "markdown",
   "metadata": {},
   "source": [
    "#### Pop\n",
    "\n",
    "Retrieves the value of a key, and deletes it."
   ]
  },
  {
   "cell_type": "code",
   "execution_count": null,
   "metadata": {},
   "outputs": [],
   "source": [
    "other = { 'manufacturer': 'Audi', 'year': 2015 }\n",
    "\n",
    "# other.pop('manufacturer')='Audi'\n",
    "print(f\"{other.pop('manufacturer')=}\")\n",
    "# other={'year': 2015}\n",
    "print(f\"{other=}\")"
   ]
  },
  {
   "cell_type": "markdown",
   "metadata": {},
   "source": [
    "#### Keys\n",
    "\n",
    "Gets a list of <code>dict_keys</code>."
   ]
  },
  {
   "cell_type": "code",
   "execution_count": null,
   "metadata": {},
   "outputs": [],
   "source": [
    "# car.keys()=dict_keys(['manufacturer', 'year'])\n",
    "print(f\"{car.keys()=}\")"
   ]
  },
  {
   "cell_type": "markdown",
   "metadata": {},
   "source": [
    "#### Values\n",
    "\n",
    "Gets a list of <code>dict_values</code>."
   ]
  },
  {
   "cell_type": "code",
   "execution_count": null,
   "metadata": {},
   "outputs": [],
   "source": [
    "# car.values()=dict_values(['Chevrolet', 2022])\n",
    "print(f\"{car.values()=}\")"
   ]
  },
  {
   "cell_type": "markdown",
   "metadata": {},
   "source": [
    "#### Items\n",
    "\n",
    "Gets a list of <code>dict_items</code>."
   ]
  },
  {
   "cell_type": "code",
   "execution_count": null,
   "metadata": {},
   "outputs": [],
   "source": [
    "# car.items()=dict_items([('manufacturer', 'Chevrolet'), ('year', 2022)])\n",
    "print(f\"{car.items()=}\")"
   ]
  },
  {
   "cell_type": "markdown",
   "metadata": {},
   "source": [
    "#### Copy\n",
    "\n",
    "Creates a copy of the dictionary."
   ]
  },
  {
   "cell_type": "code",
   "execution_count": null,
   "metadata": {},
   "outputs": [],
   "source": [
    "other = car.copy()\n",
    "\n",
    "# other={'manufacturer': 'Chevrolet', 'year': 2022}\n",
    "print(f\"{other=}\")"
   ]
  },
  {
   "cell_type": "markdown",
   "metadata": {},
   "source": [
    "## Function\n",
    "\n",
    "An object that can store & execute instructions. They are essential to decompose a program into manageable parts, improving code readability and reusability.\n",
    "  - <code>def</code> keyword defines a function, inside parenthesis parameters can be defined.\n",
    "  - May return values and define their type.\n",
    "  - May have parameters and define their type.\n",
    "  - Can be called with parenthesis, and passing parameters if any.\n",
    "  - May have parameters with default values.\n",
    "  - If doesn't return a value, returns <code>None</code>.\n",
    "  - Local variables can't be accessed from the outside.\n",
    "  - Global variables are immutable unless using <code>global</code>."
   ]
  },
  {
   "cell_type": "code",
   "execution_count": null,
   "metadata": {},
   "outputs": [],
   "source": [
    "def hello(name: str = 'my friend'):\n",
    "    print('Hello ' + name + '!')\n",
    "\n",
    "def inverse_rt(x : float, e : int = 2) -> float:\n",
    "    return x**-1/e\n",
    "\n",
    "# hello=<function hello at ...>\n",
    "print(f'{hello=}')\n",
    "# inverse_rt=<function inverse_rt at ...>\n",
    "print(f'{inverse_rt=}')\n",
    "# inverse_rt(10)=0.05\n",
    "print(f'{inverse_rt(10)=}')\n",
    "# inverse_rt(x=500)=0.001\n",
    "print(f'{inverse_rt(x=500)=}')\n",
    "# inverse_rt(x=6, e=3)=0.0556\n",
    "print(f'{inverse_rt(x=6, e=3)=:.4f}')\n",
    "# Hello my friend!\n",
    "# hello()=None\n",
    "print(f'{hello()=}')\n",
    "# Hello James!\n",
    "# hello('James')=None\n",
    "print(f\"{hello('James')=}\")"
   ]
  },
  {
   "cell_type": "markdown",
   "metadata": {},
   "source": [
    "## Object\n",
    "\n",
    "In Python, everything is an object, even primitive types. They have <i>attributes</i>, other objects attached inside, and <i>methods</i>, functions attached to the object, that can be accessed using the <i>dot syntax</i>.\n",
    "\n",
    "According to Flavio Copes, software engineer & author of <a href='https://flaviocopes.com/page/python-handbook/'>The Python Handbook</a>, <q>Some objects are mutable, some are immutable. This depends on the object itself. If the object provides methods to change its content, then it's mutable. Otherwise it's immutable</q>."
   ]
  },
  {
   "cell_type": "code",
   "execution_count": null,
   "metadata": {},
   "outputs": [],
   "source": [
    "from datetime import datetime\n",
    "\n",
    "# creates a datetime object\n",
    "now = datetime.now()\n",
    "\n",
    "# access 'year' attribute\n",
    "print(f'{now.year=}')\n",
    "# calls 'strftime' method\n",
    "print(f'{now.strftime(\"%A\")=}')"
   ]
  }
 ],
 "metadata": {
  "interpreter": {
   "hash": "8bfdcd2cc888dbc98ffcff3cf621025027ffe71c6f18c0bca769d24baae26b7f"
  },
  "kernelspec": {
   "display_name": "Python 3.10.4 64-bit",
   "language": "python",
   "name": "python3"
  },
  "language_info": {
   "codemirror_mode": {
    "name": "ipython",
    "version": 3
   },
   "file_extension": ".py",
   "mimetype": "text/x-python",
   "name": "python",
   "nbconvert_exporter": "python",
   "pygments_lexer": "ipython3",
   "version": "3.10.4"
  },
  "orig_nbformat": 4
 },
 "nbformat": 4,
 "nbformat_minor": 2
}
