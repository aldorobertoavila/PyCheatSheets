{
 "cells": [
  {
   "cell_type": "markdown",
   "metadata": {},
   "source": [
    "# Data Types\n",
    "\n",
    "It represents a kind of value that tell us what properties and operations can be performed. In Python, everything is an object, data types are built-in classes.  "
   ]
  },
  {
   "cell_type": "markdown",
   "metadata": {},
   "source": [
    "## Boolean\n",
    "\n",
    "They are especially useful with conditional control structures like <code>if</code> statements, because they can have only two values: <code>True</code> or <code>False</code>.\n",
    "\n",
    "Usually, booleans aren't stored in variables, instead they are consumed immediately upon creating with comparison operators. Also, booleans can be chained using <code>and</code>, <code>or</code> & <code>not</code> operators."
   ]
  },
  {
   "cell_type": "markdown",
   "metadata": {},
   "source": [
    "\n",
    "AND Truth Table\n",
    "| p\t| q | p ∨ q |\n",
    "| -\t| - | ----- |\n",
    "| True  | True  | True  |\n",
    "| True  | False | False |\n",
    "| False | True  | False |\n",
    "| False\t| False | False |"
   ]
  },
  {
   "cell_type": "code",
   "execution_count": null,
   "metadata": {},
   "outputs": [],
   "source": [
    "print(f'{False and False = }')\n",
    "print(f'{True and False = }')\n",
    "print(f'{False and True = }')\n",
    "print(f'{True and True = }', end='\\n\\n')"
   ]
  },
  {
   "cell_type": "markdown",
   "metadata": {},
   "source": [
    "OR Truth Table\n",
    "| p\t| q | p ^ q |\n",
    "| -\t| - | ----- |\n",
    "| True  | True  | True  |\n",
    "| True  | False | True  |\n",
    "| False | True  | True  |\n",
    "| False\t| False | False |"
   ]
  },
  {
   "cell_type": "code",
   "execution_count": null,
   "metadata": {},
   "outputs": [],
   "source": [
    "print(f'{False or False = }')\n",
    "print(f'{True or False = }')\n",
    "print(f'{False or True = }')\n",
    "print(f'{True or True = }', end='\\n\\n')"
   ]
  },
  {
   "cell_type": "markdown",
   "metadata": {},
   "source": [
    "NOT Truth Table\n",
    "| p\t| p ⊥ q |\n",
    "| -\t| ----- |\n",
    "| True  | False |\n",
    "| False | True  |"
   ]
  },
  {
   "cell_type": "code",
   "execution_count": null,
   "metadata": {},
   "outputs": [],
   "source": [
    "print(f'{not False = }')\n",
    "print(f'{not True = }')"
   ]
  },
  {
   "cell_type": "markdown",
   "metadata": {},
   "source": [
    "When evaluating a value that is not a boolean, we have some rules depending on the type:\n",
    "  - <code>None</code> is always <code>False</code>\n",
    "  - Numbers are always <code>True</code> unless for the number 0\n",
    "  - Lists, strings, tuples, sets, dictionaries are <code>False</code> only when empty"
   ]
  },
  {
   "cell_type": "code",
   "execution_count": null,
   "metadata": {},
   "outputs": [],
   "source": [
    "if not None:\n",
    "    print('None is always false unless negated.')\n",
    "\n",
    "if 20:\n",
    "    print(\"All numbers are True\")\n",
    "\n",
    "if not 0:\n",
    "    print(\"0 is always false unless negated.\")\n",
    "    \n",
    "if [ 'a', 'b', 'c' ]:\n",
    "    print(\"Only empty lists are False\")\n",
    "    \n",
    "if not [ ]:\n",
    "    print(\"An empty list is always false unless negated.\")"
   ]
  },
  {
   "cell_type": "markdown",
   "metadata": {},
   "source": [
    "## Numeric\n",
    "\n",
    "It represents numbers in different forms, and they perform arithmetic operations. They are <code>int</code>, <code>float</code>, <code>complex</code>."
   ]
  },
  {
   "cell_type": "code",
   "execution_count": null,
   "metadata": {},
   "outputs": [],
   "source": [
    "# Common int representation\n",
    "a: int = 100\n",
    "\n",
    "# Scientific notation\n",
    "b: float = 1.25e5\n",
    "c: float = 1e-3\n",
    "\n",
    "# Fast inverse square root\n",
    "d: float = a * 16**(-1/2)\n",
    "\n",
    "# Complex number\n",
    "e: complex = 2-3j\n",
    "f: complex = 2+3j\n",
    "\n",
    "# Int * Complex * Complex\n",
    "g: complex = a * e * f\n",
    "\n",
    "# Print can receive multiple arguments\n",
    "print(a, b, c, d)\n",
    "print(g, g.real, g.imag)"
   ]
  },
  {
   "cell_type": "markdown",
   "metadata": {},
   "source": [
    "### Number Representation\n",
    "There are different numeric bases, most of them used in computer science & digital electronics. <code>bin()</code> converts an <code>int</code> to a binary representation. The same can be said about <code>oct()</code> and <code>hex()</code>"
   ]
  },
  {
   "cell_type": "code",
   "execution_count": null,
   "metadata": {},
   "outputs": [],
   "source": [
    "a: int = 100\n",
    "b: str = '0b1010111'\n",
    "c: str = '0o2352370'\n",
    "d: str = '0xafe4821'\n",
    "\n",
    "# Decimal (base 10) to Binary (base 2)\n",
    "print(f'{bin(a) = }')\n",
    "# Decimal (base 10) to Octal (base 8)\n",
    "print(f'{oct(a) = }')\n",
    "# Decimal (base 10) to Hexadecimal (base 16)\n",
    "print(f'{hex(a) = }')\n",
    "\n",
    "# Binary (base 2) to Decimal (base 10)\n",
    "print(f\"{int(b, 2) = }\")\n",
    "# Octal (base 8) to Decimal (base 10)\n",
    "print(f\"{int(c, 8) = :,}\")\n",
    "# Hexadecimal (base 16) to Decimal (base 10)\n",
    "print(f\"{int(d, 16) = :,}\")"
   ]
  },
  {
   "cell_type": "markdown",
   "metadata": {},
   "source": [
    "## String\n",
    "\n",
    "According to Flavio Copes, software engineer & author of <a href='https://flaviocopes.com/page/python-handbook/'>The Python Handbook</a>, <q>A string in Python is a series of characters enclosed into quotes or double quotes. [...] A string can be multi-line when defined with a special syntax, enclosing the string in a set of 3 quotes.</q>"
   ]
  },
  {
   "cell_type": "code",
   "execution_count": null,
   "metadata": {},
   "outputs": [],
   "source": [
    "# Valid string\n",
    "simple: str = 'Simple Quotes'\n",
    "\n",
    "# Also a valid string\n",
    "double: str = \"Double Quotes\"\n",
    "\n",
    "simple_multi_line: str = '''I\n",
    "    Am\n",
    "    a\n",
    "    multi-line\n",
    "    string\n",
    "'''\n",
    "\n",
    "double_multi_line: str = '''I\n",
    "    Am\n",
    "    a\n",
    "    multi-line\n",
    "    string\n",
    "'''\n",
    "\n",
    "print(simple)\n",
    "print(double)\n",
    "print(simple_multi_line)\n",
    "print(double_multi_line)"
   ]
  },
  {
   "cell_type": "markdown",
   "metadata": {},
   "source": [
    "### Concatenation\n",
    "Means to add strings together. You can concatenate strings using the <code>+</code> operator, or <code>+=</code> to append to an existing string."
   ]
  },
  {
   "cell_type": "code",
   "execution_count": null,
   "metadata": {},
   "outputs": [],
   "source": [
    "phrase = \"Roger\" + \" is a good dog\"\n",
    "\n",
    "name = \"Roger\"\n",
    "name += \" is a good dog\"\n",
    "\n",
    "print(phrase) #Roger is a good dog\n",
    "print(name) #Roger is a good dog"
   ]
  },
  {
   "cell_type": "markdown",
   "metadata": {},
   "source": [
    "### Formatting\n",
    "It can be done with simple concatenation, but require a lot of operands & casting when working with multiple variables.\n",
    "\n",
    "Instead, we can use template strings. <code>f'{}'</code> is very powerful. Check the <a href='https://mkaz.blog/code/python-string-format-cookbook/'>Python String Format Cookbook</a>"
   ]
  },
  {
   "cell_type": "code",
   "execution_count": null,
   "metadata": {},
   "outputs": [],
   "source": [
    "import math\n",
    "\n",
    "numbers: list[int] = [ 10, 20, 30 ]\n",
    "letters: list[str] = [ 'a', 'b', 'c' ]\n",
    "\n",
    "# String concatenation\n",
    "# [X] Poor readability\n",
    "# [X] Repeating typing\n",
    "# [X] Explicit casting\n",
    "# [X] {} not supported\n",
    "print('numbers=' + str(numbers) + ' letters=' + str(letters) + ' math.pi=' + '{num:.2f}'.format(num = math.pi))\n",
    "\n",
    "# String format\n",
    "# [✓] Better readability\n",
    "# [X] Repeating typing\n",
    "# [✓] Implicit casting\n",
    "# [✓] {} supported\n",
    "print('numbers={} letters={} math.pi={num:.2f}'.format(numbers, letters, num = math.pi))\n",
    "\n",
    "# Template string\n",
    "# [✓] Optimal readability\n",
    "# [✓] Repeating typing\n",
    "# [✓] Implicit casting\n",
    "# [✓] {} supported\n",
    "print(f'{numbers=} {letters=} {math.pi=:.2f}')"
   ]
  },
  {
   "cell_type": "markdown",
   "metadata": {},
   "source": [
    "Some formatting styles:\n",
    "\n",
    "| Number     | Format                               | Output    | Description                                    |\n",
    "| ---------  | -----------------------------------  | ------    | ---------------------------------------------- |\n",
    "| 3.1415926\t | <font color='#bb9af7'>{:.2f}</font>  | 3.14      | Format float 2 decimal places                  |\n",
    "| 3.1415926\t | <font color='#bb9af7'>{:+.2f}</font> | +3.14     | Format float 2 decimal places with sign        |\n",
    "| 2.71828    | <font color='#bb9af7'>{:.0f}</font>  | 3         | Format float with no decimal places            |\n",
    "| 5          | <font color='#bb9af7'>{:0>2d}</font> | 05        | Pad number with zeros (left padding, width 2)  |\n",
    "| 5          | <font color='#bb9af7'>{:x<4d}</font> | 5xxx      | Pad number with x’s (right padding, width 4)   |\n",
    "| 1000000    | <font color='#bb9af7'>{:,}</font>    | 1,000,000 |  Number format with comma separator            |\n",
    "| 0.25       | <font color='#bb9af7'>{:.2%}</font>  | 25.00%    |  Format percentage                             |\n",
    "| 1000000000 | <font color='#bb9af7'>{:.2e}</font>  | 1.00e+09  | Exponent notation                              |\n",
    "| 13         | <font color='#bb9af7'>{:10d}</font>  | 13        | Right aligned (default, width 10)              |\n",
    "| 13         | <font color='#bb9af7'>{:<10d}</font> | 13        | Left aligned (width 10)                        |\n",
    "| 13         | <font color='#bb9af7'>{:^10d}</font> | 13        | Center aligned (width 10)                      |"
   ]
  },
  {
   "cell_type": "code",
   "execution_count": null,
   "metadata": {},
   "outputs": [],
   "source": [
    "import math\n",
    "\n",
    "print(f'{math.pi:.2f}')\n",
    "print(f'{math.pi:+.2f}')\n",
    "print(f'{math.e:.0f}')\n",
    "\n",
    "print(f'{5:0>2d}')\n",
    "print(f'{5:x<4d}')\n",
    "print(f'{1000000:,}')\n",
    "print(f'{0.25:.0%} {0.25:.2%}')\n",
    "print(f'{1000000000:.2e}')\n",
    "\n",
    "print(f'_{13:10d}_')\n",
    "print(f'_{13:<10d}_')\n",
    "print(f'_{13:^10d}_')"
   ]
  },
  {
   "cell_type": "markdown",
   "metadata": {},
   "source": [
    "### Indexing & Slicing\n",
    "All sequences allows you to access their items one at a time with the bracket operator. \n",
    "\n",
    "According to Allen Downey, PhD in computer science & author of <a href='https://greenteapress.com/wp/think-python-2e/'>Think Python</a> <q>The expression in brackets is called an <i>index</i>. The index indicates which character\n",
    "in the sequence you want. [...] But in Python, the <i>index</i> is an offset from the beginning of the string, and the offset of the first letter.</q>\n",
    "is zero.\n",
    "\n",
    "<img src=\"../../assets/img/String Indexes.png\">"
   ]
  },
  {
   "cell_type": "code",
   "execution_count": null,
   "metadata": {},
   "outputs": [],
   "source": [
    "word: str = 'banana'\n",
    "# get length of a sequence\n",
    "length: int = len(word)\n",
    "\n",
    "print(f\"'{word[0]}', '{word[1]}', '{word[2]}', '{word[3]}', '{word[4]}', '{word[5]}'\")\n",
    "print(f'Length: {length}')\n",
    "\n",
    "# using assert keyword, raises an AssertionError if false\n",
    "assert length == 6"
   ]
  },
  {
   "cell_type": "markdown",
   "metadata": {},
   "source": [
    "- Indexes must follow some rules to prevent exceptions. \n",
    "  - Don't use <code>float</code> or <code>complex</code>, only <code>int</code>, otherwise it will cause a <code>TypeError</code>.\n",
    "  - Don't use a integer grater than the string length, otherwise it will cause a <code>IndexError</code>.\n",
    "  - Negative integers (reverse order) are allowed as long as meets the second rule."
   ]
  },
  {
   "cell_type": "code",
   "execution_count": null,
   "metadata": {},
   "outputs": [],
   "source": [
    "# First rule\n",
    "try: \n",
    "    word[1.5]\n",
    "except TypeError as e:\n",
    "    print(e)\n",
    "\n",
    "# Second rule\n",
    "try:\n",
    "    word[20]\n",
    "except IndexError as e:\n",
    "    print(e)\n",
    "\n",
    "print(f'{word[-1]=}') # last char: 'a'\n",
    "print(f'{word[0]=}')  # first char: 'b'"
   ]
  },
  {
   "cell_type": "markdown",
   "metadata": {},
   "source": [
    "- <q>A segment of a string is called a <i>slice</i>. The operator <code>[n:m]</code> returns the part of the string from the “n-eth” character to the “m-eth” character, including the first but excluding the last. </q>\n",
    "\n",
    "  - <q>If you omit the first index (before the colon), the slice starts at the beginning of the string.</q>\n",
    "  - <q>If you omit the second index, the slice goes to the end of the string.</q>"
   ]
  },
  {
   "cell_type": "code",
   "execution_count": null,
   "metadata": {},
   "outputs": [],
   "source": [
    "# slicing a sequence\n",
    "print(f\"'{word[:2]}', '{word[2:4]}', '{word[4:]}'\")\n",
    "\n",
    "# first four letters\n",
    "print(f\"'{word[:3]}'\") # 'ban'\n",
    "\n",
    "# negative can be confusing\n",
    "print(f\"'{word[:-4]}'\") # 'ba'"
   ]
  },
  {
   "cell_type": "markdown",
   "metadata": {},
   "source": [
    "### Methods\n",
    "<q>A method is similar to a function—it takes arguments and returns a value—but the syntax\n",
    "is different. For example, the method <code>upper</code> takes a string and returns a new string with all\n",
    "uppercase letters. A method call is called an <i>invocation</i>; in this case, we would say that we are invoking\n",
    "upper on the word</q>"
   ]
  },
  {
   "cell_type": "code",
   "execution_count": null,
   "metadata": {},
   "outputs": [],
   "source": [
    "phrase: str = 'the cat quickly came to the couch and caught sight of the kite in the tree and kept quiet. '\n",
    "\n",
    "print(f'{phrase.upper()=}')\n",
    "print(f'{phrase.lower()=}')\n",
    "print(f'{phrase.capitalize()=}')\n",
    "print(f'{phrase.title()=}')\n",
    "print(f'{phrase.strip()=}')\n",
    "# be careful with simple & double quotes\n",
    "print(f\"{phrase.replace(' ', '_')=}\")\n",
    "\n",
    "print(f'{phrase.isalnum()=}') # spaces and punctuation aren't alpha-numeric\n",
    "print(f'{phrase.isnumeric()=}')\n",
    "\n",
    "print(f\"{phrase.startswith(' the')=}\")\n",
    "print(f\"{phrase.endswith('quiet. ')=}\")\n",
    "# only the first occurrence will be returned or -1 if not found\n",
    "print(f\"{phrase.find('k')=}\")\n",
    "print(f\"{phrase.find('cat')=}\")\n",
    "print(f\"{phrase.count('c')=}\")"
   ]
  },
  {
   "cell_type": "markdown",
   "metadata": {},
   "source": [
    "### Regular Expressions\n",
    "A sequence of characters to perform a search pattern. See <a href='https://www.w3schools.com/python/python_regex.asp'>W3Schools</a> & <a href='https://docs.python.org/3/library/re.html'>Python Official Documentation</a>."
   ]
  },
  {
   "cell_type": "code",
   "execution_count": null,
   "metadata": {},
   "outputs": [],
   "source": [
    "import re\n",
    "\n",
    "# returns a list with the start & end index of each occurrence of 'the'\n",
    "indexes: list[tuple[int, int]] = [ word.span() for word in re.finditer('the', phrase) ]\n",
    "\n",
    "print(f'{indexes=}')"
   ]
  },
  {
   "cell_type": "markdown",
   "metadata": {},
   "source": [
    "## Tuple"
   ]
  },
  {
   "cell_type": "code",
   "execution_count": null,
   "metadata": {},
   "outputs": [],
   "source": []
  },
  {
   "cell_type": "markdown",
   "metadata": {},
   "source": [
    "## Set"
   ]
  },
  {
   "cell_type": "code",
   "execution_count": null,
   "metadata": {},
   "outputs": [],
   "source": []
  },
  {
   "cell_type": "markdown",
   "metadata": {},
   "source": [
    "## List"
   ]
  },
  {
   "cell_type": "code",
   "execution_count": null,
   "metadata": {},
   "outputs": [],
   "source": []
  },
  {
   "cell_type": "markdown",
   "metadata": {},
   "source": [
    "## Dictionary"
   ]
  },
  {
   "cell_type": "code",
   "execution_count": null,
   "metadata": {},
   "outputs": [],
   "source": []
  },
  {
   "cell_type": "markdown",
   "metadata": {},
   "source": [
    "## Function"
   ]
  },
  {
   "cell_type": "code",
   "execution_count": null,
   "metadata": {},
   "outputs": [],
   "source": []
  }
 ],
 "metadata": {
  "interpreter": {
   "hash": "8bfdcd2cc888dbc98ffcff3cf621025027ffe71c6f18c0bca769d24baae26b7f"
  },
  "kernelspec": {
   "display_name": "Python 3.10.4 64-bit",
   "language": "python",
   "name": "python3"
  },
  "language_info": {
   "codemirror_mode": {
    "name": "ipython",
    "version": 3
   },
   "file_extension": ".py",
   "mimetype": "text/x-python",
   "name": "python",
   "nbconvert_exporter": "python",
   "pygments_lexer": "ipython3",
   "version": "3.10.4"
  },
  "orig_nbformat": 4
 },
 "nbformat": 4,
 "nbformat_minor": 2
}
