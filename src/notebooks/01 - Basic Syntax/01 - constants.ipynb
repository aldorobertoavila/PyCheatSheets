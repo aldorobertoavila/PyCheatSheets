{
 "cells": [
  {
   "cell_type": "markdown",
   "metadata": {},
   "source": [
    "# Constants\n",
    "In mathematics, a constant is fixed numeric value that represents some relationship. e.g Euler (e) and Pi (π)."
   ]
  },
  {
   "cell_type": "code",
   "execution_count": null,
   "metadata": {},
   "outputs": [],
   "source": [
    "import math\n",
    "\n",
    "print(math.pi)\n",
    "print(math.e)"
   ]
  },
  {
   "cell_type": "markdown",
   "metadata": {},
   "source": [
    "In programming, constants are values that <i>should not be altered by the program during execution.</i> Unlike mathematics, we can store in memory other data types commonly shared across computer science. e.g Int, Float, String, List"
   ]
  },
  {
   "cell_type": "code",
   "execution_count": null,
   "metadata": {},
   "outputs": [],
   "source": [
    "INT = 10\n",
    "FLOAT = 1.3344\n",
    "STRING = 'Hello World!'\n",
    "LIST = [ 0, 1, 2, 3, 4 ]"
   ]
  },
  {
   "cell_type": "markdown",
   "metadata": {},
   "source": [
    "In Python, <strong>constants aren't supported</strong>, all namespaces in memory can be changed, both value & type. We have to relay in other developers and the programs they execute to not change those values in runtime.  \n",
    "\n",
    "We can type check with <code>type()</code> built-in function."
   ]
  },
  {
   "cell_type": "code",
   "execution_count": null,
   "metadata": {},
   "outputs": [],
   "source": [
    "MY_CONSTANT = 10\n",
    "print(MY_CONSTANT)\n",
    "print(type(MY_CONSTANT))\n",
    "\n",
    "MY_CONSTANT = \"Hello World!\"\n",
    "print(MY_CONSTANT)\n",
    "print(type(MY_CONSTANT))"
   ]
  },
  {
   "cell_type": "markdown",
   "metadata": {},
   "source": [
    "Even though we cannot fix a value & type into memory, we can tell what type is supposed to be."
   ]
  },
  {
   "cell_type": "code",
   "execution_count": null,
   "metadata": {},
   "outputs": [],
   "source": [
    "MY_INT: int = 100\n",
    "print(type(MY_INT))\n",
    "\n",
    "MY_INT: str = \"Hello World!\"\n",
    "print(type(MY_INT))"
   ]
  },
  {
   "cell_type": "markdown",
   "metadata": {},
   "source": [
    "As other languages, has naming rules to prevent compile errors. The program won't run otherwise.\n",
    "\n",
    "- Use alpha-numeric characters and underscores (a-z, A-Z, 0-9, _). \n",
    "- Don't start with a number.\n",
    "- Don't use spaces in between.\n",
    "- Constants & Variables are Case-Sensitive.\n",
    "- Don't use a Python <i>keyword</i> or built-in function name (<i>shadow naming</i>)\n",
    "\n",
    "How do I get the value of a constant? The constant name has to be referenced, meaning that should be typed where you want to get the value. e.g Inside <code>print()</code>"
   ]
  },
  {
   "cell_type": "code",
   "execution_count": null,
   "metadata": {},
   "outputs": [],
   "source": [
    "# Incorrect Naming\n",
    "\n",
    "# $INT = 0\n",
    "# 1INT = 0\n",
    "# I NT = 0\n",
    "\n",
    "# Correct Naming\n",
    "_INT = 1\n",
    "INT_ = 2\n",
    "INT_1 = 3\n",
    "\n",
    "print('----- Correct Naming')\n",
    "print(_INT)\n",
    "print(INT_)\n",
    "print(INT_1)\n",
    "\n",
    "# Case-Sensitive example \n",
    "I_N_T_1 = 10\n",
    "i_n_t_1 = 20\n",
    "\n",
    "# Passing a value directly\n",
    "print('----- Direct Value')\n",
    "print(4)\n",
    "print(5)\n",
    "\n",
    "# Passing a value reference\n",
    "print('----- Value reference')\n",
    "print(I_N_T_1)\n",
    "print(i_n_t_1)"
   ]
  },
  {
   "cell_type": "markdown",
   "metadata": {},
   "source": [
    "According to <a href=\"https://realpython.com/python-pep8/\">Jasmine Finer</a>, <q>PEP 8 is a document that provides guidelines and best practices on how to write Python code. It was written in 2001 by Guido van Rossum, Barry Warsaw, and Nick Coghlan. The primary focus of PEP 8 is to improve the readability and consistency of Python code.</q>\n",
    "\n",
    "According to PEP 8, constants should: <q>Use an uppercase single letter, word, or words. Separate words with underscores to improve readability.</q> and their meaning should respect: <q>The best way to name your objects in Python is to use descriptive names to make it clear what the object represents.</q>"
   ]
  },
  {
   "cell_type": "code",
   "execution_count": null,
   "metadata": {},
   "outputs": [],
   "source": [
    "# Under PEP8 guideline:\n",
    "# [X] Using lowercase \n",
    "# [X] Poor readability\n",
    "# [X] Unclear Description\n",
    "i_n_t_2 = 30\n",
    "\n",
    "# [✓] Using uppercase \n",
    "# [✓] Better Readability \n",
    "# [✓] Meaningful Description\n",
    "INT_2 = 40"
   ]
  },
  {
   "cell_type": "markdown",
   "metadata": {},
   "source": [
    "Is there an alternative to create constants? Yes, use <code>enum</code>.\n",
    "\n",
    "According to <a href=\"https://docs.python.org/3/library/enum.html\">Python documentation</a>: <q>An enumeration is a set of symbolic names (members) bound to unique, constant values. Within an enumeration, the members can be compared by identity, and the enumeration itself can be iterated over.</q>"
   ]
  },
  {
   "cell_type": "code",
   "execution_count": null,
   "metadata": {},
   "outputs": [],
   "source": [
    "from enum import Enum\n",
    "\n",
    "class Constants(Enum):\n",
    "    A = 1\n",
    "    B = 2\n",
    "    C = 3\n",
    "\n",
    "try:\n",
    "    Constants.A = 4\n",
    "except AttributeError as e:\n",
    "    print(e)\n"
   ]
  }
 ],
 "metadata": {
  "interpreter": {
   "hash": "8bfdcd2cc888dbc98ffcff3cf621025027ffe71c6f18c0bca769d24baae26b7f"
  },
  "kernelspec": {
   "display_name": "Python 3.10.4 64-bit",
   "language": "python",
   "name": "python3"
  },
  "language_info": {
   "codemirror_mode": {
    "name": "ipython",
    "version": 3
   },
   "file_extension": ".py",
   "mimetype": "text/x-python",
   "name": "python",
   "nbconvert_exporter": "python",
   "pygments_lexer": "ipython3",
   "version": "3.10.4"
  },
  "orig_nbformat": 4
 },
 "nbformat": 4,
 "nbformat_minor": 2
}
