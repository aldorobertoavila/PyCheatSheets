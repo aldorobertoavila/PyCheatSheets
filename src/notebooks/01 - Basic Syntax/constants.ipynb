{
 "cells": [
  {
   "cell_type": "markdown",
   "metadata": {},
   "source": [
    "# Constants\n",
    "In mathematics, constants are fixed numeric values that represents some relationship. e.g Euler (e) and Pi (π)."
   ]
  },
  {
   "cell_type": "code",
   "execution_count": null,
   "metadata": {},
   "outputs": [],
   "source": [
    "\n",
    "import math\n",
    "\n",
    "print(math.pi)\n",
    "print(math.e)"
   ]
  },
  {
   "cell_type": "markdown",
   "metadata": {},
   "source": [
    "In programming, constants are values that <i>should not be altered by the program during execution.</i> Unlike mathematics, we can store in memory other data types commonly shared across computer science. e.g Int, Float, String, List"
   ]
  },
  {
   "cell_type": "code",
   "execution_count": null,
   "metadata": {},
   "outputs": [],
   "source": [
    "INT = 10\n",
    "FLOAT = 1.3344\n",
    "STRING = 'Hello World!'\n",
    "LIST = [ 0, 1, 2, 3, 4 ]"
   ]
  },
  {
   "cell_type": "markdown",
   "metadata": {},
   "source": [
    "In Python, <strong>constants aren't supported</strong>, all namespaces in memory can be changed. We have to relay in other developers and the programs they execute to not change those values in runtime."
   ]
  },
  {
   "cell_type": "code",
   "execution_count": null,
   "metadata": {},
   "outputs": [],
   "source": [
    "MY_CONSTANT = 10\n",
    "print(MY_CONSTANT)\n",
    "\n",
    "MY_CONSTANT = 20\n",
    "print(MY_CONSTANT)"
   ]
  },
  {
   "cell_type": "markdown",
   "metadata": {},
   "source": [
    "As other languages, has naming rules to prevent compile errors. The program won't run otherwise.\n",
    "\n",
    "- Use alpha-numeric characters and underscores (a-z, A-Z, 0-9, _). \n",
    "- Don't start with a number.\n",
    "- Don't use spaces in between.\n",
    "- Constants & Variables are Case-Sensitive.\n",
    "\n",
    "How do I get the value of a constant? The constant name has to be referenced, meaning that should be typed where you want to get the value. e.g Inside <code>print()</code>"
   ]
  },
  {
   "cell_type": "code",
   "execution_count": null,
   "metadata": {},
   "outputs": [],
   "source": [
    "# Incorrect Naming\n",
    "\n",
    "# $INT = 0\n",
    "# 1INT = 0\n",
    "# I NT = 0\n",
    "\n",
    "# Correct Naming\n",
    "_INT = 1\n",
    "INT_ = 2\n",
    "INT_1 = 3\n",
    "\n",
    "print('----- Correct Naming')\n",
    "print(_INT)\n",
    "print(INT_)\n",
    "print(INT_1)\n",
    "\n",
    "# Case-Sensitive example \n",
    "I_N_T_1 = 10\n",
    "i_n_t_1 = 20\n",
    "\n",
    "# Passing a value directly\n",
    "print('----- Direct Value')\n",
    "print(4)\n",
    "print(5)\n",
    "\n",
    "# Passing a value reference\n",
    "print('----- Value reference')\n",
    "print(I_N_T_1)\n",
    "print(i_n_t_1)"
   ]
  },
  {
   "cell_type": "markdown",
   "metadata": {},
   "source": [
    "According to <a href=\"https://realpython.com/python-pep8/\">Jasmine Finer</a>, <q>PEP 8 is a document that provides guidelines and best practices on how to write Python code. It was written in 2001 by Guido van Rossum, Barry Warsaw, and Nick Coghlan. The primary focus of PEP 8 is to improve the readability and consistency of Python code.</q>\n",
    "\n",
    "According to PEP 8, constants should: <q>Use an uppercase single letter, word, or words. Separate words with underscores to improve readability.</q> and their meaning should respect: <q>The best way to name your objects in Python is to use descriptive names to make it clear what the object represents.</q>"
   ]
  },
  {
   "cell_type": "code",
   "execution_count": null,
   "metadata": {},
   "outputs": [],
   "source": [
    "# Under PEP8 guideline:\n",
    "# [X] Using lowercase \n",
    "# [X] Poor readability\n",
    "# [X] Unclear Description\n",
    "i_n_t_2 = 30\n",
    "\n",
    "# [✓] Using uppercase \n",
    "# [✓] Better Readability \n",
    "# [✓] Meaningful Description\n",
    "INT_2 = 40"
   ]
  }
 ],
 "metadata": {
  "interpreter": {
   "hash": "8bfdcd2cc888dbc98ffcff3cf621025027ffe71c6f18c0bca769d24baae26b7f"
  },
  "kernelspec": {
   "display_name": "Python 3.10.4 64-bit",
   "language": "python",
   "name": "python3"
  },
  "language_info": {
   "codemirror_mode": {
    "name": "ipython",
    "version": 3
   },
   "file_extension": ".py",
   "mimetype": "text/x-python",
   "name": "python",
   "nbconvert_exporter": "python",
   "pygments_lexer": "ipython3",
   "version": "3.10.4"
  },
  "orig_nbformat": 4
 },
 "nbformat": 4,
 "nbformat_minor": 2
}
