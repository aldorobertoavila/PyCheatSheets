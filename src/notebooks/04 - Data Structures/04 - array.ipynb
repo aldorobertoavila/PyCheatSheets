{
 "cells": [
  {
   "cell_type": "markdown",
   "metadata": {},
   "source": [
    "# Array\n",
    "\n",
    "An ordered collection of repeatable objects. They can be mutable or immutable, their contents can be accessed at any moment."
   ]
  },
  {
   "cell_type": "markdown",
   "metadata": {},
   "source": [
    "## List\n",
    "\n",
    "An ordered & mutable collection of repeatable objects. Similar to tuples, but using square brackets to create them."
   ]
  },
  {
   "cell_type": "code",
   "execution_count": null,
   "metadata": {},
   "outputs": [],
   "source": [
    "def get_letters() -> list[str]:\n",
    "    return ['e', 'b', 'a', 'a', 'd', 'f', 'c']\n",
    "\n",
    "\n",
    "letters: list[int] = get_letters()\n",
    "\n",
    "# letters = ['e', 'b', 'a', 'd', 'f', 'c']\n",
    "print(f'{letters = }')\n"
   ]
  },
  {
   "cell_type": "markdown",
   "metadata": {},
   "source": [
    "### Indexing\n",
    "\n",
    "An element can be accessed/deleted by index."
   ]
  },
  {
   "cell_type": "code",
   "execution_count": null,
   "metadata": {},
   "outputs": [],
   "source": [
    "letters: list[int] = get_letters()\n",
    "\n",
    "# letters=['e', 'b', 'a', 'a', 'd', 'f', 'c']\n",
    "print(f'{letters=}')\n",
    "# letters[0]='e'\n",
    "print(f'{letters[0]=}')\n",
    "# letters[1]='b'\n",
    "print(f'{letters[1]=}')\n",
    "# letters[2]='a'\n",
    "print(f'{letters[2]=}')\n",
    "\n",
    "# delete index\n",
    "del letters[0]\n",
    "# letters=['b', 'a', 'a', 'd', 'f', 'c']\n",
    "print(f'{letters = }')\n",
    "\n",
    "# reassign values\n",
    "letters[3] = 'o'\n",
    "letters[4] = 'f'\n",
    "letters[5] = 'k'\n",
    "# letters = ['b', 'a', 'a', 'o', 'f', 'k']\n",
    "print(f'{letters = }')\n"
   ]
  },
  {
   "cell_type": "markdown",
   "metadata": {},
   "source": [
    "### Slicing\n",
    "\n",
    "A slice of elements can be obtained by semicolon syntax."
   ]
  },
  {
   "cell_type": "code",
   "execution_count": null,
   "metadata": {},
   "outputs": [],
   "source": [
    "letters: list[int] = get_letters()\n",
    "\n",
    "# letters[1:3] = ['b', 'a']\n",
    "print(f'{letters[1:3] = }')\n",
    "# letters[3:6] = ['a', 'd', 'f']\n",
    "print(f'{letters[3:6] = }')\n",
    "# letters[:5] = ['e', 'b', 'a', 'a', 'd']\n",
    "print(f'{letters[:5] = }')\n"
   ]
  },
  {
   "cell_type": "markdown",
   "metadata": {},
   "source": [
    "### Methods\n",
    "\n",
    "As other objects, list can also perform some operations using their own methods. Built-in <code>len</code> function can be used to get the length of a list."
   ]
  },
  {
   "cell_type": "markdown",
   "metadata": {},
   "source": [
    "#### Len\n",
    "\n",
    "Gets the length of an iterable."
   ]
  },
  {
   "cell_type": "code",
   "execution_count": null,
   "metadata": {},
   "outputs": [],
   "source": [
    "letters: list[int] = get_letters()\n",
    "\n",
    "# len(letters) = 6\n",
    "print(f'{len(letters) = }')\n"
   ]
  },
  {
   "cell_type": "markdown",
   "metadata": {},
   "source": [
    "#### Sorted\n",
    "\n",
    "Sorts the elements of an iterable."
   ]
  },
  {
   "cell_type": "code",
   "execution_count": null,
   "metadata": {},
   "outputs": [],
   "source": [
    "letters: list[int] = get_letters()\n",
    "\n",
    "# sorted(letters) = ['a', 'b', 'c', 'd', 'e', 'f']\n",
    "print(f'{sorted(letters) = }')\n"
   ]
  },
  {
   "cell_type": "markdown",
   "metadata": {},
   "source": [
    "#### Append\n",
    "\n",
    "Appends an element to the end of the list."
   ]
  },
  {
   "cell_type": "code",
   "execution_count": null,
   "metadata": {},
   "outputs": [],
   "source": [
    "letters: list[int] = get_letters()\n",
    "\n",
    "letters.append('g')\n",
    "letters.append('h')\n",
    "letters.append('i')\n",
    "\n",
    "# letters = ['e', 'b', 'a', 'a', 'd', 'f', 'c', 'g', 'h', 'i']\n",
    "print(f'{letters = }')\n"
   ]
  },
  {
   "cell_type": "markdown",
   "metadata": {},
   "source": [
    "#### Extend\n",
    "\n",
    "Extends a list by appending elements from an iterable."
   ]
  },
  {
   "cell_type": "code",
   "execution_count": null,
   "metadata": {},
   "outputs": [],
   "source": [
    "letters: list[int] = get_letters()\n",
    "\n",
    "letters.extend(['g', 'h', 'i'])\n",
    "\n",
    "# letters = ['e', 'b', 'a', 'a', 'd', 'f', 'c', 'g', 'h', 'i']\n",
    "print(f'{letters = }')\n"
   ]
  },
  {
   "cell_type": "markdown",
   "metadata": {},
   "source": [
    "#### Insert\n",
    "\n",
    "Inserts an object before a specified index. It accepts negative and out of bounds indexes."
   ]
  },
  {
   "cell_type": "code",
   "execution_count": null,
   "metadata": {},
   "outputs": [],
   "source": [
    "letters: list[int] = get_letters()\n",
    "\n",
    "# inserted before index 4\n",
    "letters.insert(4, 'k')\n",
    "# inserted before penultimate index\n",
    "letters.insert(-1, 'z')\n",
    "# inserted before last index\n",
    "letters.insert(15, 'x')\n",
    "\n",
    "# letters = ['e', 'b', 'a', 'a', 'k', 'd', 'f', 'z', 'c', 'x']\n",
    "print(f'{letters = }')\n"
   ]
  },
  {
   "cell_type": "markdown",
   "metadata": {},
   "source": [
    "#### Remove\n",
    "\n",
    "Removes the first occurrence of a value from start to end."
   ]
  },
  {
   "cell_type": "code",
   "execution_count": null,
   "metadata": {},
   "outputs": [],
   "source": [
    "letters: list[int] = get_letters()\n",
    "\n",
    "letters.remove('b')\n",
    "\n",
    "# letters = ['e', 'a', 'a', 'd', 'f', 'c']\n",
    "print(f'{letters = }')\n"
   ]
  },
  {
   "cell_type": "markdown",
   "metadata": {},
   "source": [
    "#### Pop\n",
    "\n",
    "Retrieves the element at the end or specified index."
   ]
  },
  {
   "cell_type": "code",
   "execution_count": null,
   "metadata": {},
   "outputs": [],
   "source": [
    "letters: list[int] = get_letters()\n",
    "\n",
    "# letters.pop() = 'c'\n",
    "print(f'{letters.pop() = }')\n",
    "# letters.pop(0) = 'e'\n",
    "print(f'{letters.pop(0) = }')\n",
    "\n",
    "# ['b', 'a', 'a', 'd', 'f']\n",
    "print(letters)\n"
   ]
  },
  {
   "cell_type": "markdown",
   "metadata": {},
   "source": [
    "#### Index\n",
    "\n",
    "Gets the first occurrence index of value from start to end. Raises <code>ValueError</code> if the value is not present."
   ]
  },
  {
   "cell_type": "code",
   "execution_count": null,
   "metadata": {},
   "outputs": [],
   "source": [
    "letters: list[int] = get_letters()\n",
    "\n",
    "# letters.index('a') = 2\n",
    "print(f\"{letters.index('a') = }\")\n",
    "# letters.index('b') = 1\n",
    "print(f\"{letters.index('b') = }\")\n",
    "# letters.index('c') = 6\n",
    "print(f\"{letters.index('c') = }\")\n"
   ]
  },
  {
   "cell_type": "markdown",
   "metadata": {},
   "source": [
    "#### Clear\n",
    "\n",
    "Removes all elements."
   ]
  },
  {
   "cell_type": "code",
   "execution_count": null,
   "metadata": {},
   "outputs": [],
   "source": [
    "letters: list[int] = get_letters()\n",
    "\n",
    "letters.clear()\n",
    "\n",
    "# letters = []\n",
    "print(f'{letters = }')\n"
   ]
  },
  {
   "cell_type": "markdown",
   "metadata": {},
   "source": [
    "#### Sort\n",
    "\n",
    "Sorts in ascending order and returns nothing."
   ]
  },
  {
   "cell_type": "code",
   "execution_count": null,
   "metadata": {},
   "outputs": [],
   "source": [
    "def get_len(e):\n",
    "    return len(e)\n",
    "\n",
    "\n",
    "cars: list[int] = ['Ford', 'Mitsubishi', 'BMW', 'Volvo']\n",
    "\n",
    "cars.sort()\n",
    "# cars = ['BMW', 'Ford', 'Mitsubishi', 'VW']\n",
    "print(f'{cars = }')\n",
    "\n",
    "cars.sort(key=get_len)\n",
    "# cars = ['VW', 'BMW', 'Ford', 'Mitsubishi']\n",
    "print(f'{cars = }')\n",
    "\n",
    "cars.sort(reverse=True, key=get_len)\n",
    "# cars = ['Mitsubishi', 'Ford', 'BMW', 'VW']\n",
    "print(f'{cars = }')\n"
   ]
  },
  {
   "cell_type": "markdown",
   "metadata": {},
   "source": [
    "## Tuple\n",
    "\n",
    "An ordered & immutable collection of repeatable objects. Once a tuple is created, it can't be modified. Similar to lists, but using parentheses instead of square brackets."
   ]
  },
  {
   "cell_type": "code",
   "execution_count": null,
   "metadata": {},
   "outputs": [],
   "source": [
    "# singleton tuple\n",
    "numbers: tuple[int] = (1,)\n",
    "\n",
    "print(f'{numbers = }')\n"
   ]
  },
  {
   "cell_type": "code",
   "execution_count": null,
   "metadata": {},
   "outputs": [],
   "source": [
    "letters: tuple[int] = ('e', 'b', 'a', 'a', 'd', 'f', 'c')\n",
    "\n",
    "# tuple methods\n",
    "print(f\"{letters.count('a') = }\")\n",
    "print(f\"{letters.index('b') = }\")\n",
    "\n",
    "# accessing values\n",
    "print(f\"{letters[0] = }\")\n",
    "print(f\"{letters[-1] = }\")\n",
    "\n",
    "# slicing\n",
    "print(f\"{letters[0:2] = }\")\n",
    "print(f\"{letters[1:3] = }\")\n",
    "\n",
    "# tuple length\n",
    "print(f\"{len(letters) = }\")\n",
    "\n",
    "# sorted tuple\n",
    "print(f\"{tuple(sorted(letters)) = }\")\n",
    "\n",
    "# extending tuple\n",
    "print(f\"{letters + ( 'g', 'h' ) = }\")\n"
   ]
  },
  {
   "cell_type": "markdown",
   "metadata": {},
   "source": [
    "## Performance\n",
    "\n",
    "Most of the time, an array operation has an excellent performance, but not all methods are available for both mutable & immutable."
   ]
  },
  {
   "cell_type": "markdown",
   "metadata": {},
   "source": [
    "### List\n",
    "\n",
    "It has the most amount of methods and therefore, complexities. Most of them are constant or linear time."
   ]
  },
  {
   "cell_type": "markdown",
   "metadata": {},
   "source": [
    "| Operation | Time Complexity | Space Complexity |\n",
    "| :-------: | :-------------: | :--------------: |\n",
    "| Append      | O(1) | O(1) |\n",
    "| Extend      | O(k) | O(k) |\n",
    "| Pop         | O(1) | O(1) |\n",
    "| Insert      | O(n) | O(n) |\n",
    "| Index       | O(n) | O(1) |\n",
    "| Get Item    | O(1) | O(1) |\n",
    "| Set Item    | O(1) | O(1) |\n",
    "| Delete Item | O(n) | O(n) |\n",
    "| Copy        | O(n) | O(n) |"
   ]
  },
  {
   "cell_type": "code",
   "execution_count": null,
   "metadata": {},
   "outputs": [],
   "source": [
    "l = list(range(1_000_000))\n",
    "\n",
    "# Append at End\n",
    "%timeit l.append(7)\n",
    "# Extend at End\n",
    "%timeit l.extend([0, 1, 2, 3, 4])\n",
    "# Pop at End\n",
    "%timeit l.pop()\n",
    "# Insert at 0\n",
    "%timeit l.insert(0, 7)\n",
    "# Index of 500_000\n",
    "%timeit l.index(500_000)\n",
    "# Get at 0\n",
    "%timeit -n 10_000_000 l[0]\n",
    "# Set at 0\n",
    "%timeit l[0] = 7\n",
    "# Copy\n",
    "%timeit l.copy()\n",
    "\n",
    "del l"
   ]
  },
  {
   "cell_type": "markdown",
   "metadata": {},
   "source": [
    "### Tuple\n",
    "\n",
    "It has a few methods, most of them are constant or linear time."
   ]
  },
  {
   "cell_type": "markdown",
   "metadata": {},
   "source": [
    "| Operation | Time Complexity | Space Complexity |\n",
    "| :-------: | :-------------: | :--------------: |\n",
    "| Get Item    | O(1) | O(1) |\n",
    "| Index       | O(n) | O(1) |\n",
    "| Count        | O(n) | O(n) |"
   ]
  },
  {
   "cell_type": "code",
   "execution_count": null,
   "metadata": {},
   "outputs": [],
   "source": [
    "t = tuple(range(1_000_000))\n",
    "\n",
    "# Index of 500_000\n",
    "%timeit t.index(500_000)\n",
    "# Get at 0\n",
    "%timeit -n 10_000_000 t[0]\n",
    "# Count\n",
    "%timeit t.count(500_000)\n",
    "\n",
    "del t"
   ]
  }
 ],
 "metadata": {
  "interpreter": {
   "hash": "b49ac474cbb8e2eab12ddcec3ca625a513e12da6cc6284c839d3b1b7a7f65dd0"
  },
  "kernelspec": {
   "display_name": "Python 3.10.4 64-bit",
   "language": "python",
   "name": "python3"
  },
  "language_info": {
   "codemirror_mode": {
    "name": "ipython",
    "version": 3
   },
   "file_extension": ".py",
   "mimetype": "text/x-python",
   "name": "python",
   "nbconvert_exporter": "python",
   "pygments_lexer": "ipython3",
   "version": "3.10.4"
  },
  "orig_nbformat": 4
 },
 "nbformat": 4,
 "nbformat_minor": 2
}
