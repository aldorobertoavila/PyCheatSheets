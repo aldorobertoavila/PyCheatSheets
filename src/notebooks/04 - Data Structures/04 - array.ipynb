{
 "cells": [
  {
   "cell_type": "markdown",
   "metadata": {},
   "source": [
    "# Array"
   ]
  },
  {
   "cell_type": "markdown",
   "metadata": {},
   "source": [
    "## List\n",
    "\n",
    "An ordered & mutable collection of repeatable objects. Similar to tuples, but using square brackets to create them."
   ]
  },
  {
   "cell_type": "code",
   "execution_count": null,
   "metadata": {},
   "outputs": [],
   "source": [
    "def get_letters() -> list[str]:\n",
    "    return ['e', 'b', 'a', 'a', 'd', 'f', 'c']\n",
    "\n",
    "\n",
    "letters: list[int] = get_letters()\n",
    "\n",
    "# letters = ['e', 'b', 'a', 'd', 'f', 'c']\n",
    "print(f'{letters = }')\n"
   ]
  },
  {
   "cell_type": "markdown",
   "metadata": {},
   "source": [
    "### Methods\n",
    "\n",
    "As other objects, list can also perform some operations using their own methods. Built-in <code>len</code> function can be used to get the length of a list."
   ]
  },
  {
   "cell_type": "code",
   "execution_count": null,
   "metadata": {},
   "outputs": [],
   "source": [
    "letters: list[int] = get_letters()\n",
    "\n",
    "# len(letters) = 6\n",
    "print(f'{len(letters) = }')\n",
    "# sorted(letters) = ['a', 'b', 'c', 'd', 'e', 'f']\n",
    "print(f'{sorted(letters) = }')\n"
   ]
  },
  {
   "cell_type": "markdown",
   "metadata": {},
   "source": [
    "#### Append\n",
    "\n",
    "Appends an element to the end of the list."
   ]
  },
  {
   "cell_type": "code",
   "execution_count": null,
   "metadata": {},
   "outputs": [],
   "source": [
    "letters: list[int] = get_letters()\n",
    "\n",
    "letters.append('g')\n",
    "letters.append('h')\n",
    "letters.append('i')\n",
    "\n",
    "# letters = ['e', 'b', 'a', 'a', 'd', 'f', 'c', 'g', 'h', 'i']\n",
    "print(f'{letters = }')\n"
   ]
  },
  {
   "cell_type": "markdown",
   "metadata": {},
   "source": [
    "#### Extend\n",
    "\n",
    "Extends a list by appending elements from an iterable."
   ]
  },
  {
   "cell_type": "code",
   "execution_count": null,
   "metadata": {},
   "outputs": [],
   "source": [
    "letters: list[int] = get_letters()\n",
    "\n",
    "letters.extend(['g', 'h', 'i'])\n",
    "\n",
    "# letters = ['e', 'b', 'a', 'a', 'd', 'f', 'c', 'g', 'h', 'i']\n",
    "print(f'{letters = }')\n"
   ]
  },
  {
   "cell_type": "markdown",
   "metadata": {},
   "source": [
    "#### Insert\n",
    "\n",
    "Inserts an object before an specified index. It accepts negative and out of bounds indexes."
   ]
  },
  {
   "cell_type": "code",
   "execution_count": null,
   "metadata": {},
   "outputs": [],
   "source": [
    "letters: list[int] = get_letters()\n",
    "\n",
    "# inserted before index 4\n",
    "letters.insert(4, 'k')\n",
    "# inserted before penultimate index\n",
    "letters.insert(-1, 'z')\n",
    "# inserted before last index\n",
    "letters.insert(15, 'x')\n",
    "\n",
    "# letters = ['e', 'b', 'a', 'a', 'k', 'd', 'f', 'z', 'c', 'x']\n",
    "print(f'{letters = }')\n"
   ]
  },
  {
   "cell_type": "markdown",
   "metadata": {},
   "source": [
    "#### Index\n",
    "\n",
    "Gets the first index of value. Raises <code>ValueError</code> if the value is not present."
   ]
  },
  {
   "cell_type": "code",
   "execution_count": null,
   "metadata": {},
   "outputs": [],
   "source": [
    "letters: list[int] = get_letters()\n",
    "\n",
    "# letters.index('a') = 2\n",
    "print(f\"{letters.index('a') = }\")\n",
    "# letters.index('b') = 1\n",
    "print(f\"{letters.index('b') = }\")\n",
    "# letters.index('c') = 6\n",
    "print(f\"{letters.index('c') = }\")\n"
   ]
  },
  {
   "cell_type": "markdown",
   "metadata": {},
   "source": [
    "#### Clear\n",
    "\n",
    "Removes all elements."
   ]
  },
  {
   "cell_type": "code",
   "execution_count": null,
   "metadata": {},
   "outputs": [],
   "source": [
    "letters: list[int] = get_letters()\n",
    "\n",
    "letters.clear()\n",
    "\n",
    "# letters = []\n",
    "print(f'{letters = }')\n"
   ]
  },
  {
   "cell_type": "markdown",
   "metadata": {},
   "source": [
    "#### Sort\n",
    "\n",
    "Sorts in ascending order and returns nothing."
   ]
  },
  {
   "cell_type": "code",
   "execution_count": null,
   "metadata": {},
   "outputs": [],
   "source": [
    "def get_len(e):\n",
    "    return len(e)\n",
    "\n",
    "\n",
    "cars: list[int] = ['Ford', 'Mitsubishi', 'BMW', 'Volvo']\n",
    "\n",
    "cars.sort()\n",
    "# cars = ['BMW', 'Ford', 'Mitsubishi', 'VW']\n",
    "print(f'{cars = }')\n",
    "\n",
    "cars.sort(key=get_len)\n",
    "# cars = ['VW', 'BMW', 'Ford', 'Mitsubishi']\n",
    "print(f'{cars = }')\n",
    "\n",
    "cars.sort(reverse=True, key=get_len)\n",
    "# cars = ['Mitsubishi', 'Ford', 'BMW', 'VW']\n",
    "print(f'{cars = }')\n"
   ]
  },
  {
   "cell_type": "markdown",
   "metadata": {},
   "source": [
    "### Indexing & Slicing\n",
    "\n",
    "As other ordered collections, their elements can be accessed by index and extracted through slicing."
   ]
  },
  {
   "cell_type": "code",
   "execution_count": null,
   "metadata": {},
   "outputs": [],
   "source": [
    "letters: list[int] = get_letters()\n",
    "\n",
    "# letters=['e', 'b', 'a', 'a', 'd', 'f', 'c']\n",
    "print(f'{letters=}')\n",
    "# letters[0]='e'\n",
    "print(f'{letters[0]=}')\n",
    "# letters[1]='b'\n",
    "print(f'{letters[1]=}')\n",
    "# letters[2]='a'\n",
    "print(f'{letters[2]=}')\n",
    "\n",
    "# mutates values\n",
    "letters[3] = 'o'\n",
    "letters[4] = 'f'\n",
    "letters[5] = 'k'\n",
    "\n",
    "# letters[1:3]=['b', 'a']\n",
    "print(f'{letters[1:3]=}')\n",
    "# letters[3:6]=['o', 'f', 'k']\n",
    "print(f'{letters[3:6]=}')\n",
    "# letters[:5]=['e', 'b', 'a', 'o', 'f']\n",
    "print(f'{letters[:5]=}')\n"
   ]
  },
  {
   "cell_type": "markdown",
   "metadata": {},
   "source": [
    "## Tuple\n",
    "\n",
    "An immutable and ordered collection of objects. Once a tuple is created, it can't be modified. Similar to lists, but using parentheses instead of square brackets."
   ]
  },
  {
   "cell_type": "code",
   "execution_count": null,
   "metadata": {},
   "outputs": [],
   "source": [
    "# singleton tuple\n",
    "numbers: tuple[int] = (1,)\n",
    "\n",
    "print(f'{numbers = }')\n"
   ]
  },
  {
   "cell_type": "code",
   "execution_count": null,
   "metadata": {},
   "outputs": [],
   "source": [
    "letters: tuple[int] = ('e', 'b', 'a', 'd', 'f', 'c')\n",
    "\n",
    "# methods\n",
    "print(f\"{letters.count('a') = }\")\n",
    "print(f\"{letters.index('b') = }\")\n",
    "\n",
    "# indexing\n",
    "print(f\"{letters[0] = }\")\n",
    "print(f\"{letters[-1] = }\")\n",
    "\n",
    "# slicing\n",
    "print(f\"{letters[0:2] = }\")\n",
    "print(f\"{letters[1:3] = }\")\n",
    "\n",
    "print(f\"{len(letters) = }\")\n",
    "\n",
    "# sorted letters tuple\n",
    "print(f\"{tuple(sorted(letters)) = }\")\n",
    "\n",
    "# sorted letters tuple with 'g' & 'h'\n",
    "print(f\"{tuple(sorted(letters + ( 'g', 'h' ))) = }\")\n"
   ]
  }
 ],
 "metadata": {
  "interpreter": {
   "hash": "8bfdcd2cc888dbc98ffcff3cf621025027ffe71c6f18c0bca769d24baae26b7f"
  },
  "kernelspec": {
   "display_name": "Python 3.10.4 64-bit",
   "language": "python",
   "name": "python3"
  },
  "language_info": {
   "codemirror_mode": {
    "name": "ipython",
    "version": 3
   },
   "file_extension": ".py",
   "mimetype": "text/x-python",
   "name": "python",
   "nbconvert_exporter": "python",
   "pygments_lexer": "ipython3",
   "version": "3.10.4"
  },
  "orig_nbformat": 4
 },
 "nbformat": 4,
 "nbformat_minor": 2
}
