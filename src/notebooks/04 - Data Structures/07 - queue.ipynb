{
 "cells": [
  {
   "cell_type": "markdown",
   "metadata": {},
   "source": [
    "# Queue\n",
    "\n",
    "According to <a href='https://realpython.com/python-deque/'>Leodanis Pozo Ramos</a>, <q>Queues are collections of items. You can modify queues by adding items at one end and removing items from the opposite end. Queues manage their items in a First-In/First-Out (FIFO) fashion.</q>"
   ]
  },
  {
   "cell_type": "markdown",
   "metadata": {},
   "source": [
    "## Concept\n",
    "\n",
    "Any queue must have two references of the first value, called <i>rear</i> or <i>back</i> and a reference to the last value, called <i>front</i>. This approach improves performance when appending or deleting from both ends. Any queue should perform these fundamental operations:\n",
    "  - Enqueue: Add an element to the <i>rear</i>.\n",
    "  - Dequeue: Pops an element from the <i>front</i>\n",
    "  - Empty: Check if the queue is empty.\n",
    "  - Full: Check if the queue is full."
   ]
  },
  {
   "cell_type": "markdown",
   "metadata": {},
   "source": [
    "<img width=600 height=400 src=\"../../assets/img/Queue.png\">"
   ]
  },
  {
   "cell_type": "markdown",
   "metadata": {},
   "source": [
    "## Usage\n",
    "\n",
    "In Python, queue have multiple implementations using different data structures that support FIFO principal. But most of them are provided by the built-in <code>queue</code> module and provide thread safe features at the expense of performance."
   ]
  },
  {
   "cell_type": "markdown",
   "metadata": {},
   "source": [
    "### Deque\n",
    "\n",
    "Deque has queue operations built-in.\n",
    "  - Enqueue: <code>deque.append()</code>\n",
    "  - Deque: <code>deque[-1]</code>\n",
    "  - Empty: <code>if deque</code>\n",
    "  - Full: <code>len(deque) > n</code>"
   ]
  },
  {
   "cell_type": "code",
   "execution_count": null,
   "metadata": {},
   "outputs": [],
   "source": [
    "from collections import deque\n",
    "\n",
    "q = deque()\n",
    "\n",
    "q.append('a')\n",
    "q.append('b')\n",
    "q.append('c')\n",
    "\n",
    "while q:\n",
    "    print(f'{q.popleft() = }')"
   ]
  },
  {
   "cell_type": "markdown",
   "metadata": {},
   "source": [
    "### Simple Queue\n",
    "\n",
    "<code>SimpleQueue</code> can perform some queue operations, but lacks thread safe & task tracking functionality:\n",
    "  - Enqueue: <code>q.put()</code>\n",
    "  - Deque: <code>q.get()</code>\n",
    "  - Empty: <code>q.empty()</code>\n",
    "  - Full: <strong>Not supported</strong>"
   ]
  },
  {
   "cell_type": "code",
   "execution_count": null,
   "metadata": {},
   "outputs": [],
   "source": [
    "from queue import SimpleQueue\n",
    "\n",
    "q = SimpleQueue()\n",
    "\n",
    "q.put('a')\n",
    "q.put('b')\n",
    "q.put('c')\n",
    "\n",
    "while not q.empty():\n",
    "    print(f'{q.get() = }')"
   ]
  },
  {
   "cell_type": "markdown",
   "metadata": {},
   "source": [
    "### Queue\n",
    "\n",
    "<code>Queue</code> can perform all queue operations ensuring thread safety:\n",
    "  - Enqueue: <code>q.put()</code>\n",
    "  - Deque: <code>q.get()</code>\n",
    "  - Empty: <code>q.empty()</code>\n",
    "  - Full: <code>q.full()</code>"
   ]
  },
  {
   "cell_type": "code",
   "execution_count": null,
   "metadata": {},
   "outputs": [],
   "source": [
    "from queue import Queue\n",
    "\n",
    "q = Queue()\n",
    "\n",
    "q.put('a')\n",
    "q.put('b')\n",
    "q.put('c')\n",
    "\n",
    "while not q.empty():\n",
    "    print(f'{q.get() = }')"
   ]
  },
  {
   "cell_type": "markdown",
   "metadata": {},
   "source": [
    "### LIFO Queue\n",
    "\n",
    "<code>LifoQueue</code> can perform all queue operations using LIFO principal, ensures thread safety:\n",
    "  - Enqueue: <code>q.put()</code>\n",
    "  - Deque: <code>q.get()</code>\n",
    "  - Empty: <code>q.empty()</code>\n",
    "  - Full: <code>q.full()</code>"
   ]
  },
  {
   "cell_type": "code",
   "execution_count": null,
   "metadata": {},
   "outputs": [],
   "source": [
    "from queue import LifoQueue\n",
    "\n",
    "q = LifoQueue()\n",
    "\n",
    "q.put('a')\n",
    "q.put('b')\n",
    "q.put('c')\n",
    "\n",
    "while not q.empty():\n",
    "    print(f'{q.get() = }')"
   ]
  },
  {
   "cell_type": "markdown",
   "metadata": {},
   "source": [
    "### Priority Queue\n",
    "\n",
    "<code>PriorityQueue</code> can perform all queue operations. Enqueue/dequeue is similar to a <i>min-heap</i> implementation, but ensuring thread safety:\n",
    "  - Enqueue: <code>q.put()</code>\n",
    "  - Deque: <code>q.get()</code>\n",
    "  - Empty: <code>q.empty()</code>\n",
    "  - Full: <code>q.full()</code>"
   ]
  },
  {
   "cell_type": "code",
   "execution_count": null,
   "metadata": {},
   "outputs": [],
   "source": [
    "from queue import PriorityQueue\n",
    "\n",
    "q = PriorityQueue()\n",
    "\n",
    "q.put((4,'d'))\n",
    "q.put((3,'c'))\n",
    "q.put((2,'b'))\n",
    "q.put((1,'a'))\n",
    "\n",
    "while not q.empty():\n",
    "    print(f'{q.get() = }')"
   ]
  },
  {
   "cell_type": "markdown",
   "metadata": {},
   "source": [
    "## Performance\n",
    "\n",
    "Queue has many implementations with different features, picking one will depend more on application than performance e.g <code>PriorityQueue</code>. Generally, non-thread safe implementations are way faster (<code>deque</code> & <code>SimpleQueue</code>) than the thread safe versions."
   ]
  },
  {
   "cell_type": "markdown",
   "metadata": {},
   "source": [
    "### Deque\n",
    "\n",
    "A non-thread safe implementation, flexible usage and optimal performance."
   ]
  },
  {
   "cell_type": "markdown",
   "metadata": {},
   "source": [
    "| Operation | Time Complexity | Space Complexity |\n",
    "| :-------: | :-------------: | :--------------: |\n",
    "| Append   | O(1) | O(1) |\n",
    "| Popleft  | O(1) | O(1) |"
   ]
  },
  {
   "cell_type": "code",
   "execution_count": null,
   "metadata": {},
   "outputs": [],
   "source": [
    "from collections import deque\n",
    "\n",
    "q = deque()\n",
    "\n",
    "%timeit q.append(1)\n",
    "%timeit q.popleft()"
   ]
  },
  {
   "cell_type": "markdown",
   "metadata": {},
   "source": [
    "### Simple Queue\n",
    "\n",
    "A non-thread safe implementation, reduced amount of operations and excellent performance."
   ]
  },
  {
   "cell_type": "markdown",
   "metadata": {},
   "source": [
    "| Operation | Time Complexity | Space Complexity |\n",
    "| :-------: | :-------------: | :--------------: |\n",
    "| Put   | O(1) | O(1) |\n",
    "| Get   | O(1) | O(1) |\n",
    "| Empty | O(1) | O(1) |"
   ]
  },
  {
   "cell_type": "code",
   "execution_count": null,
   "metadata": {},
   "outputs": [],
   "source": [
    "from queue import SimpleQueue\n",
    "\n",
    "q = SimpleQueue()\n",
    "\n",
    "%timeit q.put(1)\n",
    "%timeit q.get()"
   ]
  },
  {
   "cell_type": "markdown",
   "metadata": {},
   "source": [
    "### Queue\n",
    "\n",
    "A slow thread safe implementation, all queue operations supported."
   ]
  },
  {
   "cell_type": "markdown",
   "metadata": {},
   "source": [
    "| Operation | Time Complexity | Space Complexity |\n",
    "| :-------: | :-------------: | :--------------: |\n",
    "| Put   | O(1) | O(1) |\n",
    "| Get   | O(1) | O(1) |\n",
    "| Empty | O(1) | O(1) |\n",
    "| Full  | O(1) | O(1) |"
   ]
  },
  {
   "cell_type": "code",
   "execution_count": null,
   "metadata": {},
   "outputs": [],
   "source": [
    "from queue import Queue\n",
    "\n",
    "q = Queue()\n",
    "\n",
    "%timeit q.put(1)\n",
    "%timeit q.get()"
   ]
  },
  {
   "cell_type": "markdown",
   "metadata": {},
   "source": [
    "### LIFO Queue\n",
    "\n",
    "A slow thread safe implementation, all queue operations supported. Similar to a <i>stack</i>."
   ]
  },
  {
   "cell_type": "markdown",
   "metadata": {},
   "source": [
    "| Operation | Time Complexity | Space Complexity |\n",
    "| :-------: | :-------------: | :--------------: |\n",
    "| Put   | O(1) | O(1) |\n",
    "| Get   | O(1) | O(1) |\n",
    "| Empty | O(1) | O(1) |\n",
    "| Full  | O(1) | O(1) |"
   ]
  },
  {
   "cell_type": "code",
   "execution_count": null,
   "metadata": {},
   "outputs": [],
   "source": [
    "from queue import LifoQueue\n",
    "\n",
    "q = LifoQueue()\n",
    "\n",
    "%timeit q.put(1)\n",
    "%timeit q.get()"
   ]
  },
  {
   "cell_type": "markdown",
   "metadata": {},
   "source": [
    "### Priority Queue\n",
    "\n",
    "A slow thread safe implementation, all queue operations supported. Similar to a <i>min-heap</i>."
   ]
  },
  {
   "cell_type": "markdown",
   "metadata": {},
   "source": [
    "| Operation | Time Complexity | Space Complexity |\n",
    "| :-------: | :-------------: | :--------------: |\n",
    "| Put   | O(n log n) | O(1) |\n",
    "| Get   | O(1)       | O(1) |\n",
    "| Empty | O(1)       | O(1) |\n",
    "| Full  | O(1)       | O(1) |"
   ]
  },
  {
   "cell_type": "code",
   "execution_count": null,
   "metadata": {},
   "outputs": [],
   "source": [
    "from queue import PriorityQueue\n",
    "\n",
    "q = PriorityQueue()\n",
    "\n",
    "%timeit q.put((1, 1))\n",
    "%timeit q.get()"
   ]
  }
 ],
 "metadata": {
  "interpreter": {
   "hash": "b49ac474cbb8e2eab12ddcec3ca625a513e12da6cc6284c839d3b1b7a7f65dd0"
  },
  "kernelspec": {
   "display_name": "Python 3.10.4 64-bit",
   "language": "python",
   "name": "python3"
  },
  "language_info": {
   "codemirror_mode": {
    "name": "ipython",
    "version": 3
   },
   "file_extension": ".py",
   "mimetype": "text/x-python",
   "name": "python",
   "nbconvert_exporter": "python",
   "pygments_lexer": "ipython3",
   "version": "3.10.4"
  },
  "orig_nbformat": 4
 },
 "nbformat": 4,
 "nbformat_minor": 2
}
