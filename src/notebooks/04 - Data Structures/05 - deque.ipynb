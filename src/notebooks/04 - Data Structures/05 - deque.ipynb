{
 "cells": [
  {
   "cell_type": "markdown",
   "metadata": {},
   "source": [
    "# Deque\n",
    "\n",
    "According to <a href='https://realpython.com/linked-lists-python/'>Pedro Pregueiro</a>, a linked list is an ordered collection of objects, that differs from a list in the way that they store elements in memory. While lists use a contiguous memory block to store references to their data, a linked list is a collection of <i>nodes</i> that holds references to the <i>next node</i> and their <i>value</i>. This approach improves performance when inserting, deleting and appending elements at the front of the linked list. "
   ]
  },
  {
   "cell_type": "markdown",
   "metadata": {},
   "source": [
    "## Concept\n",
    "\n",
    "Each element of a linked list is called a <i>node</i>, and every node has two attributes: the value to be stored & the reference to the <i>next node</i> (<code>None</code> for last <i>node</i>). The first node is called <i>head</i>, it's used internally to reassign references of other <i>nodes</i> when inserting, deleting & appending."
   ]
  },
  {
   "cell_type": "markdown",
   "metadata": {},
   "source": [
    "<img width=650 height=200 src=\"../../assets/img/Singly Linked List.png\">"
   ]
  },
  {
   "cell_type": "markdown",
   "metadata": {},
   "source": [
    "There are multiple possible implementations of a linked list, but <code>deque</code> uses a <i>doubly linked list</i>. Here a deep explanation from <a href='https://youtu.be/ZlNKNSz88Nk'>Blue Tree Code</a>\n",
    "\n",
    "<img width=650 height=200 src=\"../../assets/img/Doubly Linked List.png\">"
   ]
  },
  {
   "cell_type": "markdown",
   "metadata": {},
   "source": [
    "## Usage\n",
    "\n",
    "In Python, the <code>collections</code> module provide a built-in linked list called <code>deque</code> (pronounced <i>deck</i>). It can be <i>instantiated</i> with an <i>iterable</i> and <code>maxlen</code>."
   ]
  },
  {
   "cell_type": "code",
   "execution_count": null,
   "metadata": {},
   "outputs": [],
   "source": [
    "from collections import deque\n",
    "\n",
    "iterable = ['a', 'b', 'c', 'd']\n",
    "\n",
    "d1 = deque()\n",
    "d2 = deque(iterable)\n",
    "d3 = deque(iterable, maxlen=4)\n",
    "\n",
    "# deque([])\n",
    "print(d1)\n",
    "# deque(['a', 'b', 'c', 'd'])\n",
    "print(d2)\n",
    "# deque(['a', 'b', 'c', 'd'], maxlen=4)\n",
    "print(d3)\n"
   ]
  },
  {
   "cell_type": "markdown",
   "metadata": {},
   "source": [
    "### Indexing\n",
    "\n",
    "An element can be accessed/deleted by index."
   ]
  },
  {
   "cell_type": "code",
   "execution_count": null,
   "metadata": {},
   "outputs": [],
   "source": [
    "from collections import deque\n",
    "\n",
    "d = deque(['d', 'e', 'f', 'g', 'h', 'i', 'j'])\n",
    "\n",
    "# d[0]='d'\n",
    "print(f'{d[0]=}')\n",
    "# d[1]='e'\n",
    "print(f'{d[1]=}')\n",
    "# d[2]='f'\n",
    "print(f'{d[2]=}')\n",
    "\n",
    "del d[0]\n",
    "# deque(['e', 'f', 'g', 'h', 'i', 'j'])\n",
    "print(d)\n",
    "\n",
    "# reassign values\n",
    "d[0] = 'a'\n",
    "d[1] = 'b'\n",
    "d[2] = 'c'\n",
    "\n",
    "# deque(['a', 'b', 'c', 'h', 'i', 'j'])\n",
    "print(d)"
   ]
  },
  {
   "cell_type": "markdown",
   "metadata": {},
   "source": [
    "### Slicing\n",
    "\n",
    "A slice of elements can be obtained using <code>itertools</code>."
   ]
  },
  {
   "cell_type": "code",
   "execution_count": null,
   "metadata": {},
   "outputs": [],
   "source": [
    "from collections import deque\n",
    "from itertools import islice\n",
    "\n",
    "q = deque(['a', 'b', 'c', 'd'])\n",
    "\n",
    "for elem in islice(q, 1, 3):\n",
    "    print(elem)"
   ]
  },
  {
   "cell_type": "markdown",
   "metadata": {},
   "source": [
    "### Methods\n",
    "\n",
    " As other objects, <code>deque</code> have built-in methods that support appending, removing, inserting & rotating elements."
   ]
  },
  {
   "cell_type": "markdown",
   "metadata": {},
   "source": [
    "#### Len\n",
    "\n",
    "Gets the length of an iterable."
   ]
  },
  {
   "cell_type": "code",
   "execution_count": null,
   "metadata": {},
   "outputs": [],
   "source": [
    "from collections import deque\n",
    "\n",
    "d = deque(['d', 'e', 'f', 'g'])\n",
    "\n",
    "print(f'{len(d) = }')\n"
   ]
  },
  {
   "cell_type": "markdown",
   "metadata": {},
   "source": [
    "#### Sorted\n",
    "\n",
    "Sorts the elements of an iterable."
   ]
  },
  {
   "cell_type": "code",
   "execution_count": null,
   "metadata": {},
   "outputs": [],
   "source": [
    "from collections import deque\n",
    "\n",
    "d = deque(['e', 'd', 'g', 'f'])\n",
    "\n",
    "print(f'{sorted(d) = }')\n"
   ]
  },
  {
   "cell_type": "markdown",
   "metadata": {},
   "source": [
    "#### Appending\n",
    "\n",
    "Even though linked lists are meant to perform faster when appending elements at the front, and slower at the end. <code>deque</code> supports <code>appendleft</code> (at front) and <code>append</code> (at end)."
   ]
  },
  {
   "cell_type": "code",
   "execution_count": null,
   "metadata": {},
   "outputs": [],
   "source": [
    "from collections import deque\n",
    "\n",
    "d = deque(['d', 'e', 'f', 'g'])\n",
    "\n",
    "d.appendleft('c')\n",
    "d.append('h')\n",
    "\n",
    "# deque(['c', 'd', 'e', 'f', 'g', 'h'])\n",
    "print(d)\n"
   ]
  },
  {
   "cell_type": "markdown",
   "metadata": {},
   "source": [
    "#### Extending\n",
    "\n",
    "Similar case of appending, <code>extendleft</code> (reversed iterable at front) and <code>extend</code> (iterable at end)."
   ]
  },
  {
   "cell_type": "code",
   "execution_count": null,
   "metadata": {},
   "outputs": [],
   "source": [
    "from collections import deque\n",
    "\n",
    "d = deque(['d', 'e', 'f', 'g'])\n",
    "\n",
    "# use list.reverse or list[::-1]\n",
    "d.extendleft(['a', 'b', 'c'][::-1])\n",
    "d.extend(['j', 'k'])\n",
    "\n",
    "# deque(['a', 'b', 'c', 'd', 'e', 'f', 'g', 'j', 'k'])\n",
    "print(d)\n"
   ]
  },
  {
   "cell_type": "markdown",
   "metadata": {},
   "source": [
    "#### Popping\n",
    "\n",
    "Similar case of appending, <code>popleft</code> (retrieves at front) and <code>pop</code> (retrieves at end)."
   ]
  },
  {
   "cell_type": "code",
   "execution_count": null,
   "metadata": {},
   "outputs": [],
   "source": [
    "from collections import deque\n",
    "\n",
    "d = deque(['d', 'e', 'f', 'g'])\n",
    "\n",
    "# d.popleft() = 'd'\n",
    "print(f'{d.popleft() = }')\n",
    "# d.pop() = 'g'\n",
    "print(f'{d.pop() = }')\n",
    "# deque(['e', 'f'])\n",
    "print(d)\n"
   ]
  },
  {
   "cell_type": "markdown",
   "metadata": {},
   "source": [
    "#### Insert\n",
    "\n",
    "Inserts an object before a specified index. It accepts negative and out of bounds indexes."
   ]
  },
  {
   "cell_type": "code",
   "execution_count": null,
   "metadata": {},
   "outputs": [],
   "source": [
    "from collections import deque\n",
    "\n",
    "d = deque(['a', 'c', 'd', 'e'])\n",
    "\n",
    "d.insert(1, 'b')\n",
    "d.insert(5, 'f')\n",
    "\n",
    "# deque(['a', 'b', 'c', 'd', 'e', 'f'])\n",
    "print(d)\n"
   ]
  },
  {
   "cell_type": "markdown",
   "metadata": {},
   "source": [
    "#### Index\n",
    "\n",
    "Gets the first occurrence index of value from start to end. Raises <code>ValueError</code> if the value is not present."
   ]
  },
  {
   "cell_type": "code",
   "execution_count": null,
   "metadata": {},
   "outputs": [],
   "source": [
    "from collections import deque\n",
    "\n",
    "d = deque(['d', 'e', 'f', 'g'])\n",
    "\n",
    "print(f\"{d.index('e') = }\")\n",
    "print(f\"{d.index('f') = }\")\n"
   ]
  },
  {
   "cell_type": "markdown",
   "metadata": {},
   "source": [
    "#### Remove\n",
    "\n",
    "Removes the first occurrence of a value from start to end."
   ]
  },
  {
   "cell_type": "code",
   "execution_count": null,
   "metadata": {},
   "outputs": [],
   "source": [
    "from collections import deque\n",
    "\n",
    "d = deque(['a', 'b', 'c', 'z'])\n",
    "\n",
    "d.remove('z')\n",
    "\n",
    "# deque(['a', 'b', 'c'])\n",
    "print(d)\n"
   ]
  },
  {
   "cell_type": "markdown",
   "metadata": {},
   "source": [
    "#### Clear\n",
    "\n",
    "Removes all elements."
   ]
  },
  {
   "cell_type": "code",
   "execution_count": null,
   "metadata": {},
   "outputs": [],
   "source": [
    "from collections import deque\n",
    "\n",
    "d = deque(['a', 'b', 'c', 'd'])\n",
    "\n",
    "d.clear()\n",
    "\n",
    "# deque([])\n",
    "print(d)\n"
   ]
  },
  {
   "cell_type": "markdown",
   "metadata": {},
   "source": [
    "#### Rotate\n",
    "\n",
    "Offsets elements n-times (default <code>1</code>) to the right (positive) or left (negative)."
   ]
  },
  {
   "cell_type": "code",
   "execution_count": null,
   "metadata": {},
   "outputs": [],
   "source": [
    "from collections import deque\n",
    "\n",
    "d1 = deque(['a', 'b', 'c', 'd', 'e', 'f'])\n",
    "d2 = d1.copy()\n",
    "d3 = d1.copy()\n",
    "\n",
    "d2.rotate(2)\n",
    "d3.rotate(-2)\n",
    "\n",
    "print(f'{d1 = }')\n",
    "print(f'{d2 = }')\n",
    "print(f'{d3 = }')\n"
   ]
  },
  {
   "cell_type": "markdown",
   "metadata": {},
   "source": [
    "## Performance\n",
    "\n",
    "As mentioned earlier, inserting, deleting and appending elements at the front in a linked list is faster because creating a new <i>reference</i> is a <i>constant time operation</i>, due to other implementation details e.g C++ optimization, the general performance is better than lists."
   ]
  },
  {
   "cell_type": "markdown",
   "metadata": {},
   "source": [
    "| Operation | Time Complexity | Space Complexity |\n",
    "| :-------: | :-------------: | :--------------: |\n",
    "| Append Left | O(1) | O(1) |\n",
    "| Append      | O(1) | O(1) |\n",
    "| Insert      | O(n) | O(1) |\n",
    "| Pop Left    | O(1) | O(1) |\n",
    "| Pop         | O(1) | O(1) |\n",
    "| Remove      | O(n) | O(1) |\n",
    "| Rotate      | O(k) | O(1) |"
   ]
  },
  {
   "cell_type": "code",
   "execution_count": null,
   "metadata": {},
   "outputs": [],
   "source": [
    "from collections import deque\n",
    "from sys import getsizeof\n",
    "\n",
    "d = deque(range(1000000))\n",
    "\n",
    "print(f'Size: {getsizeof(d)/float(1024**2):.2f}Mb')\n",
    "\n",
    "\n",
    "def rotate(d):\n",
    "    d.rotate(-500000)\n",
    "    d.popleft()\n",
    "\n",
    "\n",
    "# Insert at Front\n",
    "%timeit d.appendleft(7)\n",
    "# Insert at End\n",
    "%timeit d.append(7)\n",
    "# Insert at Middle\n",
    "%timeit d.insert(500000, 7)\n",
    "# Delete at Front\n",
    "%timeit d.popleft()\n",
    "# Delete at End\n",
    "%timeit d.pop()\n",
    "# Delete at Middle\n",
    "%timeit -r 1 -n 1 d.remove(500000)\n",
    "# Rotate & Pop\n",
    "%timeit rotate(d)\n",
    "\n",
    "del d\n"
   ]
  },
  {
   "cell_type": "code",
   "execution_count": null,
   "metadata": {},
   "outputs": [],
   "source": [
    "from sys import getsizeof\n",
    "\n",
    "l = list(range(1000000))\n",
    "\n",
    "print(f'Size: {getsizeof(l)/float(1024**2):.2f}Mb')\n",
    "\n",
    "# Insert at Front\n",
    "%timeit l.insert(0, 7)\n",
    "# Insert at End\n",
    "%timeit l.append(7)\n",
    "# Insert at Middle\n",
    "%timeit l.insert(500000, 200)\n",
    "# Delete at Front\n",
    "%timeit l.pop(0)\n",
    "# Delete at End\n",
    "%timeit l.pop()\n",
    "# Delete at Middle\n",
    "%timeit -r 1 -n 1 l.remove(500000)\n",
    "\n",
    "del l\n"
   ]
  }
 ],
 "metadata": {
  "interpreter": {
   "hash": "b49ac474cbb8e2eab12ddcec3ca625a513e12da6cc6284c839d3b1b7a7f65dd0"
  },
  "kernelspec": {
   "display_name": "Python 3.10.4 64-bit",
   "language": "python",
   "name": "python3"
  },
  "language_info": {
   "codemirror_mode": {
    "name": "ipython",
    "version": 3
   },
   "file_extension": ".py",
   "mimetype": "text/x-python",
   "name": "python",
   "nbconvert_exporter": "python",
   "pygments_lexer": "ipython3",
   "version": "3.10.4"
  },
  "orig_nbformat": 4
 },
 "nbformat": 4,
 "nbformat_minor": 2
}
