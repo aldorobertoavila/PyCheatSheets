{
 "cells": [
  {
   "cell_type": "markdown",
   "metadata": {},
   "source": [
    "# Deque\n",
    "\n",
    "According to <a href='https://realpython.com/linked-lists-python/'>Pedro Pregueiro</a>, a linked list is an ordered collection of objects, that differs from a list in the way that they store elements in memory. While lists use a contiguous memory block to store references to their data, a linked list is a collection of <i>nodes</i> that holds references to the <i>next node</i> and their <i>value</i>. This approach improves performance when inserting, deleting and appending elements. "
   ]
  },
  {
   "cell_type": "markdown",
   "metadata": {},
   "source": [
    "## Syntax\n",
    "\n",
    "In Python, the <code>collections</code> module provide a built-in linked list called <code>deque</code> (pronounced <i>deck</i>)."
   ]
  },
  {
   "cell_type": "code",
   "execution_count": null,
   "metadata": {},
   "outputs": [],
   "source": [
    "from collections import deque\n",
    "\n",
    "d = deque(['d', 'e', 'f', 'g'])\n",
    "\n",
    "d.appendleft('c')  # ['c', 'd', 'e', 'f', 'g']\n",
    "d.append('i')  # ['c', 'd', 'e', 'f', 'g', 'i']\n",
    "\n",
    "d.insert(5, 'h')  # ['c', 'd', 'e', 'f', 'g', 'h', 'i']\n",
    "d.extend(['j', 'k'])\n",
    "# use list.reverse or list[::-1]\n",
    "d.extendleft(['b', 'a'])\n",
    "\n",
    "d.rotate(5)\n",
    "d\n"
   ]
  },
  {
   "cell_type": "markdown",
   "metadata": {},
   "source": [
    "## Concepts\n",
    "\n",
    "Each element of a linked list is called a <i>node</i>, and every node has two attributes: the value to be stored & the reference to the <i>next node</i> (<code>None</code> for last <i>node</i>). The first node is called <i>head</i>, it's used internally to reassign references of other <i>nodes</i> when inserting, deleting & appending."
   ]
  },
  {
   "cell_type": "markdown",
   "metadata": {},
   "source": [
    "<img width=650 height=200 src=\"../../assets/img/Singly Linked List.png\">"
   ]
  },
  {
   "cell_type": "markdown",
   "metadata": {},
   "source": [
    "There are multiple possible implementations of a linked list, but <code>deque</code> uses a <i>doubly linked list</i>.\n",
    "\n",
    "<img width=650 height=200 src=\"../../assets/img/Doubly Linked List.png\">"
   ]
  },
  {
   "cell_type": "markdown",
   "metadata": {},
   "source": [
    "## Performance\n",
    "\n",
    "As mentioned earlier, inserting, deleting and appending elements at the front in a linked list is faster because creating a new <i>reference</i> is a <i>constant time operation</i>, due to other implementation details e.g C++ optimization, the general performance is better than lists."
   ]
  },
  {
   "cell_type": "markdown",
   "metadata": {},
   "source": [
    "| Operation | Time Complexity | Space Complexity |\n",
    "| :-------: | :-------------: | :--------------: |\n",
    "| Insert at Front     | O(1) | O(1) |\n",
    "| Insert at End       | O(n) | O(1) |\n",
    "| Insert at Middle    | O(n) | O(1) |\n",
    "| Delete Front        | O(1) | O(1) |\n",
    "| Delete End          | O(n) | O(1) |\n",
    "| Delete at Middle    | O(n) | O(1) |"
   ]
  },
  {
   "cell_type": "code",
   "execution_count": null,
   "metadata": {},
   "outputs": [],
   "source": [
    "from collections import deque\n",
    "from sys import getsizeof\n",
    "\n",
    "d = deque(range(1000000))\n",
    "\n",
    "print(f'Size: {getsizeof(d)/float(1024**2):.2f}Mb')\n",
    "\n",
    "# Insert at Front\n",
    "%timeit d.appendleft(7)\n",
    "# Insert at End\n",
    "%timeit d.append(7)\n",
    "# Insert at Middle\n",
    "%timeit d.insert(500000, 7)\n",
    "# Delete at Front\n",
    "%timeit d.popleft()\n",
    "# Delete at End\n",
    "%timeit d.pop()\n",
    "# Delete at Middle\n",
    "%timeit - r 1 - n 1 d.remove(500000)\n",
    "\n",
    "del d\n"
   ]
  },
  {
   "cell_type": "code",
   "execution_count": null,
   "metadata": {},
   "outputs": [],
   "source": [
    "from sys import getsizeof\n",
    "\n",
    "l = list(range(1000000))\n",
    "\n",
    "print(f'Size: {getsizeof(l)/float(1024**2):.2f}Mb')\n",
    "\n",
    "# Insert at Front\n",
    "%timeit l.insert(0, 7)\n",
    "# Insert at End\n",
    "%timeit l.append(7)\n",
    "# Insert at Middle\n",
    "%timeit l.insert(500000, 200)\n",
    "# Delete at Front\n",
    "%timeit l.pop(0)\n",
    "# Delete at End\n",
    "%timeit l.pop()\n",
    "# Delete at Middle\n",
    "%timeit - r 1 - n 1 l.remove(500000)\n",
    "\n",
    "\n",
    "del l\n"
   ]
  }
 ],
 "metadata": {
  "interpreter": {
   "hash": "b49ac474cbb8e2eab12ddcec3ca625a513e12da6cc6284c839d3b1b7a7f65dd0"
  },
  "kernelspec": {
   "display_name": "Python 3.10.4 64-bit",
   "language": "python",
   "name": "python3"
  },
  "language_info": {
   "codemirror_mode": {
    "name": "ipython",
    "version": 3
   },
   "file_extension": ".py",
   "mimetype": "text/x-python",
   "name": "python",
   "nbconvert_exporter": "python",
   "pygments_lexer": "ipython3",
   "version": "3.10.4"
  },
  "orig_nbformat": 4
 },
 "nbformat": 4,
 "nbformat_minor": 2
}
