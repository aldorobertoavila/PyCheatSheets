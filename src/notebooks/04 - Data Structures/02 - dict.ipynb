{
 "cells": [
  {
   "cell_type": "markdown",
   "metadata": {},
   "source": [
    "# Dictionary\n",
    "\n",
    "An unordered & mutable collection of key/value pair of objects. Similar to sets, created using key brackets, but semicolons to separate keys from values. Values can be accessed individually by their key, this is called <i>lookup</i>."
   ]
  },
  {
   "cell_type": "code",
   "execution_count": null,
   "metadata": {},
   "outputs": [],
   "source": [
    "# dictionary for a car model\n",
    "car = {'manufacturer': 'Chevrolet', 'year': 2022}\n",
    "\n",
    "# list of car model dictionaries\n",
    "cars = [\n",
    "    {'manufacturer': 'Ford', 'year': 2005},\n",
    "    {'manufacturer': 'Mitsubishi', 'year': 2000},\n",
    "    {'manufacturer': 'BMW', 'year': 2019},\n",
    "    {'manufacturer': 'Volvo', 'year': 2011}\n",
    "]\n",
    "\n",
    "# car['manufacturer']='Chevrolet'\n",
    "print(f\"{car['manufacturer']=}\")\n",
    "# cars[0]['year']=2005\n",
    "print(f\"{cars[0]['year']=}\")\n"
   ]
  },
  {
   "cell_type": "markdown",
   "metadata": {},
   "source": [
    "## Methods\n",
    "\n",
    "As other objects, dictionaries can also perform some operations using their own methods. \n",
    "  - Built-in <code>len</code> function can be used to get the length of a dictionaries.\n",
    "  - <code>del</code> keyword can delete a specified key."
   ]
  },
  {
   "cell_type": "code",
   "execution_count": null,
   "metadata": {},
   "outputs": [],
   "source": [
    "other = {'manufacturer': 'Audi', 'year': 2015}\n",
    "\n",
    "# deletes a key\n",
    "del other['manufacturer']\n",
    "\n",
    "# len(other)=1\n",
    "print(f\"{len(other)=}\")\n",
    "# other={'year': 2015}\n",
    "print(f\"{other=}\")\n"
   ]
  },
  {
   "cell_type": "markdown",
   "metadata": {},
   "source": [
    "### Get\n",
    "\n",
    "Gets a value from a key, has an option to return a default value if not present."
   ]
  },
  {
   "cell_type": "code",
   "execution_count": null,
   "metadata": {},
   "outputs": [],
   "source": [
    "# car.get('manufacturer')='Chevrolet'\n",
    "print(f\"{car.get('manufacturer')=}\")\n",
    "# car.get('color', 'red')='red'\n",
    "print(f\"{car.get('color', 'red')=}\")\n"
   ]
  },
  {
   "cell_type": "markdown",
   "metadata": {},
   "source": [
    "### Pop\n",
    "\n",
    "Retrieves the value of a key, and deletes it."
   ]
  },
  {
   "cell_type": "code",
   "execution_count": null,
   "metadata": {},
   "outputs": [],
   "source": [
    "other = {'manufacturer': 'Audi', 'year': 2015}\n",
    "\n",
    "# other.pop('manufacturer')='Audi'\n",
    "print(f\"{other.pop('manufacturer')=}\")\n",
    "# other={'year': 2015}\n",
    "print(f\"{other=}\")\n"
   ]
  },
  {
   "cell_type": "markdown",
   "metadata": {},
   "source": [
    "### Keys\n",
    "\n",
    "Gets a list of <code>dict_keys</code>."
   ]
  },
  {
   "cell_type": "code",
   "execution_count": null,
   "metadata": {},
   "outputs": [],
   "source": [
    "# car.keys()=dict_keys(['manufacturer', 'year'])\n",
    "print(f\"{car.keys()=}\")\n"
   ]
  },
  {
   "cell_type": "markdown",
   "metadata": {},
   "source": [
    "### Values\n",
    "\n",
    "Gets a list of <code>dict_values</code>."
   ]
  },
  {
   "cell_type": "code",
   "execution_count": null,
   "metadata": {},
   "outputs": [],
   "source": [
    "# car.values()=dict_values(['Chevrolet', 2022])\n",
    "print(f\"{car.values()=}\")\n"
   ]
  },
  {
   "cell_type": "markdown",
   "metadata": {},
   "source": [
    "### Items\n",
    "\n",
    "Gets a list of <code>dict_items</code>."
   ]
  },
  {
   "cell_type": "code",
   "execution_count": null,
   "metadata": {},
   "outputs": [],
   "source": [
    "# car.items()=dict_items([('manufacturer', 'Chevrolet'), ('year', 2022)])\n",
    "print(f\"{car.items()=}\")\n"
   ]
  },
  {
   "cell_type": "markdown",
   "metadata": {},
   "source": [
    "### Copy\n",
    "\n",
    "Creates a copy of the dictionary."
   ]
  },
  {
   "cell_type": "code",
   "execution_count": null,
   "metadata": {},
   "outputs": [],
   "source": [
    "other = car.copy()\n",
    "\n",
    "# other={'manufacturer': 'Chevrolet', 'year': 2022}\n",
    "print(f\"{other=}\")\n"
   ]
  }
 ],
 "metadata": {
  "interpreter": {
   "hash": "8bfdcd2cc888dbc98ffcff3cf621025027ffe71c6f18c0bca769d24baae26b7f"
  },
  "kernelspec": {
   "display_name": "Python 3.10.4 64-bit",
   "language": "python",
   "name": "python3"
  },
  "language_info": {
   "codemirror_mode": {
    "name": "ipython",
    "version": 3
   },
   "file_extension": ".py",
   "mimetype": "text/x-python",
   "name": "python",
   "nbconvert_exporter": "python",
   "pygments_lexer": "ipython3",
   "version": "3.10.4"
  },
  "orig_nbformat": 4
 },
 "nbformat": 4,
 "nbformat_minor": 2
}
