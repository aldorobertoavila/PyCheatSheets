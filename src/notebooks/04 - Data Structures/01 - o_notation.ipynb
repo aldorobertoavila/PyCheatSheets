{
 "cells": [
  {
   "cell_type": "markdown",
   "metadata": {},
   "source": [
    "# Algorithms & Data Structures\n",
    "\n",
    "Both concepts are closely related to each other, because an algorithm is needed to perform a <i>task</i> in a data structure, and therefore generate an output based on the inputs extracted from the data structure.\n",
    "\n",
    "  - An algorithm for a particular <i>task</i> can be defined as sequence of instructions, that can be executed with a given amount of resources through time or <i>performance</i>, that will generate outputs <i>correctly</i> related to the inputs e.g <i>searching a definition in a dictionary using the index or looking page per page.</i>\n",
    "\n",
    "  - A data structure is a particular way of organizing data for particular types of operation e.g <i>list of contacts from your phone or drawers to store clothes.</i>"
   ]
  },
  {
   "cell_type": "markdown",
   "metadata": {},
   "source": [
    "## Big O Notation\n",
    "\n",
    "According to the <strong>Linear Speedup Theorem</strong>, there will always be a faster algorithm in a certain <i>implementation</i> and execution context will affect its performance:\n",
    "  - Device Architecture\n",
    "  - CPU Clock Speed\n",
    "  - RAM Memory\n",
    "  - Temperature\n",
    "  - Operating System\n",
    "  - Programming Language\n",
    "\n",
    "For this reason, computer scientists opted for determining the <i>performance</i> of an algorithm based on the <i>order of growth</i>, meaning the elemental operations proportional to the number of inputs. Finally, performance analysis of an algorithm compares the best-case, average-case and worst-case scenario that defines the overall notation."
   ]
  },
  {
   "cell_type": "markdown",
   "metadata": {},
   "source": [
    "| Complexity       | Name         | Performance | Example |\n",
    "| :--------------: | :----------: | :---------: | :-----: |\n",
    "| O(1)\t           | Constant\t  | Excellent   | Dictionary Lookup |\n",
    "| O(log n)\t       | Logarithmic  | Good\t    | Binary Search     |\n",
    "| O(n)\t           | Linear\t      | Fair\t    | Linear Search     |\n",
    "| O(n log n)\t   | Linearithmic | Bad\t        | Tim Sort          |\n",
    "| O(n<sup>2</sup>) | Quadratic\t  | Horrible    | Loop 2D List      |\n",
    "| O(2<sup>n</sup>) | Exponential  | Horrible    | Fibonacci         |\n",
    "| O(n!)\t           | Factorial\t  | Horrible    | Permutations      |"
   ]
  },
  {
   "cell_type": "markdown",
   "metadata": {},
   "source": [
    "<img width=500 height=350 src=\"../../assets/img/Complexity.png\">"
   ]
  },
  {
   "cell_type": "markdown",
   "metadata": {},
   "source": [
    "### O(1)\n",
    "\n",
    "Constant time has the fastest performance, preferred when looking for a specific piece of data."
   ]
  },
  {
   "cell_type": "code",
   "execution_count": null,
   "metadata": {},
   "outputs": [],
   "source": [
    "dictionary = {'programming': 'the act or job of creating computer programs'}\n",
    "\n",
    "dictionary['programming']\n"
   ]
  },
  {
   "cell_type": "markdown",
   "metadata": {},
   "source": [
    "### O(log n)\n",
    "\n",
    "Logarithmic has the second fastest performance, the more the number of data increases, the smaller the increase in operations. "
   ]
  },
  {
   "cell_type": "code",
   "execution_count": null,
   "metadata": {},
   "outputs": [],
   "source": [
    "def binary_search(arr, low, high, target):\n",
    "    if high >= low:\n",
    "        mid = (high + low) // 2\n",
    "\n",
    "        if arr[mid] == target:\n",
    "            return mid\n",
    "        elif arr[mid] > target:\n",
    "            return binary_search(arr, low, mid - 1, target)\n",
    "        else:\n",
    "            return binary_search(arr, mid + 1, high, target)\n",
    "    else:\n",
    "        return -1\n",
    "\n",
    "\n",
    "numbers = [0, 1, 3, 5, 7, 9]\n",
    "high = len(numbers) - 1\n",
    "target = 7\n",
    "\n",
    "print(\n",
    "    f'Target {target} found at index: {binary_search(numbers, 0, high, target)}')\n"
   ]
  },
  {
   "cell_type": "markdown",
   "metadata": {},
   "source": [
    "### O(n)\n",
    "\n",
    "Linear complexity grows proportional to the number of elements."
   ]
  },
  {
   "cell_type": "code",
   "execution_count": null,
   "metadata": {},
   "outputs": [],
   "source": [
    "def linear_search(arr, target):\n",
    "    for i, val in enumerate(arr):\n",
    "        if val == target:\n",
    "            return i\n",
    "    else:\n",
    "        return -1\n",
    "\n",
    "\n",
    "numbers = [0, 1, 3, 5, 7, 9]\n",
    "target = 5\n",
    "\n",
    "print(f'Target {target} found at index: {linear_search(numbers, target)}')\n"
   ]
  },
  {
   "cell_type": "markdown",
   "metadata": {},
   "source": [
    "### O(n log n)\n",
    "\n",
    "Linearithmic grows as the number of elements and the logarithm of it."
   ]
  },
  {
   "cell_type": "code",
   "execution_count": null,
   "metadata": {},
   "outputs": [],
   "source": [
    "from random import randint\n",
    "\n",
    "numbers = [randint(0, 5) for _ in range(6)]\n",
    "\n",
    "# Python uses Tim Sort\n",
    "sorted(numbers)\n"
   ]
  },
  {
   "cell_type": "markdown",
   "metadata": {},
   "source": [
    "### O(n<sup>2</sup>)\n",
    "\n",
    "Quadratic grows as the square of the number of elements."
   ]
  },
  {
   "cell_type": "code",
   "execution_count": null,
   "metadata": {},
   "outputs": [],
   "source": [
    "matrix = [[2, 5], [4, 7]]\n",
    "\n",
    "for row in matrix:\n",
    "    for col in row:\n",
    "        print(col)\n"
   ]
  },
  {
   "cell_type": "markdown",
   "metadata": {},
   "source": [
    "### O(2<sup>n</sup>)\n",
    "\n",
    "Exponential grows as the 2 to the power of elements, the more the number of data increases, the bigger is the increase in operations. "
   ]
  },
  {
   "cell_type": "code",
   "execution_count": null,
   "metadata": {},
   "outputs": [],
   "source": [
    "from functools import cache\n",
    "\n",
    "\n",
    "@cache\n",
    "def fib(n):\n",
    "    if n in {0, 1}:\n",
    "        return n\n",
    "    return fib(n - 1) + fib(n - 2)\n",
    "\n",
    "\n",
    "fib(100)\n"
   ]
  },
  {
   "cell_type": "markdown",
   "metadata": {},
   "source": [
    "### O(n!)\n",
    "\n",
    "Factorial grows as factorial the power of elements, meaning that all values previous have to be calculated."
   ]
  },
  {
   "cell_type": "code",
   "execution_count": null,
   "metadata": {},
   "outputs": [],
   "source": [
    "from functools import cache\n",
    "\n",
    "\n",
    "@cache\n",
    "def factorial(n):\n",
    "    return 1 if n < 2 else n * factorial(n - 1)\n",
    "\n",
    "\n",
    "factorial(30)\n"
   ]
  }
 ],
 "metadata": {
  "interpreter": {
   "hash": "b49ac474cbb8e2eab12ddcec3ca625a513e12da6cc6284c839d3b1b7a7f65dd0"
  },
  "kernelspec": {
   "display_name": "Python 3.10.4 64-bit",
   "language": "python",
   "name": "python3"
  },
  "language_info": {
   "codemirror_mode": {
    "name": "ipython",
    "version": 3
   },
   "file_extension": ".py",
   "mimetype": "text/x-python",
   "name": "python",
   "nbconvert_exporter": "python",
   "pygments_lexer": "ipython3",
   "version": "3.10.4"
  },
  "orig_nbformat": 4
 },
 "nbformat": 4,
 "nbformat_minor": 2
}
