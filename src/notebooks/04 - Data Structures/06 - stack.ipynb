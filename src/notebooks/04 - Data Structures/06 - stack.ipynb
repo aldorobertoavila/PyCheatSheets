{
 "cells": [
  {
   "cell_type": "markdown",
   "metadata": {},
   "source": [
    "# Stack\n",
    "\n",
    "According to <a href='https://realpython.com/how-to-implement-python-stack/'>Jim Anderson</a>, <q>A stack is a data structure that stores items in an Last-In/First-Out manner. This is frequently referred to as LIFO. This is in contrast to a queue, which stores items in a First-In/First-Out (FIFO) manner</q>."
   ]
  },
  {
   "cell_type": "markdown",
   "metadata": {},
   "source": [
    "## Concept\n",
    "\n",
    "A stack are commonly seen in any editor when undo/redo any changes made, the last change is always undo, meanwhile the first ones remain. An stack always has a reference to the last value, called <i>top</i>. Each time a new element is appended or removed, <i>top</i> changes. For this reason, any stack should perform these fundamental operations:\n",
    "  - Push: Add an element to the <i>top</i>.\n",
    "  - Peek: Get the <i>top</i> value without removing it\n",
    "  - Pop: Remove an element from the <i>top</i>.\n",
    "  - Empty: Check if the stack is empty.\n",
    "  - Full: Check if the stack is full."
   ]
  },
  {
   "cell_type": "markdown",
   "metadata": {},
   "source": [
    "<img src=\"../../assets/img/Stack.png\">"
   ]
  },
  {
   "cell_type": "markdown",
   "metadata": {},
   "source": [
    "## Usage\n",
    "\n",
    "In Python, stacks have multiple implementations using different data structures that support LIFO principal. Each one provides unique performance for some operations & utilities for different purposes."
   ]
  },
  {
   "cell_type": "markdown",
   "metadata": {},
   "source": [
    "### List\n",
    "\n",
    "Lists have the stack operations built-in.\n",
    "  - Push: <code>list.append()</code>\n",
    "  - Peek: <code>list[-1]</code>\n",
    "  - Pop: <code>list.pop()</code>"
   ]
  },
  {
   "cell_type": "code",
   "execution_count": null,
   "metadata": {},
   "outputs": [],
   "source": [
    "stack = []\n",
    "\n",
    "stack.append('a')\n",
    "stack.append('b')\n",
    "stack.append('c')\n",
    "# stack = ['a', 'b', 'c']\n",
    "print(f'{stack = }')\n",
    "\n",
    "# stack[-1] = 'c'\n",
    "print(f'{stack[-1] = }')\n",
    "# stack.pop() = 'c'\n",
    "print(f'{stack.pop() = }')\n",
    "# stack = ['a', 'b']\n",
    "print(f'{stack = }')\n"
   ]
  },
  {
   "cell_type": "markdown",
   "metadata": {},
   "source": [
    "### Deque\n",
    "\n",
    "Deque also has the stack operations built-in.\n",
    "  - Push: <code>deque.append()</code>\n",
    "  - Peek: <code>deque[-1]</code>\n",
    "  - Pop: <code>deque.pop()</code>"
   ]
  },
  {
   "cell_type": "code",
   "execution_count": null,
   "metadata": {},
   "outputs": [],
   "source": [
    "from collections import deque\n",
    "\n",
    "stack = deque()\n",
    "\n",
    "stack.append('a')\n",
    "stack.append('b')\n",
    "stack.append('c')\n",
    "# stack = deque(['a', 'b', 'c'])\n",
    "print(f'{stack = }')\n",
    "\n",
    "# stack[-1] = 'c'\n",
    "print(f'{stack[-1] = }')\n",
    "# stack.pop() = 'c'\n",
    "print(f'{stack.pop() = }')\n",
    "# stack = deque(['a', 'b'])\n",
    "print(f'{stack = }')\n"
   ]
  },
  {
   "cell_type": "markdown",
   "metadata": {},
   "source": [
    "### LIFO Queue\n",
    "\n",
    "LIFO Queue has some of the stack operations built-in & performs them in a thread safe manner.\n",
    "  - Push: <code>queue.put()</code>\n",
    "  - Peek: <strong>Not supported</strong>\n",
    "  - Pop: <code>queue.get()</code>"
   ]
  },
  {
   "cell_type": "code",
   "execution_count": null,
   "metadata": {},
   "outputs": [],
   "source": [
    "from queue import LifoQueue\n",
    "\n",
    "stack = LifoQueue()\n",
    "\n",
    "stack.put('a')\n",
    "stack.put('b')\n",
    "stack.put('c')\n",
    "# stack.queue = ['a', 'b', 'c']\n",
    "print(f'{stack.queue = }')\n",
    "\n",
    "# stack.get() = 'c'\n",
    "print(f'{stack.get() = }')\n",
    "# stack.queue = ['a', 'b']\n",
    "print(f'{stack.queue = }')\n"
   ]
  },
  {
   "cell_type": "markdown",
   "metadata": {},
   "source": [
    "## Performance\n",
    "\n",
    "Even though these implementations are similar in usage, their performance can differ in some additional operations that each offer, but the basic stack operations have excellent performance."
   ]
  },
  {
   "cell_type": "markdown",
   "metadata": {},
   "source": [
    "### List\n",
    "\n",
    "It's the simplest implementation with excellent performance in stack operations."
   ]
  },
  {
   "cell_type": "markdown",
   "metadata": {},
   "source": [
    "| Operation | Time Complexity | Space Complexity |\n",
    "| :-------: | :-------------: | :--------------: |\n",
    "| Append | O(1) | O(1) |\n",
    "| Peek   | O(1) | O(1) |\n",
    "| Pop    | O(1) | O(1) |"
   ]
  },
  {
   "cell_type": "code",
   "execution_count": null,
   "metadata": {},
   "outputs": [],
   "source": [
    "stack = list(range(1000000))\n",
    "\n",
    "%timeit stack.append(1)\n",
    "%timeit -n 10000000 stack[-1]\n",
    "%timeit stack.pop()\n"
   ]
  },
  {
   "cell_type": "markdown",
   "metadata": {},
   "source": [
    "### Deque\n",
    "\n",
    "Minimal setup with excellent performance, allows to append/pop left too."
   ]
  },
  {
   "cell_type": "markdown",
   "metadata": {},
   "source": [
    "| Operation | Time Complexity | Space Complexity |\n",
    "| :-------: | :-------------: | :--------------: |\n",
    "| Append      | O(1) | O(1) |\n",
    "| Append Left | O(1) | O(1) |\n",
    "| Peek        | O(1) | O(1) |\n",
    "| Pop         | O(1) | O(1) |\n",
    "| Pop Left    | O(1) | O(1) |\n"
   ]
  },
  {
   "cell_type": "code",
   "execution_count": null,
   "metadata": {},
   "outputs": [],
   "source": [
    "from collections import deque\n",
    "\n",
    "stack = deque(range(1000000))\n",
    "\n",
    "%timeit stack.append(1)\n",
    "%timeit stack.appendleft(1)\n",
    "%timeit stack[-1]\n",
    "%timeit stack.pop()\n",
    "%timeit stack.popleft()\n"
   ]
  },
  {
   "cell_type": "markdown",
   "metadata": {},
   "source": [
    "### LIFO Queue\n",
    "\n",
    "Minimal setup and thread-safe. Doesn't support peek operation & way slower than list & <code>deque</code>."
   ]
  },
  {
   "cell_type": "markdown",
   "metadata": {},
   "source": [
    "| Operation | Time Complexity | Space Complexity |\n",
    "| :-------: | :-------------: | :--------------: |\n",
    "| Append    | O(1) | O(1) |\n",
    "| Get       | O(1) | O(1) |"
   ]
  },
  {
   "cell_type": "code",
   "execution_count": null,
   "metadata": {},
   "outputs": [],
   "source": [
    "from queue import LifoQueue\n",
    "\n",
    "stack = LifoQueue()\n",
    "\n",
    "%timeit stack.put(1)\n",
    "%timeit stack.get()\n"
   ]
  }
 ],
 "metadata": {
  "interpreter": {
   "hash": "b49ac474cbb8e2eab12ddcec3ca625a513e12da6cc6284c839d3b1b7a7f65dd0"
  },
  "kernelspec": {
   "display_name": "Python 3.10.4 64-bit",
   "language": "python",
   "name": "python3"
  },
  "language_info": {
   "codemirror_mode": {
    "name": "ipython",
    "version": 3
   },
   "file_extension": ".py",
   "mimetype": "text/x-python",
   "name": "python",
   "nbconvert_exporter": "python",
   "pygments_lexer": "ipython3",
   "version": "3.10.4"
  },
  "orig_nbformat": 4
 },
 "nbformat": 4,
 "nbformat_minor": 2
}
