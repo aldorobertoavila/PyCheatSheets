{
 "cells": [
  {
   "cell_type": "markdown",
   "metadata": {},
   "source": [
    "# Binary Tree\n",
    "\n",
    "An ordered and mutable data structure with dictionary-like performance. Represents <i>nodes</i> connected to edges, where one node is the <i>root</i> and the others are its <i>children</i>. Each node can have an arbitrary number of <i>child nodes</i>, in <i>binary trees</i> they can have a maximum of two nodes. Some implementations of trees are: <i>trie</i>, <i>min heap</i> & <i>max heap</i>."
   ]
  },
  {
   "cell_type": "markdown",
   "metadata": {},
   "source": [
    "## Concept\n",
    "\n",
    "Binary trees are usually implemented as <i>min heap</i> or <i>max heap</i>, defined as a complete binary tree in which the value of the <i>root</i> is the smallest or largest, respectively. A <i>complete binary tree</i> must lean towards the left & all the levels are completely filled except the lowest one."
   ]
  },
  {
   "cell_type": "markdown",
   "metadata": {},
   "source": [
    "A <i>heap</i> implementation must met the following:\n",
    "- Each time a new node is pushed, it must be placed to the lower left node that has an available child.\n",
    "- Each time a new node is pushed, the heap is <i>restored</i>, done by <i>swapping</i> elements until the <i>root</i> corresponds to the max or min value.\n",
    "- Each time a node is popped, the value at the <i>root</i> is removed and the heap restores itself."
   ]
  },
  {
   "cell_type": "markdown",
   "metadata": {},
   "source": [
    "<img width=600 height=400 src=\"../../assets/img/Min Heap.png\">"
   ]
  },
  {
   "cell_type": "markdown",
   "metadata": {},
   "source": [
    "## Usage\n",
    "\n",
    "Unfortunately, Python doesn't have a full built-in tree module. Only <i>min heap</i> is supported by <code>heapq</code>. Other implementations of trees must be done by the developer."
   ]
  },
  {
   "cell_type": "markdown",
   "metadata": {},
   "source": [
    "### Heap Queue\n",
    "\n",
    "<code>heapq</code> doesn't provide a class like <code>queue</code> does, instead it represents a heap using lists."
   ]
  },
  {
   "cell_type": "markdown",
   "metadata": {},
   "source": [
    "#### Heapify\n",
    "\n",
    "Transform list into a heap representation."
   ]
  },
  {
   "cell_type": "code",
   "execution_count": null,
   "metadata": {},
   "outputs": [],
   "source": [
    "import heapq\n",
    "\n",
    "li = [6, 5]\n",
    "\n",
    "heapq.heapify(li)\n",
    "# li = [5, 6]\n",
    "print(f'{li = }')\n"
   ]
  },
  {
   "cell_type": "markdown",
   "metadata": {},
   "source": [
    "#### Push\n",
    "\n",
    "Pushes a <code>node</code> into the heap, then it restores itself."
   ]
  },
  {
   "cell_type": "code",
   "execution_count": null,
   "metadata": {},
   "outputs": [],
   "source": [
    "import heapq\n",
    "\n",
    "li = [6, 5]\n",
    "\n",
    "heapq.heappush(li, 4)\n",
    "heapq.heappush(li, 3)\n",
    "heapq.heappush(li, 2)\n",
    "heapq.heappush(li, 1)\n",
    "\n",
    "# li = [1, 3, 2, 6, 4, 5]\n",
    "print(f'{li = }')\n"
   ]
  },
  {
   "cell_type": "markdown",
   "metadata": {},
   "source": [
    "#### Pop\n",
    "\n",
    "Pop the smallest value from the <i>root</i>, then it restores itself."
   ]
  },
  {
   "cell_type": "code",
   "execution_count": null,
   "metadata": {},
   "outputs": [],
   "source": [
    "import heapq\n",
    "\n",
    "li = [1, 7, 8, 6, 5, 3]\n",
    "\n",
    "heapq.heapify(li)\n",
    "# li = [1, 5, 3, 6, 7, 8]\n",
    "print(f'{li = }')\n",
    "\n",
    "heapq.heappop(li)\n",
    "# li = [3, 5, 8, 6, 7]\n",
    "print(f'{li = }')\n"
   ]
  },
  {
   "cell_type": "markdown",
   "metadata": {},
   "source": [
    "#### Largest & Smallest\n",
    "\n",
    "Gets a list of n-elements with the largest & smallest elements respectively."
   ]
  },
  {
   "cell_type": "code",
   "execution_count": null,
   "metadata": {},
   "outputs": [],
   "source": [
    "import heapq\n",
    "\n",
    "li = [3, 4, 8, 7]\n",
    "\n",
    "heapq.heapify(li)\n",
    "# li = [3, 4, 8, 7]\n",
    "print(f'{li = }')\n",
    "\n",
    "# heapq.nlargest(2, li) = [8, 7]\n",
    "print(f'{heapq.nlargest(2, li) = }')\n",
    "# heapq.nsmallest(2, li) = [3, 4]\n",
    "print(f'{heapq.nsmallest(2, li) = }')\n"
   ]
  },
  {
   "cell_type": "markdown",
   "metadata": {},
   "source": [
    "## Performance\n",
    "\n",
    "A heap has dictionary-like performance, but in a logarithmic complexity and usually faster than sorting a list."
   ]
  },
  {
   "cell_type": "markdown",
   "metadata": {},
   "source": [
    "| Operation | Time Complexity | Space Complexity |\n",
    "| :-------: | :-------------: | :--------------: |\n",
    "| Heapify   | O(n)      | O(n) |\n",
    "| Push      | O(log(n)) | O(1) |\n",
    "| Pop       | O(1)      | O(1) |\n",
    "| Get Largest  | O(n)      | O(n) |\n",
    "| Get Smallest | O(n)      | O(n) |"
   ]
  },
  {
   "cell_type": "code",
   "execution_count": null,
   "metadata": {},
   "outputs": [],
   "source": [
    "import heapq\n",
    "\n",
    "li = list(range(1_000_000))\n",
    "\n",
    "# Heapify\n",
    "%timeit heapq.heapify(li)\n",
    "# Push\n",
    "%timeit heapq.heappush(li, 0)\n",
    "# Pop\n",
    "%timeit heapq.heappop(li)\n",
    "# Get Largest\n",
    "%timeit heapq.nlargest(1, li)\n",
    "# Get Smallest\n",
    "%timeit heapq.nsmallest(1, li)\n",
    "\n",
    "del li"
   ]
  }
 ],
 "metadata": {
  "interpreter": {
   "hash": "b49ac474cbb8e2eab12ddcec3ca625a513e12da6cc6284c839d3b1b7a7f65dd0"
  },
  "kernelspec": {
   "display_name": "Python 3.10.4 64-bit",
   "language": "python",
   "name": "python3"
  },
  "language_info": {
   "codemirror_mode": {
    "name": "ipython",
    "version": 3
   },
   "file_extension": ".py",
   "mimetype": "text/x-python",
   "name": "python",
   "nbconvert_exporter": "python",
   "pygments_lexer": "ipython3",
   "version": "3.10.4"
  },
  "orig_nbformat": 4
 },
 "nbformat": 4,
 "nbformat_minor": 2
}
