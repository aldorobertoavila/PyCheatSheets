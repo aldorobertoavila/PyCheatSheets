{
 "cells": [
  {
   "cell_type": "markdown",
   "metadata": {},
   "source": [
    "# Big O notation"
   ]
  },
  {
   "cell_type": "markdown",
   "metadata": {},
   "source": [
    "## Factorial"
   ]
  },
  {
   "cell_type": "markdown",
   "metadata": {},
   "source": [
    "Can't process large factorials due to <code>RecursionError</code>, but way faster than <code>math.factorial</code> for numbers <strong>n < 1400</strong>. There are other algorithms to calculate large factorials, but built-in <code>C</code> implementation is faster."
   ]
  },
  {
   "cell_type": "code",
   "execution_count": null,
   "metadata": {},
   "outputs": [],
   "source": [
    "import math\n",
    "\n",
    "\n",
    "def fact(n: int):\n",
    "    return math.factorial(n)\n",
    "\n",
    "\n",
    "def factorial(n: int, look_up: dict):\n",
    "    if n not in look_up:\n",
    "        look_up[n] = n * factorial(n - 1, look_up)\n",
    "    return look_up[n]\n",
    "\n",
    "\n",
    "memo = {0: 1}\n",
    "\n",
    "# calculate a tuple of 1400 factorials\n",
    "%timeit factorial(1400, memo)\n",
    "%timeit memo.keys()\n",
    "\n",
    "# calculate a list of 1400 factorials\n",
    "%timeit[fact(n) for n in range(1400 + 1)]\n",
    "\n",
    "# memory time access vs recalculating\n",
    "%timeit memo[1400]\n",
    "%timeit fact(1400)\n",
    "\n",
    "# large-chunks of data must be deleted from memory\n",
    "del memo\n"
   ]
  }
 ],
 "metadata": {
  "interpreter": {
   "hash": "8bfdcd2cc888dbc98ffcff3cf621025027ffe71c6f18c0bca769d24baae26b7f"
  },
  "kernelspec": {
   "display_name": "Python 3.10.4 64-bit",
   "language": "python",
   "name": "python3"
  },
  "language_info": {
   "codemirror_mode": {
    "name": "ipython",
    "version": 3
   },
   "file_extension": ".py",
   "mimetype": "text/x-python",
   "name": "python",
   "nbconvert_exporter": "python",
   "pygments_lexer": "ipython3",
   "version": "3.10.4"
  },
  "orig_nbformat": 4
 },
 "nbformat": 4,
 "nbformat_minor": 2
}
