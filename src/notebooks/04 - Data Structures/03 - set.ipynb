{
 "cells": [
  {
   "cell_type": "markdown",
   "metadata": {},
   "source": [
    "# Set\n",
    "\n",
    "An unordered & mutable collection of unique objects. They work like Venn diagrams, helpful to describe memberships in collections. There's also a immutable version, called <code>frozenset</code>."
   ]
  },
  {
   "cell_type": "code",
   "execution_count": null,
   "metadata": {},
   "outputs": [],
   "source": [
    "# mutable set\n",
    "teachers: set = {'Charlotte', 'Sophia',\n",
    "                 'Roger', 'Noah', 'Eddie', 'Mark', 'Mia'}\n",
    "# immutable set\n",
    "engineers: frozenset = frozenset(\n",
    "    {'Eddie', 'Mark', 'Sophia', 'Mia', 'Alex', 'James'})\n",
    "\n",
    "print(f'{teachers = }')\n",
    "print(f'{engineers = }')\n"
   ]
  },
  {
   "cell_type": "markdown",
   "metadata": {},
   "source": [
    "## Venn Diagrams\n",
    "\n",
    "Sets can be visualized using Venn Diagrams with <code>matplotlib</code> & <code>matplotlib_venn</code>. The color palette is based on <a href='https://github.com/enkia/tokyo-night-vscode-theme/blob/master/themes/tokyo-night-color-theme.json'>Tokyo Night Theme</a>. Here some basic usage:"
   ]
  },
  {
   "cell_type": "code",
   "execution_count": null,
   "metadata": {},
   "outputs": [],
   "source": [
    "# py -m pip install matplotlib\n",
    "# py -m pip install matplotlib-venn\n",
    "from matplotlib import pyplot as plt\n",
    "from matplotlib_venn import venn2_circles, venn2_unweighted\n",
    "\n",
    "plt_font: dict = {'family': 'Century Gothic', 'size': 40}\n",
    "venn_font: dict = {'family': 'Century Gothic', 'size': 20}\n",
    "\n",
    "\n",
    "def get_teachers() -> set:\n",
    "    return {'Charlotte', 'Sophia', 'Roger', 'Noah', 'Eddie', 'Mark', 'Mia'}\n",
    "\n",
    "\n",
    "def get_engineers() -> set:\n",
    "    return {'Eddie', 'Mark', 'Sophia', 'Mia', 'Alex', 'James'}\n",
    "\n",
    "\n",
    "def show_venn(subsets, labels, colors):\n",
    "    a_circle, b_circle, a_inter, b_inter = colors\n",
    "\n",
    "    plt.rc('font', **venn_font)\n",
    "    plt.rcParams['text.color'] = '#7dcfff'\n",
    "    plt.figure(figsize=(12, 12))\n",
    "    venn = venn2_unweighted(\n",
    "        subsets=subsets, set_labels=labels, set_colors=(a_circle, b_circle))\n",
    "    venn.get_patch_by_id('A').set_alpha(0.5)\n",
    "    venn.get_patch_by_id('A').set_color(a_inter)\n",
    "    venn.get_patch_by_id('B').set_alpha(0.5)\n",
    "    venn.get_patch_by_id('B').set_color(b_inter)\n",
    "\n",
    "    circles = venn2_circles(subsets=(1, 1, 1), linewidth=2.0, color='#7dcfff')\n",
    "    plt.title(\"Professions\", fontdict=plt_font)\n",
    "    plt.show()\n"
   ]
  },
  {
   "cell_type": "markdown",
   "metadata": {},
   "source": [
    "## Methods\n",
    "\n",
    "As other objects, sets can also perform some operations using their own methods. Built-in <code>len</code> function can be used to get the length of a set."
   ]
  },
  {
   "cell_type": "code",
   "execution_count": null,
   "metadata": {},
   "outputs": [],
   "source": [
    "teachers: set = get_teachers()\n",
    "engineers: frozenset = frozenset(get_engineers())\n",
    "\n",
    "# len(teachers) = 7\n",
    "print(f'{len(teachers) = }')\n",
    "# len(engineers) = 6\n",
    "print(f'{len(engineers) = }')\n"
   ]
  },
  {
   "cell_type": "markdown",
   "metadata": {},
   "source": [
    "#### Add\n",
    "\n",
    "Appends an element, no effect if the element is already present. Not supported in <code>frozenset</code>."
   ]
  },
  {
   "cell_type": "code",
   "execution_count": null,
   "metadata": {},
   "outputs": [],
   "source": [
    "teachers: set = get_teachers()\n",
    "engineers: frozenset = frozenset(get_engineers())\n",
    "\n",
    "# add an element\n",
    "teachers.add('Olivia')\n",
    "\n",
    "try:\n",
    "    engineers.add('Liam')  # raise an AttributeError\n",
    "except AttributeError as e:\n",
    "    print(e)  # 'frozenset' object has no attribute 'add'\n",
    "\n",
    "# teachers = {'Sophia', 'Roger', 'Charlotte', 'Noah', 'Mia', 'Olivia', 'Eddie', 'Mark'}\n",
    "print(f'{teachers = }')\n",
    "# engineers = frozenset({'Sophia', 'James', 'Mia', 'Alex', 'Eddie', 'Mark'})\n",
    "print(f'{engineers = }')\n"
   ]
  },
  {
   "cell_type": "markdown",
   "metadata": {},
   "source": [
    "#### Remove\n",
    "\n",
    "Removes an element, raises an error if the element is not present. Not supported in <code>frozenset</code>."
   ]
  },
  {
   "cell_type": "code",
   "execution_count": null,
   "metadata": {},
   "outputs": [],
   "source": [
    "teachers: set = get_teachers()\n",
    "engineers: frozenset = frozenset(get_engineers())\n",
    "\n",
    "# removes a specified element\n",
    "teachers.remove('Charlotte')\n",
    "\n",
    "try:\n",
    "    engineers.remove('Mark')  # raise an AttributeError\n",
    "except AttributeError as e:\n",
    "    print(e)  # 'frozenset' object has no attribute 'remove'\n",
    "\n",
    "# teachers = {'Sophia', 'Roger', 'Noah', 'Mia', 'Eddie', 'Mark'}\n",
    "print(f'{teachers = }')\n",
    "# engineers = frozenset({'Sophia', 'James', 'Mia', 'Alex', 'Eddie', 'Mark'})\n",
    "print(f'{engineers = }')\n"
   ]
  },
  {
   "cell_type": "markdown",
   "metadata": {},
   "source": [
    "#### Clear\n",
    "\n",
    "Removes all elements. Not supported in <code>frozenset</code>."
   ]
  },
  {
   "cell_type": "code",
   "execution_count": null,
   "metadata": {},
   "outputs": [],
   "source": [
    "teachers: set = get_teachers()\n",
    "engineers: frozenset = frozenset(get_engineers())\n",
    "\n",
    "teachers.clear()\n",
    "\n",
    "try:\n",
    "    engineers.clear()  # raise an AttributeError\n",
    "except AttributeError as e:\n",
    "    print(e)  # 'frozenset' object has no attribute 'clear'\n",
    "\n",
    "# teachers = set()\n",
    "print(f'{teachers = }')\n",
    "# engineers = frozenset({'Sophia', 'James', 'Mia', 'Alex', 'Eddie', 'Mark'})\n",
    "print(f'{engineers = }')\n"
   ]
  },
  {
   "cell_type": "markdown",
   "metadata": {},
   "source": [
    "#### Disjoint\n",
    "\n",
    "Check if two sets don't have common elements."
   ]
  },
  {
   "cell_type": "code",
   "execution_count": null,
   "metadata": {},
   "outputs": [],
   "source": [
    "teachers: set = get_teachers()\n",
    "engineers: frozenset = frozenset(get_engineers())\n",
    "\n",
    "# teachers.isdisjoint(engineers) = False\n",
    "print(f'{teachers.isdisjoint(engineers) = }')\n",
    "# not teachers.isdisjoint(engineers) = True\n",
    "print(f'{not teachers.isdisjoint(engineers) = }')\n"
   ]
  },
  {
   "cell_type": "markdown",
   "metadata": {},
   "source": [
    "#### Pop\n",
    "\n",
    "Removes a random element and returns it. Not supported in <code>frozenset</code>."
   ]
  },
  {
   "cell_type": "code",
   "execution_count": null,
   "metadata": {},
   "outputs": [],
   "source": [
    "teachers: set = get_teachers()\n",
    "engineers: frozenset = frozenset(get_engineers())\n",
    "\n",
    "print(f'{teachers.pop() = }')\n",
    "\n",
    "try:\n",
    "    print(f'{engineers.pop() = }')  # raise an AttributeError\n",
    "except AttributeError as e:\n",
    "    print(e)  # 'frozenset' object has no attribute 'pop'\n",
    "\n",
    "\n",
    "print(f'{teachers = }')\n",
    "print(f'{engineers = }')\n"
   ]
  },
  {
   "cell_type": "markdown",
   "metadata": {},
   "source": [
    "#### Intersection\n",
    "\n",
    "Get the common elements, use <code>&</code> for two or multiple sets and <code>intersection</code> allows a single <code>Iterable</code>."
   ]
  },
  {
   "cell_type": "code",
   "execution_count": null,
   "metadata": {},
   "outputs": [],
   "source": [
    "teachers: set = get_teachers()\n",
    "engineers: set = get_engineers()\n",
    "\n",
    "# intersect = {'Mia', 'Mark', 'Eddie', 'Sophia'}\n",
    "print(f'{teachers & engineers = }')\n",
    "print(f'{teachers.intersection(engineers) = }')\n",
    "\n",
    "# casting engineers frozenset to set\n",
    "show_venn(subsets=[teachers, engineers], labels=(\n",
    "    'Teachers', 'Engineers'), colors=('#9ece6a', '#0db9d7', '#1a1b26', '#1a1b26'))\n"
   ]
  },
  {
   "cell_type": "markdown",
   "metadata": {},
   "source": [
    "#### Union\n",
    "\n",
    "Merge elements into a single set, use <code>|</code> for two or multiple sets and <code>union</code> allows a single <code>Iterable</code>."
   ]
  },
  {
   "cell_type": "code",
   "execution_count": null,
   "metadata": {},
   "outputs": [],
   "source": [
    "teachers: set = get_teachers()\n",
    "engineers: set = get_engineers()\n",
    "\n",
    "# union = {'Sophia', 'Charlotte', 'Alex', 'Mark', 'Roger', 'Noah', 'Eddie', 'James', 'Mia'}\n",
    "print(f'{teachers | engineers = }')\n",
    "print(f'{teachers.union(engineers) = }')\n",
    "\n",
    "show_venn(subsets=[teachers, engineers], labels=(\n",
    "    'Teachers', 'Engineers'), colors=('#0db9d7', '#0db9d7', '#0db9d7', '#0db9d7'))\n"
   ]
  },
  {
   "cell_type": "markdown",
   "metadata": {},
   "source": [
    "#### Difference\n",
    "\n",
    "Get the difference between sets, use <code>-</code> for two or multiple sets and <code>difference</code> allows a single <code>Iterable</code>."
   ]
  },
  {
   "cell_type": "code",
   "execution_count": null,
   "metadata": {},
   "outputs": [],
   "source": [
    "teachers: set = get_teachers()\n",
    "engineers: set = get_engineers()\n",
    "\n",
    "# difference = {'Noah', 'Roger', 'Charlotte'}\n",
    "print(f'{teachers - engineers = }')\n",
    "print(f'{teachers.difference(engineers) = }')\n",
    "\n",
    "show_venn(subsets=[teachers, engineers], labels=(\n",
    "    'Teachers', 'Engineers'), colors=('#1a1b26', '#1a1b26', '#9ece6a', '#1a1b26'))\n"
   ]
  },
  {
   "cell_type": "markdown",
   "metadata": {},
   "source": [
    "#### Superset\n",
    "\n",
    "Check if set is a superset of another.  Use <code>></code> for two or multiple sets and <code>issuperset</code> allows a single <code>Iterable</code>."
   ]
  },
  {
   "cell_type": "code",
   "execution_count": null,
   "metadata": {},
   "outputs": [],
   "source": [
    "doctors: set = {'Liam', 'David', 'Elizabeth', 'Thomas'}\n",
    "dermatologists: set = {'Elizabeth', 'David'}\n",
    "\n",
    "# doctors > dermatologists = True\n",
    "print(f'{doctors > dermatologists = }')\n",
    "# doctors.issuperset(dermatologists) = True\n",
    "print(f'{doctors.issuperset(dermatologists) = }')\n",
    "\n",
    "show_venn(subsets=[doctors, dermatologists], labels=(\n",
    "    'Doctors', 'Dermatologists'), colors=('#9ece6a', '#1a1b26', '#9ece6a', '#1a1b26'))\n"
   ]
  },
  {
   "cell_type": "markdown",
   "metadata": {},
   "source": [
    "#### Subset\n",
    "\n",
    "Check if set is a subset of another.  Use <code><</code> for two or multiple sets and <code>issubset</code> allows a single <code>Iterable</code>."
   ]
  },
  {
   "cell_type": "code",
   "execution_count": null,
   "metadata": {},
   "outputs": [],
   "source": [
    "# dermatologists < doctors = True\n",
    "print(f'{dermatologists < doctors = }')\n",
    "# dermatologists.issubset(doctors) = True\n",
    "print(f'{dermatologists.issubset(doctors) = }')\n",
    "\n",
    "show_venn(subsets=[doctors, dermatologists], labels=(\n",
    "    'Doctors', 'Dermatologists'), colors=('#1a1b26', '#0db9d7', '#1a1b26', '#0db9d7'))\n"
   ]
  }
 ],
 "metadata": {
  "interpreter": {
   "hash": "8bfdcd2cc888dbc98ffcff3cf621025027ffe71c6f18c0bca769d24baae26b7f"
  },
  "kernelspec": {
   "display_name": "Python 3.10.4 64-bit",
   "language": "python",
   "name": "python3"
  },
  "language_info": {
   "codemirror_mode": {
    "name": "ipython",
    "version": 3
   },
   "file_extension": ".py",
   "mimetype": "text/x-python",
   "name": "python",
   "nbconvert_exporter": "python",
   "pygments_lexer": "ipython3",
   "version": "3.10.4"
  },
  "orig_nbformat": 4
 },
 "nbformat": 4,
 "nbformat_minor": 2
}
