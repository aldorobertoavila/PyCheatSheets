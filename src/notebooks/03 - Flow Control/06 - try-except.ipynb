{
 "cells": [
  {
   "cell_type": "markdown",
   "metadata": {},
   "source": [
    "# Error Handling\n",
    "\n",
    "According to <a href='https://realpython.com/python-exceptions/'>Said van de Klundert</a>, <q>In Python, an error can be a syntax error or an exception. [...] Syntax errors occur when the parser detects an incorrect statement.</q> And about an exception, <q>[...] occurs whenever syntactically correct Python code results in an error.</q>"
   ]
  },
  {
   "cell_type": "markdown",
   "metadata": {},
   "source": [
    "## Syntax\n",
    "\n",
    "<font color='#bb9af7'>try</font> statement declares a block of code that can raise any exception, meanwhile the <font color='#bb9af7'>except</font> statement handles exceptions."
   ]
  },
  {
   "cell_type": "code",
   "execution_count": null,
   "metadata": {},
   "outputs": [],
   "source": [
    "try:\n",
    "    pass\n",
    "except:\n",
    "    pass"
   ]
  },
  {
   "cell_type": "markdown",
   "metadata": {},
   "source": [
    "<font color='#bb9af7'>except</font> can be used multiple times to handle each type of exception individually."
   ]
  },
  {
   "cell_type": "code",
   "execution_count": null,
   "metadata": {},
   "outputs": [],
   "source": [
    "try:\n",
    "    pass\n",
    "except ValueError:\n",
    "    pass\n",
    "except TypeError:\n",
    "    pass"
   ]
  },
  {
   "cell_type": "markdown",
   "metadata": {},
   "source": [
    "### As\n",
    "\n",
    "<font color='#bb9af7'>as</font> keyword can be used to alias the exception into a variable."
   ]
  },
  {
   "cell_type": "code",
   "execution_count": null,
   "metadata": {},
   "outputs": [],
   "source": [
    "try:\n",
    "    int('foo')\n",
    "except ValueError as e:\n",
    "    # invalid literal for int() with base 10: 'foo'\n",
    "    print(e)"
   ]
  },
  {
   "cell_type": "markdown",
   "metadata": {},
   "source": [
    "### Else\n",
    "\n",
    "<font color='#bb9af7'>else</font> statement can be use to execute code if the result was successful."
   ]
  },
  {
   "cell_type": "code",
   "execution_count": null,
   "metadata": {},
   "outputs": [],
   "source": [
    "text: str = input('Enter any number')\n",
    "number: int = 0\n",
    "\n",
    "try:\n",
    "    number = int(text)\n",
    "except ValueError:\n",
    "    print(f'Cannot parse to int: {text}')\n",
    "else:\n",
    "    print(f'Successfully parsed {number} to int.')"
   ]
  },
  {
   "cell_type": "markdown",
   "metadata": {},
   "source": [
    "### Finally\n",
    "\n",
    "<font color='#bb9af7'>finally</font> statement can be use to always execute code, the result doesn't matter. Often used in communication & file clean up."
   ]
  },
  {
   "cell_type": "code",
   "execution_count": null,
   "metadata": {},
   "outputs": [],
   "source": [
    "import dotenv\n",
    "import os\n",
    "\n",
    "FILENAME = 'finally.txt'\n",
    "\n",
    "dotenv.load_dotenv()\n",
    "folder = os.getenv('TEMP_FOLDER')\n",
    "path = os.path.join(folder, FILENAME)\n",
    "\n",
    "text: str = input('Enter any number')\n",
    "number: int = 0\n",
    "\n",
    "file = open(path, \"a\")\n",
    "\n",
    "try:\n",
    "    number = int(text)\n",
    "    file.write(f'{number}\\n')\n",
    "except ValueError:\n",
    "    print(f'Cannot parse to int: {text}')\n",
    "finally:\n",
    "    file.close()"
   ]
  },
  {
   "cell_type": "markdown",
   "metadata": {},
   "source": [
    "Not all exceptions should be catch nor thrown, here some <a href='https://docs.python.org/3/library/exceptions.html'>built-in</a> exceptions.\n",
    "\n",
    "| Name | Description |\n",
    "| ---- | ----------- |\n",
    "| ArithmeticError | Base class for arithmetic errors. |\n",
    "| OverflowError | Number too large to be represented. |\n",
    "| KeyError | Mapping key not found. |\n",
    "| IndexError | Sequence index out of range. |\n",
    "| FileNotFoundError | File not found. |\n",
    "| PermissionError | Not enough permissions. |\n",
    "| TimeoutError | Timeout expired. |\n",
    "| ValueError | Inappropriate argument value (of correct type). |\n",
    "| UnicodeError | Unicode related error. |\n",
    "| TypeError | Inappropriate argument type. |"
   ]
  },
  {
   "cell_type": "markdown",
   "metadata": {},
   "source": [
    "## Example\n",
    "\n",
    "Sometimes exceptions may come from anywhere when we are working on certain context, like file management or networking, handling multiple cases will prevent our program from crashing. "
   ]
  },
  {
   "cell_type": "markdown",
   "metadata": {},
   "source": [
    "### Read numbers from a File\n",
    "\n",
    "In the following example, a file tries to be opened to extract the first ten rows to parse them to integer numbers, finally sums the total of those numbers. Some situations that may occur: the file may not exist, or the rows are insufficient, or they cannot be parsed to integers."
   ]
  },
  {
   "cell_type": "code",
   "execution_count": null,
   "metadata": {},
   "outputs": [],
   "source": [
    "import dotenv\n",
    "import os\n",
    "\n",
    "FILENAME = 'try.csv'\n",
    "ROWS = 10\n",
    "\n",
    "dotenv.load_dotenv()\n",
    "folder = os.getenv('TEMP_FOLDER')\n",
    "path = os.path.join(folder, FILENAME)\n",
    "\n",
    "def read_file(path):\n",
    "    for row in open(path, \"r\"):\n",
    "        yield row\n",
    "\n",
    "row_index: int = 0\n",
    "total_sum: int = 0\n",
    "\n",
    "try:\n",
    "    generator = read_file(path)\n",
    "    # extracts first 10 rows\n",
    "    rows = [ next(generator) for _ in range(ROWS) ]\n",
    "\n",
    "    for row in rows:\n",
    "        number = int(row)\n",
    "        row_index += 1\n",
    "        total_sum += number\n",
    "\n",
    "    print(f'Total sum is: {total_sum:,}')\n",
    "\n",
    "except FileNotFoundError:\n",
    "    print(f'File not found in temp folder: {FILENAME}')\n",
    "except OSError:\n",
    "    print(f'Could not open/read file: {FILENAME}')\n",
    "except StopIteration:\n",
    "    print(f'Not enough rows to extract, at least must be {ROWS}')\n",
    "except ValueError:\n",
    "    print(f'Cannot parse row (index = {row_index}) to int')"
   ]
  }
 ],
 "metadata": {
  "interpreter": {
   "hash": "8bfdcd2cc888dbc98ffcff3cf621025027ffe71c6f18c0bca769d24baae26b7f"
  },
  "kernelspec": {
   "display_name": "Python 3.10.4 64-bit",
   "language": "python",
   "name": "python3"
  },
  "language_info": {
   "codemirror_mode": {
    "name": "ipython",
    "version": 3
   },
   "file_extension": ".py",
   "mimetype": "text/x-python",
   "name": "python",
   "nbconvert_exporter": "python",
   "pygments_lexer": "ipython3",
   "version": "3.10.4"
  },
  "orig_nbformat": 4
 },
 "nbformat": 4,
 "nbformat_minor": 2
}
