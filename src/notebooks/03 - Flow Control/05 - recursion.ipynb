{
 "cells": [
  {
   "cell_type": "markdown",
   "metadata": {},
   "source": [
    "# Recursion\n",
    "\n",
    "Defined as the self-reference of a function inside itself to create an indefinite  loop."
   ]
  },
  {
   "cell_type": "markdown",
   "metadata": {},
   "source": [
    "## When to use it?\n",
    "\n",
    "According to <a>John Sturtz</a>, <q>On the other hand, recursion isn’t for every situation. Here are some other factors to consider:</q>\n",
    "\n",
    "  - For some problems, a recursive solution, though possible, will be awkward rather than elegant.\n",
    "  - Recursive implementations often consume more memory than non-recursive ones.\n",
    "  - In some cases, using recursion may result in slower execution time.\n",
    "\n",
    "<q>Typically, the readability of the code will be the biggest determining factor.</q>"
   ]
  },
  {
   "cell_type": "markdown",
   "metadata": {},
   "source": [
    "## Examples\n",
    "\n",
    "Even though recursion may be slower by its own, memorization can improve its runtime. This factorial implementation is faster than built-in because of it, but it can't process <strong>n > 1400</strong>, depends on your interpreter, due to <code>RecursionError</code>."
   ]
  },
  {
   "cell_type": "markdown",
   "metadata": {},
   "source": [
    "### Factorial\n",
    "\n",
    "Both implementation of factorial work with memorization, both implicit and explicit. The first version uses implicit memorization with <code>@cache</code> and creates a single value factorial."
   ]
  },
  {
   "cell_type": "code",
   "execution_count": null,
   "metadata": {},
   "outputs": [],
   "source": [
    "from functools import cache\n",
    "import math\n",
    "\n",
    "def fact(n: int):\n",
    "    return math.factorial(n)\n",
    "\n",
    "@cache\n",
    "def factorial(n):\n",
    "    return 1 if n < 2 else n * factorial(n - 1)\n",
    "\n",
    "%timeit factorial(1400)\n",
    "%timeit fact(1400)"
   ]
  },
  {
   "cell_type": "markdown",
   "metadata": {},
   "source": [
    "The second version uses explicit memorization and creates a dictionary with every factorial calculated from 0 to <code>n</code>."
   ]
  },
  {
   "cell_type": "code",
   "execution_count": null,
   "metadata": {},
   "outputs": [],
   "source": [
    "import math\n",
    "\n",
    "def fact(n: int):\n",
    "    return math.factorial(n)\n",
    "\n",
    "def factorial(n: int, look_up: dict):\n",
    "    if n not in look_up:\n",
    "        look_up[n] = n * factorial(n - 1, look_up)\n",
    "    return look_up[n]\n",
    "\n",
    "memo = { 0: 1 }\n",
    "%timeit factorial(1400, memo)\n",
    "%timeit fact(1400)\n",
    "print(memo[1400])\n",
    "\n",
    "# large-chunks of data must be deleted from memory\n",
    "del memo"
   ]
  },
  {
   "cell_type": "markdown",
   "metadata": {},
   "source": [
    "### Fibonacci\n",
    "\n",
    "Fibonacci sequence requires recursive code and memorization to achieve optimal runtime."
   ]
  },
  {
   "cell_type": "code",
   "execution_count": null,
   "metadata": {},
   "outputs": [],
   "source": [
    "from functools import cache\n",
    "\n",
    "@cache\n",
    "def fib(n):\n",
    "    if n in {0, 1}:\n",
    "        return n\n",
    "    return fib(n - 1) + fib(n - 2)\n",
    "\n",
    "%timeit [ fib(n) for n in range(0, 1400) ]"
   ]
  }
 ],
 "metadata": {
  "interpreter": {
   "hash": "8bfdcd2cc888dbc98ffcff3cf621025027ffe71c6f18c0bca769d24baae26b7f"
  },
  "kernelspec": {
   "display_name": "Python 3.10.4 64-bit",
   "language": "python",
   "name": "python3"
  },
  "language_info": {
   "codemirror_mode": {
    "name": "ipython",
    "version": 3
   },
   "file_extension": ".py",
   "mimetype": "text/x-python",
   "name": "python",
   "nbconvert_exporter": "python",
   "pygments_lexer": "ipython3",
   "version": "3.10.4"
  },
  "orig_nbformat": 4
 },
 "nbformat": 4,
 "nbformat_minor": 2
}
