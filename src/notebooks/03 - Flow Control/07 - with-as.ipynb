{
 "cells": [
  {
   "cell_type": "markdown",
   "metadata": {},
   "source": [
    "# With statement\n",
    "\n",
    "<font color='#bb9af7'>with as</font> statement is a powerful tool to manage external resources in your programs. Uses <i>context managers</i> to enter and exit these streams e.g files & communication."
   ]
  },
  {
   "cell_type": "markdown",
   "metadata": {},
   "source": [
    "## Syntax\n",
    "\n",
    "<font color='#bb9af7'>with</font> statement before the <i>context manager</i>, and optionally the <font color='#bb9af7'>as</font> keyword to alias an object generated as <i>resource</i>."
   ]
  },
  {
   "cell_type": "code",
   "execution_count": null,
   "metadata": {},
   "outputs": [],
   "source": [
    "import dotenv\n",
    "import os\n",
    "\n",
    "FILENAME = 'with.csv'\n",
    "\n",
    "dotenv.load_dotenv()\n",
    "folder = os.getenv('TEMP_FOLDER')\n",
    "path = os.path.join(folder, FILENAME)\n",
    "\n",
    "with open(path, 'r') as file:\n",
    "    first = file.readline(1)\n",
    "    print(f\"First row is: '{first}'\")\n"
   ]
  },
  {
   "cell_type": "markdown",
   "metadata": {},
   "source": [
    "## Example\n",
    "\n",
    "As mentioned before, this statement is often used to create resources. These examples will open, read/write, close files & perform HTTP requests. "
   ]
  },
  {
   "cell_type": "markdown",
   "metadata": {},
   "source": [
    "### HTTP GET Requests\n",
    "\n",
    "When using <code>aiohttp</code> module, each request is handled asynchronously & must use <font color='#bb9af7'>with</font> statement. Based on <a href='https://realpython.com/python-with-statement/'>Leodanis Pozo Ramos</a>' example."
   ]
  },
  {
   "cell_type": "code",
   "execution_count": null,
   "metadata": {},
   "outputs": [],
   "source": [
    "import asyncio\n",
    "import os\n",
    "import time\n",
    "\n",
    "# py -m pip install aiofiles\n",
    "# py -m pip install aiohttp\n",
    "# py -m pip install tldextract\n",
    "import aiofiles\n",
    "import aiohttp\n",
    "import dotenv\n",
    "import tldextract\n",
    "\n",
    "NS_2_MS = 1e6\n",
    "NS_2_US = 1e3\n",
    "\n",
    "\n",
    "dotenv.load_dotenv()\n",
    "folder = os.getenv('TEMP_FOLDER')\n",
    "\n",
    "\n",
    "def get_time(start: int, factor: int):\n",
    "    return (time.time_ns() - start) / factor\n",
    "\n",
    "\n",
    "def parse_url(url: str):\n",
    "    return tldextract.extract(url).domain\n",
    "\n",
    "\n",
    "async def get(url: str):\n",
    "    start = time.time_ns()\n",
    "    async with aiohttp.ClientSession() as session:\n",
    "        async with session.get(url) as response:\n",
    "            print(f'{url}: status -> {response.status}')\n",
    "            html = await response.text()\n",
    "            print(f'{url}: time -> {get_time(start, NS_2_MS):.2f}ms')\n",
    "            return html\n",
    "\n",
    "\n",
    "async def writefile(path, doc):\n",
    "    start = time.time_ns()\n",
    "    async with aiofiles.open(path, mode='w', encoding='utf-8') as file:\n",
    "        await file.write(doc)\n",
    "        print(f'{os.path.basename(path)}: time -> {get_time(start, NS_2_US):.2f}us')\n",
    "\n",
    "\n",
    "async def main():\n",
    "    start = time.time_ns()\n",
    "    urls = ['https://www.amazon.com', 'https://www.ebay.com']\n",
    "    domains = [parse_url(url) for url in urls]\n",
    "    requests = [get(url) for url in urls]\n",
    "\n",
    "    documents = await asyncio.gather(*requests)\n",
    "    tasks = [writefile(f'{folder}/{url}.html', doc) for url, doc in zip(domains, documents)]\n",
    "\n",
    "    await asyncio.gather(*tasks)\n",
    "    print(f'{main.__name__}: time -> {get_time(start, NS_2_MS):.2f}ms')\n",
    "\n",
    "\n",
    "# Python: asyncio.run(main())\n",
    "# Jupyter: await main()\n",
    "await main()\n"
   ]
  }
 ],
 "metadata": {
  "interpreter": {
   "hash": "8bfdcd2cc888dbc98ffcff3cf621025027ffe71c6f18c0bca769d24baae26b7f"
  },
  "kernelspec": {
   "display_name": "Python 3.10.4 64-bit",
   "language": "python",
   "name": "python3"
  },
  "language_info": {
   "codemirror_mode": {
    "name": "ipython",
    "version": 3
   },
   "file_extension": ".py",
   "mimetype": "text/x-python",
   "name": "python",
   "nbconvert_exporter": "python",
   "pygments_lexer": "ipython3",
   "version": "3.10.4"
  },
  "orig_nbformat": 4
 },
 "nbformat": 4,
 "nbformat_minor": 2
}
