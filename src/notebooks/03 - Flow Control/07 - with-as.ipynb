{
 "cells": [
  {
   "cell_type": "markdown",
   "metadata": {},
   "source": [
    "# With statement\n",
    "\n",
    "<font color='#bb9af7'>with as</font> statement is a powerful tool to manage external resources in your programs. Uses <i>context managers</i> to enter and exit these streams e.g files & communication."
   ]
  },
  {
   "cell_type": "markdown",
   "metadata": {},
   "source": [
    "## Syntax\n",
    "\n",
    "<font color='#bb9af7'>with</font> statement before the <i>context manager</i>, and optionally the <font color='#bb9af7'>as</font> keyword to alias an object generated as <i>resource</i>."
   ]
  },
  {
   "cell_type": "code",
   "execution_count": null,
   "metadata": {},
   "outputs": [],
   "source": [
    "import dotenv\n",
    "import os\n",
    "\n",
    "FILENAME = 'with.csv'\n",
    "\n",
    "dotenv.load_dotenv()\n",
    "folder = os.getenv('TEMP_FOLDER')\n",
    "path = os.path.join(folder, FILENAME)\n",
    "\n",
    "with open(path, 'r') as file:\n",
    "    first = file.readline(1)\n",
    "    print(f\"First row is: '{first}'\")"
   ]
  },
  {
   "cell_type": "markdown",
   "metadata": {},
   "source": [
    "## Example\n",
    "\n",
    "As mentioned before, this statement is often used to create resources. These examples will open, read/write, close files & perform HTTP requests. "
   ]
  },
  {
   "cell_type": "markdown",
   "metadata": {},
   "source": [
    "### HTTP GET Requests\n",
    "\n",
    "When using <code>aiohttp</code> module, each request is handled asynchronously & must use <font color='#bb9af7'>with</font> statement. Based on <a href='https://realpython.com/python-with-statement/'>Leodanis Pozo Ramos</a>' example."
   ]
  },
  {
   "cell_type": "code",
   "execution_count": null,
   "metadata": {},
   "outputs": [],
   "source": [
    "# py -m pip install aiofiles\n",
    "# py -m pip install aiohttp\n",
    "# py -m pip install tldextract\n",
    "import asyncio\n",
    "import os\n",
    "\n",
    "import aiofiles\n",
    "import aiohttp\n",
    "import dotenv\n",
    "\n",
    "from tldextract import extract\n",
    "\n",
    "dotenv.load_dotenv()\n",
    "folder = os.getenv('TEMP_FOLDER')\n",
    "\n",
    "def parse_url(url: str):\n",
    "    return extract(url).domain\n",
    "\n",
    "async def get(url: str):\n",
    "    async with aiohttp.ClientSession() as session:\n",
    "        async with session.get(url) as response:\n",
    "            print(f\"{url}: status -> {response.status}\")\n",
    "            html = await response.text()\n",
    "            print(f\"{url}: type -> {html[:17].strip()}\")\n",
    "            return (parse_url(url), html)\n",
    "\n",
    "async def write(path, doc):\n",
    "    async with aiofiles.open(path, mode='w', encoding='utf-8') as f:\n",
    "        await f.write(doc)\n",
    "\n",
    "async def main():\n",
    "    documents = await asyncio.gather(\n",
    "        get(\"https://realpython.com\"),\n",
    "        get(\"https://pycoders.com\"),\n",
    "    )\n",
    "\n",
    "    tasks = [ write(f'{folder}/{url}.html', doc) for url, doc in documents ]\n",
    "    await asyncio.gather(*tasks)        \n",
    "\n",
    "# Python: asyncio.run(main())\n",
    "# Jupyter: await main()\n",
    "await main()"
   ]
  }
 ],
 "metadata": {
  "interpreter": {
   "hash": "8bfdcd2cc888dbc98ffcff3cf621025027ffe71c6f18c0bca769d24baae26b7f"
  },
  "kernelspec": {
   "display_name": "Python 3.10.4 64-bit",
   "language": "python",
   "name": "python3"
  },
  "language_info": {
   "codemirror_mode": {
    "name": "ipython",
    "version": 3
   },
   "file_extension": ".py",
   "mimetype": "text/x-python",
   "name": "python",
   "nbconvert_exporter": "python",
   "pygments_lexer": "ipython3",
   "version": "3.10.4"
  },
  "orig_nbformat": 4
 },
 "nbformat": 4,
 "nbformat_minor": 2
}
