{
 "cells": [
  {
   "cell_type": "markdown",
   "metadata": {},
   "source": [
    "# Decision making\n",
    "\n",
    "Programs can control the flow of instructions based on boolean expressions in a conditional structure, usually an <font color='#bb9af7'>if</font> statement."
   ]
  },
  {
   "cell_type": "markdown",
   "metadata": {},
   "source": [
    "## Syntax\n",
    "\n",
    "<font color='#bb9af7'>if</font> statement can take any boolean expression, combining comparison & logical operators. It executes the instructions after the double colon if the expression is <code>True</code>."
   ]
  },
  {
   "cell_type": "code",
   "execution_count": null,
   "metadata": {},
   "outputs": [],
   "source": [
    "# short hand single-line\n",
    "if True: pass\n",
    "\n",
    "# traditional multi-line\n",
    "if True:\n",
    "    pass"
   ]
  },
  {
   "cell_type": "markdown",
   "metadata": {},
   "source": [
    "<font color='#bb9af7'>if</font> statement can be followed by an <font color='#bb9af7'>else</font> statement. <font color='#bb9af7'>if else</font> will handle both <code>True</code> or <code>False</code>."
   ]
  },
  {
   "cell_type": "code",
   "execution_count": null,
   "metadata": {},
   "outputs": [],
   "source": [
    "import random\n",
    "\n",
    "number: int = random.randint(-10, 11)\n",
    "\n",
    "if number > 0:\n",
    "    print(f'{number} is positive')\n",
    "else:\n",
    "    print(f'{number} is negative')"
   ]
  },
  {
   "cell_type": "markdown",
   "metadata": {},
   "source": [
    "Short hand is valid <font color='#bb9af7'>if else</font> statements. Instead of executing instructions, they return a value. Also called <i>ternary operators</i>."
   ]
  },
  {
   "cell_type": "code",
   "execution_count": null,
   "metadata": {},
   "outputs": [],
   "source": [
    "import random\n",
    "\n",
    "number: int = random.randint(-10, 11)\n",
    "\n",
    "print(f\"{number} is {'positive' if number > 0 else 'negative'}\")"
   ]
  },
  {
   "cell_type": "markdown",
   "metadata": {},
   "source": [
    "<font color='#bb9af7'>if</font> statement can be followed by an <font color='#bb9af7'>elif</font> statement, it will execute when the expression is <code>True</code>. <font color='#bb9af7'>if elif</font> will handle nested cases."
   ]
  },
  {
   "cell_type": "code",
   "execution_count": null,
   "metadata": {},
   "outputs": [],
   "source": [
    "import random\n",
    "\n",
    "number: int = random.randint(-2, 2)\n",
    "\n",
    "if number > 0:\n",
    "    print(f'{number} is positive')\n",
    "elif number == 0:\n",
    "    print(f'{number} is zero')\n",
    "else:\n",
    "    print(f'{number} is negative')"
   ]
  },
  {
   "cell_type": "markdown",
   "metadata": {},
   "source": [
    "<font color='#bb9af7'>elif</font> statement is not used in <i>nested ternary operations</i>. Instead it uses <font color='#bb9af7'>else</font> <code>value</code> <font color='#bb9af7'>if</font>."
   ]
  },
  {
   "cell_type": "code",
   "execution_count": null,
   "metadata": {},
   "outputs": [],
   "source": [
    "import random\n",
    "\n",
    "number: int = random.randint(-2, 2)\n",
    "\n",
    "print(f\"{number} is {'positive' if number > 0 else 'zero' if number == 0 else 'negative'}\")"
   ]
  },
  {
   "cell_type": "markdown",
   "metadata": {},
   "source": [
    "## Examples\n",
    "\n",
    "<font color='#bb9af7'>if</font> statement is one of the most flexible and useful keywords in Python. It's essential to dominate how it behaves with different operators e.g comparison, logical, identity, membership."
   ]
  },
  {
   "cell_type": "markdown",
   "metadata": {},
   "source": [
    "### Comparison\n",
    "\n",
    "<font color='#bb9af7'>if</font> statement can be used to execute instructions based on comparison between two values."
   ]
  },
  {
   "cell_type": "code",
   "execution_count": null,
   "metadata": {},
   "outputs": [],
   "source": [
    "from random import randint\n",
    "\n",
    "a: int = randint(0, 5)\n",
    "b: int = randint(0, 5)\n",
    "\n",
    "print(f'{a = }')\n",
    "print(f'{b = }')\n",
    "\n",
    "# using short hand to reduce line count\n",
    "if a == b: print('a is equal to b')\n",
    "else: print('a is not equal to b')\n",
    "\n",
    "if a != b: print('a is different to b')\n",
    "else: print('a is not different to b')\n",
    "\n",
    "if a > b: print('a is greater than b')\n",
    "else: print('a is not greater than b')\n",
    "\n",
    "if a < b: print('a is less than b')\n",
    "else: print('a is not less than b')\n",
    "\n",
    "if a >= b: print('a is greater or equal than b')\n",
    "else: print('a is not greater or equal than b')\n",
    "\n",
    "if a <= b: print('a is less or equal than b')\n",
    "else: print('a is not less or equal than b')"
   ]
  },
  {
   "cell_type": "markdown",
   "metadata": {},
   "source": [
    "### Logical\n",
    "\n",
    "<font color='#bb9af7'>if</font> statement can execute instructions based on multiple expressions."
   ]
  },
  {
   "cell_type": "code",
   "execution_count": null,
   "metadata": {},
   "outputs": [],
   "source": [
    "from random import randint\n",
    "\n",
    "a: int = randint(0, 15)\n",
    "b: int = randint(0, 15)\n",
    "\n",
    "print(f'{a = }')\n",
    "print(f'{b = }')\n",
    "\n",
    "if a < 5 and b < 10:\n",
    "    print('Condition met')\n",
    "else:\n",
    "    print('Condition not met')\n",
    "\n",
    "if a < 5 or b < 10:\n",
    "    print('Condition met')\n",
    "else:\n",
    "    print('Condition not met')\n",
    "\n",
    "if not(a < 5 and b < 10):\n",
    "    print('Condition met')\n",
    "else:\n",
    "    print('Condition not met')"
   ]
  },
  {
   "cell_type": "markdown",
   "metadata": {},
   "source": [
    "### Identity\n",
    "\n",
    "<font color='#bb9af7'>if</font> statement can execute instructions based on identity operators."
   ]
  },
  {
   "cell_type": "markdown",
   "metadata": {},
   "source": [
    "For immutable data types like strings, have the same identity if value is equal."
   ]
  },
  {
   "cell_type": "code",
   "execution_count": null,
   "metadata": {},
   "outputs": [],
   "source": [
    "from random import choice\n",
    "\n",
    "a: str = choice([ 'Hello', 'World' ])\n",
    "# compiler will b = a if b == a\n",
    "b: str = choice([ 'Hello', 'World' ])\n",
    "\n",
    "print(f'{a = }')\n",
    "print(f'{b = }')\n",
    "\n",
    "# compiler aliasing for immutables\n",
    "if a is b:\n",
    "    print('Condition met: a is b')\n",
    "else:\n",
    "    print('Condition not met: a is not b')\n",
    "\n",
    "if a == b:\n",
    "    print('Condition met: a is equal b')\n",
    "else:\n",
    "    print('Condition not met: a is not equal b')\n",
    "    \n",
    "if a is not b:\n",
    "    print('Condition met: a is not b')\n",
    "else:\n",
    "    print('Condition not met: a is b')\n",
    "\n",
    "if a != b:\n",
    "    print('Condition not met: a is not equal b')\n",
    "else:\n",
    "    print('Condition not met: a is equal b')"
   ]
  },
  {
   "cell_type": "markdown",
   "metadata": {},
   "source": [
    "For mutable data types like lists, identity is always different unless aliased."
   ]
  },
  {
   "cell_type": "code",
   "execution_count": null,
   "metadata": {},
   "outputs": [],
   "source": [
    "from random import choice\n",
    "\n",
    "# compiler won't alias mutables\n",
    "a = range(10)\n",
    "# 50% of b = a\n",
    "b = choice([ a, range(10) ])\n",
    "\n",
    "print(f'{id(a) = }')\n",
    "print(f'{id(b) = }')\n",
    "\n",
    "if a is b:\n",
    "    print('Condition met: a is b')\n",
    "else:\n",
    "    print('Condition not met: a is not b')\n",
    "\n",
    "if a == b:\n",
    "    print('Condition met: a is equal b')\n",
    "else:\n",
    "    print('Condition not met: a is not equal b')\n",
    "    \n",
    "if a is not b:\n",
    "    print('Condition met: a is not b')\n",
    "else:\n",
    "    print('Condition not met: a is b')\n",
    "\n",
    "if a != b:\n",
    "    print('Condition not met: a is not equal b')\n",
    "else:\n",
    "    print('Condition not met: a is equal b')"
   ]
  },
  {
   "cell_type": "markdown",
   "metadata": {},
   "source": [
    "### Membership\n",
    "\n",
    "<font color='#bb9af7'>if</font> statement can be used to execute instructions based on membership inside an iterable."
   ]
  },
  {
   "cell_type": "markdown",
   "metadata": {},
   "source": [
    "Checking membership of an item inside a list."
   ]
  },
  {
   "cell_type": "code",
   "execution_count": null,
   "metadata": {},
   "outputs": [],
   "source": [
    "from random import randint\n",
    "\n",
    "numbers = [ randint(0, 25) for _ in range(5) ]\n",
    "\n",
    "if 5 in numbers:\n",
    "    print(f'Condition met: 5 in {numbers}')\n",
    "else:\n",
    "    print(f'Condition not met: 5 not in {numbers}')\n",
    "\n",
    "if 20 not in numbers:\n",
    "    print(f'Condition met: 20 not in {numbers}')\n",
    "else:\n",
    "    print(f'Condition not met: 20 in {numbers}')"
   ]
  },
  {
   "cell_type": "markdown",
   "metadata": {},
   "source": [
    "Checking membership of a substring inside a string."
   ]
  },
  {
   "cell_type": "code",
   "execution_count": null,
   "metadata": {},
   "outputs": [],
   "source": [
    "from random import choice\n",
    "\n",
    "fruit: str = choice([ 'apple', 'pineapple', 'orange', 'watermelon' ])\n",
    "\n",
    "if 'wa' in fruit:\n",
    "    print(f\"Condition met: 'wa' in '{fruit}'\")\n",
    "else:\n",
    "    print(f\"Condition not met: 'wa' not in '{fruit}'\")\n",
    "\n",
    "if 'le' not in fruit:\n",
    "    print(f\"Condition met: 'le' not in '{fruit}'\")\n",
    "else:\n",
    "    print(f\"Condition not met: 'le' in '{fruit}'\")"
   ]
  },
  {
   "cell_type": "markdown",
   "metadata": {},
   "source": [
    "Checking membership of a key inside a dictionary."
   ]
  },
  {
   "cell_type": "code",
   "execution_count": null,
   "metadata": {},
   "outputs": [],
   "source": [
    "from string import ascii_lowercase as alphabet\n",
    "from random import choices\n",
    "\n",
    "ranged = range(0 , 50)\n",
    "keys = choices(alphabet, k=5)\n",
    "zipped = zip(keys, ranged)\n",
    "dictionary = dict(zipped)\n",
    "\n",
    "if 'a' in dictionary.keys():\n",
    "    print(f\"Condition met: 'a' in {dictionary}\")\n",
    "else:\n",
    "    print(f\"Condition not met: 'a' not in {dictionary}\")\n",
    "\n",
    "if 'c' not in dictionary.keys():\n",
    "    print(f\"Condition met: 'c' not in {dictionary}\")\n",
    "else:\n",
    "    print(f\"Condition not met: 'c' in {dictionary}\")"
   ]
  }
 ],
 "metadata": {
  "interpreter": {
   "hash": "8bfdcd2cc888dbc98ffcff3cf621025027ffe71c6f18c0bca769d24baae26b7f"
  },
  "kernelspec": {
   "display_name": "Python 3.10.4 64-bit",
   "language": "python",
   "name": "python3"
  },
  "language_info": {
   "codemirror_mode": {
    "name": "ipython",
    "version": 3
   },
   "file_extension": ".py",
   "mimetype": "text/x-python",
   "name": "python",
   "nbconvert_exporter": "python",
   "pygments_lexer": "ipython3",
   "version": "3.10.4"
  },
  "orig_nbformat": 4
 },
 "nbformat": 4,
 "nbformat_minor": 2
}
