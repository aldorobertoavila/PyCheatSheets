{
 "cells": [
  {
   "cell_type": "markdown",
   "metadata": {},
   "source": [
    "# Raising Exceptions\n",
    "\n",
    "When creating a program, it's important to clarify situations when our code can be dysfunctional or prevent errors, developers should throw exceptions when it's needed."
   ]
  },
  {
   "cell_type": "markdown",
   "metadata": {},
   "source": [
    "## Syntax\n",
    "\n",
    "Exceptions can be thrown with <font color='#bb9af7'>raise</font> statement whenever a piece of code is not working as it supposed to be."
   ]
  },
  {
   "cell_type": "code",
   "execution_count": null,
   "metadata": {},
   "outputs": [],
   "source": [
    "number: int = 0\n",
    "\n",
    "if number <= 0:\n",
    "    raise ValueError('Number cannot be less or equal than zero')\n"
   ]
  },
  {
   "cell_type": "markdown",
   "metadata": {},
   "source": [
    "<font color='#bb9af7'>assert</font> statement is also used to raise exceptions when debugging."
   ]
  },
  {
   "cell_type": "code",
   "execution_count": null,
   "metadata": {},
   "outputs": [],
   "source": [
    "number: int = 0\n",
    "\n",
    "assert number > 0, 'Number cannot be less or equal than zero'\n",
    "ArithmeticError\n"
   ]
  },
  {
   "cell_type": "markdown",
   "metadata": {},
   "source": [
    "## Example\n",
    "\n",
    "Exceptions can be raise from everywhere, even in the smallest pieces of code. As long as they have a reasonable cause and describe how to handle them."
   ]
  },
  {
   "cell_type": "markdown",
   "metadata": {},
   "source": [
    "### Factorial\n",
    "\n",
    "Following on the factorial example, there are inputs that can't be admitted. Other types different from integers are forbidden, and must be positive or zero, and <strong>n < 1400</strong> to prevent <code>RecursionError</code>."
   ]
  },
  {
   "cell_type": "code",
   "execution_count": null,
   "metadata": {},
   "outputs": [],
   "source": [
    "from functools import cache\n",
    "\n",
    "\n",
    "class FactorialError(ArithmeticError):\n",
    "    def __init__(self, message):\n",
    "        super().__init__(message)\n",
    "\n",
    "\n",
    "@cache\n",
    "def factorial(n):\n",
    "    if not isinstance(n, int):\n",
    "        raise TypeError('Not an integer number')\n",
    "    elif n < 0:\n",
    "        raise FactorialError('Integer number cannot be less than 0')\n",
    "    elif n > 1400:\n",
    "        raise FactorialError('Integer number cannot be greater than 1400')\n",
    "    else:\n",
    "        return 1 if n < 2 else n * factorial(n - 1)\n",
    "\n",
    "\n",
    "try:\n",
    "    command = input(\"Enter a factorial number\").strip().replace('!', '')\n",
    "    number = int(command)\n",
    "\n",
    "    print(f'!{number} = {factorial(number)}')\n",
    "\n",
    "except FactorialError as e:\n",
    "    print(e)\n",
    "except TypeError as e:\n",
    "    print(e)\n",
    "except ValueError as e:\n",
    "    print('Cannot parse to int')\n"
   ]
  }
 ],
 "metadata": {
  "interpreter": {
   "hash": "8bfdcd2cc888dbc98ffcff3cf621025027ffe71c6f18c0bca769d24baae26b7f"
  },
  "kernelspec": {
   "display_name": "Python 3.10.4 64-bit",
   "language": "python",
   "name": "python3"
  },
  "language_info": {
   "codemirror_mode": {
    "name": "ipython",
    "version": 3
   },
   "file_extension": ".py",
   "mimetype": "text/x-python",
   "name": "python",
   "nbconvert_exporter": "python",
   "pygments_lexer": "ipython3",
   "version": "3.10.4"
  },
  "orig_nbformat": 4
 },
 "nbformat": 4,
 "nbformat_minor": 2
}
