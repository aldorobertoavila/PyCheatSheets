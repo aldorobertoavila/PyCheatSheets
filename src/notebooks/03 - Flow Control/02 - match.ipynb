{
 "cells": [
  {
   "cell_type": "markdown",
   "metadata": {},
   "source": [
    "# Match statement\n",
    "\n",
    "As <font color='#bb9af7'>if</font> statements, match can also control the flow of the program. Instead of using normal expressions, they use identity and direct comparison to determinate what to perform. Each possible response it's called a <code>case</code>."
   ]
  },
  {
   "cell_type": "markdown",
   "metadata": {},
   "source": [
    "## Syntax\n",
    "\n",
    "<font color='#bb9af7'>match</font> statement require a variable to compare. Then to specify the cases with <font color='#bb9af7'>case</font> keyword, which also require a value to make the comparison. An optional default case must be placed at the bottom, defining a new variable or ignoring it with <code>_</code>."
   ]
  },
  {
   "cell_type": "code",
   "execution_count": null,
   "metadata": {},
   "outputs": [],
   "source": [
    "from random import choice\n",
    "\n",
    "def get_people() -> str:\n",
    "    return choice([ 'John Doe', 'Jane Doe', 'John Roe', 'Richard Roe', 'Jane Roe' ])\n",
    "\n",
    "match get_people():\n",
    "    case 'John Doe':\n",
    "        print('Hi, John!')\n",
    "    case 'Jane Doe':\n",
    "        print('How is going, Jane?')\n",
    "    case stranger:\n",
    "        print(f'Nice to meet you, {stranger}!')"
   ]
  },
  {
   "cell_type": "markdown",
   "metadata": {},
   "source": [
    "## Examples\n",
    "\n",
    "Even though <font color='#bb9af7'>match</font> statement require more syntax, it's a flexible structure with a lot of potential."
   ]
  },
  {
   "cell_type": "markdown",
   "metadata": {},
   "source": [
    "### HTTP Response Code\n",
    "\n",
    "A simple program to handle a response code. "
   ]
  },
  {
   "cell_type": "code",
   "execution_count": null,
   "metadata": {},
   "outputs": [],
   "source": [
    "from random import choice\n",
    "\n",
    "code = choice([ 200, 201, 202, 300, 400, 401, 500 ])\n",
    "\n",
    "match code:\n",
    "    case 200:\n",
    "        print(\"OK\")\n",
    "    case 201:\n",
    "        print(\"Created\")\n",
    "    case 202:\n",
    "        print(\"Accepted\")\n",
    "    case 300:\n",
    "        print(\"Multiple Choice\")\n",
    "    case 400:\n",
    "        print(\"Bad Request\")\n",
    "    case 401:\n",
    "        print(\"Unauthorized\")\n",
    "    case 500:\n",
    "        print(\"Internal Server Error\")"
   ]
  },
  {
   "cell_type": "markdown",
   "metadata": {},
   "source": [
    "### Student Award System\n",
    "\n",
    "Made by <a href='https://datagy.io/python-switch-case/'>Nik</a>, Python content creator in <a href='https://www.youtube.com/c/datagy/featured'>YouTube</a>."
   ]
  },
  {
   "cell_type": "code",
   "execution_count": null,
   "metadata": {},
   "outputs": [],
   "source": [
    "def award(student):\n",
    "    match student:\n",
    "        case {'name': name, 'courses': courses, 'grade': grade} if courses > 15 and grade >= 90:\n",
    "            return f\"{name}: Exceptional\"\n",
    "        case {'name': name, 'courses': courses, 'grade': grade} if grade >= 90:\n",
    "            return f\"{name}: Future star\"\n",
    "        case _:\n",
    "            return f\"{name}: No current award\"\n",
    "\n",
    "print(award({'name': 'Kate', 'grade':90, 'courses':16}))\n",
    "print(award({'name': 'Jane', 'grade':90, 'courses':10}))\n",
    "print(award({'name': 'John', 'grade':80, 'courses':6}))"
   ]
  },
  {
   "cell_type": "markdown",
   "metadata": {},
   "source": [
    "### Calculator CLI\n",
    "\n",
    "\n",
    "A command line interface (CLI) to perform arithmetic operations."
   ]
  },
  {
   "cell_type": "code",
   "execution_count": null,
   "metadata": {},
   "outputs": [],
   "source": [
    "from shlex import split\n",
    "\n",
    "execute = True\n",
    "\n",
    "def to_ints(arguments: list[str]) -> list[int]:\n",
    "    return map(int, arguments)\n",
    "\n",
    "def addition(a: int , b: int) -> int:\n",
    "    print(f'{a + b = }')\n",
    "\n",
    "def substract(a: int , b: int) -> int:\n",
    "    print(f'{a - b = }')\n",
    "\n",
    "def multiply(a: int , b: int) -> int:\n",
    "    print(f'{a * b = }')\n",
    "\n",
    "def divide(a: int , b: int) -> int:\n",
    "    print(f'{a / b = :.2f}')\n",
    "\n",
    "def run_command(command: str, *arguments) -> None:\n",
    "    match command:\n",
    "        case 'addition' | 'add': addition(*to_ints(arguments))\n",
    "        case 'substract' | 'subs': substract(*to_ints(arguments))\n",
    "        case 'multiply' | 'mul': multiply(*to_ints(arguments))\n",
    "        case 'divide' | 'div': divide(*to_ints(arguments))\n",
    "        case \"quit\":\n",
    "            global execute\n",
    "            execute = False\n",
    "            print(\"Quitting the program.\")\n",
    "        case other:\n",
    "            print(f\"Unknown command '{other}'\")\n",
    "\n",
    "while execute:\n",
    "    try:\n",
    "        command, *arguments = split(input(\"$ \"))\n",
    "        run_command(command, *arguments)\n",
    "    except ZeroDivisionError:\n",
    "        print('Cannot divide by zero')\n",
    "    except ValueError as e:\n",
    "        print('Invalid command')\n"
   ]
  }
 ],
 "metadata": {
  "interpreter": {
   "hash": "8bfdcd2cc888dbc98ffcff3cf621025027ffe71c6f18c0bca769d24baae26b7f"
  },
  "kernelspec": {
   "display_name": "Python 3.10.4 64-bit",
   "language": "python",
   "name": "python3"
  },
  "language_info": {
   "codemirror_mode": {
    "name": "ipython",
    "version": 3
   },
   "file_extension": ".py",
   "mimetype": "text/x-python",
   "name": "python",
   "nbconvert_exporter": "python",
   "pygments_lexer": "ipython3",
   "version": "3.10.4"
  },
  "orig_nbformat": 4
 },
 "nbformat": 4,
 "nbformat_minor": 2
}
