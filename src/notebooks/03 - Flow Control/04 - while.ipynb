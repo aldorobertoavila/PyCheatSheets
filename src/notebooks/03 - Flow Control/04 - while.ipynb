{
 "cells": [
  {
   "cell_type": "markdown",
   "metadata": {},
   "source": [
    "## While statement\n",
    "\n",
    "According to <a href='https://realpython.com/python-while-loop/'>John Sturtz</a>, <font color='#bb9af7'>while</font> is an indefinite loop where the number of times the loop is executed isn’t specified explicitly in advance. Rather, the designated block is executed repeatedly as long as some condition is met."
   ]
  },
  {
   "cell_type": "markdown",
   "metadata": {},
   "source": [
    "## Syntax\n",
    "\n",
    "After <font color='#bb9af7'>while</font> keyword, a conditional expression must take place, similar to <font color='#bb9af7'>if</font> statement."
   ]
  },
  {
   "cell_type": "code",
   "execution_count": null,
   "metadata": {},
   "outputs": [],
   "source": [
    "n: int = 0\n",
    "\n",
    "while n < 5:\n",
    "    n += 1\n",
    "    print(n)"
   ]
  },
  {
   "cell_type": "markdown",
   "metadata": {},
   "source": [
    "Short hand is valid in <font color='#bb9af7'>while</font> statements. "
   ]
  },
  {
   "cell_type": "code",
   "execution_count": null,
   "metadata": {},
   "outputs": [],
   "source": [
    "n: int = 0\n",
    "\n",
    "while n < 5: n += 1; print(n)"
   ]
  },
  {
   "cell_type": "markdown",
   "metadata": {},
   "source": [
    "### Break statement\n",
    "\n",
    "<font color='#bb9af7'>break</font> keyword will terminate completely the loop."
   ]
  },
  {
   "cell_type": "code",
   "execution_count": null,
   "metadata": {},
   "outputs": [],
   "source": [
    "n: int = 0\n",
    "\n",
    "while n < 5:\n",
    "    n += 1\n",
    "    if n == 3:\n",
    "        break\n",
    "    print(n)"
   ]
  },
  {
   "cell_type": "markdown",
   "metadata": {},
   "source": [
    "### Continue statement\n",
    "\n",
    "<font color='#bb9af7'>continue</font> keyword will skip the current element."
   ]
  },
  {
   "cell_type": "code",
   "execution_count": null,
   "metadata": {},
   "outputs": [],
   "source": [
    "n: int = 0\n",
    "\n",
    "while n < 5:\n",
    "    n += 1\n",
    "    if n == 2:\n",
    "        continue\n",
    "    print(n)"
   ]
  },
  {
   "cell_type": "markdown",
   "metadata": {},
   "source": [
    "### Else statement\n",
    "\n",
    "<font color='#bb9af7'>else</font> keyword will execute when the <i>iterator</i> finishes through exhaustion, <font color='#bb9af7'>break</font> keyword skips this process."
   ]
  },
  {
   "cell_type": "code",
   "execution_count": null,
   "metadata": {},
   "outputs": [],
   "source": [
    "n: int = 0\n",
    "\n",
    "while n < 5:\n",
    "    n += 1\n",
    "    print(n)\n",
    "else:\n",
    "    print('Finished!')"
   ]
  },
  {
   "cell_type": "markdown",
   "metadata": {},
   "source": [
    "## Examples\n",
    "\n",
    "<font color='#bb9af7'>while</font> statement is often used in Threading and IO-bound tasks."
   ]
  },
  {
   "cell_type": "markdown",
   "metadata": {},
   "source": [
    "## IO-Bound\n",
    "\n",
    "Any IO application can use <font color='#bb9af7'>while</font> statement to repeat until input."
   ]
  },
  {
   "cell_type": "code",
   "execution_count": null,
   "metadata": {},
   "outputs": [],
   "source": [
    "execute = True\n",
    "\n",
    "while execute:\n",
    "    command = input(\"Enter Ping!\")\n",
    "    \n",
    "    match command:\n",
    "        case 'Ping' | 'ping':\n",
    "            print('Pong!')\n",
    "            execute = False\n",
    "        case other:\n",
    "            print(\"You didn't enter Ping!\")"
   ]
  },
  {
   "cell_type": "markdown",
   "metadata": {},
   "source": [
    "## Threading\n",
    "\n",
    "In Python, threads are single use. Using a <font color='#bb9af7'>while</font> statement with a flag can help to prolong their lifecycle."
   ]
  },
  {
   "cell_type": "code",
   "execution_count": null,
   "metadata": {},
   "outputs": [],
   "source": [
    "from threading import Thread\n",
    "import time\n",
    "\n",
    "execute: bool = True\n",
    "\n",
    "def log(text):\n",
    "    while execute:\n",
    "        print(text)\n",
    "        time.sleep(1)\n",
    "\n",
    "t1 = Thread(target=log, args=('Hello!',))\n",
    "t1.daemon = True\n",
    "t1.start()\n",
    "time.sleep(5)\n",
    "execute = False"
   ]
  }
 ],
 "metadata": {
  "interpreter": {
   "hash": "8bfdcd2cc888dbc98ffcff3cf621025027ffe71c6f18c0bca769d24baae26b7f"
  },
  "kernelspec": {
   "display_name": "Python 3.10.4 64-bit",
   "language": "python",
   "name": "python3"
  },
  "language_info": {
   "codemirror_mode": {
    "name": "ipython",
    "version": 3
   },
   "file_extension": ".py",
   "mimetype": "text/x-python",
   "name": "python",
   "nbconvert_exporter": "python",
   "pygments_lexer": "ipython3",
   "version": "3.10.4"
  },
  "orig_nbformat": 4
 },
 "nbformat": 4,
 "nbformat_minor": 2
}
