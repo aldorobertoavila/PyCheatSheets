{
 "cells": [
  {
   "cell_type": "markdown",
   "metadata": {},
   "source": [
    "# For statement\n",
    "\n",
    "In Python, <font color='#bb9af7'>for</font> is a definite loop thought an <i>iterable</i> that can be predicted the amount of repetitions, also called <i>iterations</i>."
   ]
  },
  {
   "cell_type": "markdown",
   "metadata": {},
   "source": [
    "## Syntax\n",
    "\n",
    "After <font color='#bb9af7'>for</font> keyword, a variable must be declared, holds the current loop value, then <font color='#bb9af7'>in</font> keyword and the <i>iterable</i>."
   ]
  },
  {
   "cell_type": "code",
   "execution_count": null,
   "metadata": {},
   "outputs": [],
   "source": [
    "# it will do five iterations\n",
    "for number in range(5):\n",
    "    print(number)"
   ]
  },
  {
   "cell_type": "markdown",
   "metadata": {},
   "source": [
    "According to <a href='https://realpython.com/python-for-loop/'>John Sturtz</a>'s concept table, we can describe objects to be iterable, like strings. But the iterator is an object that produces values, they may not be the same. <i>The sea is navigable, but to navigate you require a ship.</i>\n",
    "\n",
    "| Term | Meaning |\n",
    "| ---- | ------- |\n",
    "| Iteration | The process of looping through the objects or items in a collection |\n",
    "| Iterable\t| An object (with <code>\\_\\_iter\\_\\_</code> and <code>\\_\\_next\\_\\_</code>) that can be iterated over |\n",
    "| Iterator\t| The object that produces successive items or values from its associated iterable |\n",
    "| iter()\t| The built-in function used to obtain an iterator from an iterable |"
   ]
  },
  {
   "cell_type": "code",
   "execution_count": null,
   "metadata": {},
   "outputs": [],
   "source": [
    "# <str_iterator object at ...>\n",
    "print(f\"{iter('foobar')}\")\n",
    "\n",
    "# <list_iterator object at ...>\n",
    "print(f\"{iter(['foo', 'bar', 'baz'])}\")\n",
    "\n",
    "# <tuple_iterator  object at ...>\n",
    "print(f\"{iter(('foo', 'bar', 'baz'))}\")\n",
    "\n",
    "# <set_iterator  object at ...>\n",
    "print(f\"{iter({'foo', 'bar', 'baz'})}\")\n",
    "\n",
    "# <dict_keyiterator object at ...>\n",
    "print(f\"{iter({'foo': 1, 'bar': 2, 'baz': 3})}\")"
   ]
  },
  {
   "cell_type": "markdown",
   "metadata": {},
   "source": [
    "### Break statement\n",
    "\n",
    "<font color='#bb9af7'>break</font> keyword will terminate completely the loop."
   ]
  },
  {
   "cell_type": "code",
   "execution_count": null,
   "metadata": {},
   "outputs": [],
   "source": [
    "for word in ['foo', 'bar', 'baz', 'qux']:\n",
    "    if 'b' in word:\n",
    "        break\n",
    "    print(f'{word = }')"
   ]
  },
  {
   "cell_type": "markdown",
   "metadata": {},
   "source": [
    "### Continue statement\n",
    "\n",
    "<font color='#bb9af7'>continue</font> keyword will skip the current element."
   ]
  },
  {
   "cell_type": "code",
   "execution_count": null,
   "metadata": {},
   "outputs": [],
   "source": [
    "for word in ['foo', 'bar', 'baz', 'qux']:\n",
    "    if 'b' in word:\n",
    "        continue\n",
    "    print(f'{word = }')"
   ]
  },
  {
   "cell_type": "markdown",
   "metadata": {},
   "source": [
    "### Else statement\n",
    "\n",
    "<font color='#bb9af7'>else</font> keyword will execute when the <i>iterator</i> finishes through exhaustion, <font color='#bb9af7'>break</font> keyword skips this process."
   ]
  },
  {
   "cell_type": "code",
   "execution_count": null,
   "metadata": {},
   "outputs": [],
   "source": [
    "for word in ['foo', 'bar', 'baz', 'qux']:\n",
    "     print(f'{word = }')\n",
    "else:\n",
    "     print('Finished!')\n"
   ]
  },
  {
   "cell_type": "markdown",
   "metadata": {},
   "source": [
    "## Examples\n",
    "\n",
    "<font color='#bb9af7'>for</font> statement is one of the most flexible and useful keywords in Python. It's essential when working with data structures & collections of objects."
   ]
  },
  {
   "cell_type": "markdown",
   "metadata": {},
   "source": [
    "### List, String, Tuple & Set\n",
    "\n",
    "Even though these iterables are different, their usage in a <font color='#bb9af7'>for</font> statement are the same."
   ]
  },
  {
   "cell_type": "code",
   "execution_count": null,
   "metadata": {},
   "outputs": [],
   "source": [
    "for letter in [ 'a', 'b', 'c', 'd' ]:\n",
    "    print(f'{letter = }')\n",
    "\n",
    "for letter in 'abcd':\n",
    "    print(f'{letter = }')\n",
    "\n",
    "for letter in ( 'a', 'b', 'c', 'd' ):\n",
    "    print(f'{letter = }')\n",
    "\n",
    "# Note: elements from a set can't be ordered\n",
    "for letter in { 'a', 'b', 'c', 'd' }:\n",
    "    print(f'{letter = }')"
   ]
  },
  {
   "cell_type": "markdown",
   "metadata": {},
   "source": [
    "### Dictionary\n",
    "\n",
    "Dictionaries can generate different types of iterators with its methods."
   ]
  },
  {
   "cell_type": "code",
   "execution_count": null,
   "metadata": {},
   "outputs": [],
   "source": [
    "dictionary = { 'foo': 1, 'bar': 2, 'baz': 3 }\n",
    "\n",
    "# iterating with key/value iterator\n",
    "for key, value in dictionary.items():\n",
    "    print(f'{key = }, {value = }')\n",
    "\n",
    "# iterating with values iterator\n",
    "for value in dictionary.values():\n",
    "    print(f'{value = }')\n",
    "\n",
    "# iterating with keys iterator\n",
    "for key in dictionary.keys():\n",
    "    print(f'{key = }')\n",
    "\n",
    "# iterating with keys iterator\n",
    "for key in dictionary:\n",
    "    print(f'{key = }')"
   ]
  },
  {
   "cell_type": "markdown",
   "metadata": {},
   "source": [
    "### Comprehension\n",
    "\n",
    "A compact & dynamic way to process an <i>iterable</i> to create a list, set or dictionary"
   ]
  },
  {
   "cell_type": "code",
   "execution_count": null,
   "metadata": {},
   "outputs": [],
   "source": [
    "squared = [ n**2 for n in range(5) ]\n",
    "\n",
    "print(f'{squared = }')"
   ]
  },
  {
   "cell_type": "markdown",
   "metadata": {},
   "source": [
    "### Enumerate\n",
    "\n",
    "<font color='#bb9af7'>for</font> statements don't provide the current index, instead we can create an <i>tuple iterator</i> that holds the index and value using <code>enumerate</code>, then apply destructuring."
   ]
  },
  {
   "cell_type": "code",
   "execution_count": null,
   "metadata": {},
   "outputs": [],
   "source": [
    "from random import randint\n",
    "\n",
    "numbers = [ randint(0, 10) for _ in range(5) ]\n",
    "\n",
    "for i, num in enumerate(numbers):\n",
    "    print(f'Index: {i}, Value: {num}')"
   ]
  },
  {
   "cell_type": "markdown",
   "metadata": {},
   "source": [
    "### Zip\n",
    "\n",
    "<font color='#bb9af7'>for</font> statements accept any iterator, <code>zip()</code> creates one from two or more iterators."
   ]
  },
  {
   "cell_type": "code",
   "execution_count": null,
   "metadata": {},
   "outputs": [],
   "source": [
    "names = [ 'Peter Parker', 'Clark Kent', 'Wade Wilson', 'Bruce Wayne' ]\n",
    "heroes = [ 'Spiderman', 'Superman', 'Deadpool', 'Batman' ]\n",
    "\n",
    "for name, hero in zip(names, heroes):\n",
    "    print(f'{hero} is {name}')"
   ]
  }
 ],
 "metadata": {
  "interpreter": {
   "hash": "8bfdcd2cc888dbc98ffcff3cf621025027ffe71c6f18c0bca769d24baae26b7f"
  },
  "kernelspec": {
   "display_name": "Python 3.10.4 64-bit",
   "language": "python",
   "name": "python3"
  },
  "language_info": {
   "codemirror_mode": {
    "name": "ipython",
    "version": 3
   },
   "file_extension": ".py",
   "mimetype": "text/x-python",
   "name": "python",
   "nbconvert_exporter": "python",
   "pygments_lexer": "ipython3",
   "version": "3.10.4"
  },
  "orig_nbformat": 4
 },
 "nbformat": 4,
 "nbformat_minor": 2
}
