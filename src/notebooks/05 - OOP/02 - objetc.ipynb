{
 "cells": [
  {
   "cell_type": "markdown",
   "metadata": {},
   "source": [
    "# Object\n",
    "\n",
    "According to the <a href='https://docs.python.org/3/glossary.html'>Python Documentation</a>, <q>Any data with state (attributes or value) and defined behavior (methods)</q>"
   ]
  },
  {
   "cell_type": "markdown",
   "metadata": {},
   "source": [
    "## Class\n",
    "\n",
    "Defined as a template for creating user-defined objects. Use <font color='#bb9af7'>class</font> keyword and then the name. According to <a href='https://peps.python.org/pep-0008/#class-names'>PEP8</a>, <q>Class names should normally use the CapWords convention</q>."
   ]
  },
  {
   "cell_type": "code",
   "execution_count": null,
   "metadata": {},
   "outputs": [],
   "source": [
    "class Point:\n",
    "    pass\n"
   ]
  },
  {
   "cell_type": "markdown",
   "metadata": {},
   "source": [
    "### Constructor\n",
    "\n",
    "In Python, <code>\\_\\_init\\_\\_</code> method is called <i>constructor</i>, it will always be called when an <i>instance</i> is created to set values to the class <i>attributes</i>."
   ]
  },
  {
   "cell_type": "code",
   "execution_count": null,
   "metadata": {},
   "outputs": [],
   "source": [
    "from math import hypot\n",
    "\n",
    "\n",
    "class Point:\n",
    "    # constructor\n",
    "    def __init__(self, x: float, y: float):\n",
    "        self.x = x\n",
    "        self.y = y\n",
    "\n",
    "    # method\n",
    "    def dist(self, point):\n",
    "        return hypot(point.x - self.x, point.y - self.y)\n"
   ]
  },
  {
   "cell_type": "markdown",
   "metadata": {},
   "source": [
    "### Instance\n",
    "\n",
    "Refers to an object created from a class with unique attribute values and memory address."
   ]
  },
  {
   "cell_type": "code",
   "execution_count": null,
   "metadata": {},
   "outputs": [],
   "source": [
    "point1 = Point(5, 2)\n",
    "point2 = Point(5, 2)\n",
    "point3 = Point(10, 3)\n",
    "\n",
    "# point1 is point2 = False\n",
    "print(f'{point1 is point2 = }')\n",
    "# Note: magic __eq__ not overridden\n",
    "# point1 == point2 = False\n",
    "print(f'{point1 == point2 = }')\n",
    "\n",
    "# Note: magic __repr__ not overridden\n",
    "# point3 = <__main__.Point object at ...>\n",
    "print(f'{point3 = }')\n"
   ]
  },
  {
   "cell_type": "markdown",
   "metadata": {},
   "source": [
    "### Attribute\n",
    "\n",
    "Refers to a variable defined in a class."
   ]
  },
  {
   "cell_type": "code",
   "execution_count": null,
   "metadata": {},
   "outputs": [],
   "source": [
    "point1 = Point(5, 2)\n",
    "point2 = Point(3, 9)\n",
    "\n",
    "# reassign attribute value\n",
    "point1.x = 10\n",
    "point1.y = 5\n",
    "\n",
    "point2.x = 12\n",
    "point2.y = 7\n",
    "\n",
    "# access attribute value\n",
    "# point1.x = 10, point1.y = 5\n",
    "print(f'{point1.x = }, {point1.y = }')\n",
    "# point2.x = 12, point2.y = 7\n",
    "print(f'{point2.x = }, {point2.y = }')\n"
   ]
  },
  {
   "cell_type": "markdown",
   "metadata": {},
   "source": [
    "### Method\n",
    "\n",
    "A function defined inside a class. From the inside, first argument will be the instance <code>self</code>. They can be <i>instance methods</i>, only accessible thought an instance, or <i>static methods</i>, accessible thought the class itself."
   ]
  },
  {
   "cell_type": "code",
   "execution_count": null,
   "metadata": {},
   "outputs": [],
   "source": [
    "point1 = Point(3, 4)\n",
    "point2 = Point(10, 9)\n",
    "\n",
    "# instance method\n",
    "dist = point1.dist(point2)\n",
    "\n",
    "# dist = 8.60\n",
    "print(f'{dist = :.2f}')\n"
   ]
  },
  {
   "cell_type": "markdown",
   "metadata": {},
   "source": [
    "## Examples\n",
    "\n",
    "OOP will be used when encapsulating data and functionality is needed. In small projects is used to encapsulate, meanwhile in large projects is used to create software infrastructure thought <i>design patterns</i>."
   ]
  },
  {
   "cell_type": "markdown",
   "metadata": {},
   "source": [
    "### Point\n",
    "\n",
    "Following the point in a cartesian plane example, some other methods were added to create a graph."
   ]
  },
  {
   "cell_type": "code",
   "execution_count": null,
   "metadata": {},
   "outputs": [],
   "source": [
    "import math\n",
    "from examples.point import Point\n",
    "\n",
    "\n",
    "def f(x: float):\n",
    "    return math.log(x)\n",
    "\n",
    "\n",
    "points = Point.tabulate(f, range(1, 10))\n",
    "\n",
    "for i, point in enumerate(points):\n",
    "    print(f'Point {i}: {point.x = }, {point.y = :.2f}')\n",
    "\n",
    "Point.plot(points)\n"
   ]
  },
  {
   "cell_type": "markdown",
   "metadata": {},
   "source": [
    "### User\n",
    "\n",
    "Data bases often need to perform operations involving both data & functionality."
   ]
  },
  {
   "cell_type": "code",
   "execution_count": null,
   "metadata": {},
   "outputs": [],
   "source": [
    "from datetime import datetime\n",
    "\n",
    "from examples.user import User\n",
    "\n",
    "# Note: in real databases, data is read from collections\n",
    "user = User(**{\n",
    "    'fullname': 'John Doe',\n",
    "    'username': 'johndoe',\n",
    "    # Note: in real databases, passwords must always be encrypted\n",
    "    'password': '123456789',\n",
    "    'email': 'example@example.com',\n",
    "    'birth_date': datetime(1991, 2, 23),\n",
    "    'gender': 'male',\n",
    "    'phone_number': '+12345678'\n",
    "})\n",
    "\n",
    "if user.is_birthday:\n",
    "    print(f'Happy Birthday, {user.fullname}! Now you are {user.age} years old!')\n",
    "else:\n",
    "    print(f'Have a nice day, {user.fullname}!')\n"
   ]
  }
 ],
 "metadata": {
  "interpreter": {
   "hash": "8bfdcd2cc888dbc98ffcff3cf621025027ffe71c6f18c0bca769d24baae26b7f"
  },
  "kernelspec": {
   "display_name": "Python 3.10.4 64-bit",
   "language": "python",
   "name": "python3"
  },
  "language_info": {
   "codemirror_mode": {
    "name": "ipython",
    "version": 3
   },
   "file_extension": ".py",
   "mimetype": "text/x-python",
   "name": "python",
   "nbconvert_exporter": "python",
   "pygments_lexer": "ipython3",
   "version": "3.10.4"
  },
  "orig_nbformat": 4
 },
 "nbformat": 4,
 "nbformat_minor": 2
}
