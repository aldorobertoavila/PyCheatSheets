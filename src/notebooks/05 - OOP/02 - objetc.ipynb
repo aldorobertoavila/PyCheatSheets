{
 "cells": [
  {
   "cell_type": "markdown",
   "metadata": {},
   "source": [
    "# Object"
   ]
  },
  {
   "cell_type": "markdown",
   "metadata": {},
   "source": [
    "## Class"
   ]
  },
  {
   "cell_type": "code",
   "execution_count": null,
   "metadata": {},
   "outputs": [],
   "source": [
    "class Point:\n",
    "    pass"
   ]
  },
  {
   "cell_type": "markdown",
   "metadata": {},
   "source": [
    "### Constructor"
   ]
  },
  {
   "cell_type": "code",
   "execution_count": null,
   "metadata": {},
   "outputs": [],
   "source": [
    "from math import hypot\n",
    "\n",
    "class Point:\n",
    "    # constructor\n",
    "    def __init__(self, x: float, y: float):\n",
    "        self.x = x\n",
    "        self.y = y\n",
    "    \n",
    "    # method\n",
    "    def dist(self, point):\n",
    "        return hypot(point.x - self.x, point.y - self.y)"
   ]
  },
  {
   "cell_type": "markdown",
   "metadata": {},
   "source": [
    "### Instance"
   ]
  },
  {
   "cell_type": "code",
   "execution_count": null,
   "metadata": {},
   "outputs": [],
   "source": [
    "point1 = Point(5, 2)\n",
    "point2 = Point(5, 2)\n",
    "\n",
    "print(f'{point1 is point2 = }')\n",
    "# __eq__ not overridden\n",
    "print(f'{point1 == point2 = }')"
   ]
  },
  {
   "cell_type": "markdown",
   "metadata": {},
   "source": [
    "### Attribute"
   ]
  },
  {
   "cell_type": "code",
   "execution_count": null,
   "metadata": {},
   "outputs": [],
   "source": [
    "point = Point(5, 2)\n",
    "\n",
    "# reassign attribute value\n",
    "point.x = 10\n",
    "point.y = 5\n",
    "\n",
    "# access attribute value\n",
    "print(f'{point.x = }, {point.y = }')"
   ]
  },
  {
   "cell_type": "markdown",
   "metadata": {},
   "source": [
    "### Method"
   ]
  },
  {
   "cell_type": "code",
   "execution_count": null,
   "metadata": {},
   "outputs": [],
   "source": [
    "point1 = Point(3, 4)\n",
    "point2 = Point(10, 9)\n",
    "\n",
    "dist = point1.dist(point2)\n",
    "\n",
    "print(f'{dist = :.2f}')"
   ]
  },
  {
   "cell_type": "markdown",
   "metadata": {},
   "source": [
    "## Examples"
   ]
  },
  {
   "cell_type": "markdown",
   "metadata": {},
   "source": [
    "### Point"
   ]
  },
  {
   "cell_type": "code",
   "execution_count": null,
   "metadata": {},
   "outputs": [],
   "source": [
    "from dataclasses import dataclass\n",
    "from math import hypot\n",
    "\n",
    "import matplotlib.pyplot as plt\n",
    "\n",
    "@dataclass\n",
    "class Point:\n",
    "    x: float\n",
    "    y: float\n",
    "    \n",
    "    def dist(self, point):\n",
    "        return hypot(point.x - self.x, point.y - self.y)\n",
    "    \n",
    "    @staticmethod\n",
    "    def tabulate(f, n: int):\n",
    "        return [ Point(x, f(x)) for x in range(n) ]\n",
    "    \n",
    "    @staticmethod\n",
    "    def plot(points):\n",
    "        tuples = tuple(map(lambda p: (p.x, p.y), points))\n",
    "        plt.plot(*zip(*tuples))\n",
    "\n",
    "def f(x: float):\n",
    "    return x**2\n",
    "\n",
    "points = Point.tabulate(f, 10)\n",
    "\n",
    "for i, point in enumerate(points):\n",
    "    print(f'Point {i}: {point.x = }, {point.y = }')\n",
    "    \n",
    "Point.plot(points)"
   ]
  },
  {
   "cell_type": "markdown",
   "metadata": {},
   "source": [
    "### User"
   ]
  },
  {
   "cell_type": "code",
   "execution_count": null,
   "metadata": {},
   "outputs": [],
   "source": [
    "# py -m pip install python-dateutil\n",
    "# py -m pip install mongoengine\n",
    "from datetime import date, datetime\n",
    "\n",
    "from dateutil.relativedelta import relativedelta\n",
    "from mongoengine import Document, DateTimeField, StringField\n",
    "\n",
    "class User(Document):\n",
    "    fullname: StringField(require=True)\n",
    "    username: StringField(require=True)\n",
    "    password: StringField(require=True)\n",
    "    email: StringField(require=True)\n",
    "    birth_date: DateTimeField(require=True)\n",
    "    gender: StringField(require=False)\n",
    "    phone_number: StringField(require=False)\n",
    "\n",
    "    def __init__(self, fullname, username, password, email, birth_date, gender=None, phone_number=None):\n",
    "        self.fullname = fullname\n",
    "        self.username = username\n",
    "        self.password = password\n",
    "        self.email = email\n",
    "        self.birth_date = birth_date\n",
    "        self.gender = gender\n",
    "        self.phone_number = phone_number\n",
    "\n",
    "    @property\n",
    "    def age(self):\n",
    "        return relativedelta(date.today(), self.birth_date).years\n",
    "      \n",
    "    @property\n",
    "    def is_birthday(self):\n",
    "      today = date.today()\n",
    "      return self.birth_date.day == today.day and self.birth_date.month == today.month\n",
    "\n",
    "# Note: in real databases, data is read from it\n",
    "user = User(**{\n",
    "    'fullname': 'John Doe',\n",
    "    'username': 'johndoe',\n",
    "    # Note: in real databases, passwords must always be encrypted\n",
    "    'password': '123456789',\n",
    "    'email': 'example@example.com',\n",
    "    'birth_date': datetime(1991, 2, 23),\n",
    "    'gender': 'male',\n",
    "    'phone_number': '+12345678'\n",
    "})\n",
    "\n",
    "if user.is_birthday:\n",
    "  print(f'Happy Birthday, {user.fullname}! Now you are {user.age} years old!')\n",
    "else:\n",
    "  print(f'Have a nice day, {user.fullname}!')"
   ]
  }
 ],
 "metadata": {
  "interpreter": {
   "hash": "8bfdcd2cc888dbc98ffcff3cf621025027ffe71c6f18c0bca769d24baae26b7f"
  },
  "kernelspec": {
   "display_name": "Python 3.10.4 64-bit",
   "language": "python",
   "name": "python3"
  },
  "language_info": {
   "codemirror_mode": {
    "name": "ipython",
    "version": 3
   },
   "file_extension": ".py",
   "mimetype": "text/x-python",
   "name": "python",
   "nbconvert_exporter": "python",
   "pygments_lexer": "ipython3",
   "version": "3.10.4"
  },
  "orig_nbformat": 4
 },
 "nbformat": 4,
 "nbformat_minor": 2
}
