{
 "cells": [
  {
   "cell_type": "markdown",
   "metadata": {},
   "source": [
    "# Magic Methods"
   ]
  },
  {
   "cell_type": "markdown",
   "metadata": {},
   "source": [
    "## Operator"
   ]
  },
  {
   "cell_type": "markdown",
   "metadata": {},
   "source": [
    "### Unitary"
   ]
  },
  {
   "cell_type": "markdown",
   "metadata": {},
   "source": [
    "| Method | Name | Implementation | Example |\n",
    "| :----: | :--: | :------------: | :-----: |\n",
    "| \\_\\_pos\\_\\_   | Unitary positive      | \\_\\_pos\\_\\_(self): -> Any      | +a |\n",
    "| \\_\\_neg\\_\\_   | Unitary negative      | \\_\\_neg\\_\\_(self): -> Any      | -a |"
   ]
  },
  {
   "cell_type": "markdown",
   "metadata": {},
   "source": [
    "### Arithmetic"
   ]
  },
  {
   "cell_type": "markdown",
   "metadata": {},
   "source": [
    "| Method | Name | Implementation | Example |\n",
    "| :----: | :--: | :------------: | :-----: |\n",
    "| \\_\\_add\\_\\_      | Addition       | \\_\\_add\\_\\_(self, other): -> Any | a + b  |\n",
    "| \\_\\_sub\\_\\_      | Subtraction    | \\_\\_sub\\_\\_(self, other): -> Any | a - b  |\n",
    "| \\_\\_mul\\_\\_      | Multiplication | \\_\\_mul\\_\\_(self, other): -> Any | a * b  |\n",
    "| \\_\\_truediv\\_\\_  | Division       | \\_\\_truediv\\_\\_(self, other): -> Any | a / b  |\n",
    "| \\_\\_mod\\_\\_      | Modulus        | \\_\\_mod\\_\\_(self, other): -> Any | a % b  |\t\n",
    "| \\_\\_pow\\_\\_      | Exponentiation | \\_\\_pow\\_\\_(self, other): -> Any | a ** b |\n",
    "| \\_\\_floordiv\\_\\_ | Floor division | \\_\\_floordiv\\_\\_(self, other): -> Any | a // b |"
   ]
  },
  {
   "cell_type": "markdown",
   "metadata": {},
   "source": [
    "### Assign"
   ]
  },
  {
   "cell_type": "markdown",
   "metadata": {},
   "source": [
    "| Method | Name | Implementation | Example |\n",
    "| :----: | :--: | :------------: | :-----: |\n",
    "| \\_\\_iadd\\_\\_      | Addition assign            | \\_\\_iadd\\_\\_(self, other): -> Any      | a += b  |\n",
    "| \\_\\_isub\\_\\_      | Subtraction assign         | \\_\\_isub\\_\\_(self, other): -> Any      | a -= b  |\n",
    "| \\_\\_imul\\_\\_      | Multiplication assign      | \\_\\_imul\\_\\_(self, other): -> Any      | a *= b  |\n",
    "| \\_\\_itruediv\\_\\_  | Division assign            | \\_\\_itruediv\\_\\_(self, other): -> Any  | a /= b  |\n",
    "| \\_\\_imod\\_\\_      | Modulus assign             | \\_\\_imod\\_\\_(self, other): -> Any      | a %= b  |\t\n",
    "| \\_\\_ipow\\_\\_      | Exponentiation assign      | \\_\\_ipow\\_\\_(self, other): -> Any      | a **= b |\n",
    "| \\_\\_ifloordiv\\_\\_ | Floor division assign      | \\_\\_ifloordiv\\_\\_(self, other): -> Any | a //= b |\n",
    "| \\_\\_iand\\_\\_      | Bitwise AND assign         | \\_\\_iand\\_\\_(self, other): -> Any      | a &= b |\n",
    "| \\_\\_ior\\_\\_       | Bitwise OR assign          | \\_\\_ior\\_\\_(self, other): -> Any       | a \\\\|= b |\n",
    "| \\_\\_ixor\\_\\_      | Bitwise XOR assign         | \\_\\_ixor\\_\\_(self, other): -> Any      | a ^= b |\n",
    "| \\_\\_irshift\\_\\_   | Bitwise Right Shift assign | \\_\\_irshift\\_\\_(self, other): -> Any   | a >>= b |\n",
    "| \\_\\_ilshift\\_\\_   | Bitwise Right Shift assign | \\_\\_ilshift\\_\\_(self, other): -> Any   | a <<= b |"
   ]
  },
  {
   "cell_type": "markdown",
   "metadata": {},
   "source": [
    "### Comparison"
   ]
  },
  {
   "cell_type": "markdown",
   "metadata": {},
   "source": [
    "\n",
    "| Method | Name | Implementation | Example |\n",
    "| :----: | :--: | :------------: | :-----: |\n",
    "| \\_\\_eq\\_\\_ | Equal                    | \\_\\_eq\\_\\_(self, other): -> bool | a == b |\n",
    "| \\_\\_ne\\_\\_ | Not equal                | \\_\\_ne\\_\\_(self, other): -> bool | a != b |\n",
    "| \\_\\_gt\\_\\_ | Greater than             | \\_\\_gt\\_\\_(self, other): -> bool | a > b  |\n",
    "| \\_\\_lt\\_\\_ | Less than                | \\_\\_lt\\_\\_(self, other): -> bool | a < b  |\n",
    "| \\_\\_ge\\_\\_ | Greater than or equal to | \\_\\_ge\\_\\_(self, other): -> bool | a >= b |\t\n",
    "| \\_\\_le\\_\\_ | Less than or equal to    | \\_\\_le\\_\\_(self, other): -> bool | a <= b |"
   ]
  },
  {
   "cell_type": "markdown",
   "metadata": {},
   "source": [
    "### Bitwise"
   ]
  },
  {
   "cell_type": "markdown",
   "metadata": {},
   "source": [
    "| Operator | Name | Implementation | Example |\n",
    "| :------: | :--: | -------------- | :-----: |\n",
    "| \\_\\_and\\_\\_     | AND            | \\_\\_eq\\_\\_(self, other): -> Any      | a & b   |\n",
    "| \\_\\_or\\_\\_      | OR\t           | \\_\\_eq\\_\\_(self, other): -> Any      | a \\\\| b |\n",
    "| \\_\\_xor\\_\\_     | XOR            | \\_\\_eq\\_\\_(self, other): -> Any      | a ^ b   |\n",
    "| \\_\\_invert\\_\\_  | NOT            | \\_\\_eq\\_\\_(self, other): -> Any      | ~a      |\n",
    "| \\_\\_ilshift\\_\\_ | Left shift     | \\_\\_ilshift\\_\\_(self, other): -> Any | a << b  |\n",
    "| \\_\\_rrshift\\_\\_ | Right shift    | \\_\\_rrshift\\_\\_(self, other): -> Any | a >> b  |"
   ]
  },
  {
   "cell_type": "markdown",
   "metadata": {},
   "source": [
    "## Built-in functions"
   ]
  },
  {
   "cell_type": "markdown",
   "metadata": {},
   "source": [
    "### Math"
   ]
  },
  {
   "cell_type": "markdown",
   "metadata": {},
   "source": [
    "| Method | Name | Implementation | Example |\n",
    "| :----: | :--: | :------------: | :-----: |\n",
    "| \\_\\_abs\\_\\_   | Built-in abs          | \\_\\_abs\\_\\_(self): -> Any      | abs(a)        |\n",
    "| \\_\\_round\\_\\_ | Built-in round        | \\_\\_round\\_\\_(self, n): -> int | round(a)      |\n",
    "| \\_\\_floor\\_\\_ | Built-in math.floor() | \\_\\_floor\\_\\_(self): -> int    | math.floor(a) |\n",
    "| \\_\\_ceil\\_\\_  | Built-in math.ceil()  | \\_\\_ceil\\_\\_(self): -> int     | math.ceil(a)  |\n",
    "| \\_\\_trunc\\_\\_ | Built-in math.trunc() | \\_\\_trunc\\_\\_(self): -> int    | math.trunc(a) |"
   ]
  },
  {
   "cell_type": "markdown",
   "metadata": {},
   "source": [
    "### Casting"
   ]
  },
  {
   "cell_type": "markdown",
   "metadata": {},
   "source": [
    "| Method | Name | Implementation | Example |\n",
    "| :----: | :--: | :------------: | :-----: |\n",
    "| \\_\\_int\\_\\_     | Cast to int     | \\_\\_int\\_\\_(self): -> int          | int(a)     |\n",
    "| \\_\\_float\\_\\_   | Cast to float   | \\_\\_float\\_\\_(self): -> float      | float(a)   |\n",
    "| \\_\\_complex\\_\\_ | Cast to complex | \\_\\_complex\\_\\_(self): -> complex  | complex(a) |\n",
    "| \\_\\_bool\\_\\_    | Cast to bool    | \\_\\_bool\\_\\_(self): -> bool        | bool(a)    |\n",
    "| \\_\\_str\\_\\_     | Cast to string  | \\_\\_str\\_\\_(self): -> str          | str(a)     |\n",
    "| \\_\\_bytes\\_\\_   | Cast to bytes   | \\_\\_bytes\\_\\_(self): -> bytes      | bytes(a)   |"
   ]
  },
  {
   "cell_type": "markdown",
   "metadata": {},
   "source": [
    "### Representation"
   ]
  },
  {
   "cell_type": "markdown",
   "metadata": {},
   "source": [
    "| Method | Name | Implementation | Example |\n",
    "| :----: | :--: | :------------: | :-----: |\n",
    "| \\_\\_format\\_\\_  | Format         | \\_\\_format\\_\\_(self, spec): -> str  | '{}'.format(a)  |\n",
    "| \\_\\_repr\\_\\_    | Representation | \\_\\_repr\\_\\_(self): -> str          | repr(a)  |\n",
    "| \\_\\_hash\\_\\_    | Hash           | \\_\\_hash\\_\\_(self): -> int          | hash(a)  |\n",
    "| \\_\\_oct\\_\\_     | Octal          | \\_\\_oct\\_\\_(self): -> str           | oct(a)   |\n",
    "| \\_\\_hex\\_\\_     | Hexadecimal    | \\_\\_hex\\_\\_(self): -> str           | hex(a)   |\n",
    "| \\_\\_trunc\\_\\_   | Truncate       | \\_\\_trunc\\_\\_(self): -> int         | math.trunc(a) |"
   ]
  },
  {
   "cell_type": "markdown",
   "metadata": {},
   "source": [
    "## Object"
   ]
  },
  {
   "cell_type": "markdown",
   "metadata": {},
   "source": [
    "| Method | Name | Implementation | Example |\n",
    "| :----: | :--: | :------------: | :-----: |\n",
    "| \\_\\_new\\_\\_  | New instance    | \\_\\_new\\_\\_(cls, other): -> Any    | a, b = A(), B() |\n",
    "| \\_\\_init\\_\\_ | Init instance   | \\_\\_init\\_\\_(self, other): -> None | a, b = A(), B() |\n",
    "| \\_\\_del\\_\\_  | Delete instance | \\_\\_del\\_\\_(self): -> None  | <font color='#bb9af7'>del</font> a, b |"
   ]
  },
  {
   "cell_type": "markdown",
   "metadata": {},
   "source": [
    "### Attribute Access"
   ]
  },
  {
   "cell_type": "markdown",
   "metadata": {},
   "source": [
    "| Method | Name | Implementation | Example |\n",
    "| :----: | :--: | :------------: | :-----: |\n",
    "| \\_\\_getattr\\_\\_ | Get attribute    | \\_\\_getattr\\_\\_(self, name): -> Any  | a.foo  |\n",
    "| \\_\\_setattr\\_\\_ | Set attribute    | \\_\\_setattr\\_\\_(self, name, value): -> None | a.foo = b  |\n",
    "| \\_\\_delattr\\_\\_ | Delete attribute | \\_\\_delattr\\_\\_(self, name): -> None | <font color='#bb9af7'>del</font> a.foo  |\n",
    "| \\_\\_dir\\_\\_     | Get attributes   | \\_\\_dir\\_\\_(self): -> list[str]      | dir(a)   |"
   ]
  },
  {
   "cell_type": "markdown",
   "metadata": {},
   "source": [
    "### Descriptor"
   ]
  },
  {
   "cell_type": "markdown",
   "metadata": {},
   "source": [
    "| Method | Name | Implementation | Example |\n",
    "| :----: | :--: | :------------: | :-----: |\n",
    "| \\_\\_get\\_\\_      | Get value    | \\_\\_getattr\\_\\_(self, name): -> Any         | a.foo  |\n",
    "| \\_\\_set\\_\\_      | Set value    | \\_\\_setattr\\_\\_(self, name, value): -> None | a.foo = b  |\n",
    "| \\_\\_delete\\_\\_   | Delete value | \\_\\_delattr\\_\\_(self, name): -> None        | <font color='#bb9af7'>del</font> a.foo  |"
   ]
  },
  {
   "cell_type": "markdown",
   "metadata": {},
   "source": [
    "## Data Structure"
   ]
  },
  {
   "cell_type": "markdown",
   "metadata": {},
   "source": [
    "| Method | Name | Implementation | Example |\n",
    "| :----: | :--: | :------------: | :-----: |\n",
    "| \\_\\_len\\_\\_      | Length       | \\_\\_len\\_\\_(self): -> int                 | len(a)         |\n",
    "| \\_\\_getitem\\_\\_  | Get Item     | \\_\\_getitem\\_\\_(self, key): -> Any        | a[key]         |\n",
    "| \\_\\_setitem\\_\\_  | Set Item     | \\_\\_setitem\\_\\_(self, value): -> None     | a[key] = value |\n",
    "| \\_\\_delitem\\_\\_  | Delete Item  | \\_\\_delitem\\_\\_(self, key): -> None       | <font color='#bb9af7'>del</font> a[key] |\n",
    "| \\_\\_iter\\_\\_     | Get Iterator | \\_\\_iter\\_\\_(self): -> Iterator[Any]      | iter(a)        |\n",
    "| \\_\\_reversed\\_\\_ | Reversed     | \\_\\_reversed\\_\\_(self): -> Iterator[Any]  | reversed(a)    |\n",
    "| \\_\\_contains\\_\\_ | Contains     | \\_\\_contains\\_\\_(self, obj): -> bool      | b <font color='#bb9af7'>in</font> a     |\n",
    "| \\_\\_next\\_\\_     | Next         | \\_\\_next\\_\\_(self): -> Any                | next(a)        |"
   ]
  },
  {
   "cell_type": "markdown",
   "metadata": {},
   "source": [
    "## Context Manager"
   ]
  },
  {
   "cell_type": "markdown",
   "metadata": {},
   "source": [
    "| Method | Name | Implementation |\n",
    "| :----: | :--: | :------------: |\n",
    "| \\_\\_enter\\_\\_ | Enter | \\_\\_enter\\_\\_(self): -> Any  |\n",
    "| \\_\\_exit\\_\\_  | Exit  | \\_\\_exit\\_\\_(self, exc_type, exc_value, exc_tb): -> None |"
   ]
  },
  {
   "cell_type": "markdown",
   "metadata": {},
   "source": [
    "## Callable"
   ]
  },
  {
   "cell_type": "markdown",
   "metadata": {},
   "source": [
    "| Method | Name | Implementation | Example |\n",
    "| :----: | :--: | :------------: | :-----: |\n",
    "| \\_\\_call\\_\\_ | Call    | \\_\\_call\\_\\_(self[,args...]): -> Any  | a()  |"
   ]
  },
  {
   "cell_type": "markdown",
   "metadata": {},
   "source": [
    "## System"
   ]
  },
  {
   "cell_type": "markdown",
   "metadata": {},
   "source": [
    "| Method | Name | Implementation | Example |\n",
    "| :----: | :--: | :------------: | :-----: |\n",
    "| \\_\\_sizeof\\_\\_ | Get Size | \\_\\_sizeof\\_\\_(self): -> int | sys.getsizeof(a) |"
   ]
  }
 ],
 "metadata": {
  "interpreter": {
   "hash": "8bfdcd2cc888dbc98ffcff3cf621025027ffe71c6f18c0bca769d24baae26b7f"
  },
  "kernelspec": {
   "display_name": "Python 3.10.4 64-bit",
   "language": "python",
   "name": "python3"
  },
  "language_info": {
   "codemirror_mode": {
    "name": "ipython",
    "version": 3
   },
   "file_extension": ".py",
   "mimetype": "text/x-python",
   "name": "python",
   "nbconvert_exporter": "python",
   "pygments_lexer": "ipython3",
   "version": "3.10.4"
  },
  "orig_nbformat": 4
 },
 "nbformat": 4,
 "nbformat_minor": 2
}
