{
 "cells": [
  {
   "cell_type": "markdown",
   "metadata": {},
   "source": [
    "# Object Orientated Programming\n",
    "\n",
    "According to <a href='https://realpython.com/python3-object-oriented-programming/'>David Amos</a>, <q>is a programming paradigm that provides a means of structuring programs so that properties and behaviors are bundled into individual <i>objects</i>. [...] it could represent an email with properties like a recipient list, subject, and body and behaviors like adding attachments and sending.</q>"
   ]
  },
  {
   "cell_type": "markdown",
   "metadata": {},
   "source": [
    "## Four Principles of OOP\n",
    "\n",
    "Refers to the fundamental OOP principles to use this paradigm."
   ]
  },
  {
   "cell_type": "markdown",
   "metadata": {},
   "source": [
    "### Encapsulation\n",
    "\n",
    "Refers to bundling <i>attributes</i> (class variables) with the <i>methods</i> (class functions) that operates it."
   ]
  },
  {
   "cell_type": "markdown",
   "metadata": {},
   "source": [
    "### Abstraction\n",
    "\n",
    "Refers to hiding concrete implementation into <i>abstraction layers</i> & reorganizing common behavior into an <i>abstract class</i>."
   ]
  },
  {
   "cell_type": "markdown",
   "metadata": {},
   "source": [
    "<img width=400 height=300 src=\"../../assets/img/Abstraction Layers.jpeg\">"
   ]
  },
  {
   "cell_type": "markdown",
   "metadata": {},
   "source": [
    "### Inheritance\n",
    "\n",
    "Refers to classes, called <i>child classes</i> or <i>subclasses</i>, that inherit attributes and methods of another, called <i>parent class</i> or <i>superclass</i>."
   ]
  },
  {
   "cell_type": "markdown",
   "metadata": {},
   "source": [
    "### Polymorphism\n",
    "\n",
    "Refers to methods that are <i>overridden</i> from the <i>parent class</i> to modify the behavior in the <i>child class</i>"
   ]
  },
  {
   "cell_type": "markdown",
   "metadata": {},
   "source": [
    "## Example\n",
    "\n",
    "Taken from <a href='https://realpython.com/inheritance-composition-python/'>Isaac Rodriguez</a>, <code>Employee</code> is a <i>superclass</i> with an <i>id</i> and <i>name</i>. <code>SalaryEmployee</code> and <code>HourlyEmployee</code> are <i>subclasses</i>. Likewise, <code>CommissionEmployee</code> inherits from <code>SalaryEmployee</code>. Finally, these <i>subclasses</i> implement <code>IPayrollCalculator</code>."
   ]
  },
  {
   "cell_type": "markdown",
   "metadata": {},
   "source": [
    "<img src=\"../../assets/img/Inheritance.png\" width=\"500\" height=\"400\">"
   ]
  },
  {
   "cell_type": "markdown",
   "metadata": {},
   "source": [
    "### Implementation\n",
    "\n",
    "In Python, interfaces don't exist, instead we use <i>Abstract Base Class</i>, imported from <code>abc</code> built-in module. In this case, <code>calculate_payroll</code> is implemented in <i>child classes</i>, so <code>Employee</code> should declare an <i>abstract method</i>."
   ]
  },
  {
   "cell_type": "code",
   "execution_count": null,
   "metadata": {},
   "outputs": [],
   "source": [
    "from abc import ABC, abstractmethod\n",
    "from dataclasses import dataclass\n",
    "\n",
    "\n",
    "class Employee(ABC):\n",
    "    _id: int\n",
    "    _name: str\n",
    "\n",
    "    @abstractmethod\n",
    "    def calculate_payroll(self) -> int:\n",
    "        pass\n",
    "\n",
    "\n",
    "@dataclass\n",
    "class SalaryEmployee(Employee):\n",
    "    _salary: int\n",
    "\n",
    "    def calculate_payroll(self) -> int:\n",
    "        return self._salary\n",
    "\n",
    "\n",
    "@dataclass\n",
    "class CommissionEmployee(SalaryEmployee):\n",
    "    _commission: int\n",
    "\n",
    "    def calculate_payroll(self) -> int:\n",
    "        return super().calculate_payroll() + self._commission\n",
    "\n",
    "\n",
    "@dataclass\n",
    "class HourlyEmployee(Employee):\n",
    "    _hours: int\n",
    "    _rate: int\n",
    "\n",
    "    def calculate_payroll(self) -> int:\n",
    "        return self._hours * self._rate\n",
    "\n",
    "\n",
    "hourly_employee = HourlyEmployee(40, 20)\n",
    "salary_employee = SalaryEmployee(1000)\n",
    "commission_employee = CommissionEmployee(2000, 500)\n",
    "\n",
    "print(f'{hourly_employee.calculate_payroll() = }')\n",
    "print(f'{salary_employee.calculate_payroll() = }')\n",
    "print(f'{commission_employee.calculate_payroll() = }')\n"
   ]
  }
 ],
 "metadata": {
  "interpreter": {
   "hash": "8bfdcd2cc888dbc98ffcff3cf621025027ffe71c6f18c0bca769d24baae26b7f"
  },
  "kernelspec": {
   "display_name": "Python 3.10.4 64-bit",
   "language": "python",
   "name": "python3"
  },
  "language_info": {
   "codemirror_mode": {
    "name": "ipython",
    "version": 3
   },
   "file_extension": ".py",
   "mimetype": "text/x-python",
   "name": "python",
   "nbconvert_exporter": "python",
   "pygments_lexer": "ipython3",
   "version": "3.10.4"
  },
  "orig_nbformat": 4
 },
 "nbformat": 4,
 "nbformat_minor": 2
}
