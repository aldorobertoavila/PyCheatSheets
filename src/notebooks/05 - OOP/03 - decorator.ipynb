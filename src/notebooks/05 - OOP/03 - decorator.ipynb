{
 "cells": [
  {
   "cell_type": "markdown",
   "metadata": {},
   "source": [
    "# Decorator\n",
    "\n",
    "In Python, a decorator is a function that takes a function as argument, and then returns new function with additional things e.g <code>@printit</code> to print the return value from a function. More explanation in <a href='https://realpython.com/primer-on-python-decorators/'>Geir Arne Hjelle</a>'s decorator article. "
   ]
  },
  {
   "cell_type": "code",
   "execution_count": null,
   "metadata": {},
   "outputs": [],
   "source": [
    "def printit(func):\n",
    "    def wrapper(*args, **kwargs):\n",
    "        retval = func(*args, **kwargs)\n",
    "        print(f'Function {func.__name__}() returns {retval}')\n",
    "        return retval\n",
    "    return wrapper\n",
    "\n",
    "\n",
    "@printit\n",
    "def inv_sqrt(n: float) -> float:\n",
    "    return n**-1/2\n",
    "\n",
    "\n",
    "inv_sqrt(2)\n"
   ]
  },
  {
   "cell_type": "markdown",
   "metadata": {},
   "source": [
    "## Class Method\n",
    "\n",
    "Refers to a method that will receive from the inside the class as first argument, commonly named as <code>cls</code>. Class method is often used as <i>constructor overload</i>."
   ]
  },
  {
   "cell_type": "code",
   "execution_count": null,
   "metadata": {},
   "outputs": [],
   "source": [
    "@classmethod\n",
    "def from_tuple(cls, tup: tuple[int, int]):\n",
    "    return cls(*tup)\n"
   ]
  },
  {
   "cell_type": "markdown",
   "metadata": {},
   "source": [
    "## Static Method\n",
    "\n",
    "Refers to a method related to a certain class. it can't be access by an instance, but instead the class itself. Is often to create additional functionally."
   ]
  },
  {
   "cell_type": "code",
   "execution_count": null,
   "metadata": {},
   "outputs": [],
   "source": [
    "# py -m pip install matplotlib\n",
    "import matplotlib.pyplot as plt\n",
    "\n",
    "\n",
    "@staticmethod\n",
    "def plot(points):\n",
    "    tuples = tuple(map(lambda p: (p.x, p.y), points))\n",
    "    plt.plot(*zip(*tuples))\n"
   ]
  },
  {
   "cell_type": "markdown",
   "metadata": {},
   "source": [
    "## Property\n",
    "\n",
    "Allows to create a <i>getter</i>, a method that returns an attribute value, and <i>setter</i>, a method that sets a value to an attribute."
   ]
  },
  {
   "cell_type": "code",
   "execution_count": null,
   "metadata": {},
   "outputs": [],
   "source": [
    "@property\n",
    "def x(self):\n",
    "    return self._x\n",
    "\n",
    "\n",
    "@x.setter\n",
    "def x(self, value):\n",
    "    if not isinstance(value, float | int):\n",
    "        raise ValueError('Value is not a number')\n",
    "    self._x = value\n",
    "\n",
    "\n",
    "@x.deleter\n",
    "def x(self):\n",
    "    del self._x\n"
   ]
  },
  {
   "cell_type": "markdown",
   "metadata": {},
   "source": [
    "## Dataclass\n",
    "\n",
    "It's a built-in module to automate instance construction and other <i>magic methods</i>."
   ]
  },
  {
   "cell_type": "code",
   "execution_count": null,
   "metadata": {},
   "outputs": [],
   "source": [
    "from dataclasses import dataclass\n",
    "\n",
    "\n",
    "@dataclass\n",
    "class Vector:\n",
    "    x: int\n",
    "    y: int\n",
    "    z: int\n",
    "\n",
    "\n",
    "vec1 = Vector(1, 2, 3)\n",
    "\n",
    "# Note: @dataclass automates __repr__\n",
    "# Vector(x=1, y=2, z=3)\n",
    "print(f'{vec1}')\n"
   ]
  }
 ],
 "metadata": {
  "interpreter": {
   "hash": "b49ac474cbb8e2eab12ddcec3ca625a513e12da6cc6284c839d3b1b7a7f65dd0"
  },
  "kernelspec": {
   "display_name": "Python 3.10.4 64-bit",
   "language": "python",
   "name": "python3"
  },
  "language_info": {
   "codemirror_mode": {
    "name": "ipython",
    "version": 3
   },
   "file_extension": ".py",
   "mimetype": "text/x-python",
   "name": "python",
   "nbconvert_exporter": "python",
   "pygments_lexer": "ipython3",
   "version": "3.10.4"
  },
  "orig_nbformat": 4
 },
 "nbformat": 4,
 "nbformat_minor": 2
}
