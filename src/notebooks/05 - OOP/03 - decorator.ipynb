{
 "cells": [
  {
   "cell_type": "markdown",
   "metadata": {},
   "source": [
    "# Decorator"
   ]
  },
  {
   "cell_type": "markdown",
   "metadata": {},
   "source": [
    "## Class Method"
   ]
  },
  {
   "cell_type": "code",
   "execution_count": null,
   "metadata": {},
   "outputs": [],
   "source": []
  },
  {
   "cell_type": "markdown",
   "metadata": {},
   "source": [
    "## Static Method"
   ]
  },
  {
   "cell_type": "code",
   "execution_count": null,
   "metadata": {},
   "outputs": [],
   "source": []
  },
  {
   "cell_type": "markdown",
   "metadata": {},
   "source": [
    "## Dataclass"
   ]
  },
  {
   "cell_type": "code",
   "execution_count": null,
   "metadata": {},
   "outputs": [],
   "source": []
  },
  {
   "cell_type": "markdown",
   "metadata": {},
   "source": [
    "## Property"
   ]
  },
  {
   "cell_type": "code",
   "execution_count": null,
   "metadata": {},
   "outputs": [],
   "source": []
  },
  {
   "cell_type": "markdown",
   "metadata": {},
   "source": [
    "## Example"
   ]
  },
  {
   "cell_type": "code",
   "execution_count": null,
   "metadata": {},
   "outputs": [],
   "source": [
    "from dataclasses import dataclass\n",
    "from math import hypot\n",
    "\n",
    "import matplotlib.pyplot as plt\n",
    "\n",
    "@dataclass\n",
    "class Point:\n",
    "    _x: float\n",
    "    _y: float\n",
    "    \n",
    "    @classmethod\n",
    "    def from_tuples(cls, tuples):\n",
    "        return [ Point.from_tuple(tup) for tup in tuples ]\n",
    "    \n",
    "    @classmethod\n",
    "    def from_tuple(cls, tup: tuple[int, int]):\n",
    "        return cls(*tup)\n",
    "\n",
    "    @staticmethod\n",
    "    def dist(point1, point2):\n",
    "        return hypot(point2.x - point1.x, point2.y - point1.y)\n",
    "\n",
    "    @staticmethod\n",
    "    def tabulate(f, n: int):\n",
    "        return [ Point(x, f(x)) for x in range(n) ]\n",
    "    \n",
    "    @staticmethod\n",
    "    def plot(points):\n",
    "        tuples = tuple(map(lambda p: (p.x, p.y), points))\n",
    "        plt.plot(*zip(*tuples))\n",
    "    \n",
    "    @property\n",
    "    def x(self):\n",
    "        return self._x\n",
    "    \n",
    "    @x.setter\n",
    "    def x(self, value):\n",
    "        if not isinstance(value, float | int):\n",
    "            raise ValueError('Value is not a number')\n",
    "        self._x = value\n",
    "        \n",
    "    @x.deleter\n",
    "    def x(self):\n",
    "        del self._x\n",
    "    \n",
    "    @property\n",
    "    def y(self):\n",
    "        return self._y\n",
    "    \n",
    "    @y.setter\n",
    "    def y(self, value):\n",
    "        if not isinstance(value, float | int):\n",
    "            raise ValueError('Value is not a number')\n",
    "        self._y = value\n",
    "    \n",
    "    @y.deleter\n",
    "    def y(self):\n",
    "        del self._x\n",
    "    \n",
    "points = Point.from_tuples([ (2, 6), (6, 15), (10, 19) ])\n",
    "# deconstructing fist and last\n",
    "head, *_, tail = points\n",
    "\n",
    "# del point1.x\n",
    "# del point1.y\n",
    "\n",
    "print(f'Distance between {head} and {tail}: {Point.dist(head, tail):.2f}')\n",
    "Point.plot(points)"
   ]
  }
 ],
 "metadata": {
  "interpreter": {
   "hash": "8bfdcd2cc888dbc98ffcff3cf621025027ffe71c6f18c0bca769d24baae26b7f"
  },
  "kernelspec": {
   "display_name": "Python 3.10.4 64-bit",
   "language": "python",
   "name": "python3"
  },
  "language_info": {
   "codemirror_mode": {
    "name": "ipython",
    "version": 3
   },
   "file_extension": ".py",
   "mimetype": "text/x-python",
   "name": "python",
   "nbconvert_exporter": "python",
   "pygments_lexer": "ipython3",
   "version": "3.10.4"
  },
  "orig_nbformat": 4
 },
 "nbformat": 4,
 "nbformat_minor": 2
}
