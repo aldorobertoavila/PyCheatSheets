{
 "cells": [
  {
   "cell_type": "code",
   "execution_count": null,
   "metadata": {},
   "outputs": [],
   "source": [
    "import os\n",
    "\n",
    "# py -m pip install dotenv\n",
    "# py -m pip install pandas\n",
    "# py -m pip install plotly\n",
    "import dotenv\n",
    "import pandas as pd\n",
    "import plotly.figure_factory as ff\n",
    "\n",
    "from plotly.offline import plot\n",
    "\n",
    "dotenv.load_dotenv()\n",
    "folder = os.getenv('DATA_FOLDER')\n",
    "\n",
    "df = pd.read_csv(f'{folder}\\\\tasks.csv')\n",
    "df = df.iloc[::-1]\n",
    "fig = ff.create_gantt(df, colors=['#364958', '#3B6064', '#55828B', '#68a686', '#87BBA2', '#9fbbae'],\n",
    "                      title='Python Introduction Course',\n",
    "                      height=800,\n",
    "                      reverse_colors=True,\n",
    "                      bar_width=0.5,\n",
    "                      showgrid_x=True,\n",
    "                      showgrid_y=True\n",
    "                      )\n",
    "\n",
    "plot(fig)\n"
   ]
  }
 ],
 "metadata": {
  "interpreter": {
   "hash": "b49ac474cbb8e2eab12ddcec3ca625a513e12da6cc6284c839d3b1b7a7f65dd0"
  },
  "kernelspec": {
   "display_name": "Python 3.10.4 64-bit",
   "language": "python",
   "name": "python3"
  },
  "language_info": {
   "codemirror_mode": {
    "name": "ipython",
    "version": 3
   },
   "file_extension": ".py",
   "mimetype": "text/x-python",
   "name": "python",
   "nbconvert_exporter": "python",
   "pygments_lexer": "ipython3",
   "version": "3.10.4"
  },
  "orig_nbformat": 4
 },
 "nbformat": 4,
 "nbformat_minor": 2
}
